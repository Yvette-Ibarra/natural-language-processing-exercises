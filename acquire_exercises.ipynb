{
 "cells": [
  {
   "cell_type": "markdown",
   "id": "afefa6db",
   "metadata": {},
   "source": [
    "# Acquire Exercises"
   ]
  },
  {
   "cell_type": "code",
   "execution_count": 98,
   "id": "cbe80654",
   "metadata": {},
   "outputs": [],
   "source": [
    "from bs4 import BeautifulSoup\n",
    "import re\n",
    "\n",
    "import requests"
   ]
  },
  {
   "cell_type": "markdown",
   "id": "26daf43a",
   "metadata": {},
   "source": [
    "# 1. Codeup Blog Articles\n",
    "\n",
    "Visit Codeup's Blog and record the urls for at least 5 distinct blog posts. For each post, you should scrape at least the post's title and content.\n",
    "\n",
    "Encapsulate your work in a function named get_blog_articles that will return a list of dictionaries, with each dictionary representing one article. The shape of each dictionary should look like this:\n",
    "\n",
    "```python\n",
    "{\n",
    "    'title': 'the title of the article',\n",
    "    'content': 'the full text content of the article'\n",
    "}\n",
    "```\n",
    "Plus any additional properties you think might be helpful.\n",
    "\n",
    "Bonus: Scrape the text of all the articles linked on codeup's blog page."
   ]
  },
  {
   "cell_type": "code",
   "execution_count": 2,
   "id": "57582662",
   "metadata": {},
   "outputs": [],
   "source": [
    "url='https://codeup.com/blog/'"
   ]
  },
  {
   "cell_type": "code",
   "execution_count": 26,
   "id": "367cbf57",
   "metadata": {},
   "outputs": [],
   "source": [
    "soup = BeautifulSoup(requests.get(url).content, 'html.parser')"
   ]
  },
  {
   "cell_type": "code",
   "execution_count": 27,
   "id": "eacd46c6",
   "metadata": {},
   "outputs": [
    {
     "data": {
      "text/plain": [
       "<html>\n",
       "<head><title>403 Forbidden</title></head>\n",
       "<body>\n",
       "<center><h1>403 Forbidden</h1></center>\n",
       "<hr/><center>nginx</center>\n",
       "</body>\n",
       "</html>"
      ]
     },
     "execution_count": 27,
     "metadata": {},
     "output_type": "execute_result"
    }
   ],
   "source": [
    "soup"
   ]
  },
  {
   "cell_type": "code",
   "execution_count": 23,
   "id": "e519641b",
   "metadata": {},
   "outputs": [],
   "source": [
    "html_text =requests.get(url).text"
   ]
  },
  {
   "cell_type": "code",
   "execution_count": 24,
   "id": "4b628849",
   "metadata": {},
   "outputs": [
    {
     "name": "stdout",
     "output_type": "stream",
     "text": [
      "<html>\r\n",
      "<head><title>403 Forbidden</title></head>\r\n",
      "<body>\r\n",
      "<center><h1>403 Forbidden</h1></center>\r\n",
      "<hr><center>nginx</center>\r\n",
      "</body>\r\n",
      "</html>\r\n",
      "\n"
     ]
    }
   ],
   "source": [
    "print(html_text)"
   ]
  },
  {
   "cell_type": "markdown",
   "id": "e3821bcd",
   "metadata": {},
   "source": [
    "I got code 403; trying to figure a way to acess the information."
   ]
  },
  {
   "cell_type": "code",
   "execution_count": 28,
   "id": "bbe8faae",
   "metadata": {},
   "outputs": [],
   "source": [
    "#Define headers\n",
    "headers = {'User-Agent': 'Codeup Data Science'}"
   ]
  },
  {
   "cell_type": "code",
   "execution_count": 32,
   "id": "25a15724",
   "metadata": {},
   "outputs": [],
   "source": [
    "#Make a request\n",
    "response = requests.get('https://codeup.com/data-science/become-a-data-scientist/', headers=headers)"
   ]
  },
  {
   "cell_type": "code",
   "execution_count": 124,
   "id": "c41f992c",
   "metadata": {},
   "outputs": [],
   "source": [
    "#Create the soup and investigate\n",
    "soup = BeautifulSoup(response.content, 'html.parser')\n"
   ]
  },
  {
   "cell_type": "markdown",
   "id": "03f5494d",
   "metadata": {},
   "source": [
    "soup"
   ]
  },
  {
   "cell_type": "code",
   "execution_count": 48,
   "id": "e0a15938",
   "metadata": {},
   "outputs": [
    {
     "data": {
      "text/plain": [
       "'Become a Data Scientist in 6 Months!'"
      ]
     },
     "execution_count": 48,
     "metadata": {},
     "output_type": "execute_result"
    }
   ],
   "source": [
    "title= soup.find('h1')\n",
    "title.text"
   ]
  },
  {
   "cell_type": "code",
   "execution_count": 49,
   "id": "e06a857e",
   "metadata": {},
   "outputs": [
    {
     "data": {
      "text/plain": [
       "'Jan 5, 2023'"
      ]
     },
     "execution_count": 49,
     "metadata": {},
     "output_type": "execute_result"
    }
   ],
   "source": [
    "#Access the date published\n",
    "publish_date = soup.find('span', class_='published')\n",
    "publish_date.text"
   ]
  },
  {
   "cell_type": "code",
   "execution_count": 50,
   "id": "f30fbb27",
   "metadata": {
    "scrolled": true
   },
   "outputs": [
    {
     "data": {
      "text/plain": [
       "'\\nAre you feeling unfulfilled in your work but want to avoid returning to the traditional educational route? Codeup can help! Starting over as a professional is daunting and not always ideal. Codeup can help you go from a career you are bored with, to a job that excites you in just 6 months!\\nHere’s how…\\nData Science Program\\nDuring our 20-week program, you will have the opportunity to take your career to new heights with data science being one of the most needed jobs in tech.\\nYou’ll gather data, then clean it, explore it for trends, and apply machine learning models to make predictions.\\nUpon completing this program, you will know how to turn insights into actionable recommendations. You’ll be a huge asset to any company, having all the technical skills to become a data scientist with projects upon projects of experience under your belt.\\nCodeup\\nA common reason individuals opt not to change their careers is fear it is too late. Codeup has crafted a program that will guide you through your career transition and prove that you can jumpstart a new job at any age and experience level.\\nWhen you decide to attend Codeup, you get a support system. First, our admissions team will guide you through getting started as well as assist with getting your financial aid squared away.\\nOnce your program begins, you will have industry experts as your instructors who will help you reach your full potential and complete the program successfully.\\nNext, you will have a student experience team ready to assist you with navigating through the program and any of life’s obstacles that may arise.\\nFinally, you have a placement team to help you secure the job you’ll work so hard to land!\\n\\nIf you do not land a job within six months of completing a Codeup program, we will refund 100% of your paid tuition.\\nIf you aren’t sure if a career in data science is right for you, consider attending our 100% free instructor-led workshops. These workshops are designed to give you a taste of what you’ll learn in our programs, as well as give you information on financial aid and admissions.\\nWe can also provide program-specific information to your inbox at any time! Get started now or give us a call at (210) 802-7289 and we’ll walk you through the process.\\nJumpstart your tech career with the first and only accredited bootcamp in Texas!*\\n*Codeup is accredited for postsecondary, non-degree granting, career and technology programs by the Middle States Commission on Secondary Schools of the Middle States Association of Colleges and Schools, 3624 Market Street, Philadelphia, PA 19104, (267) 284-5000\\n'"
      ]
     },
     "execution_count": 50,
     "metadata": {},
     "output_type": "execute_result"
    }
   ],
   "source": [
    "#Access the article content\n",
    "content = soup.find('div', class_='entry-content')\n",
    "content.text"
   ]
  },
  {
   "cell_type": "code",
   "execution_count": 52,
   "id": "3f64ce40",
   "metadata": {},
   "outputs": [
    {
     "data": {
      "text/plain": [
       "[]"
      ]
     },
     "execution_count": 52,
     "metadata": {},
     "output_type": "execute_result"
    }
   ],
   "source": [
    "article_links = soup.find_all('a', 'href')\n",
    "article_links"
   ]
  },
  {
   "cell_type": "code",
   "execution_count": 71,
   "id": "e98f309c",
   "metadata": {},
   "outputs": [
    {
     "data": {
      "text/plain": [
       "'https://codeup.com/'"
      ]
     },
     "execution_count": 71,
     "metadata": {},
     "output_type": "execute_result"
    }
   ],
   "source": [
    "# Get the \"a\" tag\n",
    "element = soup.find('a')\n",
    "# Get the attribute value\n",
    "data = element.get('href')\n",
    "data"
   ]
  },
  {
   "cell_type": "code",
   "execution_count": 77,
   "id": "20d1f51a",
   "metadata": {},
   "outputs": [
    {
     "data": {
      "text/plain": [
       "[<a href=\"https://codeup.com/\">Home</a>,\n",
       " <a href=\"https://codeup.com/program/cloud-adminsitration/\">Cloud Administration</a>,\n",
       " <a href=\"https://codeup.com/program/full-stack-web-development/\">Full Stack Web Development</a>,\n",
       " <a href=\"https://codeup.com/program/data-science/\">Data Science</a>,\n",
       " <a href=\"/events/\">Workshops</a>,\n",
       " <a href=\"/san-antonio-events/\">San Antonio</a>,\n",
       " <a href=\"/dallas-events/\">Dallas</a>,\n",
       " <a href=\"https://codeup.com/financial-aid/\">Financial Aid</a>,\n",
       " <a href=\"https://codeup.com/veterans/\">Military</a>,\n",
       " <a href=\"https://codeup.com/hire-tech-talent/\">Hire Tech Talent</a>,\n",
       " <a href=\"https://alumni.codeup.com/\">Alumni</a>,\n",
       " <a href=\"https://codeup.com/resources/\">Resources</a>,\n",
       " <a href=\"/my-story/\">Student Reviews</a>,\n",
       " <a href=\"https://codeup.com/blog/\">Blog</a>,\n",
       " <a href=\"https://codeup.com/frequently-asked-questions/\">Common Questions</a>,\n",
       " <a href=\"https://codeup.com/podcast/\">Hire Tech Podcast</a>,\n",
       " <a href=\"https://codeup.com/apply-now/\">Apply Now</a>,\n",
       " <a href=\"https://codeup.com/\">\n",
       " <img alt=\"Codeup\" class=\"main-logo normal-logo\" id=\"dm-logo\" src=\"https://tribucodeup.wpenginepowered.com/wp-content/uploads/2021/08/CodeupFullColorLogo.png\" title=\"\">\n",
       " </img></a>,\n",
       " <a href=\"/about-codeup/\">About</a>,\n",
       " <a href=\"/category/behind-the-billboards/\">Behind The Billboards</a>,\n",
       " <a href=\"/careers/\">Careers</a>,\n",
       " <a href=\"/index.php/\"><img alt=\"Codeup Best Coding Bootcamp\" class=\"wp-image-28\" decoding=\"async\" height=\"86\" loading=\"lazy\" src=\"https://tribucodeup.wpenginepowered.com/wp-content/uploads/2021/06/codeup_logo.png\" width=\"226\"/></a>,\n",
       " <a href=\"https://codeup.com/programs/\" title=\"Coding Programs\">Programs</a>,\n",
       " <a href=\"https://codeup.com/program/cloud-administration/\">Cloud Administration</a>,\n",
       " <a href=\"https://codeup.com/program/full-stack-web-development/\" title=\"Full Stack Web Development Bootcamp\">Web Development</a>,\n",
       " <a href=\"https://codeup.com/program/data-science/\" title=\"Data Science Bootcamp in Texas\">Data Science</a>,\n",
       " <a href=\"/financial-aid/\">Financing</a>,\n",
       " <a href=\"#\">Events</a>,\n",
       " <a href=\"https://codeup.com/san-antonio-events/\">San Antonio</a>,\n",
       " <a href=\"https://codeup.com/dallas-events/\">Dallas</a>,\n",
       " <a href=\"https://codeup.com/veterans/\">Military</a>,\n",
       " <a>Campuses</a>,\n",
       " <a href=\"https://codeup.com/san-antonio/\">San Antonio</a>,\n",
       " <a href=\"https://codeup.com/dallas/\">Dallas</a>,\n",
       " <a href=\"https://codeup.com/hire-tech-talent/\" title=\"Hire Diversified Tech Talent\">Hire</a>,\n",
       " <a href=\"https://codeup.com/hire-tech-talent/\">Employers</a>,\n",
       " <a href=\"https://alumni.codeup.com/\">Alumni Portal</a>,\n",
       " <a href=\"https://codeup.com/resources/\">Resources</a>,\n",
       " <a href=\"/my-story/\">Student Reviews</a>,\n",
       " <a href=\"https://codeup.com/blog/\">Blog</a>,\n",
       " <a href=\"https://codeup.com/frequently-asked-questions/\">Common Questions</a>,\n",
       " <a href=\"https://codeup.com/podcast/\">Hire Tech Podcast</a>,\n",
       " <a class=\"et_pb_button et_pb_button_0_tb_header et_pb_bg_layout_light\" href=\"/apply-now/\">Start Now</a>,\n",
       " <a href=\"https://codeup.com/category/data-science/\" rel=\"category tag\">Data Science</a>,\n",
       " <a href=\"https://www.coursera.org/articles/data-scientist-jobs\" rel=\"noopener\" target=\"_blank\">most needed jobs in tech.</a>,\n",
       " <a href=\"https://codeup.com/refund/\">refund</a>,\n",
       " <a href=\"https://codeup.com/events/\">workshops</a>,\n",
       " <a href=\"https://codeup.com/moreinfo/\">program-specific information</a>,\n",
       " <a href=\"https://codeup.com/apply-now/\">Get started</a>,\n",
       " <a href=\"https://codeup.com/program/cloud-administration/\">Cloud Administration</a>,\n",
       " <a href=\"https://codeup.com/program/full-stack-web-development/\">Full Stack Web Development</a>,\n",
       " <a href=\"https://codeup.com/program/data-science/\">Data Science</a>,\n",
       " <a class=\"wp-block-latest-posts__post-title\" href=\"https://codeup.com/data-science/become-a-data-scientist/\">Become a Data Scientist in 6 Months!</a>,\n",
       " <a class=\"wp-block-latest-posts__post-title\" href=\"https://codeup.com/employers/hiring-tech-talent/\">Hiring Tech Talent Around the Holidays</a>,\n",
       " <a class=\"wp-block-latest-posts__post-title\" href=\"https://codeup.com/cloud-administration/cap-funding-options/\">Cloud Administration Program New Funding Options</a>,\n",
       " <a class=\"wp-block-latest-posts__post-title\" href=\"https://codeup.com/dallas-info/it-professionals-dallas/\">Why Dallas is a Great Location for IT Professionals</a>,\n",
       " <a class=\"wp-block-latest-posts__post-title\" href=\"https://codeup.com/codeup-news/codeup-voted-1-technical-school-in-dfw/\">Codeup is ranked #1 Best in DFW 2022</a>,\n",
       " <a class=\"et_pb_button et_pb_button_0_tb_footer et_pb_bg_layout_light\" href=\"/moreinfo/\">Request Information</a>,\n",
       " <a href=\"tel:12108027289\" title=\"call Codeup\">(210) 802–7289</a>,\n",
       " <a class=\"icon et_pb_with_border\" href=\"https://www.facebook.com/GoCodeup/\" target=\"_blank\" title=\"Follow on Facebook\"><span aria-hidden=\"true\" class=\"et_pb_social_media_follow_network_name\">Follow</span></a>,\n",
       " <a class=\"icon et_pb_with_border\" href=\"https://twitter.com/gocodeup\" target=\"_blank\" title=\"Follow on Twitter\"><span aria-hidden=\"true\" class=\"et_pb_social_media_follow_network_name\">Follow</span></a>,\n",
       " <a class=\"icon et_pb_with_border\" href=\"https://www.instagram.com/gocodeup/?hl=en\" target=\"_blank\" title=\"Follow on Instagram\"><span aria-hidden=\"true\" class=\"et_pb_social_media_follow_network_name\">Follow</span></a>,\n",
       " <a class=\"icon et_pb_with_border\" href=\"https://www.linkedin.com/school/3799914\" target=\"_blank\" title=\"Follow on LinkedIn\"><span aria-hidden=\"true\" class=\"et_pb_social_media_follow_network_name\">Follow</span></a>,\n",
       " <a class=\"icon et_pb_with_border\" href=\"/podcast/\" target=\"_blank\" title=\"Follow on RSS\"><span aria-hidden=\"true\" class=\"et_pb_social_media_follow_network_name\">Follow</span></a>,\n",
       " <a href=\"/dallas\">Dallas</a>,\n",
       " <a href=\"/san-antonio\">San Antonio</a>,\n",
       " <a href=\"/index.php/\"><span class=\"et_pb_image_wrap\"><img alt=\"quack quack\" class=\"wp-image-15815\" decoding=\"async\" height=\"256\" loading=\"lazy\" sizes=\"(max-width: 336px) 100vw, 336px\" src=\"https://tribucodeup.wpenginepowered.com/wp-content/uploads/2018/08/codey-1.png\" srcset=\"https://tribucodeup.wpenginepowered.com/wp-content/uploads/2018/08/codey-1.png 336w, https://tribucodeup.wpenginepowered.com/wp-content/uploads/2018/08/codey-1-300x229.png 300w\" title=\"Codey\" width=\"336\"/></span></a>,\n",
       " <a href=\"/why-codeup/\" title=\"About Codeup\">Why Codeup?</a>,\n",
       " <a href=\"/financial-aid/\" title=\"how to pay for bootcamp\">Financial Aid Options</a>,\n",
       " <a href=\"/my-story/\" title=\"Codeup Reviews\">Student Reviews</a>,\n",
       " <a href=\"/hire-tech-talent/\">Employers</a>,\n",
       " <a href=\"/refund/\" title=\"Codeup Refund Policy\">Refund Policy</a>,\n",
       " <a href=\"/frequently-asked-questions/\" title=\"frequently asked questions\">FAQs</a>,\n",
       " <a href=\"/careers/\" title=\"Jobs at Codeup\">Careers</a>,\n",
       " <a href=\"/pr/\" title=\"press assets for Codeup\">Media Kit</a>,\n",
       " <a href=\"/program/full-stack-web-development/\" title=\"coding bootcamp in Texas\">Full Stack Web Development</a>,\n",
       " <a href=\"/program/data-science/\" title=\"data science bootcamp in Texas\">Data Science</a>,\n",
       " <a href=\"/cloud-administration/\" title=\"learn Cloud Administration in Texas\">Cloud Administration</a>,\n",
       " <a href=\"/free/\" title=\"learn to code for free\">Free Networking Course</a>,\n",
       " <a class=\"et_pb_button et_pb_button_1_tb_footer et_pb_bg_layout_light\" href=\"/apply-now/\">Apply Now</a>,\n",
       " <a href=\"/privacy/\">Privacy Policy</a>,\n",
       " <a href=\"/student-complaint-policy/\" title=\"complaint policy\">Complaint Policy</a>,\n",
       " <a href=\"/codeup-news/inclusion-at-codeup-during-pride-month-and-always/\" title=\"DEI at Codeup\">Inclusion</a>,\n",
       " <a href=\"/accessibility/\">Accessibility</a>,\n",
       " <a href=\"/sitemap_index.xml\">Sitemap</a>,\n",
       " <a class=\"wt-cli-ccpa-opt-out\" style=\"color:#333333\">No worries, we do not sell your personal information.</a>,\n",
       " <a class=\"medium cli-plugin-button cli-plugin-main-button cli_settings_button\" role=\"button\" style=\"margin:0px 10px 0px 5px\">Cookie Settings</a>,\n",
       " <a class=\"medium cli-plugin-button cli-plugin-main-button cookie_action_close_header cli_action_button wt-cli-accept-btn\" data-cli_action=\"accept\" id=\"cookie_action_close_header\" role=\"button\" style=\"display:inline-block\">Accept</a>,\n",
       " <a aria-label=\"Show more\" class=\"cli-privacy-readmore\" data-readless-text=\"Show less\" data-readmore-text=\"Show more\" role=\"button\"></a>,\n",
       " <a class=\"cli-nav-link cli-settings-mobile\" data-target=\"necessary\" data-toggle=\"cli-toggle-tab\" role=\"button\" tabindex=\"0\">\n",
       " \t\t\t\t\t\t\t\tNecessary\t\t\t\t\t\t\t</a>,\n",
       " <a class=\"cli-nav-link cli-settings-mobile\" data-target=\"functional\" data-toggle=\"cli-toggle-tab\" role=\"button\" tabindex=\"0\">\n",
       " \t\t\t\t\t\t\t\tFunctional\t\t\t\t\t\t\t</a>,\n",
       " <a class=\"cli-nav-link cli-settings-mobile\" data-target=\"performance\" data-toggle=\"cli-toggle-tab\" role=\"button\" tabindex=\"0\">\n",
       " \t\t\t\t\t\t\t\tPerformance\t\t\t\t\t\t\t</a>,\n",
       " <a class=\"cli-nav-link cli-settings-mobile\" data-target=\"analytics\" data-toggle=\"cli-toggle-tab\" role=\"button\" tabindex=\"0\">\n",
       " \t\t\t\t\t\t\t\tAnalytics\t\t\t\t\t\t\t</a>,\n",
       " <a class=\"cli-nav-link cli-settings-mobile\" data-target=\"advertisement\" data-toggle=\"cli-toggle-tab\" role=\"button\" tabindex=\"0\">\n",
       " \t\t\t\t\t\t\t\tAdvertisement\t\t\t\t\t\t\t</a>,\n",
       " <a class=\"cli-nav-link cli-settings-mobile\" data-target=\"others\" data-toggle=\"cli-toggle-tab\" role=\"button\" tabindex=\"0\">\n",
       " \t\t\t\t\t\t\t\tOthers\t\t\t\t\t\t\t</a>,\n",
       " <a class=\"wt-cli-privacy-btn cli_setting_save_button wt-cli-privacy-accept-btn cli-btn\" data-cli-action=\"accept\" id=\"wt-cli-privacy-save-btn\" role=\"button\" tabindex=\"0\">SAVE &amp; ACCEPT</a>]"
      ]
     },
     "execution_count": 77,
     "metadata": {},
     "output_type": "execute_result"
    }
   ],
   "source": [
    "# Get the \"a\" tag\n",
    "element = soup.find_all('a')\n",
    "# Get the attribute value\n",
    "element\n"
   ]
  },
  {
   "cell_type": "code",
   "execution_count": 79,
   "id": "475aa510",
   "metadata": {},
   "outputs": [
    {
     "data": {
      "text/plain": [
       "[]"
      ]
     },
     "execution_count": 79,
     "metadata": {},
     "output_type": "execute_result"
    }
   ],
   "source": [
    "tags = soup.find_all(\"li\", \"search-result\")\n",
    "tags"
   ]
  },
  {
   "cell_type": "code",
   "execution_count": 80,
   "id": "1c7f0eb9",
   "metadata": {},
   "outputs": [],
   "source": [
    "tag = soup.find(\"div\", id=\"bar\")\n",
    "tag"
   ]
  },
  {
   "cell_type": "code",
   "execution_count": 83,
   "id": "a5a5923d",
   "metadata": {},
   "outputs": [
    {
     "data": {
      "text/plain": [
       "[]"
      ]
     },
     "execution_count": 83,
     "metadata": {},
     "output_type": "execute_result"
    }
   ],
   "source": [
    "tags = soup.select(\"#search-results .external-links\")\n",
    "tags"
   ]
  },
  {
   "cell_type": "code",
   "execution_count": 85,
   "id": "e0336941",
   "metadata": {},
   "outputs": [
    {
     "data": {
      "text/plain": [
       "'https://codeup.com/'"
      ]
     },
     "execution_count": 85,
     "metadata": {},
     "output_type": "execute_result"
    }
   ],
   "source": [
    "anchor_href = soup.find(\"a\")[\"href\"]\n",
    "anchor_href"
   ]
  },
  {
   "cell_type": "code",
   "execution_count": 104,
   "id": "ff02dd65",
   "metadata": {},
   "outputs": [],
   "source": [
    "link_list=[]\n",
    "for link in soup.find_all('a'):\n",
    "    link_list.append(link.get('href'))\n"
   ]
  },
  {
   "cell_type": "code",
   "execution_count": 115,
   "id": "91564304",
   "metadata": {
    "scrolled": false
   },
   "outputs": [
    {
     "name": "stdout",
     "output_type": "stream",
     "text": [
      "<callable_iterator object at 0x1282e98e0>\n",
      "<callable_iterator object at 0x1282e9280>\n",
      "<callable_iterator object at 0x1282e9370>\n",
      "<callable_iterator object at 0x1282e9220>\n",
      "<callable_iterator object at 0x128299d60>\n",
      "<callable_iterator object at 0x1282999d0>\n",
      "<callable_iterator object at 0x128299640>\n",
      "<callable_iterator object at 0x128299700>\n",
      "<callable_iterator object at 0x128299a60>\n",
      "<callable_iterator object at 0x128299310>\n",
      "<callable_iterator object at 0x128299370>\n",
      "<callable_iterator object at 0x128299850>\n",
      "<callable_iterator object at 0x128299ca0>\n",
      "<callable_iterator object at 0x128299100>\n",
      "<callable_iterator object at 0x128299c40>\n",
      "<callable_iterator object at 0x128299550>\n",
      "<callable_iterator object at 0x128299a30>\n",
      "<callable_iterator object at 0x128299520>\n",
      "<callable_iterator object at 0x1282990d0>\n",
      "<callable_iterator object at 0x1282998e0>\n",
      "<callable_iterator object at 0x128299e20>\n",
      "<callable_iterator object at 0x128299e80>\n",
      "<callable_iterator object at 0x1282990a0>\n",
      "<callable_iterator object at 0x128235520>\n",
      "<callable_iterator object at 0x128235b80>\n",
      "<callable_iterator object at 0x128235790>\n",
      "<callable_iterator object at 0x128235910>\n",
      "<callable_iterator object at 0x128235070>\n",
      "<callable_iterator object at 0x128235550>\n",
      "<callable_iterator object at 0x128297670>\n",
      "<callable_iterator object at 0x128297eb0>\n"
     ]
    },
    {
     "ename": "TypeError",
     "evalue": "expected string or bytes-like object",
     "output_type": "error",
     "traceback": [
      "\u001b[0;31m---------------------------------------------------------------------------\u001b[0m",
      "\u001b[0;31mTypeError\u001b[0m                                 Traceback (most recent call last)",
      "Input \u001b[0;32mIn [115]\u001b[0m, in \u001b[0;36m<cell line: 2>\u001b[0;34m()\u001b[0m\n\u001b[1;32m      2\u001b[0m \u001b[38;5;28;01mfor\u001b[39;00m link \u001b[38;5;129;01min\u001b[39;00m soup\u001b[38;5;241m.\u001b[39mfind_all(\u001b[38;5;124m'\u001b[39m\u001b[38;5;124ma\u001b[39m\u001b[38;5;124m'\u001b[39m):\n\u001b[1;32m      3\u001b[0m     pattern \u001b[38;5;241m=\u001b[39m re\u001b[38;5;241m.\u001b[39mcompile(\u001b[38;5;124mr\u001b[39m\u001b[38;5;124m'\u001b[39m\u001b[38;5;124m(codeup.com\u001b[39m\u001b[38;5;124m\\\u001b[39m\u001b[38;5;124m/|www.|twitter.|alumni.)[\u001b[39m\u001b[38;5;124m\\\u001b[39m\u001b[38;5;124mw\u001b[39m\u001b[38;5;124m\\\u001b[39m\u001b[38;5;124m/-]+|(.com|.org)[\u001b[39m\u001b[38;5;124m\\\u001b[39m\u001b[38;5;124mw\u001b[39m\u001b[38;5;124m\\\u001b[39m\u001b[38;5;124m/-?]+|codeup.com\u001b[39m\u001b[38;5;124m'\u001b[39m)\n\u001b[0;32m----> 5\u001b[0m     matches \u001b[38;5;241m=\u001b[39m \u001b[43mpattern\u001b[49m\u001b[38;5;241;43m.\u001b[39;49m\u001b[43mfinditer\u001b[49m\u001b[43m(\u001b[49m\u001b[43mlink\u001b[49m\u001b[38;5;241;43m.\u001b[39;49m\u001b[43mget\u001b[49m\u001b[43m(\u001b[49m\u001b[38;5;124;43m'\u001b[39;49m\u001b[38;5;124;43mhref\u001b[39;49m\u001b[38;5;124;43m'\u001b[39;49m\u001b[43m)\u001b[49m\u001b[43m)\u001b[49m\n\u001b[1;32m      6\u001b[0m     \u001b[38;5;28mprint\u001b[39m(matches)\n",
      "\u001b[0;31mTypeError\u001b[0m: expected string or bytes-like object"
     ]
    }
   ],
   "source": [
    "link_list=[]\n",
    "for link in soup.find_all('a'):\n",
    "    pattern = re.compile(r'(codeup.com\\/|www.|twitter.|alumni.)[\\w\\/-]+|(.com|.org)[\\w\\/-?]+|codeup.com')\n",
    "    \n",
    "    matches = pattern.finditer(link.get('href'))\n",
    "    print(matches)"
   ]
  },
  {
   "cell_type": "code",
   "execution_count": 119,
   "id": "4c9fa1f3",
   "metadata": {},
   "outputs": [],
   "source": [
    "blog_url_list= ['https://codeup.com/data-science/become-a-data-scientist/',\n",
    "                'https://codeup.com/employers/hiring-tech-talent/',\n",
    "               'https://codeup.com/cloud-administration/cap-funding-options/'\n",
    "               'https://codeup.com/dallas-info/it-professionals-dallas/',\n",
    "               'https://codeup.com/codeup-news/codeup-voted-1-technical-school-in-dfw/',\n",
    "               'https://codeup.com/tips-for-prospective-students/financing/codeups-scholarships/']"
   ]
  },
  {
   "cell_type": "code",
   "execution_count": 139,
   "id": "1f92db4c",
   "metadata": {},
   "outputs": [],
   "source": [
    "def basic_info(url):\n",
    "    blog_info={\"title\",\"publish_date\",\"content\"}\n",
    "    headers = {'User-Agent': 'Codeup Data Science'}\n",
    "    response = requests.get(url, headers=headers)\n",
    "    \n",
    "    #find the title\n",
    "    soup = BeautifulSoup(response.content, 'html.parser')\n",
    "    title = soup.find('h1')\n",
    "    \n",
    "    \n",
    "    #Access the date published\n",
    "    publish_date = soup.find('span', class_='published')\n",
    " \n",
    "    \n",
    "    #Access the article content\n",
    "    content = soup.find('div', class_='entry-content')\n",
    "\n",
    "    output = {\n",
    "        'title': title.text,\n",
    "        'publish_date': publish_date.text,\n",
    "        'content': content.text\n",
    "     }\n",
    "    return output"
   ]
  },
  {
   "cell_type": "code",
   "execution_count": 143,
   "id": "d845219d",
   "metadata": {
    "scrolled": true
   },
   "outputs": [
    {
     "data": {
      "text/plain": [
       "[{'title': 'Become a Data Scientist in 6 Months!',\n",
       "  'publish_date': 'Jan 5, 2023',\n",
       "  'content': '\\nAre you feeling unfulfilled in your work but want to avoid returning to the traditional educational route? Codeup can help! Starting over as a professional is daunting and not always ideal. Codeup can help you go from a career you are bored with, to a job that excites you in just 6 months!\\nHere’s how…\\nData Science Program\\nDuring our 20-week program, you will have the opportunity to take your career to new heights with data science being one of the most needed jobs in tech.\\nYou’ll gather data, then clean it, explore it for trends, and apply machine learning models to make predictions.\\nUpon completing this program, you will know how to turn insights into actionable recommendations. You’ll be a huge asset to any company, having all the technical skills to become a data scientist with projects upon projects of experience under your belt.\\nCodeup\\nA common reason individuals opt not to change their careers is fear it is too late. Codeup has crafted a program that will guide you through your career transition and prove that you can jumpstart a new job at any age and experience level.\\nWhen you decide to attend Codeup, you get a support system. First, our admissions team will guide you through getting started as well as assist with getting your financial aid squared away.\\nOnce your program begins, you will have industry experts as your instructors who will help you reach your full potential and complete the program successfully.\\nNext, you will have a student experience team ready to assist you with navigating through the program and any of life’s obstacles that may arise.\\nFinally, you have a placement team to help you secure the job you’ll work so hard to land!\\n\\nIf you do not land a job within six months of completing a Codeup program, we will refund 100% of your paid tuition.\\nIf you aren’t sure if a career in data science is right for you, consider attending our 100% free instructor-led workshops. These workshops are designed to give you a taste of what you’ll learn in our programs, as well as give you information on financial aid and admissions.\\nWe can also provide program-specific information to your inbox at any time! Get started now or give us a call at (210) 802-7289 and we’ll walk you through the process.\\nJumpstart your tech career with the first and only accredited bootcamp in Texas!*\\n*Codeup is accredited for postsecondary, non-degree granting, career and technology programs by the Middle States Commission on Secondary Schools of the Middle States Association of Colleges and Schools, 3624 Market Street, Philadelphia, PA 19104, (267) 284-5000\\n'},\n",
       " {'title': 'Hiring Tech Talent Around the Holidays',\n",
       "  'publish_date': 'Dec 16, 2022',\n",
       "  'content': '\\nAre you a hiring manager having trouble filling an IT position around the holidays? Codeup has a solution for hiring tech talent year round.\\nBoth job seekers and employers can run into obstacles when attempting to find and fill open roles around the holidays. When accounting for company closures, year end activities and vacations, hiring processes tend to slow.\\nCodeup\\nCodeup is the first accredited* tech bootcamp in Texas. Our program offerings include Full-Stack Web Development, Data Science and Cloud Administration. In 6 months or less, we produce quality tech talent well-equipped to enter the workforce.\\nHire our Grads\\nThere is a common misconception that coding bootcamp graduates are not trained well enough to perform at high standards. Codeup works daily to ensure the quality of education we are delivering is nothing shy of excellent to debunk this belief.\\nCodeup is currently the only accredited tech bootcamp in Texas. With accreditation comes a high caliber of educational expectations that we must deliver. Our graduates come with experience gained from hands-on intensive training from industry experts. Consider hiring our graduates because they are capable of meeting your needs.\\nBecome an Employer Partner\\nHiring a Codeup grad is free. There are no strings attached. Our promise to our students is to give them placement assistance to land their next position in-field.\\nOur placement team works to constantly build our network of employer partners. Employer partners are companies that hire for tech talent. These partners stay connected with Codeup year round to potentially hire students from multiple cohorts from either our San Antonio, TX or Dallas, TX campuses.\\nA few of our current employer partners include: H-E-B, USAA, Whole Foods Market, Oracle, Accenture and many more.\\nBecome an employer partner today to start hiring! Take a look at our Alumni Portal to view graduates looking for work and their resumes.\\nProspective Students\\nCodeup is a great place to launch your career in tech! We are the first and currently the only accredited tech bootcamp in Texas!\\nWe also offer a tuition refund guarantee which states that if a student does not find a job within 6 months of completing a Codeup program, we will issue a full refund on paid tuition.\\nIf you aren’t sure if a career in tech is right for you, consider attending our 100% free instructor-led workshops. These workshops are designed to give you a taste of what you’ll learn in our programs, as well as give you information on financial aid and admissions.\\nWe can also provide program-specific information to your inbox at any time! Get started now or give us a call at (210) 802-7289 and we’ll walk you through the process. We’d love to hear from you!\\n*Codeup is accredited for postsecondary, non-degree granting, career and technology programs by the Middle States Commission on Secondary Schools of the Middle States Association of Colleges and Schools, 3624 Market Street, Philadelphia, PA 19104, (267) 284-5000\\n'},\n",
       " {'title': 'Why Dallas is a Great Location for IT Professionals',\n",
       "  'publish_date': 'Dec 1, 2022',\n",
       "  'content': '\\nWhen breaking into a new career, it is important to explore the job opportunities that exist in your area. A common misconception with tech careers is that the prospect of success is only possible in big cities with a long reputation of successful tech companies. Today we will discuss how Dallas, TX is a major tech hub with enormous potential for success, as the home of the state’s biggest tech workforce.\\nDFW\\nThroughout the years, the tech community across the country has seen a drop in new jobs and tech company growth. The Dallas Fort Worth area has done remarkably well with maintaining its top status for new job postings even through the weak points the field has been facing.\\nAccording to CompTIA, Dallas has held onto their number three position for month-to-month new job postings following Washington D.C. and New York City. For the month of June in 2022, the DFW area had almost 28,000 new jobs listed.\\nTop DFW Tech Companies\\nThe following companies have a history of regularly hiring IT professionals in the DFW area.\\n\\nLockheed Martin\\nJPMorgan Chase\\nUSAA\\nCiti\\nDeloitte\\nVerizon\\nWells Fargo\\nIBM\\nNTT Data\\nInfoVision\\n\\nThese companies reflect a portion of the tech career opportunities in Dallas. Positions for all levels are also available in such a quickly evolving field.\\nHow to Start\\nCodeup is a great place to launch your career in tech! We area career accelerator that helps individuals quickly and seamlessly transition into a new career in tech.\\nOur Dallas location offers a Web Development bootcamp with a 20-week completion time.\\nCodeup is the first and currently the only accredited coding bootcamp in the state of Texas.* We have also been named the best trade/technical school in the DFW area by locals.\\nIf you aren’t sure if a career in tech is right for you, consider attending our 100% free instructor-led workshops. These workshops are designed to give you a taste of what you’ll learn in our programs, as well as give you information on financial aid and admissions.\\nWe can also provide program-specific information to your inbox at any time! Get started now or give us a call at (210) 802-7289 and we’ll walk you through the process.\\n*Codeup is accredited for postsecondary, non-degree granting, career and technology programs by the Middle States Commission on Secondary Schools of the Middle States Association of Colleges and Schools, 3624 Market Street, Philadelphia, PA 19104, (267) 284-5000\\n'},\n",
       " {'title': 'Codeup is ranked #1 Best in DFW 2022',\n",
       "  'publish_date': 'Nov 21, 2022',\n",
       "  'content': '\\nWe are excited to announce that Codeup ranked #1 for Best Trade/Technical School in DFW!\\nClick here to see the Best in DFW announcement in the Dallas Morning News.\\nDetails on our Dallas campus and upcoming classes can be found here. We continue to look forward to empowering life change.\\nCodeup Dallas Campus\\n900 Jackson St Dallas, TX 75202\\n'},\n",
       " {'title': 'Codeup’s Scholarship Offerings',\n",
       "  'publish_date': 'Nov 17, 2022',\n",
       "  'content': '\\nIn honor of November being National Scholarship Month, we’d like to highlight Codeup’s current internal scholarship offerings!\\nThese scholarships are open to anyone who fits the criteria. Codeup values a diverse workspace, and we encourage everyone, regardless of background to pursue the career they desire. We’ve crafted the following scholarships to assist in funding a career change with Codeup.\\n\\nWomen in Tech Scholarship\\nThis scholarship is available to all women. We define “women” as anyone who identifies themselves as a woman, including transgender, genderqueer and non-binary women.\\nAnnie Easley Scholarship\\nThis scholarship is available to students who identify as Black or African-American.\\nMinorities in Tech Scholarship\\nThis scholarship is open to anyone who identifies as part of a minority group.\\nPride Scholarship\\nThis scholarship is open to anyone who identifies as part of the LGBTQIA+ community.\\nVeteran Scholarship\\nThis scholarship is open to military veterans and military dependents.\\nFirst Responders Scholarship\\nThis scholarship is open to current and former first responders.\\nCovid-19 Relief Scholarship\\nThis scholarship is open to anyone affected by Covid-19.\\n\\nApplicants are welcome to apply for scholarships at any point, but they are only awarded after you’ve been accepted into one of Codeup’s programs. If you haven’t yet, please get started with your Codeup application by clicking here.\\n'}]"
      ]
     },
     "execution_count": 143,
     "metadata": {},
     "output_type": "execute_result"
    }
   ],
   "source": [
    "blog_info= []\n",
    "for i in blog_url_list:\n",
    "    output = basic_info(i)\n",
    "    blog_info.append(output)\n",
    "blog_info"
   ]
  },
  {
   "cell_type": "markdown",
   "id": "1569e80e",
   "metadata": {},
   "source": [
    "# 2. News Articles\n",
    "\n",
    "We will now be scraping text data from inshorts, a website that provides a brief overview of many different topics.\n",
    "\n",
    "Write a function that scrapes the news articles for the following topics:\n",
    "\n",
    "Business\n",
    "Sports\n",
    "Technology\n",
    "Entertainment\n",
    "The end product of this should be a function named get_news_articles that returns a list of dictionaries, where each dictionary has this shape:\n",
    "``` python\n",
    "\n",
    "{\n",
    "    'title': 'The article title',\n",
    "    'content': 'The article content',\n",
    "    'category': 'business' # for example\n",
    "}\n",
    "```\n",
    "Hints:\n",
    "\n",
    "a. Start by inspecting the website in your browser. Figure out which elements will be useful.\n",
    "\n",
    "b. Start by creating a function that handles a single article and produces a dictionary like the one above.\n",
    "\n",
    "c. Next create a function that will find all the articles on a single page and call the function you created in the last step for every article on the page.\n",
    "\n",
    "d. Now create a function that will use the previous two functions to scrape the articles from all the pages that you need, and do any additional processing that needs to be done."
   ]
  },
  {
   "cell_type": "code",
   "execution_count": null,
   "id": "47ba98c8",
   "metadata": {},
   "outputs": [],
   "source": []
  },
  {
   "cell_type": "code",
   "execution_count": null,
   "id": "3d2dd1a6",
   "metadata": {},
   "outputs": [],
   "source": []
  },
  {
   "cell_type": "markdown",
   "id": "6d82ec36",
   "metadata": {},
   "source": [
    "# 3. Bonus: cache the data\n",
    "\n",
    "Write your code such that the acquired data is saved locally in some form or fashion. Your functions that retrieve the data should prefer to read the local data instead of having to make all the requests everytime the function is called. Include a boolean flag in the functions to allow the data to be acquired \"fresh\" from the actual sources (re-writing your local cache)."
   ]
  },
  {
   "cell_type": "code",
   "execution_count": null,
   "id": "00c30e88",
   "metadata": {},
   "outputs": [],
   "source": []
  },
  {
   "cell_type": "code",
   "execution_count": null,
   "id": "6d2d5e8e",
   "metadata": {},
   "outputs": [],
   "source": []
  }
 ],
 "metadata": {
  "kernelspec": {
   "display_name": "Python 3 (ipykernel)",
   "language": "python",
   "name": "python3"
  },
  "language_info": {
   "codemirror_mode": {
    "name": "ipython",
    "version": 3
   },
   "file_extension": ".py",
   "mimetype": "text/x-python",
   "name": "python",
   "nbconvert_exporter": "python",
   "pygments_lexer": "ipython3",
   "version": "3.9.12"
  }
 },
 "nbformat": 4,
 "nbformat_minor": 5
}
