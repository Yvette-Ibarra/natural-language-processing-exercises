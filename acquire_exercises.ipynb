{
 "cells": [
  {
   "cell_type": "markdown",
   "id": "afefa6db",
   "metadata": {},
   "source": [
    "# Acquire Exercises"
   ]
  },
  {
   "cell_type": "code",
   "execution_count": 80,
   "id": "cbe80654",
   "metadata": {},
   "outputs": [],
   "source": [
    "from bs4 import BeautifulSoup\n",
    "import re\n",
    "import pandas as pd\n",
    "\n",
    "import requests"
   ]
  },
  {
   "cell_type": "markdown",
   "id": "26daf43a",
   "metadata": {},
   "source": [
    "# 1. Codeup Blog Articles\n",
    "\n",
    "Visit Codeup's Blog and record the urls for at least 5 distinct blog posts. For each post, you should scrape at least the post's title and content.\n",
    "\n",
    "Encapsulate your work in a function named get_blog_articles that will return a list of dictionaries, with each dictionary representing one article. The shape of each dictionary should look like this:\n",
    "\n",
    "```python\n",
    "{\n",
    "    'title': 'the title of the article',\n",
    "    'content': 'the full text content of the article'\n",
    "}\n",
    "```\n",
    "Plus any additional properties you think might be helpful.\n",
    "\n",
    "Bonus: Scrape the text of all the articles linked on codeup's blog page."
   ]
  },
  {
   "cell_type": "code",
   "execution_count": 2,
   "id": "57582662",
   "metadata": {},
   "outputs": [],
   "source": [
    "# url\n",
    "url='https://codeup.com/blog/'"
   ]
  },
  {
   "cell_type": "code",
   "execution_count": 3,
   "id": "367cbf57",
   "metadata": {},
   "outputs": [],
   "source": [
    "# create soup\n",
    "soup = BeautifulSoup(requests.get(url).content, 'html.parser')"
   ]
  },
  {
   "cell_type": "code",
   "execution_count": 4,
   "id": "eacd46c6",
   "metadata": {},
   "outputs": [
    {
     "data": {
      "text/plain": [
       "<html>\n",
       "<head><title>403 Forbidden</title></head>\n",
       "<body>\n",
       "<center><h1>403 Forbidden</h1></center>\n",
       "<hr/><center>nginx</center>\n",
       "</body>\n",
       "</html>"
      ]
     },
     "execution_count": 4,
     "metadata": {},
     "output_type": "execute_result"
    }
   ],
   "source": [
    "# see soup\n",
    "soup"
   ]
  },
  {
   "cell_type": "code",
   "execution_count": 5,
   "id": "e519641b",
   "metadata": {},
   "outputs": [],
   "source": [
    "# request text\n",
    "html_text =requests.get(url).text"
   ]
  },
  {
   "cell_type": "code",
   "execution_count": 6,
   "id": "4b628849",
   "metadata": {},
   "outputs": [
    {
     "name": "stdout",
     "output_type": "stream",
     "text": [
      "<html>\r\n",
      "<head><title>403 Forbidden</title></head>\r\n",
      "<body>\r\n",
      "<center><h1>403 Forbidden</h1></center>\r\n",
      "<hr><center>nginx</center>\r\n",
      "</body>\r\n",
      "</html>\r\n",
      "\n"
     ]
    }
   ],
   "source": [
    "print(html_text)"
   ]
  },
  {
   "cell_type": "markdown",
   "id": "e3821bcd",
   "metadata": {},
   "source": [
    "I got code 403; trying to figure a way to acess the information.\n",
    "\n",
    "New attempt follows:"
   ]
  },
  {
   "cell_type": "code",
   "execution_count": 7,
   "id": "bbe8faae",
   "metadata": {},
   "outputs": [],
   "source": [
    "#Define headers\n",
    "headers = {'User-Agent': 'Codeup Data Science'}"
   ]
  },
  {
   "cell_type": "code",
   "execution_count": 8,
   "id": "25a15724",
   "metadata": {},
   "outputs": [],
   "source": [
    "#Make a request\n",
    "response = requests.get('https://codeup.com/data-science/become-a-data-scientist/', headers=headers)"
   ]
  },
  {
   "cell_type": "code",
   "execution_count": 9,
   "id": "c41f992c",
   "metadata": {},
   "outputs": [],
   "source": [
    "#Create the soup and investigate\n",
    "soup = BeautifulSoup(response.content, 'html.parser')\n"
   ]
  },
  {
   "cell_type": "markdown",
   "id": "03f5494d",
   "metadata": {},
   "source": [
    "soup"
   ]
  },
  {
   "cell_type": "code",
   "execution_count": 10,
   "id": "e0a15938",
   "metadata": {},
   "outputs": [
    {
     "data": {
      "text/plain": [
       "'Become a Data Scientist in 6 Months!'"
      ]
     },
     "execution_count": 10,
     "metadata": {},
     "output_type": "execute_result"
    }
   ],
   "source": [
    "title= soup.find('h1')\n",
    "title.text"
   ]
  },
  {
   "cell_type": "code",
   "execution_count": 11,
   "id": "e06a857e",
   "metadata": {},
   "outputs": [
    {
     "data": {
      "text/plain": [
       "'Jan 5, 2023'"
      ]
     },
     "execution_count": 11,
     "metadata": {},
     "output_type": "execute_result"
    }
   ],
   "source": [
    "#Access the date published\n",
    "publish_date = soup.find('span', class_='published')\n",
    "publish_date.text"
   ]
  },
  {
   "cell_type": "code",
   "execution_count": 12,
   "id": "f30fbb27",
   "metadata": {
    "scrolled": false
   },
   "outputs": [
    {
     "data": {
      "text/plain": [
       "'\\nAre you feeling unfulfilled in your work but want to avoid returning to the traditional educational route? Codeup can help! Starting over as a professional is daunting and not always ideal. Codeup can help you go from a career you are bored with, to a job that excites you in just 6 months!\\nHere’s how…\\nData Science Program\\nDuring our 20-week program, you will have the opportunity to take your career to new heights with data science being one of the most needed jobs in tech.\\nYou’ll gather data, then clean it, explore it for trends, and apply machine learning models to make predictions.\\nUpon completing this program, you will know how to turn insights into actionable recommendations. You’ll be a huge asset to any company, having all the technical skills to become a data scientist with projects upon projects of experience under your belt.\\nCodeup\\nA common reason individuals opt not to change their careers is fear it is too late. Codeup has crafted a program that will guide you through your career transition and prove that you can jumpstart a new job at any age and experience level.\\nWhen you decide to attend Codeup, you get a support system. First, our admissions team will guide you through getting started as well as assist with getting your financial aid squared away.\\nOnce your program begins, you will have industry experts as your instructors who will help you reach your full potential and complete the program successfully.\\nNext, you will have a student experience team ready to assist you with navigating through the program and any of life’s obstacles that may arise.\\nFinally, you have a placement team to help you secure the job you’ll work so hard to land!\\n\\nIf you do not land a job within six months of completing a Codeup program, we will refund 100% of your paid tuition.\\nIf you aren’t sure if a career in data science is right for you, consider attending our 100% free instructor-led workshops. These workshops are designed to give you a taste of what you’ll learn in our programs, as well as give you information on financial aid and admissions.\\nWe can also provide program-specific information to your inbox at any time! Get started now or give us a call at (210) 802-7289 and we’ll walk you through the process.\\nJumpstart your tech career with the first and only accredited bootcamp in Texas!*\\n*Codeup is accredited for postsecondary, non-degree granting, career and technology programs by the Middle States Commission on Secondary Schools of the Middle States Association of Colleges and Schools, 3624 Market Street, Philadelphia, PA 19104, (267) 284-5000\\n'"
      ]
     },
     "execution_count": 12,
     "metadata": {},
     "output_type": "execute_result"
    }
   ],
   "source": [
    "#Access the article content\n",
    "content = soup.find('div', class_='entry-content')\n",
    "content.text"
   ]
  },
  {
   "cell_type": "code",
   "execution_count": 13,
   "id": "3f64ce40",
   "metadata": {},
   "outputs": [
    {
     "data": {
      "text/plain": [
       "[]"
      ]
     },
     "execution_count": 13,
     "metadata": {},
     "output_type": "execute_result"
    }
   ],
   "source": [
    "article_links = soup.find_all('a', 'href')\n",
    "article_links"
   ]
  },
  {
   "cell_type": "code",
   "execution_count": 14,
   "id": "e98f309c",
   "metadata": {},
   "outputs": [
    {
     "data": {
      "text/plain": [
       "'https://codeup.com/'"
      ]
     },
     "execution_count": 14,
     "metadata": {},
     "output_type": "execute_result"
    }
   ],
   "source": [
    "# Get the \"a\" tag\n",
    "element = soup.find('a')\n",
    "# Get the attribute value\n",
    "data = element.get('href')\n",
    "data"
   ]
  },
  {
   "cell_type": "code",
   "execution_count": 15,
   "id": "20d1f51a",
   "metadata": {
    "scrolled": false
   },
   "outputs": [
    {
     "data": {
      "text/plain": [
       "[<a href=\"https://codeup.com/\">Home</a>,\n",
       " <a href=\"https://codeup.com/program/cloud-adminsitration/\">Cloud Administration</a>,\n",
       " <a href=\"https://codeup.com/program/full-stack-web-development/\">Full Stack Web Development</a>,\n",
       " <a href=\"https://codeup.com/program/data-science/\">Data Science</a>,\n",
       " <a href=\"/events/\">Workshops</a>,\n",
       " <a href=\"/san-antonio-events/\">San Antonio</a>,\n",
       " <a href=\"/dallas-events/\">Dallas</a>,\n",
       " <a href=\"https://codeup.com/financial-aid/\">Financial Aid</a>,\n",
       " <a href=\"https://codeup.com/veterans/\">Military</a>,\n",
       " <a href=\"https://codeup.com/hire-tech-talent/\">Hire Tech Talent</a>,\n",
       " <a href=\"https://alumni.codeup.com/\">Alumni</a>,\n",
       " <a href=\"https://codeup.com/resources/\">Resources</a>,\n",
       " <a href=\"/my-story/\">Student Reviews</a>,\n",
       " <a href=\"https://codeup.com/blog/\">Blog</a>,\n",
       " <a href=\"https://codeup.com/frequently-asked-questions/\">Common Questions</a>,\n",
       " <a href=\"https://codeup.com/podcast/\">Hire Tech Podcast</a>,\n",
       " <a href=\"https://codeup.com/apply-now/\">Apply Now</a>,\n",
       " <a href=\"https://codeup.com/\">\n",
       " <img alt=\"Codeup\" class=\"main-logo normal-logo\" id=\"dm-logo\" src=\"https://tribucodeup.wpenginepowered.com/wp-content/uploads/2021/08/CodeupFullColorLogo.png\" title=\"\">\n",
       " </img></a>,\n",
       " <a href=\"/about-codeup/\">About</a>,\n",
       " <a href=\"/category/behind-the-billboards/\">Behind The Billboards</a>,\n",
       " <a href=\"/careers/\">Careers</a>,\n",
       " <a href=\"/index.php/\"><img alt=\"Codeup Best Coding Bootcamp\" class=\"wp-image-28\" decoding=\"async\" height=\"86\" loading=\"lazy\" src=\"https://tribucodeup.wpenginepowered.com/wp-content/uploads/2021/06/codeup_logo.png\" width=\"226\"/></a>,\n",
       " <a href=\"https://codeup.com/programs/\" title=\"Coding Programs\">Programs</a>,\n",
       " <a href=\"https://codeup.com/program/cloud-administration/\">Cloud Administration</a>,\n",
       " <a href=\"https://codeup.com/program/full-stack-web-development/\" title=\"Full Stack Web Development Bootcamp\">Web Development</a>,\n",
       " <a href=\"https://codeup.com/program/data-science/\" title=\"Data Science Bootcamp in Texas\">Data Science</a>,\n",
       " <a href=\"/financial-aid/\">Financing</a>,\n",
       " <a href=\"#\">Events</a>,\n",
       " <a href=\"https://codeup.com/san-antonio-events/\">San Antonio</a>,\n",
       " <a href=\"https://codeup.com/dallas-events/\">Dallas</a>,\n",
       " <a href=\"https://codeup.com/veterans/\">Military</a>,\n",
       " <a>Campuses</a>,\n",
       " <a href=\"https://codeup.com/san-antonio/\">San Antonio</a>,\n",
       " <a href=\"https://codeup.com/dallas/\">Dallas</a>,\n",
       " <a href=\"https://codeup.com/hire-tech-talent/\" title=\"Hire Diversified Tech Talent\">Hire</a>,\n",
       " <a href=\"https://codeup.com/hire-tech-talent/\">Employers</a>,\n",
       " <a href=\"https://alumni.codeup.com/\">Alumni Portal</a>,\n",
       " <a href=\"https://codeup.com/resources/\">Resources</a>,\n",
       " <a href=\"/my-story/\">Student Reviews</a>,\n",
       " <a href=\"https://codeup.com/blog/\">Blog</a>,\n",
       " <a href=\"https://codeup.com/frequently-asked-questions/\">Common Questions</a>,\n",
       " <a href=\"https://codeup.com/podcast/\">Hire Tech Podcast</a>,\n",
       " <a class=\"et_pb_button et_pb_button_0_tb_header et_pb_bg_layout_light\" href=\"/apply-now/\">Start Now</a>,\n",
       " <a href=\"https://codeup.com/category/data-science/\" rel=\"category tag\">Data Science</a>,\n",
       " <a href=\"https://www.coursera.org/articles/data-scientist-jobs\" rel=\"noopener\" target=\"_blank\">most needed jobs in tech.</a>,\n",
       " <a href=\"https://codeup.com/refund/\">refund</a>,\n",
       " <a href=\"https://codeup.com/events/\">workshops</a>,\n",
       " <a href=\"https://codeup.com/moreinfo/\">program-specific information</a>,\n",
       " <a href=\"https://codeup.com/apply-now/\">Get started</a>,\n",
       " <a href=\"https://codeup.com/program/cloud-administration/\">Cloud Administration</a>,\n",
       " <a href=\"https://codeup.com/program/full-stack-web-development/\">Full Stack Web Development</a>,\n",
       " <a href=\"https://codeup.com/program/data-science/\">Data Science</a>,\n",
       " <a class=\"wp-block-latest-posts__post-title\" href=\"https://codeup.com/data-science/become-a-data-scientist/\">Become a Data Scientist in 6 Months!</a>,\n",
       " <a class=\"wp-block-latest-posts__post-title\" href=\"https://codeup.com/employers/hiring-tech-talent/\">Hiring Tech Talent Around the Holidays</a>,\n",
       " <a class=\"wp-block-latest-posts__post-title\" href=\"https://codeup.com/cloud-administration/cap-funding-options/\">Cloud Administration Program New Funding Options</a>,\n",
       " <a class=\"wp-block-latest-posts__post-title\" href=\"https://codeup.com/dallas-info/it-professionals-dallas/\">Why Dallas is a Great Location for IT Professionals</a>,\n",
       " <a class=\"wp-block-latest-posts__post-title\" href=\"https://codeup.com/codeup-news/codeup-voted-1-technical-school-in-dfw/\">Codeup is ranked #1 Best in DFW 2022</a>,\n",
       " <a class=\"et_pb_button et_pb_button_0_tb_footer et_pb_bg_layout_light\" href=\"/moreinfo/\">Request Information</a>,\n",
       " <a href=\"tel:12108027289\" title=\"call Codeup\">(210) 802–7289</a>,\n",
       " <a class=\"icon et_pb_with_border\" href=\"https://www.facebook.com/GoCodeup/\" target=\"_blank\" title=\"Follow on Facebook\"><span aria-hidden=\"true\" class=\"et_pb_social_media_follow_network_name\">Follow</span></a>,\n",
       " <a class=\"icon et_pb_with_border\" href=\"https://twitter.com/gocodeup\" target=\"_blank\" title=\"Follow on Twitter\"><span aria-hidden=\"true\" class=\"et_pb_social_media_follow_network_name\">Follow</span></a>,\n",
       " <a class=\"icon et_pb_with_border\" href=\"https://www.instagram.com/gocodeup/?hl=en\" target=\"_blank\" title=\"Follow on Instagram\"><span aria-hidden=\"true\" class=\"et_pb_social_media_follow_network_name\">Follow</span></a>,\n",
       " <a class=\"icon et_pb_with_border\" href=\"https://www.linkedin.com/school/3799914\" target=\"_blank\" title=\"Follow on LinkedIn\"><span aria-hidden=\"true\" class=\"et_pb_social_media_follow_network_name\">Follow</span></a>,\n",
       " <a class=\"icon et_pb_with_border\" href=\"/podcast/\" target=\"_blank\" title=\"Follow on RSS\"><span aria-hidden=\"true\" class=\"et_pb_social_media_follow_network_name\">Follow</span></a>,\n",
       " <a href=\"/dallas\">Dallas</a>,\n",
       " <a href=\"/san-antonio\">San Antonio</a>,\n",
       " <a href=\"/index.php/\"><span class=\"et_pb_image_wrap\"><img alt=\"quack quack\" class=\"wp-image-15815\" decoding=\"async\" height=\"256\" loading=\"lazy\" sizes=\"(max-width: 336px) 100vw, 336px\" src=\"https://tribucodeup.wpenginepowered.com/wp-content/uploads/2018/08/codey-1.png\" srcset=\"https://tribucodeup.wpenginepowered.com/wp-content/uploads/2018/08/codey-1.png 336w, https://tribucodeup.wpenginepowered.com/wp-content/uploads/2018/08/codey-1-300x229.png 300w\" title=\"Codey\" width=\"336\"/></span></a>,\n",
       " <a href=\"/why-codeup/\" title=\"About Codeup\">Why Codeup?</a>,\n",
       " <a href=\"/financial-aid/\" title=\"how to pay for bootcamp\">Financial Aid Options</a>,\n",
       " <a href=\"/my-story/\" title=\"Codeup Reviews\">Student Reviews</a>,\n",
       " <a href=\"/hire-tech-talent/\">Employers</a>,\n",
       " <a href=\"/refund/\" title=\"Codeup Refund Policy\">Refund Policy</a>,\n",
       " <a href=\"/frequently-asked-questions/\" title=\"frequently asked questions\">FAQs</a>,\n",
       " <a href=\"/careers/\" title=\"Jobs at Codeup\">Careers</a>,\n",
       " <a href=\"/pr/\" title=\"press assets for Codeup\">Media Kit</a>,\n",
       " <a href=\"/program/full-stack-web-development/\" title=\"coding bootcamp in Texas\">Full Stack Web Development</a>,\n",
       " <a href=\"/program/data-science/\" title=\"data science bootcamp in Texas\">Data Science</a>,\n",
       " <a href=\"/cloud-administration/\" title=\"learn Cloud Administration in Texas\">Cloud Administration</a>,\n",
       " <a href=\"/free/\" title=\"learn to code for free\">Free Networking Course</a>,\n",
       " <a class=\"et_pb_button et_pb_button_1_tb_footer et_pb_bg_layout_light\" href=\"/apply-now/\">Apply Now</a>,\n",
       " <a href=\"/privacy/\">Privacy Policy</a>,\n",
       " <a href=\"/student-complaint-policy/\" title=\"complaint policy\">Complaint Policy</a>,\n",
       " <a href=\"/codeup-news/inclusion-at-codeup-during-pride-month-and-always/\" title=\"DEI at Codeup\">Inclusion</a>,\n",
       " <a href=\"/accessibility/\">Accessibility</a>,\n",
       " <a href=\"/sitemap_index.xml\">Sitemap</a>,\n",
       " <a class=\"wt-cli-ccpa-opt-out\" style=\"color:#333333\">No worries, we do not sell your personal information.</a>,\n",
       " <a class=\"medium cli-plugin-button cli-plugin-main-button cli_settings_button\" role=\"button\" style=\"margin:0px 10px 0px 5px\">Cookie Settings</a>,\n",
       " <a class=\"medium cli-plugin-button cli-plugin-main-button cookie_action_close_header cli_action_button wt-cli-accept-btn\" data-cli_action=\"accept\" id=\"cookie_action_close_header\" role=\"button\" style=\"display:inline-block\">Accept</a>,\n",
       " <a aria-label=\"Show more\" class=\"cli-privacy-readmore\" data-readless-text=\"Show less\" data-readmore-text=\"Show more\" role=\"button\"></a>,\n",
       " <a class=\"cli-nav-link cli-settings-mobile\" data-target=\"necessary\" data-toggle=\"cli-toggle-tab\" role=\"button\" tabindex=\"0\">\n",
       " \t\t\t\t\t\t\t\tNecessary\t\t\t\t\t\t\t</a>,\n",
       " <a class=\"cli-nav-link cli-settings-mobile\" data-target=\"functional\" data-toggle=\"cli-toggle-tab\" role=\"button\" tabindex=\"0\">\n",
       " \t\t\t\t\t\t\t\tFunctional\t\t\t\t\t\t\t</a>,\n",
       " <a class=\"cli-nav-link cli-settings-mobile\" data-target=\"performance\" data-toggle=\"cli-toggle-tab\" role=\"button\" tabindex=\"0\">\n",
       " \t\t\t\t\t\t\t\tPerformance\t\t\t\t\t\t\t</a>,\n",
       " <a class=\"cli-nav-link cli-settings-mobile\" data-target=\"analytics\" data-toggle=\"cli-toggle-tab\" role=\"button\" tabindex=\"0\">\n",
       " \t\t\t\t\t\t\t\tAnalytics\t\t\t\t\t\t\t</a>,\n",
       " <a class=\"cli-nav-link cli-settings-mobile\" data-target=\"advertisement\" data-toggle=\"cli-toggle-tab\" role=\"button\" tabindex=\"0\">\n",
       " \t\t\t\t\t\t\t\tAdvertisement\t\t\t\t\t\t\t</a>,\n",
       " <a class=\"cli-nav-link cli-settings-mobile\" data-target=\"others\" data-toggle=\"cli-toggle-tab\" role=\"button\" tabindex=\"0\">\n",
       " \t\t\t\t\t\t\t\tOthers\t\t\t\t\t\t\t</a>,\n",
       " <a class=\"wt-cli-privacy-btn cli_setting_save_button wt-cli-privacy-accept-btn cli-btn\" data-cli-action=\"accept\" id=\"wt-cli-privacy-save-btn\" role=\"button\" tabindex=\"0\">SAVE &amp; ACCEPT</a>]"
      ]
     },
     "execution_count": 15,
     "metadata": {},
     "output_type": "execute_result"
    }
   ],
   "source": [
    "# Get the \"a\" tag\n",
    "element = soup.find_all('a')\n",
    "# Get the attribute value\n",
    "element\n"
   ]
  },
  {
   "cell_type": "code",
   "execution_count": 16,
   "id": "475aa510",
   "metadata": {},
   "outputs": [
    {
     "data": {
      "text/plain": [
       "[]"
      ]
     },
     "execution_count": 16,
     "metadata": {},
     "output_type": "execute_result"
    }
   ],
   "source": [
    "tags = soup.find_all(\"li\", \"search-result\")\n",
    "tags"
   ]
  },
  {
   "cell_type": "code",
   "execution_count": 17,
   "id": "1c7f0eb9",
   "metadata": {},
   "outputs": [],
   "source": [
    "tag = soup.find(\"div\", id=\"bar\")\n",
    "tag"
   ]
  },
  {
   "cell_type": "code",
   "execution_count": 18,
   "id": "a5a5923d",
   "metadata": {},
   "outputs": [
    {
     "data": {
      "text/plain": [
       "[]"
      ]
     },
     "execution_count": 18,
     "metadata": {},
     "output_type": "execute_result"
    }
   ],
   "source": [
    "tags = soup.select(\"#search-results .external-links\")\n",
    "tags"
   ]
  },
  {
   "cell_type": "code",
   "execution_count": 19,
   "id": "e0336941",
   "metadata": {},
   "outputs": [
    {
     "data": {
      "text/plain": [
       "'https://codeup.com/'"
      ]
     },
     "execution_count": 19,
     "metadata": {},
     "output_type": "execute_result"
    }
   ],
   "source": [
    "anchor_href = soup.find(\"a\")[\"href\"]\n",
    "anchor_href"
   ]
  },
  {
   "cell_type": "code",
   "execution_count": 20,
   "id": "ff02dd65",
   "metadata": {},
   "outputs": [],
   "source": [
    "link_list=[]\n",
    "for link in soup.find_all('a'):\n",
    "    link_list.append(link.get('href'))\n"
   ]
  },
  {
   "cell_type": "code",
   "execution_count": 21,
   "id": "91564304",
   "metadata": {
    "scrolled": false
   },
   "outputs": [
    {
     "name": "stdout",
     "output_type": "stream",
     "text": [
      "<callable_iterator object at 0x10704df40>\n",
      "<callable_iterator object at 0x10704d160>\n",
      "<callable_iterator object at 0x10704d0d0>\n",
      "<callable_iterator object at 0x1070650d0>\n",
      "<callable_iterator object at 0x107065190>\n",
      "<callable_iterator object at 0x107065250>\n",
      "<callable_iterator object at 0x107065310>\n",
      "<callable_iterator object at 0x107065490>\n",
      "<callable_iterator object at 0x107065550>\n",
      "<callable_iterator object at 0x103e8f310>\n",
      "<callable_iterator object at 0x103e8f2b0>\n",
      "<callable_iterator object at 0x10704ddc0>\n",
      "<callable_iterator object at 0x10704d070>\n",
      "<callable_iterator object at 0x10704dbe0>\n",
      "<callable_iterator object at 0x10704dbb0>\n",
      "<callable_iterator object at 0x107065400>\n",
      "<callable_iterator object at 0x1070653d0>\n",
      "<callable_iterator object at 0x1070654c0>\n",
      "<callable_iterator object at 0x107065340>\n",
      "<callable_iterator object at 0x107065280>\n",
      "<callable_iterator object at 0x1070651c0>\n",
      "<callable_iterator object at 0x107065070>\n",
      "<callable_iterator object at 0x107065610>\n",
      "<callable_iterator object at 0x1070656d0>\n",
      "<callable_iterator object at 0x107065790>\n",
      "<callable_iterator object at 0x107065850>\n",
      "<callable_iterator object at 0x107065910>\n",
      "<callable_iterator object at 0x1070659d0>\n",
      "<callable_iterator object at 0x107065a90>\n",
      "<callable_iterator object at 0x107065b50>\n",
      "<callable_iterator object at 0x107065c10>\n"
     ]
    },
    {
     "ename": "TypeError",
     "evalue": "expected string or bytes-like object",
     "output_type": "error",
     "traceback": [
      "\u001b[0;31m---------------------------------------------------------------------------\u001b[0m",
      "\u001b[0;31mTypeError\u001b[0m                                 Traceback (most recent call last)",
      "Input \u001b[0;32mIn [21]\u001b[0m, in \u001b[0;36m<cell line: 2>\u001b[0;34m()\u001b[0m\n\u001b[1;32m      2\u001b[0m \u001b[38;5;28;01mfor\u001b[39;00m link \u001b[38;5;129;01min\u001b[39;00m soup\u001b[38;5;241m.\u001b[39mfind_all(\u001b[38;5;124m'\u001b[39m\u001b[38;5;124ma\u001b[39m\u001b[38;5;124m'\u001b[39m):\n\u001b[1;32m      3\u001b[0m     pattern \u001b[38;5;241m=\u001b[39m re\u001b[38;5;241m.\u001b[39mcompile(\u001b[38;5;124mr\u001b[39m\u001b[38;5;124m'\u001b[39m\u001b[38;5;124m(codeup.com\u001b[39m\u001b[38;5;124m\\\u001b[39m\u001b[38;5;124m/|www.|twitter.|alumni.)[\u001b[39m\u001b[38;5;124m\\\u001b[39m\u001b[38;5;124mw\u001b[39m\u001b[38;5;124m\\\u001b[39m\u001b[38;5;124m/-]+|(.com|.org)[\u001b[39m\u001b[38;5;124m\\\u001b[39m\u001b[38;5;124mw\u001b[39m\u001b[38;5;124m\\\u001b[39m\u001b[38;5;124m/-?]+|codeup.com\u001b[39m\u001b[38;5;124m'\u001b[39m)\n\u001b[0;32m----> 5\u001b[0m     matches \u001b[38;5;241m=\u001b[39m \u001b[43mpattern\u001b[49m\u001b[38;5;241;43m.\u001b[39;49m\u001b[43mfinditer\u001b[49m\u001b[43m(\u001b[49m\u001b[43mlink\u001b[49m\u001b[38;5;241;43m.\u001b[39;49m\u001b[43mget\u001b[49m\u001b[43m(\u001b[49m\u001b[38;5;124;43m'\u001b[39;49m\u001b[38;5;124;43mhref\u001b[39;49m\u001b[38;5;124;43m'\u001b[39;49m\u001b[43m)\u001b[49m\u001b[43m)\u001b[49m\n\u001b[1;32m      6\u001b[0m     \u001b[38;5;28mprint\u001b[39m(matches)\n",
      "\u001b[0;31mTypeError\u001b[0m: expected string or bytes-like object"
     ]
    }
   ],
   "source": [
    "link_list=[]\n",
    "for link in soup.find_all('a'):\n",
    "    pattern = re.compile(r'(codeup.com\\/|www.|twitter.|alumni.)[\\w\\/-]+|(.com|.org)[\\w\\/-?]+|codeup.com')\n",
    "    \n",
    "    matches = pattern.finditer(link.get('href'))\n",
    "    print(matches)"
   ]
  },
  {
   "cell_type": "code",
   "execution_count": 22,
   "id": "4c9fa1f3",
   "metadata": {},
   "outputs": [],
   "source": [
    "blog_url_list= ['https://codeup.com/data-science/become-a-data-scientist/',\n",
    "                'https://codeup.com/employers/hiring-tech-talent/',\n",
    "               'https://codeup.com/cloud-administration/cap-funding-options/'\n",
    "               'https://codeup.com/dallas-info/it-professionals-dallas/',\n",
    "               'https://codeup.com/codeup-news/codeup-voted-1-technical-school-in-dfw/',\n",
    "               'https://codeup.com/tips-for-prospective-students/financing/codeups-scholarships/']"
   ]
  },
  {
   "cell_type": "code",
   "execution_count": 23,
   "id": "1f92db4c",
   "metadata": {},
   "outputs": [],
   "source": [
    "def basic_info(url):\n",
    "    blog_info={\"title\",\"publish_date\",\"content\"}\n",
    "    headers = {'User-Agent': 'Codeup Data Science'}\n",
    "    response = requests.get(url, headers=headers)\n",
    "    \n",
    "    #find the title\n",
    "    soup = BeautifulSoup(response.content, 'html.parser')\n",
    "    title = soup.find('h1')\n",
    "    \n",
    "    \n",
    "    #Access the date published\n",
    "    publish_date = soup.find('span', class_='published')\n",
    " \n",
    "    \n",
    "    #Access the article content\n",
    "    content = soup.find('div', class_='entry-content')\n",
    "\n",
    "    output = {\n",
    "        'title': title.text,\n",
    "        'publish_date': publish_date.text,\n",
    "        'content': content.text\n",
    "     }\n",
    "    return output"
   ]
  },
  {
   "cell_type": "code",
   "execution_count": 24,
   "id": "d845219d",
   "metadata": {
    "scrolled": true
   },
   "outputs": [
    {
     "data": {
      "text/plain": [
       "[{'title': 'Become a Data Scientist in 6 Months!',\n",
       "  'publish_date': 'Jan 5, 2023',\n",
       "  'content': '\\nAre you feeling unfulfilled in your work but want to avoid returning to the traditional educational route? Codeup can help! Starting over as a professional is daunting and not always ideal. Codeup can help you go from a career you are bored with, to a job that excites you in just 6 months!\\nHere’s how…\\nData Science Program\\nDuring our 20-week program, you will have the opportunity to take your career to new heights with data science being one of the most needed jobs in tech.\\nYou’ll gather data, then clean it, explore it for trends, and apply machine learning models to make predictions.\\nUpon completing this program, you will know how to turn insights into actionable recommendations. You’ll be a huge asset to any company, having all the technical skills to become a data scientist with projects upon projects of experience under your belt.\\nCodeup\\nA common reason individuals opt not to change their careers is fear it is too late. Codeup has crafted a program that will guide you through your career transition and prove that you can jumpstart a new job at any age and experience level.\\nWhen you decide to attend Codeup, you get a support system. First, our admissions team will guide you through getting started as well as assist with getting your financial aid squared away.\\nOnce your program begins, you will have industry experts as your instructors who will help you reach your full potential and complete the program successfully.\\nNext, you will have a student experience team ready to assist you with navigating through the program and any of life’s obstacles that may arise.\\nFinally, you have a placement team to help you secure the job you’ll work so hard to land!\\n\\nIf you do not land a job within six months of completing a Codeup program, we will refund 100% of your paid tuition.\\nIf you aren’t sure if a career in data science is right for you, consider attending our 100% free instructor-led workshops. These workshops are designed to give you a taste of what you’ll learn in our programs, as well as give you information on financial aid and admissions.\\nWe can also provide program-specific information to your inbox at any time! Get started now or give us a call at (210) 802-7289 and we’ll walk you through the process.\\nJumpstart your tech career with the first and only accredited bootcamp in Texas!*\\n*Codeup is accredited for postsecondary, non-degree granting, career and technology programs by the Middle States Commission on Secondary Schools of the Middle States Association of Colleges and Schools, 3624 Market Street, Philadelphia, PA 19104, (267) 284-5000\\n'},\n",
       " {'title': 'Hiring Tech Talent Around the Holidays',\n",
       "  'publish_date': 'Dec 16, 2022',\n",
       "  'content': '\\nAre you a hiring manager having trouble filling an IT position around the holidays? Codeup has a solution for hiring tech talent year round.\\nBoth job seekers and employers can run into obstacles when attempting to find and fill open roles around the holidays. When accounting for company closures, year end activities and vacations, hiring processes tend to slow.\\nCodeup\\nCodeup is the first accredited* tech bootcamp in Texas. Our program offerings include Full-Stack Web Development, Data Science and Cloud Administration. In 6 months or less, we produce quality tech talent well-equipped to enter the workforce.\\nHire our Grads\\nThere is a common misconception that coding bootcamp graduates are not trained well enough to perform at high standards. Codeup works daily to ensure the quality of education we are delivering is nothing shy of excellent to debunk this belief.\\nCodeup is currently the only accredited tech bootcamp in Texas. With accreditation comes a high caliber of educational expectations that we must deliver. Our graduates come with experience gained from hands-on intensive training from industry experts. Consider hiring our graduates because they are capable of meeting your needs.\\nBecome an Employer Partner\\nHiring a Codeup grad is free. There are no strings attached. Our promise to our students is to give them placement assistance to land their next position in-field.\\nOur placement team works to constantly build our network of employer partners. Employer partners are companies that hire for tech talent. These partners stay connected with Codeup year round to potentially hire students from multiple cohorts from either our San Antonio, TX or Dallas, TX campuses.\\nA few of our current employer partners include: H-E-B, USAA, Whole Foods Market, Oracle, Accenture and many more.\\nBecome an employer partner today to start hiring! Take a look at our Alumni Portal to view graduates looking for work and their resumes.\\nProspective Students\\nCodeup is a great place to launch your career in tech! We are the first and currently the only accredited tech bootcamp in Texas!\\nWe also offer a tuition refund guarantee which states that if a student does not find a job within 6 months of completing a Codeup program, we will issue a full refund on paid tuition.\\nIf you aren’t sure if a career in tech is right for you, consider attending our 100% free instructor-led workshops. These workshops are designed to give you a taste of what you’ll learn in our programs, as well as give you information on financial aid and admissions.\\nWe can also provide program-specific information to your inbox at any time! Get started now or give us a call at (210) 802-7289 and we’ll walk you through the process. We’d love to hear from you!\\n*Codeup is accredited for postsecondary, non-degree granting, career and technology programs by the Middle States Commission on Secondary Schools of the Middle States Association of Colleges and Schools, 3624 Market Street, Philadelphia, PA 19104, (267) 284-5000\\n'},\n",
       " {'title': 'Why Dallas is a Great Location for IT Professionals',\n",
       "  'publish_date': 'Dec 1, 2022',\n",
       "  'content': '\\nWhen breaking into a new career, it is important to explore the job opportunities that exist in your area. A common misconception with tech careers is that the prospect of success is only possible in big cities with a long reputation of successful tech companies. Today we will discuss how Dallas, TX is a major tech hub with enormous potential for success, as the home of the state’s biggest tech workforce.\\nDFW\\nThroughout the years, the tech community across the country has seen a drop in new jobs and tech company growth. The Dallas Fort Worth area has done remarkably well with maintaining its top status for new job postings even through the weak points the field has been facing.\\nAccording to CompTIA, Dallas has held onto their number three position for month-to-month new job postings following Washington D.C. and New York City. For the month of June in 2022, the DFW area had almost 28,000 new jobs listed.\\nTop DFW Tech Companies\\nThe following companies have a history of regularly hiring IT professionals in the DFW area.\\n\\nLockheed Martin\\nJPMorgan Chase\\nUSAA\\nCiti\\nDeloitte\\nVerizon\\nWells Fargo\\nIBM\\nNTT Data\\nInfoVision\\n\\nThese companies reflect a portion of the tech career opportunities in Dallas. Positions for all levels are also available in such a quickly evolving field.\\nHow to Start\\nCodeup is a great place to launch your career in tech! We area career accelerator that helps individuals quickly and seamlessly transition into a new career in tech.\\nOur Dallas location offers a Web Development bootcamp with a 20-week completion time.\\nCodeup is the first and currently the only accredited coding bootcamp in the state of Texas.* We have also been named the best trade/technical school in the DFW area by locals.\\nIf you aren’t sure if a career in tech is right for you, consider attending our 100% free instructor-led workshops. These workshops are designed to give you a taste of what you’ll learn in our programs, as well as give you information on financial aid and admissions.\\nWe can also provide program-specific information to your inbox at any time! Get started now or give us a call at (210) 802-7289 and we’ll walk you through the process.\\n*Codeup is accredited for postsecondary, non-degree granting, career and technology programs by the Middle States Commission on Secondary Schools of the Middle States Association of Colleges and Schools, 3624 Market Street, Philadelphia, PA 19104, (267) 284-5000\\n'},\n",
       " {'title': 'Codeup is ranked #1 Best in DFW 2022',\n",
       "  'publish_date': 'Nov 21, 2022',\n",
       "  'content': '\\nWe are excited to announce that Codeup ranked #1 for Best Trade/Technical School in DFW!\\nClick here to see the Best in DFW announcement in the Dallas Morning News.\\nDetails on our Dallas campus and upcoming classes can be found here. We continue to look forward to empowering life change.\\nCodeup Dallas Campus\\n900 Jackson St Dallas, TX 75202\\n'},\n",
       " {'title': 'Codeup’s Scholarship Offerings',\n",
       "  'publish_date': 'Nov 17, 2022',\n",
       "  'content': '\\nIn honor of November being National Scholarship Month, we’d like to highlight Codeup’s current internal scholarship offerings!\\nThese scholarships are open to anyone who fits the criteria. Codeup values a diverse workspace, and we encourage everyone, regardless of background to pursue the career they desire. We’ve crafted the following scholarships to assist in funding a career change with Codeup.\\n\\nWomen in Tech Scholarship\\nThis scholarship is available to all women. We define “women” as anyone who identifies themselves as a woman, including transgender, genderqueer and non-binary women.\\nAnnie Easley Scholarship\\nThis scholarship is available to students who identify as Black or African-American.\\nMinorities in Tech Scholarship\\nThis scholarship is open to anyone who identifies as part of a minority group.\\nPride Scholarship\\nThis scholarship is open to anyone who identifies as part of the LGBTQIA+ community.\\nVeteran Scholarship\\nThis scholarship is open to military veterans and military dependents.\\nFirst Responders Scholarship\\nThis scholarship is open to current and former first responders.\\nCovid-19 Relief Scholarship\\nThis scholarship is open to anyone affected by Covid-19.\\n\\nApplicants are welcome to apply for scholarships at any point, but they are only awarded after you’ve been accepted into one of Codeup’s programs. If you haven’t yet, please get started with your Codeup application by clicking here.\\n'}]"
      ]
     },
     "execution_count": 24,
     "metadata": {},
     "output_type": "execute_result"
    }
   ],
   "source": [
    "blog_info= []\n",
    "for i in blog_url_list:\n",
    "    output = basic_info(i)\n",
    "    blog_info.append(output)\n",
    "blog_info"
   ]
  },
  {
   "cell_type": "markdown",
   "id": "1569e80e",
   "metadata": {},
   "source": [
    "# 2. News Articles\n",
    "\n",
    "We will now be scraping text data from inshorts, a website that provides a brief overview of many different topics.\n",
    "\n",
    "Write a function that scrapes the news articles for the following topics:\n",
    "\n",
    "* Business\n",
    "* Sports\n",
    "* Technology\n",
    "* Entertainment\n",
    "\n",
    "The end product of this should be a function named get_news_articles that returns a list of dictionaries, where each dictionary has this shape:\n",
    "``` python\n",
    "\n",
    "{\n",
    "    'title': 'The article title',\n",
    "    'content': 'The article content',\n",
    "    'category': 'business' # for example\n",
    "}\n",
    "```\n",
    "Hints:\n",
    "\n",
    "a. Start by inspecting the website in your browser. Figure out which elements will be useful.\n",
    "\n",
    "b. Start by creating a function that handles a single article and produces a dictionary like the one above.\n",
    "\n",
    "c. Next create a function that will find all the articles on a single page and call the function you created in the last step for every article on the page.\n",
    "\n",
    "d. Now create a function that will use the previous two functions to scrape the articles from all the pages that you need, and do any additional processing that needs to be done."
   ]
  },
  {
   "cell_type": "code",
   "execution_count": 114,
   "id": "47ba98c8",
   "metadata": {},
   "outputs": [],
   "source": [
    "# set url\n",
    "url = 'https://inshorts.com/en/read/technology'\n"
   ]
  },
  {
   "cell_type": "code",
   "execution_count": 115,
   "id": "3d2dd1a6",
   "metadata": {},
   "outputs": [],
   "source": [
    "# get content\n",
    "response = requests.get(url)\n",
    "response = response.content"
   ]
  },
  {
   "cell_type": "code",
   "execution_count": 141,
   "id": "aefe258c",
   "metadata": {
    "scrolled": false
   },
   "outputs": [],
   "source": [
    "# to get html code, nicer looking\n",
    "soup = BeautifulSoup(response,'html.parser' )\n",
    "#soup"
   ]
  },
  {
   "cell_type": "code",
   "execution_count": 133,
   "id": "5851d50d",
   "metadata": {},
   "outputs": [],
   "source": [
    "div = soup.find_all('div', class_ = 'card stack')"
   ]
  },
  {
   "cell_type": "code",
   "execution_count": 162,
   "id": "017a6ffd",
   "metadata": {},
   "outputs": [],
   "source": [
    "span = soup.find_all('span')"
   ]
  },
  {
   "cell_type": "code",
   "execution_count": 164,
   "id": "9bc840ca",
   "metadata": {},
   "outputs": [],
   "source": [
    "itemprop = soup.find_all('itemprop')"
   ]
  },
  {
   "cell_type": "code",
   "execution_count": 165,
   "id": "e9654b13",
   "metadata": {},
   "outputs": [
    {
     "data": {
      "text/plain": [
       "[]"
      ]
     },
     "execution_count": 165,
     "metadata": {},
     "output_type": "execute_result"
    }
   ],
   "source": [
    "itemprop"
   ]
  },
  {
   "cell_type": "code",
   "execution_count": 157,
   "id": "f5ba5503",
   "metadata": {},
   "outputs": [
    {
     "data": {
      "text/plain": [
       "('Hiral Goyal', '07 Jan', None)"
      ]
     },
     "execution_count": 157,
     "metadata": {},
     "output_type": "execute_result"
    }
   ],
   "source": [
    "author = soup.find('span',class_='author').text\n",
    "date = soup.find('span',class_='date').text\n",
    "\n",
    "title = soup.find('span itemprop',class_='headline')\n",
    "author,date, title"
   ]
  },
  {
   "cell_type": "code",
   "execution_count": 132,
   "id": "1ade92b5",
   "metadata": {
    "scrolled": true
   },
   "outputs": [
    {
     "data": {
      "text/plain": [
       "'card stack'"
      ]
     },
     "execution_count": 132,
     "metadata": {},
     "output_type": "execute_result"
    }
   ],
   "source": [
    "article_thumb = div['class']=\"card stack\"\n",
    "article_thumb"
   ]
  },
  {
   "cell_type": "code",
   "execution_count": null,
   "id": "99bbf268",
   "metadata": {},
   "outputs": [],
   "source": [
    "articles = div.find_all('', class_='product_pod'"
   ]
  },
  {
   "cell_type": "markdown",
   "id": "6d82ec36",
   "metadata": {},
   "source": [
    "# 3. Bonus: cache the data\n",
    "\n",
    "Write your code such that the acquired data is saved locally in some form or fashion. Your functions that retrieve the data should prefer to read the local data instead of having to make all the requests everytime the function is called. Include a boolean flag in the functions to allow the data to be acquired \"fresh\" from the actual sources (re-writing your local cache)."
   ]
  },
  {
   "cell_type": "code",
   "execution_count": null,
   "id": "00c30e88",
   "metadata": {},
   "outputs": [],
   "source": []
  },
  {
   "cell_type": "markdown",
   "id": "8164e90c",
   "metadata": {},
   "source": [
    "# 4. Extra Practice: books"
   ]
  },
  {
   "cell_type": "code",
   "execution_count": 25,
   "id": "9e325d01",
   "metadata": {},
   "outputs": [],
   "source": [
    "# set url\n",
    "url ='http://books.toscrape.com'"
   ]
  },
  {
   "cell_type": "code",
   "execution_count": 36,
   "id": "d36855d9",
   "metadata": {},
   "outputs": [
    {
     "data": {
      "text/plain": [
       "<Response [200]>"
      ]
     },
     "execution_count": 36,
     "metadata": {},
     "output_type": "execute_result"
    }
   ],
   "source": [
    "# response of 200 means it was sucessful\n",
    "response = requests.get(url)\n",
    "response"
   ]
  },
  {
   "cell_type": "code",
   "execution_count": 37,
   "id": "3e4f82da",
   "metadata": {
    "scrolled": false
   },
   "outputs": [],
   "source": [
    "response_content = response.content"
   ]
  },
  {
   "cell_type": "code",
   "execution_count": 42,
   "id": "3b37c983",
   "metadata": {
    "scrolled": false
   },
   "outputs": [],
   "source": [
    "# remove hashtag below to see content\n",
    "#response_content"
   ]
  },
  {
   "cell_type": "code",
   "execution_count": 41,
   "id": "53ad957b",
   "metadata": {
    "scrolled": false
   },
   "outputs": [],
   "source": [
    "# to get html code, nicer looking\n",
    "soup = BeautifulSoup(response_content,'html.parser' )\n"
   ]
  },
  {
   "cell_type": "code",
   "execution_count": 108,
   "id": "2fb11fc4",
   "metadata": {},
   "outputs": [],
   "source": [
    "# remove hashtag below to see soup (html content)\n",
    "#soup"
   ]
  },
  {
   "cell_type": "code",
   "execution_count": 45,
   "id": "d1de57a0",
   "metadata": {},
   "outputs": [],
   "source": [
    "ol = soup.find('ol')"
   ]
  },
  {
   "cell_type": "code",
   "execution_count": 46,
   "id": "63132996",
   "metadata": {},
   "outputs": [],
   "source": [
    "articles = ol.find_all('article', class_='product_pod')"
   ]
  },
  {
   "cell_type": "code",
   "execution_count": 50,
   "id": "1f546d20",
   "metadata": {
    "scrolled": false
   },
   "outputs": [
    {
     "data": {
      "text/plain": [
       "<article class=\"product_pod\">\n",
       "<div class=\"image_container\">\n",
       "<a href=\"catalogue/a-light-in-the-attic_1000/index.html\"><img alt=\"A Light in the Attic\" class=\"thumbnail\" src=\"media/cache/2c/da/2cdad67c44b002e7ead0cc35693c0e8b.jpg\"/></a>\n",
       "</div>\n",
       "<p class=\"star-rating Three\">\n",
       "<i class=\"icon-star\"></i>\n",
       "<i class=\"icon-star\"></i>\n",
       "<i class=\"icon-star\"></i>\n",
       "<i class=\"icon-star\"></i>\n",
       "<i class=\"icon-star\"></i>\n",
       "</p>\n",
       "<h3><a href=\"catalogue/a-light-in-the-attic_1000/index.html\" title=\"A Light in the Attic\">A Light in the ...</a></h3>\n",
       "<div class=\"product_price\">\n",
       "<p class=\"price_color\">£51.77</p>\n",
       "<p class=\"instock availability\">\n",
       "<i class=\"icon-ok\"></i>\n",
       "    \n",
       "        In stock\n",
       "    \n",
       "</p>\n",
       "<form>\n",
       "<button class=\"btn btn-primary btn-block\" data-loading-text=\"Adding...\" type=\"submit\">Add to basket</button>\n",
       "</form>\n",
       "</div>\n",
       "</article>"
      ]
     },
     "execution_count": 50,
     "metadata": {},
     "output_type": "execute_result"
    }
   ],
   "source": [
    "# Remove hastab below to see list of articles\n",
    "articles[0]"
   ]
  },
  {
   "cell_type": "code",
   "execution_count": 49,
   "id": "00b31667",
   "metadata": {},
   "outputs": [
    {
     "name": "stdout",
     "output_type": "stream",
     "text": [
      "A Light in the Attic\n",
      "Tipping the Velvet\n",
      "Soumission\n",
      "Sharp Objects\n",
      "Sapiens: A Brief History of Humankind\n",
      "The Requiem Red\n",
      "The Dirty Little Secrets of Getting Your Dream Job\n",
      "The Coming Woman: A Novel Based on the Life of the Infamous Feminist, Victoria Woodhull\n",
      "The Boys in the Boat: Nine Americans and Their Epic Quest for Gold at the 1936 Berlin Olympics\n",
      "The Black Maria\n",
      "Starving Hearts (Triangular Trade Trilogy, #1)\n",
      "Shakespeare's Sonnets\n",
      "Set Me Free\n",
      "Scott Pilgrim's Precious Little Life (Scott Pilgrim #1)\n",
      "Rip it Up and Start Again\n",
      "Our Band Could Be Your Life: Scenes from the American Indie Underground, 1981-1991\n",
      "Olio\n",
      "Mesaerion: The Best Science Fiction Stories 1800-1849\n",
      "Libertarianism for Beginners\n",
      "It's Only the Himalayas\n"
     ]
    }
   ],
   "source": [
    "# to find the title of the articles\n",
    "for article in articles:\n",
    "    image = article.find('img')\n",
    "    title = image.attrs['alt']\n",
    "    print(title)"
   ]
  },
  {
   "cell_type": "code",
   "execution_count": 61,
   "id": "aeeb3f6c",
   "metadata": {},
   "outputs": [
    {
     "name": "stdout",
     "output_type": "stream",
     "text": [
      "Three\n",
      "One\n",
      "One\n",
      "Four\n",
      "Five\n",
      "One\n",
      "Four\n",
      "Three\n",
      "Four\n",
      "One\n",
      "Two\n",
      "Four\n",
      "Five\n",
      "Five\n",
      "Five\n",
      "Three\n",
      "One\n",
      "One\n",
      "Two\n",
      "Two\n"
     ]
    }
   ],
   "source": [
    "# to find the star of the articles\n",
    "for article in articles:\n",
    "    star = article.find('p')\n",
    "    rating = star['class'][1]\n",
    "    print(rating)"
   ]
  },
  {
   "cell_type": "code",
   "execution_count": 72,
   "id": "24bbfa2c",
   "metadata": {},
   "outputs": [
    {
     "name": "stdout",
     "output_type": "stream",
     "text": [
      "51.77\n",
      "53.74\n",
      "50.1\n",
      "47.82\n",
      "54.23\n",
      "22.65\n",
      "33.34\n",
      "17.93\n",
      "22.6\n",
      "52.15\n",
      "13.99\n",
      "20.66\n",
      "17.46\n",
      "52.29\n",
      "35.02\n",
      "57.25\n",
      "23.88\n",
      "37.59\n",
      "51.33\n",
      "45.17\n"
     ]
    }
   ],
   "source": [
    "# to find the price of the articles\n",
    "for article in articles:\n",
    "    price = article.find('p', class_=\"price_color\").text\n",
    "    # to convert text to float without money symbol\n",
    "    price = float(price[1:])\n",
    "    print(price)"
   ]
  },
  {
   "cell_type": "code",
   "execution_count": 95,
   "id": "ff4dbc9b",
   "metadata": {},
   "outputs": [
    {
     "data": {
      "text/html": [
       "<div>\n",
       "<style scoped>\n",
       "    .dataframe tbody tr th:only-of-type {\n",
       "        vertical-align: middle;\n",
       "    }\n",
       "\n",
       "    .dataframe tbody tr th {\n",
       "        vertical-align: top;\n",
       "    }\n",
       "\n",
       "    .dataframe thead th {\n",
       "        text-align: right;\n",
       "    }\n",
       "</style>\n",
       "<table border=\"1\" class=\"dataframe\">\n",
       "  <thead>\n",
       "    <tr style=\"text-align: right;\">\n",
       "      <th></th>\n",
       "      <th>title</th>\n",
       "      <th>price</th>\n",
       "      <th>stars</th>\n",
       "    </tr>\n",
       "  </thead>\n",
       "  <tbody>\n",
       "    <tr>\n",
       "      <th>0</th>\n",
       "      <td>A Light in the Attic</td>\n",
       "      <td>51.77</td>\n",
       "      <td>Three</td>\n",
       "    </tr>\n",
       "    <tr>\n",
       "      <th>1</th>\n",
       "      <td>Tipping the Velvet</td>\n",
       "      <td>53.74</td>\n",
       "      <td>One</td>\n",
       "    </tr>\n",
       "    <tr>\n",
       "      <th>2</th>\n",
       "      <td>Soumission</td>\n",
       "      <td>50.10</td>\n",
       "      <td>One</td>\n",
       "    </tr>\n",
       "    <tr>\n",
       "      <th>3</th>\n",
       "      <td>Sharp Objects</td>\n",
       "      <td>47.82</td>\n",
       "      <td>Four</td>\n",
       "    </tr>\n",
       "    <tr>\n",
       "      <th>4</th>\n",
       "      <td>Sapiens: A Brief History of Humankind</td>\n",
       "      <td>54.23</td>\n",
       "      <td>Five</td>\n",
       "    </tr>\n",
       "    <tr>\n",
       "      <th>5</th>\n",
       "      <td>The Requiem Red</td>\n",
       "      <td>22.65</td>\n",
       "      <td>One</td>\n",
       "    </tr>\n",
       "    <tr>\n",
       "      <th>6</th>\n",
       "      <td>The Dirty Little Secrets of Getting Your Dream...</td>\n",
       "      <td>33.34</td>\n",
       "      <td>Four</td>\n",
       "    </tr>\n",
       "    <tr>\n",
       "      <th>7</th>\n",
       "      <td>The Coming Woman: A Novel Based on the Life of...</td>\n",
       "      <td>17.93</td>\n",
       "      <td>Three</td>\n",
       "    </tr>\n",
       "    <tr>\n",
       "      <th>8</th>\n",
       "      <td>The Boys in the Boat: Nine Americans and Their...</td>\n",
       "      <td>22.60</td>\n",
       "      <td>Four</td>\n",
       "    </tr>\n",
       "    <tr>\n",
       "      <th>9</th>\n",
       "      <td>The Black Maria</td>\n",
       "      <td>52.15</td>\n",
       "      <td>One</td>\n",
       "    </tr>\n",
       "    <tr>\n",
       "      <th>10</th>\n",
       "      <td>Starving Hearts (Triangular Trade Trilogy, #1)</td>\n",
       "      <td>13.99</td>\n",
       "      <td>Two</td>\n",
       "    </tr>\n",
       "    <tr>\n",
       "      <th>11</th>\n",
       "      <td>Shakespeare's Sonnets</td>\n",
       "      <td>20.66</td>\n",
       "      <td>Four</td>\n",
       "    </tr>\n",
       "    <tr>\n",
       "      <th>12</th>\n",
       "      <td>Set Me Free</td>\n",
       "      <td>17.46</td>\n",
       "      <td>Five</td>\n",
       "    </tr>\n",
       "    <tr>\n",
       "      <th>13</th>\n",
       "      <td>Scott Pilgrim's Precious Little Life (Scott Pi...</td>\n",
       "      <td>52.29</td>\n",
       "      <td>Five</td>\n",
       "    </tr>\n",
       "    <tr>\n",
       "      <th>14</th>\n",
       "      <td>Rip it Up and Start Again</td>\n",
       "      <td>35.02</td>\n",
       "      <td>Five</td>\n",
       "    </tr>\n",
       "    <tr>\n",
       "      <th>15</th>\n",
       "      <td>Our Band Could Be Your Life: Scenes from the A...</td>\n",
       "      <td>57.25</td>\n",
       "      <td>Three</td>\n",
       "    </tr>\n",
       "    <tr>\n",
       "      <th>16</th>\n",
       "      <td>Olio</td>\n",
       "      <td>23.88</td>\n",
       "      <td>One</td>\n",
       "    </tr>\n",
       "    <tr>\n",
       "      <th>17</th>\n",
       "      <td>Mesaerion: The Best Science Fiction Stories 18...</td>\n",
       "      <td>37.59</td>\n",
       "      <td>One</td>\n",
       "    </tr>\n",
       "    <tr>\n",
       "      <th>18</th>\n",
       "      <td>Libertarianism for Beginners</td>\n",
       "      <td>51.33</td>\n",
       "      <td>Two</td>\n",
       "    </tr>\n",
       "    <tr>\n",
       "      <th>19</th>\n",
       "      <td>It's Only the Himalayas</td>\n",
       "      <td>45.17</td>\n",
       "      <td>Two</td>\n",
       "    </tr>\n",
       "  </tbody>\n",
       "</table>\n",
       "</div>"
      ],
      "text/plain": [
       "                                                title  price  stars\n",
       "0                                A Light in the Attic  51.77  Three\n",
       "1                                  Tipping the Velvet  53.74    One\n",
       "2                                          Soumission  50.10    One\n",
       "3                                       Sharp Objects  47.82   Four\n",
       "4               Sapiens: A Brief History of Humankind  54.23   Five\n",
       "5                                     The Requiem Red  22.65    One\n",
       "6   The Dirty Little Secrets of Getting Your Dream...  33.34   Four\n",
       "7   The Coming Woman: A Novel Based on the Life of...  17.93  Three\n",
       "8   The Boys in the Boat: Nine Americans and Their...  22.60   Four\n",
       "9                                     The Black Maria  52.15    One\n",
       "10     Starving Hearts (Triangular Trade Trilogy, #1)  13.99    Two\n",
       "11                              Shakespeare's Sonnets  20.66   Four\n",
       "12                                        Set Me Free  17.46   Five\n",
       "13  Scott Pilgrim's Precious Little Life (Scott Pi...  52.29   Five\n",
       "14                          Rip it Up and Start Again  35.02   Five\n",
       "15  Our Band Could Be Your Life: Scenes from the A...  57.25  Three\n",
       "16                                               Olio  23.88    One\n",
       "17  Mesaerion: The Best Science Fiction Stories 18...  37.59    One\n",
       "18                       Libertarianism for Beginners  51.33    Two\n",
       "19                            It's Only the Himalayas  45.17    Two"
      ]
     },
     "execution_count": 95,
     "metadata": {},
     "output_type": "execute_result"
    }
   ],
   "source": [
    "# get information of one page in book website\n",
    "books =[]\n",
    "for article in articles:\n",
    "    image = article.find('img')\n",
    "    title = image.attrs['alt']\n",
    "    star = article.find('p')\n",
    "    rating = star['class'][1]\n",
    "    price = article.find('p', class_=\"price_color\").text\n",
    "    # to convert text to float without money symbol\n",
    "    price = float(price[1:])\n",
    "    books.append([title,price,rating])\n",
    "books_df = pd.DataFrame(books, columns = ['title','price','stars'])\n",
    "books_df"
   ]
  },
  {
   "cell_type": "code",
   "execution_count": 98,
   "id": "e2b6a12e",
   "metadata": {},
   "outputs": [
    {
     "data": {
      "text/html": [
       "<div>\n",
       "<style scoped>\n",
       "    .dataframe tbody tr th:only-of-type {\n",
       "        vertical-align: middle;\n",
       "    }\n",
       "\n",
       "    .dataframe tbody tr th {\n",
       "        vertical-align: top;\n",
       "    }\n",
       "\n",
       "    .dataframe thead th {\n",
       "        text-align: right;\n",
       "    }\n",
       "</style>\n",
       "<table border=\"1\" class=\"dataframe\">\n",
       "  <thead>\n",
       "    <tr style=\"text-align: right;\">\n",
       "      <th></th>\n",
       "      <th>title</th>\n",
       "      <th>price</th>\n",
       "      <th>stars</th>\n",
       "    </tr>\n",
       "  </thead>\n",
       "  <tbody>\n",
       "    <tr>\n",
       "      <th>0</th>\n",
       "      <td>A Light in the Attic</td>\n",
       "      <td>51.77</td>\n",
       "      <td>Three</td>\n",
       "    </tr>\n",
       "    <tr>\n",
       "      <th>1</th>\n",
       "      <td>Tipping the Velvet</td>\n",
       "      <td>53.74</td>\n",
       "      <td>One</td>\n",
       "    </tr>\n",
       "    <tr>\n",
       "      <th>2</th>\n",
       "      <td>Soumission</td>\n",
       "      <td>50.10</td>\n",
       "      <td>One</td>\n",
       "    </tr>\n",
       "    <tr>\n",
       "      <th>3</th>\n",
       "      <td>Sharp Objects</td>\n",
       "      <td>47.82</td>\n",
       "      <td>Four</td>\n",
       "    </tr>\n",
       "    <tr>\n",
       "      <th>4</th>\n",
       "      <td>Sapiens: A Brief History of Humankind</td>\n",
       "      <td>54.23</td>\n",
       "      <td>Five</td>\n",
       "    </tr>\n",
       "    <tr>\n",
       "      <th>...</th>\n",
       "      <td>...</td>\n",
       "      <td>...</td>\n",
       "      <td>...</td>\n",
       "    </tr>\n",
       "    <tr>\n",
       "      <th>995</th>\n",
       "      <td>Our Band Could Be Your Life: Scenes from the A...</td>\n",
       "      <td>57.25</td>\n",
       "      <td>Three</td>\n",
       "    </tr>\n",
       "    <tr>\n",
       "      <th>996</th>\n",
       "      <td>Olio</td>\n",
       "      <td>23.88</td>\n",
       "      <td>One</td>\n",
       "    </tr>\n",
       "    <tr>\n",
       "      <th>997</th>\n",
       "      <td>Mesaerion: The Best Science Fiction Stories 18...</td>\n",
       "      <td>37.59</td>\n",
       "      <td>One</td>\n",
       "    </tr>\n",
       "    <tr>\n",
       "      <th>998</th>\n",
       "      <td>Libertarianism for Beginners</td>\n",
       "      <td>51.33</td>\n",
       "      <td>Two</td>\n",
       "    </tr>\n",
       "    <tr>\n",
       "      <th>999</th>\n",
       "      <td>It's Only the Himalayas</td>\n",
       "      <td>45.17</td>\n",
       "      <td>Two</td>\n",
       "    </tr>\n",
       "  </tbody>\n",
       "</table>\n",
       "<p>1000 rows × 3 columns</p>\n",
       "</div>"
      ],
      "text/plain": [
       "                                                 title  price  stars\n",
       "0                                 A Light in the Attic  51.77  Three\n",
       "1                                   Tipping the Velvet  53.74    One\n",
       "2                                           Soumission  50.10    One\n",
       "3                                        Sharp Objects  47.82   Four\n",
       "4                Sapiens: A Brief History of Humankind  54.23   Five\n",
       "..                                                 ...    ...    ...\n",
       "995  Our Band Could Be Your Life: Scenes from the A...  57.25  Three\n",
       "996                                               Olio  23.88    One\n",
       "997  Mesaerion: The Best Science Fiction Stories 18...  37.59    One\n",
       "998                       Libertarianism for Beginners  51.33    Two\n",
       "999                            It's Only the Himalayas  45.17    Two\n",
       "\n",
       "[1000 rows x 3 columns]"
      ]
     },
     "execution_count": 98,
     "metadata": {},
     "output_type": "execute_result"
    }
   ],
   "source": [
    "# get book information of all the pages in website\n",
    "books=[]\n",
    "for i in range(1,51):\n",
    "    \n",
    "    url = f\"http://books.toscrape.com/catalogue/page-{i}.html\"\n",
    "    response = requests.get(url)\n",
    "    response = response.content\n",
    "    soup = BeautifulSoup(response,'html.parser')\n",
    "    ol = soup.find('ol')\n",
    "    artticles = ol.find_all('article', class_ = 'product_pod')\n",
    "\n",
    "\n",
    "\n",
    "    for article in articles:\n",
    "        image = article.find('img')\n",
    "        title = image.attrs['alt']\n",
    "        star = article.find('p')\n",
    "        rating = star['class'][1]\n",
    "        price = article.find('p', class_=\"price_color\").text\n",
    "        # to convert text to float without money symbol\n",
    "        price = float(price[1:])\n",
    "        books.append([title,price,rating])\n",
    "books_df = pd.DataFrame(books, columns = ['title','price','stars'])\n",
    "books_df"
   ]
  },
  {
   "cell_type": "code",
   "execution_count": null,
   "id": "8a105872",
   "metadata": {},
   "outputs": [],
   "source": []
  },
  {
   "cell_type": "code",
   "execution_count": null,
   "id": "4f959198",
   "metadata": {},
   "outputs": [],
   "source": []
  },
  {
   "cell_type": "code",
   "execution_count": null,
   "id": "ee20721d",
   "metadata": {},
   "outputs": [],
   "source": []
  },
  {
   "cell_type": "code",
   "execution_count": null,
   "id": "5819b7c9",
   "metadata": {},
   "outputs": [],
   "source": []
  },
  {
   "cell_type": "code",
   "execution_count": null,
   "id": "c626f5db",
   "metadata": {},
   "outputs": [],
   "source": []
  },
  {
   "cell_type": "code",
   "execution_count": null,
   "id": "76389915",
   "metadata": {},
   "outputs": [],
   "source": []
  }
 ],
 "metadata": {
  "kernelspec": {
   "display_name": "Python 3 (ipykernel)",
   "language": "python",
   "name": "python3"
  },
  "language_info": {
   "codemirror_mode": {
    "name": "ipython",
    "version": 3
   },
   "file_extension": ".py",
   "mimetype": "text/x-python",
   "name": "python",
   "nbconvert_exporter": "python",
   "pygments_lexer": "ipython3",
   "version": "3.9.12"
  }
 },
 "nbformat": 4,
 "nbformat_minor": 5
}
