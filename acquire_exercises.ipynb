{
 "cells": [
  {
   "cell_type": "markdown",
   "id": "afefa6db",
   "metadata": {},
   "source": [
    "# Acquire Exercises"
   ]
  },
  {
   "cell_type": "code",
   "execution_count": 4,
   "id": "cbe80654",
   "metadata": {},
   "outputs": [],
   "source": [
    "from bs4 import BeautifulSoup\n",
    "import re\n",
    "import pandas as pd\n",
    "\n",
    "import requests"
   ]
  },
  {
   "cell_type": "markdown",
   "id": "26daf43a",
   "metadata": {},
   "source": [
    "# 1. Codeup Blog Articles\n",
    "\n",
    "Visit Codeup's Blog and record the urls for at least 5 distinct blog posts. For each post, you should scrape at least the post's title and content.\n",
    "\n",
    "Encapsulate your work in a function named get_blog_articles that will return a list of dictionaries, with each dictionary representing one article. The shape of each dictionary should look like this:\n",
    "\n",
    "```python\n",
    "{\n",
    "    'title': 'the title of the article',\n",
    "    'content': 'the full text content of the article'\n",
    "}\n",
    "```\n",
    "Plus any additional properties you think might be helpful.\n",
    "\n",
    "Bonus: Scrape the text of all the articles linked on codeup's blog page."
   ]
  },
  {
   "cell_type": "code",
   "execution_count": null,
   "id": "57582662",
   "metadata": {},
   "outputs": [],
   "source": [
    "# url\n",
    "url='https://codeup.com/blog/'"
   ]
  },
  {
   "cell_type": "code",
   "execution_count": null,
   "id": "367cbf57",
   "metadata": {},
   "outputs": [],
   "source": [
    "# create soup\n",
    "soup = BeautifulSoup(requests.get(url).content, 'html.parser')"
   ]
  },
  {
   "cell_type": "code",
   "execution_count": null,
   "id": "eacd46c6",
   "metadata": {},
   "outputs": [],
   "source": [
    "# see soup\n",
    "soup"
   ]
  },
  {
   "cell_type": "code",
   "execution_count": null,
   "id": "e519641b",
   "metadata": {},
   "outputs": [],
   "source": [
    "# request text\n",
    "html_text =requests.get(url).text"
   ]
  },
  {
   "cell_type": "code",
   "execution_count": null,
   "id": "4b628849",
   "metadata": {},
   "outputs": [],
   "source": [
    "print(html_text)"
   ]
  },
  {
   "cell_type": "markdown",
   "id": "e3821bcd",
   "metadata": {},
   "source": [
    "I got code 403; trying to figure a way to acess the information.\n",
    "\n",
    "New attempt follows:"
   ]
  },
  {
   "cell_type": "code",
   "execution_count": null,
   "id": "bbe8faae",
   "metadata": {},
   "outputs": [],
   "source": [
    "#Define headers\n",
    "headers = {'User-Agent': 'Codeup Data Science'}"
   ]
  },
  {
   "cell_type": "code",
   "execution_count": null,
   "id": "25a15724",
   "metadata": {},
   "outputs": [],
   "source": [
    "#Make a request\n",
    "response = requests.get('https://codeup.com/data-science/become-a-data-scientist/', headers=headers)"
   ]
  },
  {
   "cell_type": "code",
   "execution_count": null,
   "id": "c41f992c",
   "metadata": {},
   "outputs": [],
   "source": [
    "#Create the soup and investigate\n",
    "soup = BeautifulSoup(response.content, 'html.parser')\n"
   ]
  },
  {
   "cell_type": "markdown",
   "id": "03f5494d",
   "metadata": {},
   "source": [
    "soup"
   ]
  },
  {
   "cell_type": "code",
   "execution_count": null,
   "id": "e0a15938",
   "metadata": {},
   "outputs": [],
   "source": [
    "title= soup.find('h1')\n",
    "title.text"
   ]
  },
  {
   "cell_type": "code",
   "execution_count": null,
   "id": "e06a857e",
   "metadata": {},
   "outputs": [],
   "source": [
    "#Access the date published\n",
    "publish_date = soup.find('span', class_='published')\n",
    "publish_date.text"
   ]
  },
  {
   "cell_type": "code",
   "execution_count": null,
   "id": "f30fbb27",
   "metadata": {
    "scrolled": false
   },
   "outputs": [],
   "source": [
    "#Access the article content\n",
    "content = soup.find('div', class_='entry-content')\n",
    "content.text"
   ]
  },
  {
   "cell_type": "code",
   "execution_count": null,
   "id": "3f64ce40",
   "metadata": {},
   "outputs": [],
   "source": [
    "article_links = soup.find_all('a', 'href')\n",
    "article_links"
   ]
  },
  {
   "cell_type": "code",
   "execution_count": null,
   "id": "e98f309c",
   "metadata": {},
   "outputs": [],
   "source": [
    "# Get the \"a\" tag\n",
    "element = soup.find('a')\n",
    "# Get the attribute value\n",
    "data = element.get('href')\n",
    "data"
   ]
  },
  {
   "cell_type": "code",
   "execution_count": null,
   "id": "20d1f51a",
   "metadata": {
    "scrolled": false
   },
   "outputs": [],
   "source": [
    "# Get the \"a\" tag\n",
    "element = soup.find_all('a')\n",
    "# Get the attribute value\n",
    "element\n"
   ]
  },
  {
   "cell_type": "code",
   "execution_count": null,
   "id": "4c9fa1f3",
   "metadata": {},
   "outputs": [],
   "source": [
    "blog_url_list= ['https://codeup.com/data-science/become-a-data-scientist/',\n",
    "                'https://codeup.com/employers/hiring-tech-talent/',\n",
    "               'https://codeup.com/cloud-administration/cap-funding-options/'\n",
    "               'https://codeup.com/dallas-info/it-professionals-dallas/',\n",
    "               'https://codeup.com/codeup-news/codeup-voted-1-technical-school-in-dfw/',\n",
    "               'https://codeup.com/tips-for-prospective-students/financing/codeups-scholarships/']"
   ]
  },
  {
   "cell_type": "code",
   "execution_count": null,
   "id": "1f92db4c",
   "metadata": {},
   "outputs": [],
   "source": [
    "def basic_info(url):\n",
    "    blog_info={\"title\",\"publish_date\",\"content\"}\n",
    "    headers = {'User-Agent': 'Codeup Data Science'}\n",
    "    response = requests.get(url, headers=headers)\n",
    "    \n",
    "    #find the title\n",
    "    soup = BeautifulSoup(response.content, 'html.parser')\n",
    "    title = soup.find('h1')\n",
    "    \n",
    "    \n",
    "    #Access the date published\n",
    "    publish_date = soup.find('span', class_='published')\n",
    " \n",
    "    \n",
    "    #Access the article content\n",
    "    content = soup.find('div', class_='entry-content')\n",
    "\n",
    "    output = {\n",
    "        'title': title.text,\n",
    "        'publish_date': publish_date.text,\n",
    "        'content': content.text\n",
    "     }\n",
    "    return output"
   ]
  },
  {
   "cell_type": "code",
   "execution_count": null,
   "id": "d845219d",
   "metadata": {
    "scrolled": true
   },
   "outputs": [],
   "source": [
    "blog_info= []\n",
    "for i in blog_url_list:\n",
    "    output = basic_info(i)\n",
    "    blog_info.append(output)\n",
    "blog_info"
   ]
  },
  {
   "cell_type": "markdown",
   "id": "ecb7b118",
   "metadata": {},
   "source": [
    "### alternative method"
   ]
  },
  {
   "cell_type": "code",
   "execution_count": null,
   "id": "3ed05e74",
   "metadata": {},
   "outputs": [],
   "source": [
    "url = 'https://codeup.com/blog/'\n",
    "headers = {'User-Agent': 'Codeup Data Science'}\n",
    "response = requests.get(url, headers=headers)\n",
    "\n",
    "# establish our basic soup with the base url\n",
    "soup = BeautifulSoup(response.content, 'html.parser')\n",
    "\n",
    "# create soup)\n",
    "soup.select('.more-link') #soup.find_all('a', class_='more-link')\n",
    "\n",
    "links = [link['href'] for link in soup.select('.more-link')]\n",
    "\n"
   ]
  },
  {
   "cell_type": "code",
   "execution_count": 38,
   "id": "b39e95d7",
   "metadata": {},
   "outputs": [],
   "source": [
    "url = 'https://codeup.com/blog/'\n",
    "headers = {'User-Agent': 'Codeup Data Science'}\n",
    "response = requests.get(url, headers=headers)\n"
   ]
  },
  {
   "cell_type": "code",
   "execution_count": 39,
   "id": "76299973",
   "metadata": {},
   "outputs": [],
   "source": [
    "# establish our basic soup with the base url\n",
    "soup = BeautifulSoup(response.content, 'html.parser')"
   ]
  },
  {
   "cell_type": "code",
   "execution_count": 40,
   "id": "11a65041",
   "metadata": {},
   "outputs": [
    {
     "data": {
      "text/plain": [
       "[<a class=\"more-link\" href=\"https://codeup.com/data-science/become-a-data-scientist/\">read more</a>,\n",
       " <a class=\"more-link\" href=\"https://codeup.com/employers/hiring-tech-talent/\">read more</a>,\n",
       " <a class=\"more-link\" href=\"https://codeup.com/cloud-administration/cap-funding-options/\">read more</a>,\n",
       " <a class=\"more-link\" href=\"https://codeup.com/dallas-info/it-professionals-dallas/\">read more</a>,\n",
       " <a class=\"more-link\" href=\"https://codeup.com/codeup-news/codeup-voted-1-technical-school-in-dfw/\">read more</a>,\n",
       " <a class=\"more-link\" href=\"https://codeup.com/tips-for-prospective-students/financing/codeups-scholarships/\">read more</a>]"
      ]
     },
     "execution_count": 40,
     "metadata": {},
     "output_type": "execute_result"
    }
   ],
   "source": [
    "# create soup)\n",
    "soup.select('.more-link') #soup.find_all('a', class_='more-link')"
   ]
  },
  {
   "cell_type": "code",
   "execution_count": 42,
   "id": "e1a875f5",
   "metadata": {
    "scrolled": true
   },
   "outputs": [
    {
     "data": {
      "text/plain": [
       "<a class=\"more-link\" href=\"https://codeup.com/data-science/become-a-data-scientist/\">read more</a>"
      ]
     },
     "execution_count": 42,
     "metadata": {},
     "output_type": "execute_result"
    }
   ],
   "source": [
    "soup.select('.more-link')[0]\n"
   ]
  },
  {
   "cell_type": "code",
   "execution_count": 44,
   "id": "944aca7d",
   "metadata": {
    "scrolled": true
   },
   "outputs": [
    {
     "data": {
      "text/plain": [
       "'https://codeup.com/data-science/become-a-data-scientist/'"
      ]
     },
     "execution_count": 44,
     "metadata": {},
     "output_type": "execute_result"
    }
   ],
   "source": [
    "soup.select('.more-link')[0]['href']"
   ]
  },
  {
   "cell_type": "code",
   "execution_count": 45,
   "id": "f9e00598",
   "metadata": {},
   "outputs": [
    {
     "data": {
      "text/plain": [
       "['https://codeup.com/data-science/become-a-data-scientist/',\n",
       " 'https://codeup.com/employers/hiring-tech-talent/',\n",
       " 'https://codeup.com/cloud-administration/cap-funding-options/',\n",
       " 'https://codeup.com/dallas-info/it-professionals-dallas/',\n",
       " 'https://codeup.com/codeup-news/codeup-voted-1-technical-school-in-dfw/',\n",
       " 'https://codeup.com/tips-for-prospective-students/financing/codeups-scholarships/']"
      ]
     },
     "execution_count": 45,
     "metadata": {},
     "output_type": "execute_result"
    }
   ],
   "source": [
    "links = [link['href'] for link in soup.select('.more-link')]\n",
    "links"
   ]
  },
  {
   "cell_type": "markdown",
   "id": "debc218d",
   "metadata": {},
   "source": [
    "process for one link"
   ]
  },
  {
   "cell_type": "code",
   "execution_count": 47,
   "id": "13972608",
   "metadata": {},
   "outputs": [],
   "source": [
    "url = links[0]\n",
    "response = requests.get(url, headers = headers)\n",
    "soup = BeautifulSoup(response.content)"
   ]
  },
  {
   "cell_type": "code",
   "execution_count": 48,
   "id": "bda51f44",
   "metadata": {},
   "outputs": [
    {
     "data": {
      "text/plain": [
       "'Become a Data Scientist in 6 Months!'"
      ]
     },
     "execution_count": 48,
     "metadata": {},
     "output_type": "execute_result"
    }
   ],
   "source": [
    "soup.find('h1', class_ ='entry-title').text"
   ]
  },
  {
   "cell_type": "code",
   "execution_count": 49,
   "id": "1ed575a6",
   "metadata": {},
   "outputs": [
    {
     "data": {
      "text/plain": [
       "'Are you feeling unfulfilled in your work but want to avoid returning to the traditional educational route? Codeup can help! Starting over as a professional is daunting and not always ideal. Codeup can help you go from a career you are bored with, to a job that excites you in just 6 months!\\nHere’s how…\\nData Science Program\\nDuring our 20-week program, you will have the opportunity to take your career to new heights with data science being one of the most needed jobs in tech.\\nYou’ll gather data, then clean it, explore it for trends, and apply machine learning models to make predictions.\\nUpon completing this program, you will know how to turn insights into actionable recommendations. You’ll be a huge asset to any company, having all the technical skills to become a data scientist with projects upon projects of experience under your belt.\\nCodeup\\nA common reason individuals opt not to change their careers is fear it is too late. Codeup has crafted a program that will guide you through your career transition and prove that you can jumpstart a new job at any age and experience level.\\nWhen you decide to attend Codeup, you get a support system. First, our admissions team will guide you through getting started as well as assist with getting your financial aid squared away.\\nOnce your program begins, you will have industry experts as your instructors who will help you reach your full potential and complete the program successfully.\\nNext, you will have a student experience team ready to assist you with navigating through the program and any of life’s obstacles that may arise.\\nFinally, you have a placement team to help you secure the job you’ll work so hard to land!\\n\\nIf you do not land a job within six months of completing a Codeup program, we will refund 100% of your paid tuition.\\nIf you aren’t sure if a career in data science is right for you, consider attending our 100% free instructor-led workshops. These workshops are designed to give you a taste of what you’ll learn in our programs, as well as give you information on financial aid and admissions.\\nWe can also provide program-specific information to your inbox at any time! Get started now or give us a call at (210) 802-7289 and we’ll walk you through the process.\\nJumpstart your tech career with the first and only accredited bootcamp in Texas!*\\n*Codeup is accredited for postsecondary, non-degree granting, career and technology programs by the Middle States Commission on Secondary Schools of the Middle States Association of Colleges and Schools, 3624 Market Street, Philadelphia, PA 19104, (267) 284-5000'"
      ]
     },
     "execution_count": 49,
     "metadata": {},
     "output_type": "execute_result"
    }
   ],
   "source": [
    "soup.find('div',class_ = 'entry-content').text.strip()"
   ]
  },
  {
   "cell_type": "markdown",
   "id": "2146281e",
   "metadata": {},
   "source": [
    "put it together"
   ]
  },
  {
   "cell_type": "code",
   "execution_count": 53,
   "id": "04dd37e4",
   "metadata": {},
   "outputs": [],
   "source": [
    "\n",
    "\n",
    "url = 'https://codeup.com/blog/'\n",
    "headers = {'User-Agent': 'Codeup Data Science'}\n",
    "response = requests.get(url, headers=headers)\n",
    "\n",
    "soup = BeautifulSoup(response.content, 'html.parser')\n",
    "\n",
    "links = [link['href'] for link in soup.select('.more-link')]\n",
    "\n",
    "articles = []\n",
    "\n",
    "for url in links:\n",
    "    \n",
    "    url_response = requests.get(url, headers=headers)\n",
    "    soup = BeautifulSoup(url_response.text)\n",
    "    \n",
    "    title = soup.find('h1', class_='entry-title').text\n",
    "    content = soup.find('div', class_='entry-content').text.strip()\n",
    "    \n",
    "    article_dict = {\n",
    "        'title': title,\n",
    "        'content': content\n",
    "    }\n",
    "    \n",
    "    articles.append(article_dict)\n"
   ]
  },
  {
   "cell_type": "code",
   "execution_count": 54,
   "id": "a6a59be6",
   "metadata": {
    "scrolled": true
   },
   "outputs": [
    {
     "data": {
      "text/plain": [
       "[{'title': 'Become a Data Scientist in 6 Months!',\n",
       "  'content': 'Are you feeling unfulfilled in your work but want to avoid returning to the traditional educational route? Codeup can help! Starting over as a professional is daunting and not always ideal. Codeup can help you go from a career you are bored with, to a job that excites you in just 6 months!\\nHere’s how…\\nData Science Program\\nDuring our 20-week program, you will have the opportunity to take your career to new heights with data science being one of the most needed jobs in tech.\\nYou’ll gather data, then clean it, explore it for trends, and apply machine learning models to make predictions.\\nUpon completing this program, you will know how to turn insights into actionable recommendations. You’ll be a huge asset to any company, having all the technical skills to become a data scientist with projects upon projects of experience under your belt.\\nCodeup\\nA common reason individuals opt not to change their careers is fear it is too late. Codeup has crafted a program that will guide you through your career transition and prove that you can jumpstart a new job at any age and experience level.\\nWhen you decide to attend Codeup, you get a support system. First, our admissions team will guide you through getting started as well as assist with getting your financial aid squared away.\\nOnce your program begins, you will have industry experts as your instructors who will help you reach your full potential and complete the program successfully.\\nNext, you will have a student experience team ready to assist you with navigating through the program and any of life’s obstacles that may arise.\\nFinally, you have a placement team to help you secure the job you’ll work so hard to land!\\n\\nIf you do not land a job within six months of completing a Codeup program, we will refund 100% of your paid tuition.\\nIf you aren’t sure if a career in data science is right for you, consider attending our 100% free instructor-led workshops. These workshops are designed to give you a taste of what you’ll learn in our programs, as well as give you information on financial aid and admissions.\\nWe can also provide program-specific information to your inbox at any time! Get started now or give us a call at (210) 802-7289 and we’ll walk you through the process.\\nJumpstart your tech career with the first and only accredited bootcamp in Texas!*\\n*Codeup is accredited for postsecondary, non-degree granting, career and technology programs by the Middle States Commission on Secondary Schools of the Middle States Association of Colleges and Schools, 3624 Market Street, Philadelphia, PA 19104, (267) 284-5000'},\n",
       " {'title': 'Hiring Tech Talent Around the Holidays',\n",
       "  'content': 'Are you a hiring manager having trouble filling an IT position around the holidays? Codeup has a solution for hiring tech talent year round.\\nBoth job seekers and employers can run into obstacles when attempting to find and fill open roles around the holidays. When accounting for company closures, year end activities and vacations, hiring processes tend to slow.\\nCodeup\\nCodeup is the first accredited* tech bootcamp in Texas. Our program offerings include Full-Stack Web Development, Data Science and Cloud Administration. In 6 months or less, we produce quality tech talent well-equipped to enter the workforce.\\nHire our Grads\\nThere is a common misconception that coding bootcamp graduates are not trained well enough to perform at high standards. Codeup works daily to ensure the quality of education we are delivering is nothing shy of excellent to debunk this belief.\\nCodeup is currently the only accredited tech bootcamp in Texas. With accreditation comes a high caliber of educational expectations that we must deliver. Our graduates come with experience gained from hands-on intensive training from industry experts. Consider hiring our graduates because they are capable of meeting your needs.\\nBecome an Employer Partner\\nHiring a Codeup grad is free. There are no strings attached. Our promise to our students is to give them placement assistance to land their next position in-field.\\nOur placement team works to constantly build our network of employer partners. Employer partners are companies that hire for tech talent. These partners stay connected with Codeup year round to potentially hire students from multiple cohorts from either our San Antonio, TX or Dallas, TX campuses.\\nA few of our current employer partners include: H-E-B, USAA, Whole Foods Market, Oracle, Accenture and many more.\\nBecome an employer partner today to start hiring! Take a look at our Alumni Portal to view graduates looking for work and their resumes.\\nProspective Students\\nCodeup is a great place to launch your career in tech! We are the first and currently the only accredited tech bootcamp in Texas!\\nWe also offer a tuition refund guarantee which states that if a student does not find a job within 6 months of completing a Codeup program, we will issue a full refund on paid tuition.\\nIf you aren’t sure if a career in tech is right for you, consider attending our 100% free instructor-led workshops. These workshops are designed to give you a taste of what you’ll learn in our programs, as well as give you information on financial aid and admissions.\\nWe can also provide program-specific information to your inbox at any time! Get started now or give us a call at (210) 802-7289 and we’ll walk you through the process. We’d love to hear from you!\\n*Codeup is accredited for postsecondary, non-degree granting, career and technology programs by the Middle States Commission on Secondary Schools of the Middle States Association of Colleges and Schools, 3624 Market Street, Philadelphia, PA 19104, (267) 284-5000'},\n",
       " {'title': 'Cloud Administration Program New Funding Options',\n",
       "  'content': 'Finding resources to fund your educational goals is possibly the largest obstacle students face when pursuing higher education.\\nCodeup offers a variety of funding options to select from, and most recently our Cloud Administration program has become eligible for GI Bill and VR&E funding.\\nCodeup Program\\nCodeup’s Cloud Administration program is a full-time 15-week course designed to prepare students for two AWS certifications: AWS Cloud Practitioner and AWS Solutions Architect Associate.\\nThroughout the program you’ll learn to build infrastructure that enables software and data science products, manage cloud deployments and optimize for cloud performance. With instruction from industry experts, upon successful completion of the program, you’ll be prepared for an entry-level position in the cloud.\\nNew Funding Options\\nCodeup’s Cloud Administration program has historically allowed you to select payment options utilizing grants, loans, scholarships, VA Benefits and self-pay. In addition to these options, we now accept GI Bill chapters 33 and 35 as well as VR&E services.\\nGI Bill Chapter 33\\nThe post- 9/11 GI Bill (Chapter 33) provides financial assistance for schooling or job training. Active duty service members beginning September 10, 2001 onward may be eligible for this benefit. Check your eligibility today.\\nGI Bill Chapter 35\\nDependents of Veterans or service members with special circumstances may be eligible for financial assistance for schooling or job training through the DEA program. Check your eligibility today.\\nVR&E Assistance Chapter 31\\nVeterans and family members may be eligible for Veteran Readiness and Employment services (formerly known as Vocational Rehabilitation and Employment). This will provide assistance with job training, education, employment accommodations, resume development and job seeking skills coaching. Apply here.\\nCodeup is a great place to launch your career in tech! We are the first and currently the only accredited bootcamp in Texas!\\nIf you aren’t sure if a career in tech is right for you, consider attending our 100% free instructor-led workshops. These workshops are designed to give you a taste of what you’ll learn in our programs, as well as give you information on financial aid and admissions.\\nWe can also provide program-specific information to your inbox at any time! Get started now or give us a call at (210) 802-7289 and we’ll walk you through the process.\\n*Codeup is accredited for postsecondary, non-degree granting, career and technology programs by the Middle States Commission on Secondary Schools of the Middle States Association of Colleges and Schools, 3624 Market Street, Philadelphia, PA 19104, (267) 284-5000'},\n",
       " {'title': 'Why Dallas is a Great Location for IT Professionals',\n",
       "  'content': 'When breaking into a new career, it is important to explore the job opportunities that exist in your area. A common misconception with tech careers is that the prospect of success is only possible in big cities with a long reputation of successful tech companies. Today we will discuss how Dallas, TX is a major tech hub with enormous potential for success, as the home of the state’s biggest tech workforce.\\nDFW\\nThroughout the years, the tech community across the country has seen a drop in new jobs and tech company growth. The Dallas Fort Worth area has done remarkably well with maintaining its top status for new job postings even through the weak points the field has been facing.\\nAccording to CompTIA, Dallas has held onto their number three position for month-to-month new job postings following Washington D.C. and New York City. For the month of June in 2022, the DFW area had almost 28,000 new jobs listed.\\nTop DFW Tech Companies\\nThe following companies have a history of regularly hiring IT professionals in the DFW area.\\n\\nLockheed Martin\\nJPMorgan Chase\\nUSAA\\nCiti\\nDeloitte\\nVerizon\\nWells Fargo\\nIBM\\nNTT Data\\nInfoVision\\n\\nThese companies reflect a portion of the tech career opportunities in Dallas. Positions for all levels are also available in such a quickly evolving field.\\nHow to Start\\nCodeup is a great place to launch your career in tech! We area career accelerator that helps individuals quickly and seamlessly transition into a new career in tech.\\nOur Dallas location offers a Web Development bootcamp with a 20-week completion time.\\nCodeup is the first and currently the only accredited coding bootcamp in the state of Texas.* We have also been named the best trade/technical school in the DFW area by locals.\\nIf you aren’t sure if a career in tech is right for you, consider attending our 100% free instructor-led workshops. These workshops are designed to give you a taste of what you’ll learn in our programs, as well as give you information on financial aid and admissions.\\nWe can also provide program-specific information to your inbox at any time! Get started now or give us a call at (210) 802-7289 and we’ll walk you through the process.\\n*Codeup is accredited for postsecondary, non-degree granting, career and technology programs by the Middle States Commission on Secondary Schools of the Middle States Association of Colleges and Schools, 3624 Market Street, Philadelphia, PA 19104, (267) 284-5000'},\n",
       " {'title': 'Codeup is ranked #1 Best in DFW 2022',\n",
       "  'content': 'We are excited to announce that Codeup ranked #1 for Best Trade/Technical School in DFW!\\nClick here to see the Best in DFW announcement in the Dallas Morning News.\\nDetails on our Dallas campus and upcoming classes can be found here. We continue to look forward to empowering life change.\\nCodeup Dallas Campus\\n900 Jackson St Dallas, TX 75202'}]"
      ]
     },
     "execution_count": 54,
     "metadata": {},
     "output_type": "execute_result"
    }
   ],
   "source": [
    "articles[0:5]"
   ]
  },
  {
   "cell_type": "code",
   "execution_count": 55,
   "id": "a0b2cd27",
   "metadata": {},
   "outputs": [
    {
     "data": {
      "text/html": [
       "<div>\n",
       "<style scoped>\n",
       "    .dataframe tbody tr th:only-of-type {\n",
       "        vertical-align: middle;\n",
       "    }\n",
       "\n",
       "    .dataframe tbody tr th {\n",
       "        vertical-align: top;\n",
       "    }\n",
       "\n",
       "    .dataframe thead th {\n",
       "        text-align: right;\n",
       "    }\n",
       "</style>\n",
       "<table border=\"1\" class=\"dataframe\">\n",
       "  <thead>\n",
       "    <tr style=\"text-align: right;\">\n",
       "      <th></th>\n",
       "      <th>title</th>\n",
       "      <th>content</th>\n",
       "    </tr>\n",
       "  </thead>\n",
       "  <tbody>\n",
       "    <tr>\n",
       "      <th>0</th>\n",
       "      <td>Become a Data Scientist in 6 Months!</td>\n",
       "      <td>Are you feeling unfulfilled in your work but w...</td>\n",
       "    </tr>\n",
       "    <tr>\n",
       "      <th>1</th>\n",
       "      <td>Hiring Tech Talent Around the Holidays</td>\n",
       "      <td>Are you a hiring manager having trouble fillin...</td>\n",
       "    </tr>\n",
       "    <tr>\n",
       "      <th>2</th>\n",
       "      <td>Cloud Administration Program New Funding Options</td>\n",
       "      <td>Finding resources to fund your educational goa...</td>\n",
       "    </tr>\n",
       "    <tr>\n",
       "      <th>3</th>\n",
       "      <td>Why Dallas is a Great Location for IT Professi...</td>\n",
       "      <td>When breaking into a new career, it is importa...</td>\n",
       "    </tr>\n",
       "    <tr>\n",
       "      <th>4</th>\n",
       "      <td>Codeup is ranked #1 Best in DFW 2022</td>\n",
       "      <td>We are excited to announce that Codeup ranked ...</td>\n",
       "    </tr>\n",
       "    <tr>\n",
       "      <th>5</th>\n",
       "      <td>Codeup’s Scholarship Offerings</td>\n",
       "      <td>In honor of November being National Scholarshi...</td>\n",
       "    </tr>\n",
       "  </tbody>\n",
       "</table>\n",
       "</div>"
      ],
      "text/plain": [
       "                                               title  \\\n",
       "0               Become a Data Scientist in 6 Months!   \n",
       "1             Hiring Tech Talent Around the Holidays   \n",
       "2   Cloud Administration Program New Funding Options   \n",
       "3  Why Dallas is a Great Location for IT Professi...   \n",
       "4               Codeup is ranked #1 Best in DFW 2022   \n",
       "5                     Codeup’s Scholarship Offerings   \n",
       "\n",
       "                                             content  \n",
       "0  Are you feeling unfulfilled in your work but w...  \n",
       "1  Are you a hiring manager having trouble fillin...  \n",
       "2  Finding resources to fund your educational goa...  \n",
       "3  When breaking into a new career, it is importa...  \n",
       "4  We are excited to announce that Codeup ranked ...  \n",
       "5  In honor of November being National Scholarshi...  "
      ]
     },
     "execution_count": 55,
     "metadata": {},
     "output_type": "execute_result"
    }
   ],
   "source": [
    "# put it in a dataframe\n",
    "blog_article_df = pd.DataFrame(articles)\n",
    "blog_article_df"
   ]
  },
  {
   "cell_type": "code",
   "execution_count": 56,
   "id": "476cafab",
   "metadata": {},
   "outputs": [],
   "source": [
    "blog_article_df.to_csv('blog_articles.csv', index=False)"
   ]
  },
  {
   "cell_type": "code",
   "execution_count": 5,
   "id": "919eebf9",
   "metadata": {},
   "outputs": [],
   "source": [
    "def codeup_blog():\n",
    "    url = 'https://codeup.com/blog/'\n",
    "    headers = {'User-Agent': 'Codeup Data Science'}\n",
    "    response = requests.get(url, headers=headers)\n",
    "\n",
    "    soup = BeautifulSoup(response.content, 'html.parser')\n",
    "\n",
    "    links = [link['href'] for link in soup.select('.more-link')]\n",
    "\n",
    "    articles = []\n",
    "\n",
    "    for url in links:\n",
    "\n",
    "        url_response = requests.get(url, headers=headers)\n",
    "        soup = BeautifulSoup(url_response.text)\n",
    "\n",
    "        title = soup.find('h1', class_='entry-title').text\n",
    "        content = soup.find('div', class_='entry-content').text.strip()\n",
    "\n",
    "        article_dict = {\n",
    "            'title': title,\n",
    "            'content': content\n",
    "        }\n",
    "\n",
    "        articles.append(article_dict)\n",
    "        return articles"
   ]
  },
  {
   "cell_type": "code",
   "execution_count": 6,
   "id": "353d69bb",
   "metadata": {},
   "outputs": [
    {
     "data": {
      "text/plain": [
       "[{'title': 'Become a Data Scientist in 6 Months!',\n",
       "  'content': 'Are you feeling unfulfilled in your work but want to avoid returning to the traditional educational route? Codeup can help! Starting over as a professional is daunting and not always ideal. Codeup can help you go from a career you are bored with, to a job that excites you in just 6 months!\\nHere’s how…\\nData Science Program\\nDuring our 20-week program, you will have the opportunity to take your career to new heights with data science being one of the most needed jobs in tech.\\nYou’ll gather data, then clean it, explore it for trends, and apply machine learning models to make predictions.\\nUpon completing this program, you will know how to turn insights into actionable recommendations. You’ll be a huge asset to any company, having all the technical skills to become a data scientist with projects upon projects of experience under your belt.\\nCodeup\\nA common reason individuals opt not to change their careers is fear it is too late. Codeup has crafted a program that will guide you through your career transition and prove that you can jumpstart a new job at any age and experience level.\\nWhen you decide to attend Codeup, you get a support system. First, our admissions team will guide you through getting started as well as assist with getting your financial aid squared away.\\nOnce your program begins, you will have industry experts as your instructors who will help you reach your full potential and complete the program successfully.\\nNext, you will have a student experience team ready to assist you with navigating through the program and any of life’s obstacles that may arise.\\nFinally, you have a placement team to help you secure the job you’ll work so hard to land!\\n\\nIf you do not land a job within six months of completing a Codeup program, we will refund 100% of your paid tuition.\\nIf you aren’t sure if a career in data science is right for you, consider attending our 100% free instructor-led workshops. These workshops are designed to give you a taste of what you’ll learn in our programs, as well as give you information on financial aid and admissions.\\nWe can also provide program-specific information to your inbox at any time! Get started now or give us a call at (210) 802-7289 and we’ll walk you through the process.\\nJumpstart your tech career with the first and only accredited bootcamp in Texas!*\\n*Codeup is accredited for postsecondary, non-degree granting, career and technology programs by the Middle States Commission on Secondary Schools of the Middle States Association of Colleges and Schools, 3624 Market Street, Philadelphia, PA 19104, (267) 284-5000'}]"
      ]
     },
     "execution_count": 6,
     "metadata": {},
     "output_type": "execute_result"
    }
   ],
   "source": [
    "codeup_blog()"
   ]
  },
  {
   "cell_type": "markdown",
   "id": "1569e80e",
   "metadata": {},
   "source": [
    "# 2. News Articles\n",
    "\n",
    "We will now be scraping text data from inshorts, a website that provides a brief overview of many different topics.\n",
    "\n",
    "Write a function that scrapes the news articles for the following topics:\n",
    "\n",
    "* Business\n",
    "* Sports\n",
    "* Technology\n",
    "* Entertainment\n",
    "\n",
    "The end product of this should be a function named get_news_articles that returns a list of dictionaries, where each dictionary has this shape:\n",
    "``` python\n",
    "\n",
    "{\n",
    "    'title': 'The article title',\n",
    "    'content': 'The article content',\n",
    "    'category': 'business' # for example\n",
    "}\n",
    "```\n",
    "Hints:\n",
    "\n",
    "a. Start by inspecting the website in your browser. Figure out which elements will be useful.\n",
    "\n",
    "b. Start by creating a function that handles a single article and produces a dictionary like the one above.\n",
    "\n",
    "c. Next create a function that will find all the articles on a single page and call the function you created in the last step for every article on the page.\n",
    "\n",
    "d. Now create a function that will use the previous two functions to scrape the articles from all the pages that you need, and do any additional processing that needs to be done."
   ]
  },
  {
   "cell_type": "code",
   "execution_count": null,
   "id": "47ba98c8",
   "metadata": {},
   "outputs": [],
   "source": [
    "# set url\n",
    "url = 'https://inshorts.com/en/read/technology'\n"
   ]
  },
  {
   "cell_type": "code",
   "execution_count": null,
   "id": "3d2dd1a6",
   "metadata": {},
   "outputs": [],
   "source": [
    "# get content\n",
    "response = requests.get(url)\n",
    "response = response.content"
   ]
  },
  {
   "cell_type": "code",
   "execution_count": null,
   "id": "1e86ff06",
   "metadata": {
    "scrolled": true
   },
   "outputs": [],
   "source": [
    "# to get html code, nicer looking\n",
    "soup = BeautifulSoup(response,'html.parser' )\n",
    "#soup.prettify"
   ]
  },
  {
   "cell_type": "code",
   "execution_count": null,
   "id": "947bb52f",
   "metadata": {},
   "outputs": [],
   "source": [
    "# get main branch\n",
    "card_stack = soup.find('div',class_ ='card-stack')"
   ]
  },
  {
   "cell_type": "code",
   "execution_count": null,
   "id": "53da215c",
   "metadata": {},
   "outputs": [],
   "source": [
    "# get articles\n",
    "article_info = card_stack.find('div', class_ ='news-card z-depth-1')\n",
    "article_info"
   ]
  },
  {
   "cell_type": "code",
   "execution_count": null,
   "id": "41ef0ad4",
   "metadata": {
    "scrolled": true
   },
   "outputs": [],
   "source": [
    "# get content\n",
    "content = article_info.find('div', itemprop='articleBody').text\n",
    "content"
   ]
  },
  {
   "cell_type": "code",
   "execution_count": null,
   "id": "2414d9fb",
   "metadata": {
    "scrolled": false
   },
   "outputs": [],
   "source": [
    "# get title\n",
    "a_ = article_info.find('a')\n",
    "#headline = a_.find_all('span', attr)\n",
    "title = a_.find(itemprop ='headline').get_text()\n",
    "title\n"
   ]
  },
  {
   "cell_type": "code",
   "execution_count": null,
   "id": "8eb29cd9",
   "metadata": {},
   "outputs": [],
   "source": [
    "# get published date\n",
    "date = article_info.find('span', class_= 'date').text\n",
    "date"
   ]
  },
  {
   "cell_type": "code",
   "execution_count": null,
   "id": "603186cb",
   "metadata": {},
   "outputs": [],
   "source": [
    "# get author\n",
    "author = article_info.find('span', class_= 'author').text\n",
    "author"
   ]
  },
  {
   "cell_type": "markdown",
   "id": "37079d5c",
   "metadata": {},
   "source": [
    "<div class=\"\">\n",
    "<div class=\"news-card z-depth-1\" itemscope=\"\" itemtype=\"http://schema.org/NewsArticle\">\n",
    "  <span content=\"\" itemscope=\"\" itemprop=\"mainEntityOfPage\" itemtype=\"https://schema.org/WebPage\" itemid=\"https://inshorts.com/en/news/billie-eilishs-home-address-revealed-to-178-lakh-people-by-crimereporting-app-1673091145284\"></span>\n",
    "  <span itemtype=\"https://schema.org/Person\" itemscope=\"itemscope\" itemprop=\"author\">\n",
    "    <span itemprop=\"name\" content=\"Hiral Goyal\"></span>\n",
    "  </span>\n",
    "  <span itemprop=\"description\" content=\"Billie Eilish's home address revealed to 1.78 lakh people by crime-reporting app\"></span>\n",
    "  <span itemprop=\"image\" itemscope=\"\" itemtype=\"https://schema.org/ImageObject\">\n",
    "    <meta itemprop=\"url\" content=\"https://static.inshorts.com/inshorts/images/v1/variants/jpg/m/2023/01_jan/7_sat/img_1673090366771_702.jpg?\">\n",
    "    <meta itemprop=\"width\" content=\"864\">\n",
    "    <meta itemprop=\"height\" content=\"483\">\n",
    "  </span>\n",
    "  <span itemtype=\"https://schema.org/Organization\" itemscope=\"itemscope\" itemprop=\"publisher\">\n",
    "    <span itemprop=\"url\" content=\"https://inshorts.com/\"></span>\n",
    "    <span itemprop=\"name\" content=\"Inshorts\"></span>\n",
    "    <span itemprop=\"logo\" itemscope=\"\" itemtype=\"https://schema.org/ImageObject\">\n",
    "      <span itemprop=\"url\" content=\"https://assets.inshorts.com/inshorts/images/v1/variants/jpg/m/2018/11_nov/21_wed/img_1542823931298_497.jpg\"></span>\n",
    "      <meta itemprop=\"width\" content=\"400\">\n",
    "      <meta itemprop=\"height\" content=\"60\">\n",
    "    </span>\n",
    "  </span>\n",
    "  <div class=\"news-card-image\" style=\"background-image: url('https://static.inshorts.com/inshorts/images/v1/variants/jpg/m/2023/01_jan/7_sat/img_1673090366771_702.jpg?')\">\n",
    "  </div>\n",
    "  <div class=\"news-card-title news-right-box\">\n",
    "    <a class=\"clickable\" onclick=\"track_GA_Mixpanel({'hitType': 'event', 'category': 'TitleOfNews', 'action': 'clicked', 'label': 'Billie%20Eilish's%20home%20address%20revealed%20to%201.78%20lakh%20people%20by%20crime-reporting%20app)' });\" style=\"color:#44444d!important\" href=\"/en/news/billie-eilishs-home-address-revealed-to-178-lakh-people-by-crimereporting-app-1673091145284\">\n",
    "      <span itemprop=\"headline\">Billie Eilish's home address revealed to 1.78 lakh people by crime-reporting app</span>\n",
    "    </a>\n",
    "    <div class=\"news-card-author-time news-card-author-time-in-title\">\n",
    "      <a href=\"/prev/en/news/billie-eilishs-home-address-revealed-to-178-lakh-people-by-crimereporting-app-1673091145284\"><span class=\"short\">short</span></a> by <span class=\"author\">Hiral Goyal</span> / \n",
    "      <span class=\"time\" itemprop=\"datePublished\" content=\"2023-01-07T11:32:25.000Z\">05:02 pm</span> on <span clas=\"date\">07 Jan 2023,Saturday</span>\n",
    "    </div>\n",
    "  </div>\n",
    "  <div class=\"news-card-content news-right-box\">\n",
    "    <div itemprop=\"articleBody\">Singer Billie Eilish's family home location was leaked after crime-reporting app Citizen published her address to thousands of people following an alleged burglary at her home. After notifying its users about a break-in in a Los Angeles neighbourhood, Citizen updated the message to state the house belonged to Eilish. The alert was sent to 1,78,000 people and viewed by 78,000.</div>\n",
    "    <div class=\"news-card-author-time news-card-author-time-in-content\">\n",
    "      <a href=\"/prev/en/news/billie-eilishs-home-address-revealed-to-178-lakh-people-by-crimereporting-app-1673091145284\"><span class=\"short\">short</span></a> by <span class=\"author\">Hiral Goyal</span> / \n",
    "      <span class=\"time\" itemprop=\"dateModified\" content=\"2023-01-07T11:32:25.000Z\">05:02 pm</span> on <span class=\"date\">07 Jan</span>\n",
    "    </div>\n",
    "  </div>\n",
    "  \n",
    "    <div class=\"news-card-footer news-right-box\">\n",
    "      <div class=\"read-more\">read more at <a class=\"source\" onclick=\"track_GA_Mixpanel({'hitType': 'event', 'category': 'ReadMore', 'action': 'clicked', 'label': 'The%20Siasat%20Daily' });\" target=\"_blank\" href=\"https://www.siasat.com/citizen-app-reveals-exact-location-of-billie-eilishs-family-home-to-178k-users-2497487/?utm_campaign=fullarticle&amp;utm_medium=referral&amp;utm_source=inshorts \">The Siasat Daily</a></div>\n",
    "    </div>\n",
    "  \n",
    "\n",
    "</div>\n",
    "\n",
    "  \n",
    "</div>"
   ]
  },
  {
   "cell_type": "code",
   "execution_count": null,
   "id": "b51aaa44",
   "metadata": {},
   "outputs": [],
   "source": [
    "a_"
   ]
  },
  {
   "cell_type": "code",
   "execution_count": null,
   "id": "085b6e8b",
   "metadata": {},
   "outputs": [],
   "source": [
    "# get source link\n",
    "output = article_info.find('a', class_= 'source')\n",
    "pattern = re.compile(r'(www.*?)\\s')\n",
    "link = pattern.findall(str(output))\n",
    "link[0]\n"
   ]
  },
  {
   "cell_type": "code",
   "execution_count": null,
   "id": "b9fc63c7",
   "metadata": {},
   "outputs": [],
   "source": [
    "def get_info(url):\n",
    "    output =[]\n",
    "    response = requests.get(url)\n",
    "    response = response.content \n",
    "    soup = BeautifulSoup(response,'html.parser')\n",
    "    \n",
    "    # main branch\n",
    "    card_stack = soup.find('div',class_ ='card-stack')\n",
    "    # article branch\n",
    "    article_info = card_stack.find('div', class_ ='news-card z-depth-1')\n",
    "     \n",
    "    # get title\n",
    "    a_ = article_info.find('a')\n",
    "    #headline = a_.find_all('span', attr)\n",
    "    title = a_.find(itemprop ='headline').get_text()\n",
    "    \n",
    "    # get published date\n",
    "    date = article_info.find('span', class_= 'date').text\n",
    "    \n",
    "    # get author\n",
    "    author = article_info.find('span', class_= 'author').text\n",
    "    \n",
    "    # get content\n",
    "    content = article_info.find('div', itemprop='articleBody').text\n",
    "    \n",
    "    # get source link\n",
    "    source = article_info.find('a', class_= 'source')\n",
    "    pattern = re.compile(r'(www.*?)\\s')\n",
    "    link = pattern.findall(str(source))\n",
    "    link = link[0]\n",
    "    \n",
    "    output.append([title,date,author,content,link])\n",
    "    \n",
    "    output_df = pd.DataFrame(output, columns = ['title','date','author','content','source_link'])\n",
    "    return output_df"
   ]
  },
  {
   "cell_type": "code",
   "execution_count": null,
   "id": "e7ea9a02",
   "metadata": {
    "scrolled": true
   },
   "outputs": [],
   "source": [
    "get_info(url)"
   ]
  },
  {
   "cell_type": "markdown",
   "id": "8ddbec62",
   "metadata": {},
   "source": [
    "The above method only works for one article on a page and does not seem to be able to work on next article. Possible reason when first acquired article only one came along. A diffirent method must me used"
   ]
  },
  {
   "cell_type": "code",
   "execution_count": null,
   "id": "f1dbc1c5",
   "metadata": {},
   "outputs": [],
   "source": []
  },
  {
   "cell_type": "code",
   "execution_count": null,
   "id": "9aefe798",
   "metadata": {},
   "outputs": [],
   "source": [
    "url = 'https://www.inshorts.com/en/read/'\n",
    "response = requests.get(url)\n",
    "soup = BeautifulSoup(response.text)\n",
    "#soup"
   ]
  },
  {
   "cell_type": "code",
   "execution_count": null,
   "id": "18d02f92",
   "metadata": {},
   "outputs": [],
   "source": [
    "# identify class to select all the news cards\n",
    "cards = soup.select('.news-card')\n",
    "len(cards)"
   ]
  },
  {
   "cell_type": "code",
   "execution_count": null,
   "id": "1dc38730",
   "metadata": {},
   "outputs": [],
   "source": [
    "card = cards[0]\n",
    "#card"
   ]
  },
  {
   "cell_type": "code",
   "execution_count": null,
   "id": "d961a149",
   "metadata": {},
   "outputs": [],
   "source": [
    "# headline\n",
    "headline = card.find('span', itemprop = 'headline').text\n",
    "headline"
   ]
  },
  {
   "cell_type": "code",
   "execution_count": null,
   "id": "d111ec79",
   "metadata": {},
   "outputs": [],
   "source": [
    "# author\n",
    "card.find('span', class_ = 'author').text"
   ]
  },
  {
   "cell_type": "code",
   "execution_count": null,
   "id": "e38929ad",
   "metadata": {},
   "outputs": [],
   "source": [
    "# content\n",
    "card.find('div', itemprop = 'articleBody').text"
   ]
  },
  {
   "cell_type": "code",
   "execution_count": null,
   "id": "d3676c18",
   "metadata": {},
   "outputs": [],
   "source": [
    "#date\n",
    "card.find('span', clas ='date').text"
   ]
  },
  {
   "cell_type": "code",
   "execution_count": null,
   "id": "c1321e2e",
   "metadata": {},
   "outputs": [],
   "source": [
    "# source link\n",
    "# get source link\n",
    "source = card.find('a', class_= 'source')\n",
    "pattern = re.compile(r'(www.*?)\\s')\n",
    "link = pattern.findall(str(source))\n",
    "link[0]"
   ]
  },
  {
   "cell_type": "markdown",
   "id": "047805ac",
   "metadata": {},
   "source": [
    "### alternative method"
   ]
  },
  {
   "cell_type": "code",
   "execution_count": 19,
   "id": "8a5000b4",
   "metadata": {},
   "outputs": [],
   "source": [
    "url = 'https://www.inshorts.com/en/read/'\n",
    "response = requests.get(url)\n",
    "soup = BeautifulSoup(response.content, 'html.parser')\n",
    "#soup"
   ]
  },
  {
   "cell_type": "code",
   "execution_count": 20,
   "id": "73279e06",
   "metadata": {},
   "outputs": [
    {
     "data": {
      "text/plain": [
       "\"Drunk man smoked in toilet, another peed on woman's blanket on Air India flight\""
      ]
     },
     "execution_count": 20,
     "metadata": {},
     "output_type": "execute_result"
    }
   ],
   "source": [
    "# get title\n",
    "soup.find_all('span', itemprop = 'headline')[0].text"
   ]
  },
  {
   "cell_type": "code",
   "execution_count": 22,
   "id": "731fe0fd",
   "metadata": {},
   "outputs": [
    {
     "data": {
      "text/plain": [
       "\"A drunk passenger smoked in the toilet on a Paris-Delhi Air India flight on December 6, the DGCA said. This is the same Paris-Delhi flight on which another drunk man urinated on a woman co-passenger's blanket when she went to the lavatory. Separately, Shankar Mishra was arrested for urinating on a woman on Air India's November 26 New York-Delhi flight.\""
      ]
     },
     "execution_count": 22,
     "metadata": {},
     "output_type": "execute_result"
    }
   ],
   "source": [
    "# get content\n",
    "soup.find_all('div', itemprop = 'articleBody')[0].text"
   ]
  },
  {
   "cell_type": "code",
   "execution_count": 23,
   "id": "b1e25677",
   "metadata": {},
   "outputs": [
    {
     "data": {
      "text/plain": [
       "['national',\n",
       " 'business',\n",
       " 'sports',\n",
       " 'world',\n",
       " 'politics',\n",
       " 'technology',\n",
       " 'startup',\n",
       " 'entertainment',\n",
       " 'miscellaneous',\n",
       " 'hatke',\n",
       " 'science',\n",
       " 'automobile']"
      ]
     },
     "execution_count": 23,
     "metadata": {},
     "output_type": "execute_result"
    }
   ],
   "source": [
    "# get categories\n",
    "categories = [li.text.lower() for li in soup.select('li')[1:]]\n",
    "categories[0]='national'\n",
    "categories"
   ]
  },
  {
   "cell_type": "code",
   "execution_count": 30,
   "id": "f4f2c63f",
   "metadata": {},
   "outputs": [],
   "source": [
    "# put it together\n",
    "categories = [li.text.lower() for li in soup.select('li')[1:]]\n",
    "categories[0]='national'\n",
    "\n",
    "inshorts = []\n",
    "for cat in categories:\n",
    "    url = 'https://www.inshorts.com/en/read' + '/'+ cat\n",
    "    response = requests.get(url)\n",
    "    soup = BeautifulSoup(response.content, 'html.parser')\n",
    "    \n",
    "    titles = [span.text for span in soup.find_all('span', itemprop = 'headline')]\n",
    "    contents = [div.text for div in soup.find_all('div', itemprop = 'articleBody')]\n",
    "    \n",
    "    for i in range(len(titles)):\n",
    "        \n",
    "        article = {\n",
    "            \n",
    "            'title': titles[i],\n",
    "            'content': contents [i],\n",
    "            'category': cat\n",
    "        }\n",
    "\n",
    "        inshorts.append(article)\n",
    "\n",
    "\n"
   ]
  },
  {
   "cell_type": "code",
   "execution_count": 31,
   "id": "7975bc1e",
   "metadata": {
    "scrolled": true
   },
   "outputs": [
    {
     "data": {
      "text/plain": [
       "[{'title': \"Drunk man smoked in toilet, another peed on woman's blanket on Air India flight\",\n",
       "  'content': \"A drunk passenger smoked in the toilet on a Paris-Delhi Air India flight on December 6, the DGCA said. This is the same Paris-Delhi flight on which another drunk man urinated on a woman co-passenger's blanket when she went to the lavatory. Separately, Shankar Mishra was arrested for urinating on a woman on Air India's November 26 New York-Delhi flight.\",\n",
       "  'category': 'national'},\n",
       " {'title': 'Coaching centre run by Rajasthan paper leak case accused demolished in Jaipur',\n",
       "  'content': 'The Jaipur Development Authority (JDA) on Monday demolished a five-storey building of a coaching centre run by Suresh Dhaka, whose name appeared in the second-grade teacher recruitment examination paper leak case. The JDA found that the Adhigam Coaching Centre building was built in violation of laws. The coaching institute was served the notice twice, an official said.',\n",
       "  'category': 'national'},\n",
       " {'title': 'Joshimath divided into 3 zones, govt says most damaged buildings to be demolished',\n",
       "  'content': \"Uttarakhand's Joshimath, where a majority of buildings developed cracks, has been divided into three zones based on the magnitude of possible danger. RM Sundaram, Secretary to CM Pushkar Singh Dhami, said the town has been divided into 'danger', 'buffer' and 'completely safe' zones. Sundaram added that the buildings which have sustained the most damage will be demolished. \",\n",
       "  'category': 'national'},\n",
       " {'title': 'Temporary ban on BS-III petrol & BS-IV diesel cars in Delhi over severe AQI',\n",
       "  'content': 'The Delhi government has decided to impose a temporary ban on plying of BS-III petrol and BS-IV diesel four-wheelers in the national capital from Tuesday in view of severe air quality. \"The ban is likely to be in place till Friday. If the air quality improves, the ban could be lifted before Friday,\" a senior Transport Department official said.',\n",
       "  'category': 'national'},\n",
       " {'title': 'Over 200 shanties gutted in major fire at slum area in Gurugram',\n",
       "  'content': 'More than 200 shanties were destroyed in a massive fire that broke out in a slum near Ghasola village in the Sector 49 area of Gurugram on Monday. No injury was reported in the incident. Over 20 fire engines were pressed into service with 100 firefighters and it took more than four hours to douse the blaze.',\n",
       "  'category': 'national'}]"
      ]
     },
     "execution_count": 31,
     "metadata": {},
     "output_type": "execute_result"
    }
   ],
   "source": [
    "inshorts[0:5]"
   ]
  },
  {
   "cell_type": "code",
   "execution_count": 11,
   "id": "3ab883c9",
   "metadata": {},
   "outputs": [],
   "source": [
    "def inshort_info():\n",
    "    '''\n",
    "    inshort_info has no input:\n",
    "    funciton request access to website and retrieves information of websites articles:\n",
    "    title, content, category\n",
    "    returns a list of information from articles\n",
    "    '''\n",
    "    url='https://www.inshorts.com/en/read'\n",
    "    response = requests.get(url)\n",
    "    soup = BeautifulSoup(response.content, 'html.parser')\n",
    "    \n",
    "    \n",
    "    # put it together\n",
    "    categories = [li.text.lower() for li in soup.select('li')[1:]]\n",
    "    categories[0]='national'\n",
    "\n",
    "    inshorts = []\n",
    "    for cat in categories:\n",
    "        url = 'https://www.inshorts.com/en/read' + '/'+ cat\n",
    "        response = requests.get(url)\n",
    "        soup = BeautifulSoup(response.content, 'html.parser')\n",
    "\n",
    "        titles = [span.text for span in soup.find_all('span', itemprop = 'headline')]\n",
    "        contents = [div.text for div in soup.find_all('div', itemprop = 'articleBody')]\n",
    "    \n",
    "        for i in range(len(titles)):\n",
    "\n",
    "            article = {\n",
    "\n",
    "                'title': titles[i],\n",
    "                'content': contents [i],\n",
    "                'category': cat\n",
    "            }\n",
    "\n",
    "            inshorts.append(article)\n",
    "    return inshorts\n",
    "\n",
    "    "
   ]
  },
  {
   "cell_type": "code",
   "execution_count": 12,
   "id": "6f1840ee",
   "metadata": {},
   "outputs": [
    {
     "data": {
      "text/plain": [
       "[{'title': 'Moscow-Goa flight gets bomb threat, makes emergency landing in Gujarat',\n",
       "  'content': \"A Goa-bound flight from Russia's Moscow made an emergency landing in Gujarat's Jamnagar at around 9.49 pm after Goa ATC (Air Traffic Control) received a bomb threat. The aircraft is in the isolation bay at the Jamnagar airport and further investigation is underway. The flight was carrying 244 passengers.\",\n",
       "  'category': 'national'},\n",
       " {'title': 'Joshimath divided into 3 zones, govt says most damaged buildings to be demolished',\n",
       "  'content': \"Uttarakhand's Joshimath, where a majority of buildings developed cracks, has been divided into three zones based on the magnitude of possible danger. RM Sundaram, Secretary to CM Pushkar Singh Dhami, said the town has been divided into 'danger', 'buffer' and 'completely safe' zones. Sundaram added that the buildings which have sustained the most damage will be demolished. \",\n",
       "  'category': 'national'},\n",
       " {'title': 'Which states have reported COVID-19 variant XBB.1.5 so far?',\n",
       "  'content': 'One new case of COVID-19 variant XBB.1.5, which is responsible for the rise in cases in the US, has been discovered in Uttarakhand, taking the total number of cases in India to eight, according to INSACOG data, PTI reported. Earlier, three XBB.1.5 cases were reported in Gujarat while Karnataka, Telangana, Chhattisgarh and Rajasthan reported one case each, according to INSACOG.',\n",
       "  'category': 'national'},\n",
       " {'title': 'I decided to wear t-shirt till I shiver after meeting 3 children in torn shirts in MP: Rahul',\n",
       "  'content': 'Congress leader Rahul Gandhi on Monday told reporters that he decided to wear only a t-shirt after meeting three girls in Madhya Pradesh. \"When yatra reached Madhya Pradesh, it was mildly cold. Three poor children came to me in torn shirts, they were shivering. That day, I decided until I shiver I will only be wearing t-shirt,\" he said.',\n",
       "  'category': 'national'},\n",
       " {'title': \"Rajasthan MLA Johari Lal Meena's son arrested in gang rape case\",\n",
       "  'content': \"Rajasthan Congress MLA Johari Lal Meena's son Deepak Meena has been arrested in connection with the alleged gang rape of a 15-year-old girl in February 2021. Two other accused were arrested earlier. In a complaint, it was alleged that the accused took the girl to a hotel, where they raped her and made a video to threaten her.\",\n",
       "  'category': 'national'},\n",
       " {'title': \"Vistara's Bhubaneswar-bound flight returns to Delhi due to hydraulic failure\",\n",
       "  'content': \"Vistara's flight UK 781 operating from Delhi to Bhubaneswar returned to Delhi after declaring a full emergency mid-air due to hydraulic failure on Monday. The flight with around 140 passengers onboard landed safely in Delhi and all passengers are safe, the Directorate General of Civil Aviation (DGCA) said. The DGCA will probe the incident, PTI reported quoting a DGCA official.\",\n",
       "  'category': 'national'},\n",
       " {'title': \"IAS officer Khemka transferred for 55th time, tweets about 'new trick to tackle honest'\",\n",
       "  'content': 'Haryana\\'s senior IAS officer Ashok Khemka has been transferred back to the Archives department as additional chief secretary. This is his 55th transfer in his 30-year-long career. Khemka tweeted, \"Once again archived. There is a new trick in the book to tackle the honest and the unyielding. Assign little work, bypassing Civil Services Board. Destroy self-respect and heap indignities.\"',\n",
       "  'category': 'national'},\n",
       " {'title': 'Over 200 shanties gutted in major fire at slum area in Gurugram',\n",
       "  'content': 'More than 200 shanties were destroyed in a massive fire that broke out in a slum near Ghasola village in the Sector 49 area of Gurugram on Monday. No injury was reported in the incident. Over 20 fire engines were pressed into service with 100 firefighters and it took more than four hours to douse the blaze.',\n",
       "  'category': 'national'},\n",
       " {'title': '1 dead, 40 injured after speeding bus overturns in West Bengal',\n",
       "  'content': 'At least one person died and 40 other persons sustained injuries after a speeding bus overturned in West Bengal. The bus was reportedly heading towards Burdwan on Sunday evening. As per reports, the accident took place after the bus driver lost control of the vehicle. The injured persons have been shifted to a hospital.',\n",
       "  'category': 'national'},\n",
       " {'title': \"Sec 144 imposed in Assam's Karimganj after Bajrang Dal activist's murder\",\n",
       "  'content': \"Prohibitory orders under Section 144 of the CrPC were on Monday imposed in the Lowairpoa Bazar area of Assam's Karimganj district, where tension erupted a day after the killing of a 16-year-old Bajrang Dal activist. One person has been arrested in connection with the murder, police said. The restrictions will remain in force until further orders.\",\n",
       "  'category': 'national'},\n",
       " {'title': '2 children charred to death, 4 other siblings hurt as fire guts Punjab hut',\n",
       "  'content': \"At least two children were charred to death and four others sustained burns in a fire that gutted a shanty in Punjab's Ludhiana on Monday. The six children, all aged between three and 11, were siblings. Police said the incident took place when they were sleeping along with their mother inside a hut, where an oil lamp was lit.\",\n",
       "  'category': 'national'},\n",
       " {'title': \"A 'new Joshimath town' should be built by Centre: Ex-U'khand CM\",\n",
       "  'content': 'Ex-Uttarakhand CM Harish Rawat demanded the BJP-led Centre build a \"new Joshimath town\" and said that the existing town needs to be protected, given its immense religious importance. \"After talking to the affected people here...it became clear...that there is a need to build a new Joshimath town in adjoining areas, including government land,\" Rawat said after visiting Joshimath on Monday. ',\n",
       "  'category': 'national'},\n",
       " {'title': \"RSS never chants 'Har Har Mahadev', it removed Sita from 'Siya Ram': Rahul\",\n",
       "  'content': 'Speaking during \\'Bharat Jodo Yatra\\' in Haryana\\'s Kurukshetra, Congress leader Rahul Gandhi said, \"RSS people never chant \\'Har Har Mahadev\\' because Lord Shiva was a \\'tapasavi\\' and these people are attacking India\\'s \\'tapasya\\'.\" \"They have removed Goddess Sita from \\'Jai Siya Ram\\',\" he said. \"These people are working against India\\'s culture,\" Rahul added.',\n",
       "  'category': 'national'},\n",
       " {'title': \"Kauravas of 21st century wear khaki half-pants, run 'shakhas': Rahul\",\n",
       "  'content': 'Congress leader Rahul Gandhi on Monday accused RSS of \"attacking India\\'s tapasya\". \"Kauravas of the 21st century wear khaki half-pants and run \\'shakhas\\'. Beside them stand the country\\'s two to three richest people,\" Gandhi said.  \"We are seeing it as tapasya,\" Rahul said, referring to Bharat Jodo Yatra as a mark of austerity and self-meditation.',\n",
       "  'category': 'national'},\n",
       " {'title': 'Most DMK people are not Tamilians: Ex-BJP MP on Tamil Nadu name row',\n",
       "  'content': 'Reacting to DMK criticising Tamil Nadu Governor RN Ravi\\'s remark that \"Thamizhagam\" is a more \"appropriate\" name than Tamil Nadu, former BJP MP Subramanian Swamy said that \"most DMK people are not Tamilians\". He said, \"The Governor only said that Thamizhagam could be a better word. He did not issue a statement or put out a change in the law.\"',\n",
       "  'category': 'national'},\n",
       " {'title': 'Jharkhand BJP MLA sent to jail in a 10-year-old case',\n",
       "  'content': 'A three-time Jharkhand BJP MLA Dulu Mahato surrendered himself to a local court in Dhanbad after which he was sent to judicial custody in a 10-year-old case. Mahato was sent to jail in a case of forcibly freeing a person from police custody. Notably, Mahato appeared alone in the court due to a strike called by lawyers, an advocate said.',\n",
       "  'category': 'national'},\n",
       " {'title': \"Priyanka Gandhi to address Cong women's convention in Bengaluru\",\n",
       "  'content': 'Congress General Secretary Priyanka Gandhi will address the party\\'s women\\'s convention in Bengaluru on January 16, the party\\'s State President DK Shivakumar said. Shivakumar added Congress is planning a separate manifesto ahead of the Karnataka polls and wants to release a \"guarantee letter\" along with the manifesto. The convention of women leaders has been organised at Palace Ground in Bengaluru.',\n",
       "  'category': 'national'},\n",
       " {'title': 'Amit Shah to inaugurate light and sound show at Red Fort tomorrow',\n",
       "  'content': 'Home Minister Amit Shah will inaugurate Red Fort\\'s revamped light and sound show titled \\'Jai Hind\\' on January 10. According to the Ministry of Culture, the one-hour long show is a dramatic presentation of the \"bravery and the history of India from the 17th century to the present day\". The show is commencing after a gap of nearly five years.',\n",
       "  'category': 'national'},\n",
       " {'title': \"Himachal HC orders compensation for man forced to carry students' urine in drum\",\n",
       "  'content': 'The Himachal Pradesh High Court on Monday ordered compensation of ₹2 lakh for a part-time sweeper who was forced to dispose of students\\' urine collected in a drum for a month. The man, who worked at a government polytechnic, apprised the court that he was forced to do the \"inhuman act\" despite his inability to perform the task. ',\n",
       "  'category': 'national'},\n",
       " {'title': 'Telangana govt employee found charred to death in a burnt car in Medak',\n",
       "  'content': 'A Telangana state government employee was found charred to death inside a burnt car in Venkatapur village of Medak district on Monday. The deceased, Dharma Nayak (48), resided and worked in Hyderabad as a senior assistant at Telangana Secretariat, police said. Notably, a can of petrol near the car was found by the police. However, further investigation is underway. ',\n",
       "  'category': 'national'},\n",
       " {'title': 'New Parliament building to be completed by January end: Reports',\n",
       "  'content': 'The new Parliament building will reportedly be ready for the Budget session that usually starts at the end of January. Reports added that a decision on whether the entire session would be held in the new building remains to be taken. Some work would reportedly still continue, even as the Lok Sabha and Rajya Sabha chambers are completed.',\n",
       "  'category': 'national'},\n",
       " {'title': 'Internal migration, youth apathy reasons for low voter turnouts: ECI',\n",
       "  'content': 'An inability to vote due to internal migration, along with urban and youth \"apathy\", is contributing to low voter turnouts, the Election Commission of India (ECI) told a Parliamentary panel. Describing remote voting as a \"matter of importance\", ECI said it is deliberating on the matter. ECI added that the remote voting technology should not be connected to any network.',\n",
       "  'category': 'national'},\n",
       " {'title': \"Many reluctant to leave homes, every minute important: U'khand Chief Secy\",\n",
       "  'content': 'Uttarakhand Chief Secretary SS Sandhu on Monday said that several residents remain reluctant to leave their homes that have been declared unsafe due to land subsidence in Joshimath. He asserted that every minute is important and directed immediate evacuation of people from the affected zone. The district administration had put red cross signs on high-risk buildings. ',\n",
       "  'category': 'national'},\n",
       " {'title': 'Ladakh makes anti-skid chains must for vehicles on snow-covered roads',\n",
       "  'content': 'The Ladakh administration has made the use of anti-skid chains mandatory for vehicles plying on snow-covered roads. A senior official said a fine of ₹1,000 will be imposed on violators of the rule. The minimum temperature in Leh was recorded at minus 15.2 degrees Celsius, while Drass saw a low of minus 23.9 degrees Celsius.',\n",
       "  'category': 'national'},\n",
       " {'title': 'Black money is no more an issue with India: Swiss envoy Heckner',\n",
       "  'content': 'Switzerland\\'s Ambassador to India Dr Ralf Heckner said that black money is not an issue anymore in financial relations between Switzerland and India. Heckner said that he has been the Swiss Ambassador for over two years but he heard hardly anything about black money. \"There isn\\'t even one cloud over bilateral relations when it comes to financial relations,\" he said.',\n",
       "  'category': 'national'},\n",
       " {'title': \"Drunk man smoked in toilet, another peed on woman's blanket on Air India flight\",\n",
       "  'content': \"A drunk passenger smoked in the toilet on a Paris-Delhi Air India flight on December 6, the DGCA said. This is the same Paris-Delhi flight on which another drunk man urinated on a woman co-passenger's blanket when she went to the lavatory. Separately, Shankar Mishra was arrested for urinating on a woman on Air India's November 26 New York-Delhi flight.\",\n",
       "  'category': 'business'},\n",
       " {'title': \"RS Sodhi steps down as Amul's Managing Director after over 12 years\",\n",
       "  'content': 'RS Sodhi, who has been the Managing Director of Amul for more than 12 years, has stepped down from the role with immediate effect, the company said on Monday. Sodhi was given an extension for the top role over the past four years. Amul has given Chief Operating Officer (COO) Jayen Mehta the interim charge as its Managing Director.',\n",
       "  'category': 'business'},\n",
       " {'title': \"TCS' attrition rate falls for first time in 7 quarters, at 21.3% in Q3 FY23\",\n",
       "  'content': \"Tata Consultancy Services (TCS) reported a fall in its attrition rate in the October-December 2022 quarter to 21.3%, recording a reduction for the first time in seven consecutive quarters. TCS' total headcount reduced by 2,197 employees in Q3, against a net addition of 9,840 employees reported in Q2. Nearly 36% of the total workforce of TCS consists of women.\",\n",
       "  'category': 'business'},\n",
       " {'title': 'Musk enters Guinness World Records for the largest loss of personal fortune',\n",
       "  'content': 'Elon Musk has officially broken the world record for the largest loss of personal fortune in history, the Guinness World Records said. \"He lost approximately $182 billion since November 2021, as estimated by Forbes, although other sources suggest it could actually be closer to $200 billion,\" Guinness added. Musk\\'s wealth largely dropped due to the poor performance of Tesla\\'s stock.',\n",
       "  'category': 'business'},\n",
       " {'title': 'Go First flight took off leaving behind 50 passengers at Bengaluru airport: Reports',\n",
       "  'content': 'A Go First flight took off from Bengaluru to Delhi leaving behind over 50 passengers in a bus on tarmac on Monday morning, reports said. Several passengers took to Twitter to report the incident to the DGCA. Responding to some of the passengers on Twitter, Go First asked them for details and said, \"We regret the inconvenience caused.\"',\n",
       "  'category': 'business'},\n",
       " {'title': \"Vistara's Bhubaneswar-bound flight returns to Delhi due to hydraulic failure\",\n",
       "  'content': \"Vistara's flight UK 781 operating from Delhi to Bhubaneswar returned to Delhi after declaring a full emergency mid-air due to hydraulic failure on Monday. The flight with around 140 passengers onboard landed safely in Delhi and all passengers are safe, the Directorate General of Civil Aviation (DGCA) said. The DGCA will probe the incident, PTI reported quoting a DGCA official.\",\n",
       "  'category': 'business'},\n",
       " {'title': 'Eskom CEO allegedly given poisonous coffee, survives murder attempt in SA',\n",
       "  'content': 'André de Ruyter, the CEO of South African public power company Eskom, told the police that he survived a murder attempt in December. Ruyter claimed he was allegedly served cyanide-laced coffee at the office on December 13, the day after he internally resigned. Ruyter allegedly became weak, dizzy, confused, was shaking and vomiting, and subsequently collapsed after drinking the coffee.',\n",
       "  'category': 'business'},\n",
       " {'title': 'Made ₹10,000 commission from my 1st trade at the age of 19: Billionaire Adani',\n",
       "  'content': \"Billionaire Gautam Adani revealed he made ₹10,000 commission from his first trade at the age of 19. Adani, who's a college dropout, moved to Mumbai and started working at a diamond unit at 16. After three years, he started his own diamond trading brokerage. However, Adani said he was soon called back to Ahmedabad to help run his brother's factory.\",\n",
       "  'category': 'business'},\n",
       " {'title': \"I'll remain associated with dairy industry: Sodhi after resigning as Amul MD\",\n",
       "  'content': 'RS Sodhi, who stepped down from the post of Amul\\'s Managing Director, said he\\'ll \"continue to be associated with the dairy industry in one or the other way\". \"I was on an extension for over two years and my resignation was pending...for a long time,\" Sodhi added. Sodhi had been the dairy firm\\'s MD for over 12 years.',\n",
       "  'category': 'business'},\n",
       " {'title': \"It's a secret, I play 8-10 games of 'rummy paplu' with my wife every night: Adani\",\n",
       "  'content': 'Gautam Adani, during an appearance on India TV\\'s \\'Aap Ki Adalat\\' show, said, \"This is a secret. When I reach home from the office at night, I play \\'rummy paplu\\' card game with my wife Priti.\" He added, \"We play 8-10 games and most of the time she wins.\" Adani is India\\'s richest person and the third-richest person worldwide.',\n",
       "  'category': 'business'},\n",
       " {'title': 'TCS net profit jumps 11% to ₹10,846 crore in Q3, revenue up 19%',\n",
       "  'content': \"Tata Consultancy Services has reported an 11% jump year-on-year in its net profit to ₹10,846 crore in the third quarter. It also reported a jump of 19.1% to ₹58,229 crore in its consolidated revenue from operations. Its attrition rate for the quarter ending December 31 stood at 21.3%, and the firm's total workforce strength was reduced by 2,197 employees.\",\n",
       "  'category': 'business'},\n",
       " {'title': 'Hope people of Brazil are able to resolve matters peacefully: Musk',\n",
       "  'content': 'Tesla CEO Elon Musk took to Twitter to say, \"I hope that the people of Brazil are able to resolve matters peacefully.\" His statement comes after the riots by supporters of Brazil\\'s ex-President Jair Bolsonaro in Brasilia following his defeat in the recent polls. Bolsonaro\\'s supporters invaded and ransacked government buildings, demanding the reinstatement of Bolsonaro.',\n",
       "  'category': 'business'},\n",
       " {'title': 'Rolls-Royce reports record car sales in 118 years',\n",
       "  'content': \"Luxury car maker Rolls-Royce has sold 6021 cars in 2022, the highest annual sales in the company's 118-year history. Torsten Müller-Ötvös, the Chief Executive Officer of Rolls-Royce Motor Cars, said that the company has secured advance orders stretching far into 2023. The largest market for the car maker was United States followed by China.\",\n",
       "  'category': 'business'},\n",
       " {'title': 'Much to learn in quality: Mahindra as India surpasses Japan in auto market',\n",
       "  'content': 'Businessman Anand Mahindra reacted to India reportedly surpassing Japan in the auto sector in 2022, saying there is \"much to still learn in quality\". \"I went to Business School in the 80s...If I had told my international classmates that India would one day surpass Japan in terms of output...I would have been laughed at,\" he added.',\n",
       "  'category': 'business'},\n",
       " {'title': \"Buffett's Berkshire sells 1 million shares of Chinese EV maker BYD\",\n",
       "  'content': \"Warren Buffett's investment company Berkshire Hathaway has sold 1.058 million Hong Kong-listed shares of Chinese electric vehicle maker BYD at an average price of $24.52 per share, a filing showed. The sale lowered Berkshire's holdings in BYD's total issued H-shares to 13.97% on January 3 from 14.06%. Berkshire acquired 225 million BYD shares for $232 million in 2008.\",\n",
       "  'category': 'business'},\n",
       " {'title': \"Alibaba shares rise 7% following news of Ma ceding Ant's control\",\n",
       "  'content': \"The Hong Kong-listed shares of Alibaba jumped 7% on Monday following the news of Jack Ma giving up control of the Ant Group. Besides this, the shares of firms in which China's Ant holds a stake also rose. Shares of Longshine Technology Group, Jilin Zhengyuan, Shanghai Golden Bridge Infotech, Orbbec and Hundsun Technologies saw a rise.\",\n",
       "  'category': 'business'},\n",
       " {'title': 'HC issues notice to govt in ₹420-cr tax evasion case against Anil Ambani',\n",
       "  'content': 'The Bombay HC issued a show cause notice to the Attorney General while hearing Reliance Group Chairman Anil Ambani\\'s petition in the ₹420-crore tax evasion case. Ambani said the alleged transactions were carried out before Black Money Act\\'s enactment. \"You can say that henceforth, a person cannot do this action...but how can it have...retrospective effect?\" the HC asked the government.',\n",
       "  'category': 'business'},\n",
       " {'title': 'Vodafone to sell Hungarian unit for $1.82 bn',\n",
       "  'content': \"British telecom group Vodafone agreed to sell its Hungarian unit to local IT company 4iG and the Hungarian state for $1.82 billion. Vodafone said it will use the money from the sale to pay down debt. Vodafone's interim CEO Margherita Della Valle said that the sale, which is expected to be completed later this month, will accelerate competition in Hungary. \",\n",
       "  'category': 'business'},\n",
       " {'title': \"CBI arrest of Kochhars not in accordance with law, they'll be released: HC\",\n",
       "  'content': 'The Bombay HC, while granting bail to ICICI Bank ex-CEO Chanda Kochhar and her husband Deepak Kochhar in ICICI Bank-Videocon loan fraud case, said their arrest wasn\\'t \"in accordance with the provisions of law\". \"There has been non-compliance of Section 41(A), thus warranting their release,\" the HC noted. The Kochhars\\' release was ordered on cash bail of ₹1 lakh each.',\n",
       "  'category': 'business'},\n",
       " {'title': \"McDonald's ex-CEO charged $400,000 in US for misleading investors\",\n",
       "  'content': \"Former McDonald's CEO Stephen Easterbrook was charged by US Securities and Exchange Commission (SEC) for making misleading statements to investors about his termination. The SEC charged Easterbrook with a $400,000 civil penalty and barred him from serving as a director or officer for five years. He was fired in 2019 for engaging in a relationship with a McDonald's employee.\",\n",
       "  'category': 'business'},\n",
       " {'title': 'Adani firm hikes CNG price in Gujarat by ₹1 to ₹80.34/kg',\n",
       "  'content': \"Adani Total Gas Limited has hiked the price of CNG in Gujarat by ₹1/kg. CNG at the firm's stations across the state will cost ₹80.34/kg from Monday onwards. The hike by Adani Total Gas comes days after state-run Gujarat Gas raised the price of CNG by nearly ₹3.5/kg, said Federation of Gujarat Petroleum Dealers Association President Arvind Thakkar.\",\n",
       "  'category': 'business'},\n",
       " {'title': \"Reliance's fresh auction round opposed by Torrent Investments: Report\",\n",
       "  'content': 'Torrent Investments has reportedly challenged a decision by Reliance Capital creditors to hold a second round of auction of assets. Torrent Investments filed a petition with the National Company Law Tribunal and sought the bidding process conducted in December to be considered final. Reliance creditors decided on a fresh auction as Hinduja Global revised its offer after the last auction.',\n",
       "  'category': 'business'},\n",
       " {'title': 'Indian Oil chairman to also be managing director soon: Report',\n",
       "  'content': \"The Oil Ministry has reportedly agreed to re-designate the top position at Indian Oil Corporation (IOC) to chairman and managing director from just chairman. Reportedly, the India's largest oil company has long been demanding for such a change to bring it on par with other large public sector and private firms. It has never had a managing director or CEO.\",\n",
       "  'category': 'business'},\n",
       " {'title': \"Jet Airways' public shareholding to fall to 0.2% post-takeover: Report\",\n",
       "  'content': \"Public shareholding in Jet Airways will decline from 25% to 0.21% after Jalan-Kalrock consortium takes over the airline, CNBC-TV18 reported citing the carrier's resolution plan document. The wipe-out of public shareholding has been proposed by the consortium. The resolution applicant will restore public shareholding to 10% in 18 months and to 25% in three years, the plan further proposes.\",\n",
       "  'category': 'business'},\n",
       " {'title': 'Poor guy has been working really hard, we need to be extra careful with him: Rohit on Bumrah',\n",
       "  'content': 'Talking about Jasprit Bumrah being ruled out of ODI series against Sri Lanka delaying his international comeback, India captain Rohit Sharma said, \"Very unfortunate...Poor guy has been working really hard at NCA.\" He added, \"He felt stiffness in back...and if Bumrah is saying he isn\\'t feeling well, you\\'ve to pull him out. We need to be extra careful with Bumrah.\"',\n",
       "  'category': 'sports'},\n",
       " {'title': \"Australia's oldest living Test cricketer Norma Johnston dies aged 95\",\n",
       "  'content': 'Australia\\'s oldest living Test cricketer Norma Johnston died on Monday aged 95. Johnston played seven Tests for Australia Women from 1948 to 1951, scoring 151 runs at average of 25.16 and claiming 22 wickets. \"Her contribution to Australian cricket and...friendships she made with so many within the game will live on forever,\" Australia men\\'s Test captain Pat Cummins tweeted.',\n",
       "  'category': 'sports'},\n",
       " {'title': \"Mbappé defends Zidane after French football chief's 'I don't give a damn about him' remark\",\n",
       "  'content': 'France forward Kylian Mbappé has defended Zinedine Zidane after French football chief Noel Le Graet said he wouldn\\'t pick up the phone if Zidane called him to discuss coaching the national team. \"I don\\'t give a damn, he can go wherever he wants.\" Noel said about Zidane. \"Zidane is France, we don\\'t disrespect the legend like that,\" Mbappé tweeted.',\n",
       "  'category': 'sports'},\n",
       " {'title': 'Snake repellents used at Assam stadium ahead of India-Sri Lanka ODI',\n",
       "  'content': 'Organisers have used snake repellents at the Barsapara Cricket Stadium in Assam\\'s Guwahati ahead of the first ODI between India and Sri Lanka. \"Apart from fogging to keep mosquitoes away, we are spraying the stadium and the complex beyond with anti-snake chemicals,\" Assam Cricket Association (ACA) President Taranga Gogoi said. The match will take place tomorrow.',\n",
       "  'category': 'sports'},\n",
       " {'title': \"Ronaldo to make his debut in Saudi playing for mix of 2 teams vs Messi's PSG: Reports\",\n",
       "  'content': 'Al-Nassr forward Cristiano Ronaldo will reportedly make his debut in Saudi Arabia playing for a mix of Al-Nassr and Al-Hilal teams against Lionel Messi\\'s PSG in a friendly match on January 19. Talking about it, Al-Nassr manager Rudi Garcia said he wasn\\'t happy with the scheduling. \"For development...to see PSG...it\\'s a good thing...but we\\'ve...championship game 3 days later,\" he stated.',\n",
       "  'category': 'sports'},\n",
       " {'title': \"Kohli shares pic with Anushka, daughter walking on beach, says 'Just want to thank god'\",\n",
       "  'content': 'Virat Kohli took to social media to share a picture of himself walking on beach with Anushka Sharma and their daughter Vamika. He wrote, \"Rabba bakshiyan tu enniyan meherbaniyan, hor terto kuch ni mangda, bas tera shukar ada kardan (God, you blessed us so abundantly that I don\\'t have any other desires. I just want to thank you).\"',\n",
       "  'category': 'sports'},\n",
       " {'title': 'Gareth Bale retires from football at the age of 33',\n",
       "  'content': 'Gareth Bale, who led Wales in 2022 FIFA World Cup, announced his immediate retirement from football aged 33. \"I feel incredibly fortunate to have realised my dream of playing the sport I love,\" Bale said. Bale represented Southampton, Tottenham Hotspur, Real Madrid and Los Angeles FC in club football. He won five Champions League titles with Real Madrid.',\n",
       "  'category': 'sports'},\n",
       " {'title': 'I have never been to a college, but I think I did quite well: MS Dhoni',\n",
       "  'content': 'Mahendra Singh Dhoni, who released techno-educationalist Professor KK Abdul Gaffar\\'s autobiography in Kerala over the weekend, said at the event, \"I have never been to a college, but I think I did quite well.\" He added, \"Teaching is not only a profession, but it\\'s an art where you discipline students...tell them about their strengths and weaknesses.\" ',\n",
       "  'category': 'sports'},\n",
       " {'title': 'After Urvashi, her mother shares pic of hospital where Pant is admitted',\n",
       "  'content': 'After actress Urvashi Rautela, her mother Meera Rautela shared a picture on Instagram of Kokilaben Dhirubhai Ambani Hospital where Rishabh Pant is admitted. Meera wrote, \"Everything is [alright], don\\'t worry beta, Urvashi.\" Meera also shared a picture of herself in front of a temple. Reacting to the post, a user commented, \"You could\\'ve done this on call or WhatsApp.\"',\n",
       "  'category': 'sports'},\n",
       " {'title': 'Excited but bit nervous for hockey World Cup 2023: India forward Abhishek',\n",
       "  'content': 'Ahead of hockey World Cup 2023, India forward Abhishek said he\\'s excited but a bit nervous too. \"Playing for India at a home World Cup is a dream come true for me,\" he added. The 23-year-old made his debut in the previous season of FIH Pro League in February 2022. World Cup will be held in Bhubaneswar and Rourkela.',\n",
       "  'category': 'sports'},\n",
       " {'title': 'Captaining India in front of our fans in hockey WC means a lot: Harmanpreet',\n",
       "  'content': 'Indian men\\'s hockey team skipper Harmanpreet Singh said leading the side in a World Cup in front of home fans means a lot to him. \"We don\\'t know when...World Cup will be back on Indian soil...this is a massive opportunity. Each one of us are aware of...significance of the occasion,\" he stated. Tournament will take place in Bhubaneswar and Rourkela. ',\n",
       "  'category': 'sports'},\n",
       " {'title': \"Don't go if you can't afford India-SL ODI tickets: Kerala Sports Minister\",\n",
       "  'content': 'Kerala Sports Minister V Abdurahiman said those who cannot afford to watch the India-Sri Lanka ODI to be held in Thiruvananthapuram need not go. The minister was responding to questions on an alleged decision to hike the entertainment tax levied on spectators. The state government, meanwhile, has rejected reports that an excess tax was being levied to watch the match.',\n",
       "  'category': 'sports'},\n",
       " {'title': 'Djokovic to face Kyrgios in practice match before Australian Open 2023',\n",
       "  'content': \"Nine-time champion Novak Djokovic will face Nick Kyrgios in a practice match before the Australian Open. The match will be played at Rod Laver Arena on Friday. Djokovic was deported from Australia in 2022 over his stance against COVID-19 vaccination. World number 21 Kyrgios, runner-up to Djokovic at last year's Wimbledon, has not played since October.\",\n",
       "  'category': 'sports'},\n",
       " {'title': \"Rohit's level has slightly gone down, needs to regain form: Irfan Pathan\",\n",
       "  'content': 'Ex-India all-rounder Irfan Pathan has said Team India captain Rohit Sharma\\'s level has slightly gone down. \"The five centuries Rohit scored in the 2019 World Cup, he batted amazingly well. He will have to probably remember that and regain his form,\" added Irfan. Rohit was the highest run-scorer in the 2019 ODI World Cup, slamming 648 runs in nine games. ',\n",
       "  'category': 'sports'},\n",
       " {'title': \"It's critical that Hardik bowls 7-8 overs in ODIs till 2023 World Cup: Jaffer\",\n",
       "  'content': 'Former India cricketer Wasim Jaffer has said it\\'s critical that all-rounder Hardik Pandya bowls seven to eight overs in every ODI till the 2023 World Cup in October-November. \"In cases when there are only two frontline pacers, and if Pandya is the third seamer, then how many overs he can bowl becomes a huge question,\" explained Jaffer. ',\n",
       "  'category': 'sports'},\n",
       " {'title': \"There's no need to pick Kohli, Rohit currently: Saba Karim on T20Is\",\n",
       "  'content': 'Ex-selector Saba Karim said there is no need to pick Rohit Sharma and Virat Kohli in India\\'s T20I squad currently. \"Yes, they can be considered if they do well in the IPL...If that happens, the selectors won\\'t be able to look beyond them,\" added Karim. Rohit and Kohli did not feature in India\\'s recently concluded T20I series against Sri Lanka.',\n",
       "  'category': 'sports'},\n",
       " {'title': \"India's batting might've ability to drown opposition: Aakash ahead of SL ODIs\",\n",
       "  'content': 'Ahead of India-Sri Lanka ODI series, Aakash Chopra said India\\'s batting might have the ability to \"drown the opposition\" despite their loss in last ODI series against Bangladesh. \"Sri Lanka will have to compete a little more in ODIs because the bigger the format...gulf between the two teams keeps increasing,\" he added. First ODI will be played on Tuesday.',\n",
       "  'category': 'sports'},\n",
       " {'title': 'Mercedes will beat Red Bull in F1 2023 season: Lewis Hamilton',\n",
       "  'content': 'Mercedes F1 driver Lewis Hamilton said his team will challenge and beat Red Bull in the 2023 season. \"I do believe that...But I really hope that Ferrari are strong in the following years...I hope that it\\'s more than a two-way battle next year,\" said Hamilton. Mercedes finished behind Red Bull and Ferrari in the constructor\\'s championship last year. ',\n",
       "  'category': 'sports'},\n",
       " {'title': 'Players could play at Australian Open with COVID: Tournament Director Tiley',\n",
       "  'content': \"Australian Open Director Craig Tiley has said the players will not be required to take COVID-19 tests and could play even if they have the virus in the season's first Grand Slam in Melbourne. The tournament took place under a bio-bubble system in 2021, while COVID-19 vaccination was mandatory for entry into the country in 2022. \",\n",
       "  'category': 'sports'},\n",
       " {'title': 'Taking a day at a time: Raducanu on returning to fitness ahead of Aus Open',\n",
       "  'content': \"US Open 2021 champion Emma Raducanu, who rolled her ankle last week, said she's taking one day at a time and not expecting too much as she's trying to return to full fitness in time for Australian Open, beginning January 16. The 20-year-old retired at 6-0, 5-7 in her second-round match against Slovakian Viktoria Kuzmova at ASB Classic in Auckland.\",\n",
       "  'category': 'sports'},\n",
       " {'title': \"You've got to give it to Hardik, he did everything right: Gambhir on SL T20Is\",\n",
       "  'content': 'Talking about the recently-concluded T20I series against Sri Lanka, former India opener Gautam Gambhir said stand-in captain Hardik Pandya did everything right as skipper. \"The way the young bowlers bowled, Umran Malik. Suryakumar Yadav\\'s batting, the cameo from Rahul Tripathi. So I believe there have been excellent signs in this series from this young team,\" added Gambhir. ',\n",
       "  'category': 'sports'},\n",
       " {'title': \"I'm bowling with full rhythm, eager to make a comeback very soon: Shaheen\",\n",
       "  'content': 'Pakistan pacer Shaheen Shah Afridi has said he\\'s feeling much stronger than what he felt at T20 World Cup 2022. Shaheen\\'s knee injury resurfaced during T20 World Cup 2022 final against England. \"I\\'m bowling with full rhythm and eager to make a comeback very soon,\" he added. Shaheen underwent appendix surgery, a week after the T20 World Cup final.',\n",
       "  'category': 'sports'},\n",
       " {'title': \"With Suryakumar's red-hot form, I prefer him over Rahul for 1st SL ODI: Jaffer\",\n",
       "  'content': 'Wasim Jaffer said he\\'ll prefer Suryakumar Yadav over KL Rahul for first ODI against Sri Lanka, considering the \"red-hot form\" that the 32-year-old batter is currently in. Suryakumar, who finished as the leading T20I run-scorer in 2022 (1,164 in 31 innings), hit his third international century against Sri Lanka in third T20I. He\\'s yet to score a century in ODIs.',\n",
       "  'category': 'sports'},\n",
       " {'title': 'Hockey India becomes 1st national sports body to have its own metaverse',\n",
       "  'content': \"Ahead of the upcoming World Cup, Hockey India (HI) has become India's first national sports federation to enter the world of metaverse by launching the 'Hockeyverse' on their social media platforms on Monday. The 'Hockeyverse' features unique attractions such as the replica of Rourkela stadium and 'The Time Machine' which is designed based on time travel elements, HI said. \",\n",
       "  'category': 'sports'},\n",
       " {'title': '10 Chinese snooker players suspended for match-fixing, probe on',\n",
       "  'content': \"World Professional Billiards and Snooker Association (WPBSA) Chairman Jason Ferguson said they'll decide on framing charges against 10 Chinese players for match-fixing within weeks. The suspended players include former world number 11 Liang Wenbo and 2021 masters champion Yan Bingtao. The WPBSA started an investigation last year into allegations of manipulation of matches for betting purposes. \",\n",
       "  'category': 'sports'},\n",
       " {'title': 'Moscow-Goa flight gets bomb threat, makes emergency landing in Gujarat',\n",
       "  'content': \"A Goa-bound flight from Russia's Moscow made an emergency landing in Gujarat's Jamnagar at around 9.49 pm after Goa ATC (Air Traffic Control) received a bomb threat. The aircraft is in the isolation bay at the Jamnagar airport and further investigation is underway. The flight was carrying 244 passengers.\",\n",
       "  'category': 'world'},\n",
       " {'title': 'Punjabi language to be taught in some Australian public schools',\n",
       "  'content': 'Western Australian (WA) public schools will teach the Punjabi language to students, minister Sue Ellery has said. \"The development of Punjabi curriculum is particularly fitting given it could support students in key future employment opportunities,\" said Ellery. Punjabi has become the fastest-growing language in Australia, with an 80% rise in Punjabi speakers in 2021 as compared to 2016.',\n",
       "  'category': 'world'},\n",
       " {'title': 'Eskom CEO allegedly given poisonous coffee, survives murder attempt in SA',\n",
       "  'content': 'André de Ruyter, the CEO of South African public power company Eskom, told the police that he survived a murder attempt in December. Ruyter claimed he was allegedly served cyanide-laced coffee at the office on December 13, the day after he internally resigned. Ruyter allegedly became weak, dizzy, confused, was shaking and vomiting, and subsequently collapsed after drinking the coffee.',\n",
       "  'category': 'world'},\n",
       " {'title': 'Cargo vessel that got stuck in Suez Canal refloated',\n",
       "  'content': \"A cargo vessel that went aground in Suez Canal on Monday was refloated and canal traffic was restored, the Suez Canal Authority said. The vessel, MV Glory, is carrying over 65,000 metric tonnes of corn to China. A canal services firm said three tug boats worked to refloat the vessel, which ran aground in the canal's single-lane stretch.\",\n",
       "  'category': 'world'},\n",
       " {'title': 'Man tries to rob US restaurant with fake gun, video shows customer shooting him 9 times',\n",
       "  'content': 'A customer at a restaurant in US\\' Texas shot dead a man who tried to rob diners. A video of the incident has surfaced online, showing the customer shooting the robber eight times before taking his gun and shooting him again after he collapsed on the floor. The robber\\'s weapon was later revealed by police to be a \"plastic gun\".',\n",
       "  'category': 'world'},\n",
       " {'title': \"Cargo vessel gets stuck in Suez Canal's single-lane stretch\",\n",
       "  'content': \"A cargo vessel, MV Glory, ran aground in a single-lane stretch of Suez Canal on Monday. A canal services firm said that tug boats were trying to refloat the vessel. The China-bound vessel is carrying 65,000 metric tonnes of corn from Ukraine. In 2021, the 'Ever Given' container ship got stuck in the canal, blocking the waterway for six days.\",\n",
       "  'category': 'world'},\n",
       " {'title': \"Camilla was the villain, she was dangerous: UK's Prince Harry\",\n",
       "  'content': 'UK\\'s Prince Harry called his stepmother Camilla, Queen Consort, \"villain\", and said, \"She was the third person in their (Harry\\'s parents) marriage.\" He said he and his brother Prince William begged their father King Charles not to marry Camilla. \"I even wanted Camilla to be happy...Maybe she\\'d be less dangerous if she was happy,\" Harry wrote in his book \\'Spare\\'.',\n",
       "  'category': 'world'},\n",
       " {'title': 'Brazil ex-President Bolsonaro condemns riots by his supporters, denies role',\n",
       "  'content': 'Brazil\\'s former President Jair Bolsonaro has condemned the \"pillaging and invasions of public buildings\" by his supporters in Brasilia. He refuted allegations by Brazil President Luiz Inacio Lula da Silva, who blamed Bolsonaro for the riots, and said that Brazilians have the right to peacefully protest. Thousands of Bolsonaro backers stormed the Presidential Palace and other government buildings.',\n",
       "  'category': 'world'},\n",
       " {'title': \"Video shows Brazil ex-Prez's supporters climb on roof after storming govt buildings\",\n",
       "  'content': \"Supporters of Brazil's former President Jair Bolsonaro stormed buildings representing the three branches of government to protest against what they claim was a rigged election. A footage showed protesters climbing on the roof of the National Congress building in Brasilia and police trying to regain control of these buildings. The rioters also destroyed windows and set fire inside these buildings. \",\n",
       "  'category': 'world'},\n",
       " {'title': 'Some decided to get into bed with the devil: Prince Harry on UK royals ',\n",
       "  'content': 'UK\\'s Prince Harry, while talking about the relationship between certain members of the royal family and the tabloid press, said, \"Certain members have decided to get in the bed with the devil...to rehabilitate their image.\" He added, \"The moment that that rehabilitation comes at the detriment of others, me, other members of my family, that\\'s where I draw the line.\"',\n",
       "  'category': 'world'},\n",
       " {'title': \"Manpreet Monica Singh becomes US' first female Sikh judge\",\n",
       "  'content': 'Indian-origin Manpreet Monica Singh, who hails from Houston in Texas, has become the first female Sikh judge in the USA. \"It\\'s a *true honor* to [represent] the people of Harris County as a Sikh...judge,\" said Singh after the swearing-in. \"Thank you to everyone for making this a historic moment, one that someday won\\'t be an uncommon event,\" she added.',\n",
       "  'category': 'world'},\n",
       " {'title': 'Very risky to go back: 23-year-old Afghan woman studying in India',\n",
       "  'content': 'A 23-year-old Afghan woman, currently a student of MSc Information Technology at Panjab University, said going back to her country after completing education would be \"very risky\" for her. Saeeda Dilyabi said maybe she would\\'ve got a good job in Afghanistan if she were a man. Another woman said her degrees would be rendered useless if she returned to Afghanistan.',\n",
       "  'category': 'world'},\n",
       " {'title': 'Black money is no more an issue with India: Swiss envoy Heckner',\n",
       "  'content': 'Switzerland\\'s Ambassador to India Dr Ralf Heckner said that black money is not an issue anymore in financial relations between Switzerland and India. Heckner said that he has been the Swiss Ambassador for over two years but he heard hardly anything about black money. \"There isn\\'t even one cloud over bilateral relations when it comes to financial relations,\" he said.',\n",
       "  'category': 'world'},\n",
       " {'title': '2 dead after small plane crashes in northern Russia',\n",
       "  'content': 'Two people lost their lives after a small aircraft crash-landed in northern Russia in freezing weather, Russia\\'s Emergencies Ministry said on Monday. Two crew members and 10 passengers were onboard the Antonov An-2 aircraft when it crashed in the Nenets autonomous region, the ministry informed. \"A ground team is travelling to the site on snowmobiles and by helicopter,\" it added.',\n",
       "  'category': 'world'},\n",
       " {'title': 'Iran sentences 3 more to death in connection with anti-govt protests',\n",
       "  'content': 'An Iranian court on Monday sentenced three more people to death in connection with the ongoing anti-government protests in the country, state media reported. The three, all men, were found guilty of killing three members of the security forces. So far, 17 people have received the death penalty for involvement in the protests. Four of them have already been executed.',\n",
       "  'category': 'world'},\n",
       " {'title': \"Russian missile kills 2 women at market in Ukraine's Kharkiv region\",\n",
       "  'content': \"A Russian missile hit a market in the village of Shevchenkove in Ukraine's Kharkiv region on Monday, killing two women and wounding four others, regional prosecutors said. A 10-year-old girl was among those injured, prosecutors added. The strike was launched using an S-300 air defence system in Russia's Belgorod region, the Kharkiv prosecutor's office said citing initial information.\",\n",
       "  'category': 'world'},\n",
       " {'title': 'Pak Army chief meets Saudi Crown Prince amid economic crisis',\n",
       "  'content': \"Pakistan Army chief Gen Asim Munir on Monday met Saudi Arabia's Crown Prince Mohammed bin Salman and discussed ways to improve bilateral ties between the two countries, SPA reported. This is Gen Munir's first official foreign visit since becoming Army chief and it comes amid the dire economic situation facing Pakistan. The trip will conclude with him visiting the UAE.\",\n",
       "  'category': 'world'},\n",
       " {'title': 'Bosnian Serb leader awards medal to Russian Prez Putin in absentia',\n",
       "  'content': 'The leader of the Serb Republic, one of the two autonomous entities that constitute Bosnia and Herzegovina, on Sunday honoured Russian President Vladimir Putin for his \"patriotic concern and love\" towards Bosnian Serbs. Milorad Dodik awarded a medal to Putin in absentia. Dodik represents the ethnic Bosnian Serb population of Bosnia and Herzegovina in the country\\'s three-member presidency.',\n",
       "  'category': 'world'},\n",
       " {'title': 'No toxins found in anti-terror raids linked to Iranian duo in Germany',\n",
       "  'content': 'Police searches on Monday of two garages used by a terror suspect in the German town of Castrop-Rauxel proved futile after no hazardous substances were recovered, authorities said. The searches were carried out after two Iranian brothers were arrested on suspicion of plotting a terror attack using bioweapons. The two are believed to have been motivated by radical Islamic ideology.',\n",
       "  'category': 'world'},\n",
       " {'title': 'Ex-Czech PM acquitted in EU funds fraud case ahead of prez polls',\n",
       "  'content': 'A court in the Czech Republic on Monday acquitted former PM Andrej Babis in a case wherein he was accused of fraudulently securing funds worth €2 million from the EU in 2008. This comes ahead of a presidential election this week in which Babis is among the most-preferred candidates. He, however, is still facing a French investigation over financial fraud.',\n",
       "  'category': 'world'},\n",
       " {'title': \"Refrain from 'political engineering' in next polls: Imran to Pak military\",\n",
       "  'content': 'Pakistan\\'s ousted PM Imran Khan on Sunday asked the country\\'s military to refrain from \"political engineering\" in the general elections due this year. Khan accused the military of indulging in activities aimed at hurting his party\\'s prospects in future elections. The military is trying to unite different factions of the Muttahida Qaumi Movement (MQM) in Karachi, he claimed.',\n",
       "  'category': 'world'},\n",
       " {'title': 'UAE says it will teach about Holocaust in schools',\n",
       "  'content': 'The UAE will begin teaching about the Holocaust in history classes in primary and secondary schools across the country, its embassy in the US has said. This comes in the wake of the normalisation of ties between the UAE and Israel in 2020 as part of a peace deal brokered by the administration of erstwhile US President Donald Trump.',\n",
       "  'category': 'world'},\n",
       " {'title': \"Indian-origin man in US charged with capital murder over 9-yr-old son's killing\",\n",
       "  'content': 'A 39-year-old Indian-origin man has been charged with capital murder for allegedly stabbing his nine-year-old son to death in the US state of Texas. Police said the child was found with multiple stab wounds in the garage of his own home. The accused was located by officers inside the same house while inflicting self-harm with a knife, McKinney police informed.',\n",
       "  'category': 'world'},\n",
       " {'title': 'Palestinian PM says Israel trying to topple Palestinian Authority',\n",
       "  'content': 'Palestinian prime minister Mohammad Shtayyeh has accused Israel\\'s new government of trying to topple the Palestinian Authority (PA). Israel recently approved measures to penalise the internationally recognised body for pushing the ICJ to opine on Israel\\'s occupation of Palestinian territories. The steps are aimed at pushing the PA \"to the brink, financially and institutionally\", Shtayyeh said. ',\n",
       "  'category': 'world'},\n",
       " {'title': \"China conducts drills near Taiwan ahead of German MPs' arrival\",\n",
       "  'content': \"China conducted military drills around Taiwan, the People's Liberation Army (PLA) said on Sunday. This came ahead of a four-day visit by a high-ranking parliamentary delegation from Germany that landed in Taiwan on Monday. The German MPs arrived as the self-governing island's Ministry of National Defense reported that Chinese warplanes had been detected in its air defence identification zone.\",\n",
       "  'category': 'world'},\n",
       " {'title': 'TN Governor walks out of Assembly amid row with CM Stalin over speech, video surfaces',\n",
       "  'content': 'Tamil Nadu Governor RN Ravi on Monday walked out of the Assembly as CM MK Stalin passed a resolution asking the Speaker to take on record only the speech prepared by the state government. While speaking in the Assembly, Ravi had skipped portions of the government-prepared customary address. Stalin said Ravi went against the decorum of the Assembly.',\n",
       "  'category': 'politics'},\n",
       " {'title': \"Delhi Police uses water cannons on BJP workers protesting outside Kejriwal's house\",\n",
       "  'content': 'Delhi Police used water cannons on BJP workers who were protesting outside CM Arvind Kejriwal\\'s residence against the violence in MCD House. \"Our protest will continue until CM Kejriwal doesn\\'t suspend goon municipal councillors,\" said BJP MP Parvesh Sahib Singh. BJP had earlier claimed that two of its councillors had suffered injuries in the MCD House chaos. ',\n",
       "  'category': 'politics'},\n",
       " {'title': 'I decided to wear t-shirt till I shiver after meeting 3 children in torn shirts in MP: Rahul',\n",
       "  'content': 'Congress leader Rahul Gandhi on Monday told reporters that he decided to wear only a t-shirt after meeting three girls in Madhya Pradesh. \"When yatra reached Madhya Pradesh, it was mildly cold. Three poor children came to me in torn shirts, they were shivering. That day, I decided until I shiver I will only be wearing t-shirt,\" he said.',\n",
       "  'category': 'politics'},\n",
       " {'title': 'Haryana minister questioned for 7 hours in sexual harassment case',\n",
       "  'content': 'Haryana minister Sandeep Singh, who is accused of sexually harassing a female coach, was questioned by police for seven hours in Chandigarh on Sunday. The police have taken his two official mobile phones into possession for further probe. An FIR has been registered against him on the charges of stalking, illegal confinement, sexual harassment and criminal intimidation.',\n",
       "  'category': 'politics'},\n",
       " {'title': \"I've killed Rahul Gandhi, the person you are seeing is not Rahul: Rahul to reporter\",\n",
       "  'content': 'Congress leader Rahul Gandhi on Monday told a journalist that he has \"killed\" Rahul Gandhi when the reporter questioned him about his image change due to Bharat Jodo Yatra. Gandhi said, \"Rahul Gandhi is in your mind, I\\'ve killed Rahul Gandhi. The person you are seeing isn\\'t Rahul Gandhi.\" He added, \"Read the Hindu religion, about Lord Shiva...you will understand.\"',\n",
       "  'category': 'politics'},\n",
       " {'title': \"Don't go if you can't afford India-SL ODI tickets: Kerala Sports Minister\",\n",
       "  'content': 'Kerala Sports Minister V Abdurahiman said those who cannot afford to watch the India-Sri Lanka ODI to be held in Thiruvananthapuram need not go. The minister was responding to questions on an alleged decision to hike the entertainment tax levied on spectators. The state government, meanwhile, has rejected reports that an excess tax was being levied to watch the match.',\n",
       "  'category': 'politics'},\n",
       " {'title': 'BJP will definitely use Nupur Sharma in 2024 Lok Sabha polls: Owaisi',\n",
       "  'content': 'AIMIM chief Asaduddin Owaisi has said that he will not be surprised if suspended BJP leader Nupur Sharma contests the 2024 Lok Sabha elections from Delhi. \"She\\'ll definitely come back and fight elections for BJP. [The party will] definitely use her,\" Owaisi added. Notably, Sharma was suspended from the BJP following a controversy triggered by her remarks on Prophet Muhammad.',\n",
       "  'category': 'politics'},\n",
       " {'title': 'Women power takes India forward: Cong on all-women yatra in Haryana',\n",
       "  'content': 'Congress leader Rahul Gandhi-led \\'Bharat Jodo Yatra\\' witnessed an all-women walk on Monday in Haryana. \"Women power takes the country forward...Today in #BharatJodoYatra women are taking the journey forward by keeping pace with @RahulGandhi ji. Today\\'s day in Bharat Jodo Yatra is in the name of women power,\" Congress wrote on Twitter. ',\n",
       "  'category': 'politics'},\n",
       " {'title': \"Nitish's statement on population can be termed 'sadak chhap': BJP\",\n",
       "  'content': 'BJP leader Sushil Kumar Modi on Monday said that Bihar CM Nitish Kumar\\'s remark on population can be termed \"sadak chhap\". He said that a CM should not make such sexist remarks, adding that Kumar should apologise to the women. Kumar had earlier said that the population in the state wouldn\\'t get under control as men don\\'t take responsibility.',\n",
       "  'category': 'politics'},\n",
       " {'title': \"A 'new Joshimath town' should be built by Centre: Ex-U'khand CM\",\n",
       "  'content': 'Ex-Uttarakhand CM Harish Rawat demanded the BJP-led Centre build a \"new Joshimath town\" and said that the existing town needs to be protected, given its immense religious importance. \"After talking to the affected people here...it became clear...that there is a need to build a new Joshimath town in adjoining areas, including government land,\" Rawat said after visiting Joshimath on Monday. ',\n",
       "  'category': 'politics'},\n",
       " {'title': 'AAP will set up full-fledged organisation in Maha, contest all polls: Italia',\n",
       "  'content': 'The Aam Aadmi Party (AAP) will set up a full-fledged organisation and contest \"all small and big polls\" in Maharashtra, announced party leader Gopal Italia. Maharashtra AAP chief Preeti Sharma Menon said the party will contest the Brihanmumbai Municipal Corporation elections with \"all its strength\". \"People (of Maharashtra) are left at the mercy of God and are helpless,\" said Italia.',\n",
       "  'category': 'politics'},\n",
       " {'title': \"PM Modi will be benefitted if it's Modi vs Kejriwal or Rahul in 2024: Owaisi\",\n",
       "  'content': 'AIMIM chief Asaduddin Owaisi has said that a single Opposition party or face will not be enough to defeat the BJP in the 2024 Lok Sabha elections. \"Opposition should look to put up a tough fight,\" he said. \"If it\\'s PM Narendra Modi versus (Arvind) Kejriwal or Rahul Gandhi, the PM would be at an advantage,\" Owaisi added.',\n",
       "  'category': 'politics'},\n",
       " {'title': 'Most DMK people are not Tamilians: Ex-BJP MP on Tamil Nadu name row',\n",
       "  'content': 'Reacting to DMK criticising Tamil Nadu Governor RN Ravi\\'s remark that \"Thamizhagam\" is a more \"appropriate\" name than Tamil Nadu, former BJP MP Subramanian Swamy said that \"most DMK people are not Tamilians\". He said, \"The Governor only said that Thamizhagam could be a better word. He did not issue a statement or put out a change in the law.\"',\n",
       "  'category': 'politics'},\n",
       " {'title': 'Jharkhand BJP MLA sent to jail in a 10-year-old case',\n",
       "  'content': 'A three-time Jharkhand BJP MLA Dulu Mahato surrendered himself to a local court in Dhanbad after which he was sent to judicial custody in a 10-year-old case. Mahato was sent to jail in a case of forcibly freeing a person from police custody. Notably, Mahato appeared alone in the court due to a strike called by lawyers, an advocate said.',\n",
       "  'category': 'politics'},\n",
       " {'title': '1 crore government posts are lying vacant in India: Varun Gandhi',\n",
       "  'content': 'BJP MP Varun Gandhi highlighted the issue of unemployment in the country and claimed that one crore government posts are lying vacant. He went on to say that the government should fill these posts. He also spoke about issues faced by farmers and asked sugar mills to clear dues they owe to farmers or be ready to face protests.',\n",
       "  'category': 'politics'},\n",
       " {'title': 'Was indicted in scam: BJP on ex-Army chief joining Bharat Jodo Yatra',\n",
       "  'content': 'BJP leader Amit Malviya reacted to ex-Chief of Army Staff General Deepak Kapoor joining Congress\\' Bharat Jodo Yatra and said that he was indicted in Adarsh scam along with other senior Army officers. Sharing his picture with Rahul Gandhi, Malviya wrote, \"The inquiry committee had opined that they may be debarred from holding any Govt position...for shaming the Armed Forces.\"',\n",
       "  'category': 'politics'},\n",
       " {'title': 'Bengal believes in giving development humane face: Mamata at G20 meet',\n",
       "  'content': 'While addressing a G20 meeting on financial inclusion in Kolkata, West Bengal CM Mamata Banerjee said that her government believes in giving development a humane face. She also said that the state government has created 1.2 crore jobs and increased Bengal’s GDP. \"We launched the \\'government at your doorstep\\' programme to ensure that people get the benefits of...initiatives,\" said Banerjee.',\n",
       "  'category': 'politics'},\n",
       " {'title': \"Secular forces need to work together for country's growth: Yechury\",\n",
       "  'content': \"The CPI(M) General Secretary Sitaram Yechury advocated for a united front, stating that secular forces must work together to bring better times in the country. He also claimed that whenever the Congress took the Left's advice seriously, it benefitted the party and the country. He was speaking at an event organised by the Pranab Mukherjee Legacy Foundation in New Delhi.\",\n",
       "  'category': 'politics'},\n",
       " {'title': \"Priyanka Gandhi to address Cong women's convention in Bengaluru\",\n",
       "  'content': 'Congress General Secretary Priyanka Gandhi will address the party\\'s women\\'s convention in Bengaluru on January 16, the party\\'s State President DK Shivakumar said. Shivakumar added Congress is planning a separate manifesto ahead of the Karnataka polls and wants to release a \"guarantee letter\" along with the manifesto. The convention of women leaders has been organised at Palace Ground in Bengaluru.',\n",
       "  'category': 'politics'},\n",
       " {'title': 'PM Modi never held single press conference in 9 years: K Kavitha',\n",
       "  'content': 'Bharat Rashtra Samithi (BRS) MLC K Kavitha criticised PM Narendra Modi for not holding a single press conference in the last nine years. She said, \"As far as I know, no journalist asked him any question...But, here (in Telangana) our Chief Minister conducts press conference with 300 to 350 journalists and answers the questions raised by reporters.\"',\n",
       "  'category': 'politics'},\n",
       " {'title': \"Indian diaspora is country's brand ambassador: PM Narendra Modi\",\n",
       "  'content': 'PM Narendra Modi said that the Indian diaspora is the brand ambassador of India and that \\'Vasudhaiva Kutumbakam\\' is visible through the overseas Indians. He said, \"You all are \\'Rashtradoots\\'. Today, India is being looked at with hope and curiosity. India\\'s voice is being heard on the global stage. Our skilled capital can become the world\\'s growth engine.\"   ',\n",
       "  'category': 'politics'},\n",
       " {'title': \"Kauravas of 21st century wear khaki half-pants, run 'shakhas': Rahul\",\n",
       "  'content': 'Congress leader Rahul Gandhi on Monday accused RSS of \"attacking India\\'s tapasya\". \"Kauravas of the 21st century wear khaki half-pants and run \\'shakhas\\'. Beside them stand the country\\'s two to three richest people,\" Gandhi said.  \"We are seeing it as tapasya,\" Rahul said, referring to Bharat Jodo Yatra as a mark of austerity and self-meditation.',\n",
       "  'category': 'politics'},\n",
       " {'title': \"RSS never chants 'Har Har Mahadev', it removed Sita from 'Siya Ram': Rahul\",\n",
       "  'content': 'Speaking during \\'Bharat Jodo Yatra\\' in Haryana\\'s Kurukshetra, Congress leader Rahul Gandhi said, \"RSS people never chant \\'Har Har Mahadev\\' because Lord Shiva was a \\'tapasavi\\' and these people are attacking India\\'s \\'tapasya\\'.\" \"They have removed Goddess Sita from \\'Jai Siya Ram\\',\" he said. \"These people are working against India\\'s culture,\" Rahul added.',\n",
       "  'category': 'politics'},\n",
       " {'title': \"Punjab admin has completely collapsed, CM should resign: BJP's Chugh\",\n",
       "  'content': 'BJP leader Tarun Chugh said the administration of Punjab has \"collapsed\" and Chief Minister Bhagwant Mann should \"immediately resign\". \"Punjab has never faced such a situation which has arisen today,\" said Chugh. This came in reaction to the Punjab Civil Services (PCS) Officers Association going on a week-long strike to protest against the arrest of an IAS officer. ',\n",
       "  'category': 'politics'},\n",
       " {'title': 'Rahul Gandhi has ability to become Prime Minister: Shatrughan Sinha',\n",
       "  'content': 'Trinamool Congress (TMC) MP Shatrughan Sinha on Sunday stated that Congress MP Rahul Gandhi has the ability to become the Prime Minster. He added, \"[Rahul\\'s] image has totally changed now...He has emerged as a very serious leader of the country.\" He also compared Congress\\' Bharat Jodo Yatra with LK Advani\\'s \\'rath yatra\\' and former Prime Minister Chandra Shekhar\\'s \\'padayatra\\'.',\n",
       "  'category': 'politics'},\n",
       " {'title': 'Artificial intelligence bot to defend a human in US court for the first time',\n",
       "  'content': \"An artificial intelligence bot will defend a human for the first time in a US court. Developed by DoNotPay, the bot will run on the defendant's smartphone and listen to court arguments in real-time, telling the defendant what to say via earpiece. The case is regarding a speeding ticket and DoNotPay will cover any fines if they lose the case.\",\n",
       "  'category': 'technology'},\n",
       " {'title': 'Sacked Twitter staff getting one-third of promised severance: Report',\n",
       "  'content': 'Some of the laid-off Twitter employees reportedly received their official severance agreements after months on Saturday. However, as per Fortune, the agreement provided only one month of base pay as severance, instead of the \"3 months of severance compensation\" promised by new owner Elon Musk. Moreover, the employees will not receive their prorated performance bonuses, the report said.',\n",
       "  'category': 'technology'},\n",
       " {'title': \"TCS' attrition rate falls for first time in 7 quarters, at 21.3% in Q3 FY23\",\n",
       "  'content': \"Tata Consultancy Services (TCS) reported a fall in its attrition rate in the October-December 2022 quarter to 21.3%, recording a reduction for the first time in seven consecutive quarters. TCS' total headcount reduced by 2,197 employees in Q3, against a net addition of 9,840 employees reported in Q2. Nearly 36% of the total workforce of TCS consists of women.\",\n",
       "  'category': 'technology'},\n",
       " {'title': 'Musk enters Guinness World Records for the largest loss of personal fortune',\n",
       "  'content': 'Elon Musk has officially broken the world record for the largest loss of personal fortune in history, the Guinness World Records said. \"He lost approximately $182 billion since November 2021, as estimated by Forbes, although other sources suggest it could actually be closer to $200 billion,\" Guinness added. Musk\\'s wealth largely dropped due to the poor performance of Tesla\\'s stock.',\n",
       "  'category': 'technology'},\n",
       " {'title': \"Twitter to undergo a 'much larger UI overhaul', says Elon Musk\",\n",
       "  'content': 'Twitter CEO Elon Musk on Sunday said that the micro-blogging site will undergo a \"much larger UI overhaul\" and that the first part of this overhaul will be rolled out later this week. \"Easy swipe right/left to move between recommended vs followed tweets rolls out later this week,\" Musk tweeted. Long-form tweets will be introduced in early February, he added.',\n",
       "  'category': 'technology'},\n",
       " {'title': \"6-min flight shortest by Musk's private jet in 2022: Student who tracks the jet\",\n",
       "  'content': \"Elon Musk's private jet took 134 flights in 2022 and the shortest flight lasted for six minutes, according to Jack Sweeney, the 20-year-old college student who tracks Musk's jet. The flight began and ended in the Californian city of Long Beach on December 28. The longest flight of 12 hours and 20 minutes was from Mykonos, Greece to Austin, Texas.\",\n",
       "  'category': 'technology'},\n",
       " {'title': 'TCS net profit jumps 11% to ₹10,846 crore in Q3, revenue up 19%',\n",
       "  'content': \"Tata Consultancy Services has reported an 11% jump year-on-year in its net profit to ₹10,846 crore in the third quarter. It also reported a jump of 19.1% to ₹58,229 crore in its consolidated revenue from operations. Its attrition rate for the quarter ending December 31 stood at 21.3%, and the firm's total workforce strength was reduced by 2,197 employees.\",\n",
       "  'category': 'technology'},\n",
       " {'title': \"Body representing Google, Meta calls panel's report 'regressive'\",\n",
       "  'content': 'Industry body Asia Internet Coalition (AIC), representing tech companies like Google, Twitter and Meta, among others, called the Parliamentary Standing Committee on Finance\\'s recommendation to introduce a digital competition law \"regressive\". In a statement the AIC said, \"The...law...may dampen digital innovation in India.\" The panel said the law \"will be a boon...for the entire world\".',\n",
       "  'category': 'technology'},\n",
       " {'title': 'Musk wants to shift Tesla fraud trial to Texas due to bias of jury',\n",
       "  'content': 'Elon Musk wants to shift his fraud trial with Tesla shareholders from San Francisco to Texas because of the jurors\\' bias against him due to Twitter layoffs and \"local negativity\". Musk proposed the trial be held in western Texas, where Tesla moved its headquarters. Investors are suing Musk over his 2018 tweets about taking Tesla private which were \"indisputably false\".',\n",
       "  'category': 'technology'},\n",
       " {'title': \"Man inspired by 'Office Space' film steals ₹2 crore from US e-comm site\",\n",
       "  'content': \"A former engineer of the US-based e-commerce website Zulily has been charged with stealing over ₹2.4 crore from Zulily after allegedly being inspired by the 1999 film 'Office Space'. Ermenildo Valdez Castro allegedly manipulated product prices and altered the company's code to divert shipping fees from Zulily to a personal account, stealing about ₹2.14 crore in electronic payments.\",\n",
       "  'category': 'technology'},\n",
       " {'title': \"India's future is in ABC- AI, blockchain & cloud computing: Minister\",\n",
       "  'content': 'Union Minister Anurag Thakur said India\\'s future is in \\'ABC\\', which stands for artificial intelligence, blockchain and cloud computing. \"Considering the immense diversity...that India offers, there\\'s a growing saying amongst CEOs, \\'If it works in India, it works anywhere in the world\\',\" Thakur said. India is \"emerging as spotlight...in software, space tech and...digital transformation\", he added. ',\n",
       "  'category': 'technology'},\n",
       " {'title': 'Seattle schools sue Meta, Alphabet over youth mental health crisis',\n",
       "  'content': 'The Seattle city school district has filed a lawsuit against Alphabet, Meta, Snap and TikTok-parent ByteDance, claiming the firms are responsible for a worsening mental health crisis among students. \"Defendants have successfully exploited the vulnerable brains of youth,\" the lawsuit said. The district includes more than 100 schools and serves about 50,000 children.',\n",
       "  'category': 'technology'},\n",
       " {'title': \"Merger deal pursuit 'going well' despite delay: Samsung Co-CEO\",\n",
       "  'content': \"Samsung Co-CEO Han Jong-hee said the company is still pursuing a merger deal to enhance its business and that it can soon deliver good news. He cited the ongoing Russia-Ukraine war, China's lockdowns and tensions between the US and China as some reasons for the delay. Samsung's extensively reviewing M&A opportunities in various industries, Jong-hee had said a year ago.\",\n",
       "  'category': 'technology'},\n",
       " {'title': 'Meta names Vikas Purohit as India head of Global Business Group',\n",
       "  'content': \"Meta on Monday announced it has appointed Vikas Purohit as the Director of Global Business Group in India. Purohit's role will include leading Meta's relationship with India's major brands and advertising agencies to help drive revenue for the company. Before joining Meta, Purohit was serving as Tata CLiQ CEO and has previously worked at Amazon and Reliance Brands, among others.\",\n",
       "  'category': 'technology'},\n",
       " {'title': 'Bitcoin crosses $17,000 for first time in 2023 over US jobs report',\n",
       "  'content': 'Bitcoin crossed the $17,000 mark for the first time in 2023 following a jobs report which stated that US reported lowest unemployment rate in December. According to CoinMarketCap, Bitcoin price was at $17,209.51 today, registering a 24-hour gain of 1.55%. The report stated that US jobs market ended 2022 on a high note and added 2,23,000 jobs in December.',\n",
       "  'category': 'technology'},\n",
       " {'title': 'Twitter further cuts staff overseeing global content moderation',\n",
       "  'content': 'Twitter has further reduced the strength of its trust and safety team handling global content moderation and the unit related to hate speech, Bloomberg reported. Some staff overseeing misinformation policy, global appeals and state media were also eliminated, the report added. Twitter executive Ella Irwin confirmed Twitter made some cuts in the trust and safety team on Friday.',\n",
       "  'category': 'technology'},\n",
       " {'title': 'Hackers using ChatGPT to write malicious codes, steal data: Report',\n",
       "  'content': 'OpenAI\\'s ChatGPT is being used by cybercriminals to develop malicious codes to steal users\\' data, Check Point Research\\'s (CPR) report said. \"Cybercriminals are finding ChatGPT attractive...We\\'ve seen evidence of hackers starting to use it to write malicious code. ChatGPT has the potential to speed up the process for hackers by giving them a good starting point,\" a CPR official said.',\n",
       "  'category': 'technology'},\n",
       " {'title': \"I suspect we'll see tech stocks hit 10 year lows: Zoho CEO Vembu\",\n",
       "  'content': 'Zoho CEO Sridhar Vembu took to Twitter to say he suspects the tech stock prices will hit \"10 year lows\". He said this in response to investor David Sacks saying he got offered office space in San Francisco for the same price as in 2009. \"Cisco was valued at $600 billion...and now...is valued at approximately $200 billion,\" Vembu added.',\n",
       "  'category': 'technology'},\n",
       " {'title': \"Have no plan for IPO, focussing on business optimisation: China's Ant\",\n",
       "  'content': 'China-based Ant Group has said it has no plans for an IPO and has been focussing on its \"business rectification and optimisation\". Earlier, Ant said Billionaire Jack Ma no longer holds a controlling stake in the firm after it adjusted the voting rights structure. Ant\\'s $37 billion IPO, which would have been the world\\'s largest, was cancelled in November 2020.',\n",
       "  'category': 'technology'},\n",
       " {'title': 'WhatsApp users may be able to save disappearing messages: Report',\n",
       "  'content': 'WhatsApp is reportedly working on a \\'kept messages\\' feature which will allow users to save a disappearing message temporarily, even if it has expired. Any user in the WhatsApp chat can \"un-keep\" the message at any time and it will disappear from the chat forever. Kept messages will reportedly have a bookmark icon to identify them in the chat.',\n",
       "  'category': 'technology'},\n",
       " {'title': \"Meta Oversight Board tells firm to allow 'death to Khamenei' posts\",\n",
       "  'content': 'Meta\\'s Oversight Board has overturned a decision by the firm to remove a post that used the slogan \"death to Khamenei\" to criticize the Iranian leader. \"In the context of the post, and the broader...situation in Iran, \\'marg bar Khamenei\\' should be understood as \\'down with\\'. It is...not a credible threat,\" the board said.\\n\\n',\n",
       "  'category': 'technology'},\n",
       " {'title': 'Paytm Payments Bank appoints Surinder Chawla as MD and CEO',\n",
       "  'content': 'Paytm Payments Bank Limited (PPBL) announced that it appointed Surinder Chawla as the Managing Director and Chief Executive Officer after getting approval from the Reserve Bank of India (RBI). Chawla will take charge of Paytm Payments Bank for a tenure of three years. Chawla previously worked at RBL Bank, where he served as Head - Branch Banking. ',\n",
       "  'category': 'technology'},\n",
       " {'title': 'iPhone exports from India double in Apr-Dec 2022 over FY22 to $2.5 bn',\n",
       "  'content': 'Apple exported over $2.5 billion worth of iPhones from India in April-December 2022, nearly double the value of iPhones exported in FY22. Foxconn Technology and Wistron Corp each reportedly exported over $1 billion of iPhones from India in April-December 2022. Pegatron Corp is reportedly on track to export about $500 million worth of iPhones by January-end.',\n",
       "  'category': 'technology'},\n",
       " {'title': 'Mastodon loses around 700,000 users weeks after peak in popularity',\n",
       "  'content': \"The number of active users on Twitter's rival platform Mastodon dropped to about 1.8 million in January's first week, from over 2.5 million in early December. Notably, the platform had just around 500,000 users before Elon Musk took over Twitter in October. It climbed to almost 2 million active users by mid-November, peaking at over 130,000 new users a day.\",\n",
       "  'category': 'technology'},\n",
       " {'title': 'Meta removes content backing attack on Brazilian govt buildings',\n",
       "  'content': 'Meta has started removing content supporting the attack on Brazilian government buildings by anti-democratic demonstrators. \"We...have been removing content calling for people to take up arms or forcibly invade Congress, the Presidential palace and other federal buildings,\" Meta said. Supporters of far-right ex-President of Brazil, Jair Bolsonaro, attacked the Presidential Palace on Sunday.\\n\\n\\n\\n',\n",
       "  'category': 'technology'},\n",
       " {'title': 'Tech firms fired 65% more staff till Jan 5 than entire Dec: Report',\n",
       "  'content': 'Global tech companies have fired 64.5% more employees in the first five days of January 2023 than they did in whole of December 2022, Layoff Tracker reported. A total of 28,096 workers have been laid off till January 5 while 17,074 workers were laid off in December. Layoffs in 2022 were reportedly 64.9% higher than layoffs in 2021.',\n",
       "  'category': 'startup'},\n",
       " {'title': 'Musk enters Guinness World Records for the largest loss of personal fortune',\n",
       "  'content': 'Elon Musk has officially broken the world record for the largest loss of personal fortune in history, the Guinness World Records said. \"He lost approximately $182 billion since November 2021, as estimated by Forbes, although other sources suggest it could actually be closer to $200 billion,\" Guinness added. Musk\\'s wealth largely dropped due to the poor performance of Tesla\\'s stock.',\n",
       "  'category': 'startup'},\n",
       " {'title': 'Billionaire Jack Ma makes rare public appearance in Bangkok, pics surface',\n",
       "  'content': \"Chinese billionaire Jack Ma made rare public appearance in Bangkok this week, where he was seen attending a boxing match and visiting a Michelin-starred restaurant. Ma has remained out of the public eye since he criticised China's financial regulators in 2020. The Alibaba Founder's criticism of the regulators led to the suspension of his company Ant Group's $37 billion IPO.\",\n",
       "  'category': 'startup'},\n",
       " {'title': \"Followed due process: Paytm as proxy firm questions CEO Sharma's ESOPs\",\n",
       "  'content': 'Paytm has responded after proxy advisory firm IiAS questioned the rationale behind granting CEO Vijay Shekhar Sharma ₹4,000 crore worth of employee stock options (ESOPs) ahead of Paytm IPO in November 2021. Paytm said it  followed all provisions of applicable law and complied with due process for the grant of ESOPs, including approval by the shareholders.',\n",
       "  'category': 'startup'},\n",
       " {'title': \"Haha what a fun Monday: Ashneer after Delhi HC's 'maintain decorum' advice\",\n",
       "  'content': 'The Delhi High Court on Monday told Ashneer Grover\\'s lawyer to advise him to \"maintain decorum\" and avoid making defamatory statements against BharatPe on social media. Ashneer later tweeted, \"Haha. What a fun Monday!\" The court was hearing a case by BharatPe against Grover, his wife and other family members in which it\\'s seeking ₹88 crore in damages.',\n",
       "  'category': 'startup'},\n",
       " {'title': \"Zomato, restaurant ordered to pay ₹3,000 to B'luru man for cancelling his order\",\n",
       "  'content': \"A consumer court in Bengaluru has ordered Zomato and a restaurant to pay ₹3,000 as compensation to a customer whose order was cancelled arbitrarily. The customer said he was informed his order worth ₹256 wouldn't be delivered an hour after he placed it. While Zomato argued there was no deficiency in its service, the court said Zomato has a responsibility.\",\n",
       "  'category': 'startup'},\n",
       " {'title': \"I was told I'd either go to jail or be a millionaire when I quit school: Richard Branson\",\n",
       "  'content': 'Billionaire Richard Branson dropped out of high school at the age of 15 to start a magazine with the $3,000-$4,000 he had raised. \"I quit school...with the headmaster saying, \\'You\\'re either going to prison or you\\'re going to become a millionaire\\',\" Branson recalled during a podcast. Branson, who later founded the Virgin Group, has a net worth of $3.7 billion.',\n",
       "  'category': 'startup'},\n",
       " {'title': 'I want to become a minister, will surely happen in 5-7 years: Ashneer Grover',\n",
       "  'content': 'Ashneer Grover has said that he wants to become a minister one day.  In a recent podcast interview, Grover added, \"When I look back, I think life has been preparing me for that life (politics) already, and it will happen in the next five to seven years, for sure.\" The entrepreneur also said that he doesn\\'t have a crystallised plan.',\n",
       "  'category': 'startup'},\n",
       " {'title': 'Ex-Reckitt Benckiser CEO Rakesh Kapoor gives $1.2 mn to BITS Pilani',\n",
       "  'content': \"BITS Pilani has received $1.2 million in its biggest donation from former Reckitt Benckiser CEO Rakesh Kapoor, one of the institute's alumni. It will be used to fund the creation of Centre of Innovation. The announcement comes days after the institute announced a policy which allows students and faculty to take up to a year off to start their venture.\",\n",
       "  'category': 'startup'},\n",
       " {'title': \"BCCI to take decision on BYJU'S sponsorship deal on Monday: Report\",\n",
       "  'content': \"The BCCI Apex Council will reportedly decide on its association with jersey sponsor BYJU'S in its emergent meeting on Monday. As per PTI, BYJU'S  wants to terminate its agreement with the BCCI but in the meeting held last month, the board had asked the edtech company to continue at least until March 2023. The meeting will be held virtually.   \",\n",
       "  'category': 'startup'},\n",
       " {'title': \"Have no plan for IPO, focussing on business optimisation: China's Ant\",\n",
       "  'content': 'China-based Ant Group has said it has no plans for an IPO and has been focussing on its \"business rectification and optimisation\". Earlier, Ant said Billionaire Jack Ma no longer holds a controlling stake in the firm after it adjusted the voting rights structure. Ant\\'s $37 billion IPO, which would have been the world\\'s largest, was cancelled in November 2020.',\n",
       "  'category': 'startup'},\n",
       " {'title': \"I suspect we'll see tech stocks hit 10 year lows: Zoho CEO Vembu\",\n",
       "  'content': 'Zoho CEO Sridhar Vembu took to Twitter to say he suspects the tech stock prices will hit \"10 year lows\". He said this in response to investor David Sacks saying he got offered office space in San Francisco for the same price as in 2009. \"Cisco was valued at $600 billion...and now...is valued at approximately $200 billion,\" Vembu added.',\n",
       "  'category': 'startup'},\n",
       " {'title': 'Bharti-owned OneWeb to launch 40 more satellites with SpaceX',\n",
       "  'content': 'Bharti Global-owned communications company OneWeb will launch 40 satellites with Elon Musk-led SpaceX no earlier than January 8 from Cape Canaveral Space Force Station in Florida. This comes a month after a similar launch involving 40 OneWeb satellites was conducted by SpaceX. OneWeb is building a constellation of satellites to provide global internet connectivity.',\n",
       "  'category': 'startup'},\n",
       " {'title': 'Paytm Payments Bank gets RBI approval to appoint new CEO: Report',\n",
       "  'content': 'Paytm Payments Bank has received RBI\\'s approval to appoint Surinder Chawla as its new CEO, Mint reported. Chawla is currently the Head of Branch Banking at RBL Bank. Paytm Payments Bank\\'s former CEO Satish Kumar Gupta retired in October last year, following which the company had said it would appoint a \"new full-time CEO after receiving regulatory approvals\".',\n",
       "  'category': 'startup'},\n",
       " {'title': 'Paytm Payments Bank appoints Surinder Chawla as MD and CEO',\n",
       "  'content': 'Paytm Payments Bank Limited (PPBL) announced that it appointed Surinder Chawla as the Managing Director and Chief Executive Officer after getting approval from the Reserve Bank of India (RBI). Chawla will take charge of Paytm Payments Bank for a tenure of three years. Chawla previously worked at RBL Bank, where he served as Head - Branch Banking. ',\n",
       "  'category': 'startup'},\n",
       " {'title': 'Govt disburses ₹1,550-crore loans to street vendors, entrepreneurs',\n",
       "  'content': 'Finance Minister Nirmala Sitharaman disbursed loans worth ₹1,550 crore to street vendors, small scale entrepreneurs and cattle rearers at a credit outreach program in Kota on Sunday. The loans were given under PM SVANidhi Yojana, MUDRA Yojana and Pashupalak Kisan Credit Card. Sitharaman said loans under the SVANidhi Yojana are guaranteed by PM Narendra Modi, so no documents are required.',\n",
       "  'category': 'startup'},\n",
       " {'title': 'Hope people of Brazil are able to resolve matters peacefully: Musk',\n",
       "  'content': 'Tesla CEO Elon Musk took to Twitter to say, \"I hope that the people of Brazil are able to resolve matters peacefully.\" His statement comes after the riots by supporters of Brazil\\'s ex-President Jair Bolsonaro in Brasilia following his defeat in the recent polls. Bolsonaro\\'s supporters invaded and ransacked government buildings, demanding the reinstatement of Bolsonaro.',\n",
       "  'category': 'startup'},\n",
       " {'title': 'Logistics unicorn Delhivery vests 1.7 lakh ESOP options',\n",
       "  'content': \"Listed logistics unicorn Delhivery has vested 1,70,676 ESOP stock options at a face value of ₹1 apiece to its employees, as per a regulatory filing. The ESOP options were vested under the Delhivery Employee Stock Option Plan 2012 and Delhivery Employee Stock Option Plan III 2020. With this, Delhivery's paid-up share capital has increased from ₹72,81,40,208 to ₹72,83,10,883. \",\n",
       "  'category': 'startup'},\n",
       " {'title': 'Paytm shares gain 4.2% after December quarter business update',\n",
       "  'content': 'Shares of Paytm parent One97 Communications gained the most in nearly two weeks on Monday after the company released its December quarter business update. Its shares rose 4.2% to ₹574.5 apiece. Paytm said its average monthly transacting users rose to 8.5 crore, up nearly 6% QoQ, while its merchant payment volumes came in at ₹3.46 lakh crore, up 8% sequentially.',\n",
       "  'category': 'startup'},\n",
       " {'title': \"Zerodha's net profit nearly doubles to ₹2,094 crore in FY22\",\n",
       "  'content': \"Zerodha reported a consolidated net profit of ₹2,094 crore in the financial year 2021-22, up 87% from ₹1,122 crore in the financial year 2020-21, filings showed. Its operating revenue rose 82% to ₹4,963 crore from a year earlier. Zerodha's total expenses grew more than 71% in the year to ₹2,164 crore, while its employee benefit expenses grew 45%.\",\n",
       "  'category': 'startup'},\n",
       " {'title': \"Buffett's Berkshire sells 1 million shares of Chinese EV maker BYD\",\n",
       "  'content': \"Warren Buffett's investment company Berkshire Hathaway has sold 1.058 million Hong Kong-listed shares of Chinese electric vehicle maker BYD at an average price of $24.52 per share, a filing showed. The sale lowered Berkshire's holdings in BYD's total issued H-shares to 13.97% on January 3 from 14.06%. Berkshire acquired 225 million BYD shares for $232 million in 2008.\",\n",
       "  'category': 'startup'},\n",
       " {'title': 'Our youth saw opportunity for startups amid COVID-19: Thakur',\n",
       "  'content': 'Union Minister Anurag Thakur while speaking at the Youth Pravasi Bharatiya Divas (PBD) on Sunday said, \"When the world was fighting the pandemic, Indian youth saw an opportunity for launching startups.\" He added that India became the fifth largest economy in the world in 2022 by overtaking those who ruled the country for 200 years.',\n",
       "  'category': 'startup'},\n",
       " {'title': \"Bharti-owned OneWeb's launch of 40 satellites with SpaceX delayed\",\n",
       "  'content': 'Bharti Global-owned OneWeb\\'s launch of 40 satellites with SpaceX from Florida has been delayed to January 9. \"To complete pre-launch processing, now targeting Monday, January 9...for launch...Vehicle and spacecraft are healthy, and weather is over 90% favorable for liftoff,\" SpaceX wrote on Twitter. This mission will mark OneWeb\\'s second time launching from Florida with SpaceX.\\n\\n',\n",
       "  'category': 'startup'},\n",
       " {'title': 'Zerodha, Swiggy founders-backed The Whole Truth raises $15 million',\n",
       "  'content': 'Food brand The Whole Truth (TWT) said it has raised $15 million in its Series B round. The round was led by Sequoia Capital India, with participation from other existing investors Matrix Partners India and Sauce.vc. TWT, founded in 2019, is backed by Zerodha CEO Nithin Kamath, Swiggy CEO Sriharsha Majety as well as Jaydeep Barman of Rebel Foods.',\n",
       "  'category': 'startup'},\n",
       " {'title': \"Alibaba shares rise 7% following news of Ma ceding Ant's control\",\n",
       "  'content': \"The Hong Kong-listed shares of Alibaba jumped 7% on Monday following the news of Jack Ma giving up control of the Ant Group. Besides this, the shares of firms in which China's Ant holds a stake also rose. Shares of Longshine Technology Group, Jilin Zhengyuan, Shanghai Golden Bridge Infotech, Orbbec and Hundsun Technologies saw a rise.\",\n",
       "  'category': 'startup'},\n",
       " {'title': 'Tunisha talked to Tinder date on video call 15 minutes before her death: Sheezan',\n",
       "  'content': 'Actor Sheezan Khan, who has been arrested on the charge of abetment to suicide in Tunisha Sharma death case, told a court through his lawyer that Tunisha talked to her Tinder date Ali on video call 15 minutes before her death. \"So it was not me, but Ali who was in touch,\" Sheezan further told the court.',\n",
       "  'category': 'entertainment'},\n",
       " {'title': 'Rakhi Sawant reveals her mother has brain cancer, breaks down in video from hospital',\n",
       "  'content': \"Actress Rakhi Sawant took to Instagram to reveal that her mother has been diagnosed with brain cancer. Sharing a video from the hospital, Rakhi asked her followers to pray for her mother. Rakhi also broke down in the video. A doctor mentioned that the left side of her mother's body has been paralysed and her cancer has spread to lungs.\",\n",
       "  'category': 'entertainment'},\n",
       " {'title': \"I was overwhelmed, had tears in my eyes: Supriya on daughter Jhanak's roka\",\n",
       "  'content': 'Actress Supriya Shukla, speaking about her daughter Jhanak Shukla\\'s roka ceremony, said, \"I had tears in my eyes, I was so overwhelmed.\" \"I have seen her grow up. So it was very emotional for me,\" she added. Jhanak, known for \\'Kal Ho Naa Ho\\' and \\'Karishma Kaa Karishma\\', announced her roka with Swapnil Suryawanshi on January 7.    ',\n",
       "  'category': 'entertainment'},\n",
       " {'title': 'Samantha Ruth Prabhu breaks down during trailer launch of her film, video surfaces',\n",
       "  'content': 'Actor Samantha Ruth Prabhu broke down on Monday at the trailer launch of her upcoming film \\'Shaakuntalam\\'. In her speech during the event, Samantha said, \"No matter how many struggles I face in life, one thing won\\'t change. That\\'s how much I love cinema and cinema loves me back.\" Reacting to the video, a fan tweeted, \"We\\'re with you, Sam.\"',\n",
       "  'category': 'entertainment'},\n",
       " {'title': \"I've been arrested only because of my religion: Sheezan on Tunisha Sharma death case\",\n",
       "  'content': 'During bail hearing in Tunisha Sharma death case, actor Sheezan Khan told a court through his lawyer that he has been arrested only because of his religion. \"They made this love jihad angle...There was no reason to arrest me. If I wasn\\'t Muslim, this wouldn\\'t have happened,\" he added. Sheezan has been arrested on the charge of abetment to suicide.',\n",
       "  'category': 'entertainment'},\n",
       " {'title': 'Old pics of Shah Rukh Khan and Angelina Jolie from IIFA Awards go viral',\n",
       "  'content': 'Old pictures of actors Shah Rukh Khan and Angelina Jolie sharing a stage have gone viral on social media. The pictures are from the first International Indian Film Academy Awards, popularly known as IIFA Awards, held in London in 2000. Fans reacted with tweets like, \"So iconic\", \"can\\'t believe\", and \"Why am I seeing this for the first time today?\"',\n",
       "  'category': 'entertainment'},\n",
       " {'title': \"The 1975's Matty Healy sucks fan's thumb during concert, video surfaces\",\n",
       "  'content': '\\'The 1975\\' singer Matty Healy sucked a fan\\'s thumb at one of the band\\'s concerts in Brighton, England. He was also seen locking lips with fans, while others also touched his chest as he stood among the crowd during the concert. Several people reacted to the video on Twitter, with one writing, \"He be doing anything except singing.\"',\n",
       "  'category': 'entertainment'},\n",
       " {'title': 'Sex education should not be considered as a bold topic: Rakul Preet',\n",
       "  'content': 'Actress Rakul Preet Singh, speaking about her upcoming film \\'Chhatriwali\\', has said that sex education should not be considered a bold topic. \"I am a believer that if we talk about key health, mental health, emotional health then why not about sexual health,\" she added. She further stated that the topic is \"very important\".',\n",
       "  'category': 'entertainment'},\n",
       " {'title': \"Rajamouli never told me how it'll turn out: Jr NTR on RRR's animal shot\",\n",
       "  'content': 'Jr NTR shared that his \"best\" shot in \\'RRR\\' is the one where his character Bheem jumps out with the animals. Talking about the scene, he said, \"I never knew how the shot was supposed to be, he (SS Rajamouli) never told me…I only got to watch...when the movie released...I was like woah!\" Rajamouli called Jr NTR \"a great performer\".',\n",
       "  'category': 'entertainment'},\n",
       " {'title': 'Absolutely ridiculous: Paris on claims that she photoshopped Britney in pic',\n",
       "  'content': 'Paris Hilton has denied the allegations that she photoshopped Britney Spears into a photo. Calling the allegations \"absolutely ridiculous\", the American media personality said that the picture was taken on an iPhone and it \"ended up being blurry\". \"So they used [an] app...to make it look unblurry,\" Paris added.   ',\n",
       "  'category': 'entertainment'},\n",
       " {'title': \"Arjun Kapoor & Tabu's 'Kuttey' receives 'A' certificate from CBFC\",\n",
       "  'content': \"Arjun Kapoor and Tabu's film 'Kuttey' has received an 'A' certificate from the Central Board of Film Certification (CBFC). The film, which will make the directorial debut of filmmaker Vishal Bhardwaj's son Aasmaan Bhardwaj, will also star Naseeruddin Shah, Radhika Madan, Konkona Sensharma and Kumud Mishra. The film will have a runtime of one hour, 52 minutes and three seconds.\",\n",
       "  'category': 'entertainment'},\n",
       " {'title': \"'Faraaz' is a story of our polarised times: Director Hansal Mehta\",\n",
       "  'content': 'Filmmaker Hansal Mehta, speaking about his upcoming movie \\'Faraaz\\', said that it is a \"story of our polarised times\". The film, based on 2016 Dhaka terrorist attack, is all set for a theatrical release on February 3. Hansal further said he has tried to explore the broader theme of violence and what really drives young and vulnerable minds towards it.   ',\n",
       "  'category': 'entertainment'},\n",
       " {'title': \"Rajamouli 'tortured' Ram Charan and me for Naatu Naatu: Jr NTR\",\n",
       "  'content': '\\'RRR\\' actor Jr NTR said SS Rajamouli \"tortured\" him and Ram Charan during the shoot of the song \\'Naatu Naatu\\'. \"We shot that...for 12 days...and this man (Rajamouli) would torture us from 8-8, we would sleep at 11:30, and wake up at 5:30,\" he said, adding, \"He was so hell-bent on synchronisation...and I was like \\'Why are you doing this?\\'\"',\n",
       "  'category': 'entertainment'},\n",
       " {'title': \"Time for all industries to support B'wood against boycott trend: Kantara actor\",\n",
       "  'content': '\\'Kantara\\' actor Kishore took to Instagram and said that the time has come for the entire film fraternity of the country to stand up and support Bollywood against the ongoing boycott trend on social media. Kishore went on to call the trend a \"fanatical hooliganism\" against the artists and added that it is a \"politics of hatred against its actors\".',\n",
       "  'category': 'entertainment'},\n",
       " {'title': \"Vishal Bhardwaj taught me to not get lured by delusion of B'wood: Radhika\",\n",
       "  'content': 'Actress Radhika Madan said Vishal Bhardwaj is like family to her. \"The one thing he has taught me is to live by my truth and not get lured by the delusion...superficiality of the industry. Always chase the truth and be honest,\" she added. Radhika worked with Vishal in \\'Pataakha\\'. She stated Vishal wants her to learn from her mistakes.',\n",
       "  'category': 'entertainment'},\n",
       " {'title': \"Was exciting: Shriya Pilgaonkar on playing sex worker in 'Taaza...'\",\n",
       "  'content': 'Actress Shriya Pilgaonkar opened up about playing Madhu, who is a sex worker in the series \\'Taaza Khabar\\' and said, \"[Madhu] is super spunky, sassy and somebody who doesn\\'t carry the weight of her hardships.\" \"This was very exciting for me as it was...different not just in terms of the look but [also] the character as well,\" she added.',\n",
       "  'category': 'entertainment'},\n",
       " {'title': \"Akshay Kelkar wins 'Bigg Boss Marathi 4', gets ₹20 lakh & gold necklace\",\n",
       "  'content': \"Akshay Kelkar has won the fourth edition of the reality show 'Bigg Boss Marathi'. The Hindi TV actor also won a gold necklace. Kelkar was awarded a cash prize of ₹15,55,000 and also got an additional ₹5 lakh after being named the 'Best Captain' of the house. Contestant Rakhi Sawant left the show with ₹9 lakh.\",\n",
       "  'category': 'entertainment'},\n",
       " {'title': \"Agency in 'G2' is Trinetra, not RAW: Adivi on CBFC removing RAW from Pathaan\",\n",
       "  'content': 'Adivi Sesh said his upcoming film \\'Goodachari 2\\' aka \\'G2\\' doesn\\'t have any mention of agency RAW (Research and Analysis Wing). Reportedly, CBFC asked makers of \\'Pathaan\\' to replace all the mentions of RAW in the film. Adivi said, \"Our agency is Trinetra, not RAW...I don\\'t know...context in which it was used in Pathaan. But ours is a different agency.\"   ',\n",
       "  'category': 'entertainment'},\n",
       " {'title': 'Got a chance to ape my idol Amitabh Bachchan: Sidharth on Mission Majnu',\n",
       "  'content': 'Actor Sidharth Malhotra said working on the 1970s-set espionage thriller \\'Mission Majnu\\' gave him an opportunity to \"ape\" his idol, Amitabh Bachchan. Speaking about his character in the film, he said he is not James Bond who \"would live on\". \"He\\'s somebody that would get hurt or be stuck or wouldn\\'t always have the technology (at his disposal),\" said Sidharth.   ',\n",
       "  'category': 'entertainment'},\n",
       " {'title': \"I'd have taken more time if it wasn't for Riteish: Genelia on 10-yr break\",\n",
       "  'content': 'Actress Genelia Deshmukh, while speaking about her 10-year break from the film industry, said, \"Honestly, I\\'d have taken a lot more time if it wasn\\'t for Riteish (Deshmukh).\" \"He said \\'Now it\\'s time to get back to doing what you\\'re good at and what you like doing\\',\" she added. Genelia was recently seen in Riteish\\'s directorial \\'Ved\\'.',\n",
       "  'category': 'entertainment'},\n",
       " {'title': 'After Urvashi, her mother shares pic of hospital where Pant is admitted',\n",
       "  'content': 'After actress Urvashi Rautela, her mother Meera Rautela shared a picture on Instagram of Kokilaben Dhirubhai Ambani Hospital where Rishabh Pant is admitted. Meera wrote, \"Everything is [alright], don\\'t worry beta, Urvashi.\" Meera also shared a picture of herself in front of a temple. Reacting to the post, a user commented, \"You could\\'ve done this on call or WhatsApp.\"',\n",
       "  'category': 'entertainment'},\n",
       " {'title': \"Actor Tovino shares pic with Dhoni, calls him 'a great role model for all'\",\n",
       "  'content': 'Malayalam actor Tovino Thomas recently met MS Dhoni and shared a picture with the former Team India captain on his social media handles. \"Had a great experience spending time with Captain Cool,\" Tovino wrote, adding, \"I feel truly fortunate to have had this opportunity; a great role model for all. Wishing more glitter to your illustrious journey.\"      ',\n",
       "  'category': 'entertainment'},\n",
       " {'title': \"Shabana wishes Farah Khan on b'day, shares pic from 'Rocky...' sets\",\n",
       "  'content': 'Actress Shabana Azmi shared a picture with actor Dharmendra and choreographer-filmmaker Farah Khan from the sets of \\'Rocky Aur Rani Ki Prem Kahani\\' on Instagram. Along with the picture, she wrote, \"Happy birthday dearest Farah. Let\\'s rock [and] roll tonight so you can prove to all that I\\'ve always danced to your tune.\" The film is directed by Karan Johar.',\n",
       "  'category': 'entertainment'},\n",
       " {'title': \"We should trust censor board & central government: Arjun on 'Pathaan' row\",\n",
       "  'content': 'Arjun Kapoor, while reacting to the controversy surrounding the upcoming film \\'Pathaan\\', said, \"We\\'ve to trust our censor board and the central government as they operate together.\" \"We as artists have to do what the film demands and have to stick to that authenticity,\" Arjun said, adding one shouldn\\'t give \"undue importance to things that create unnecessary banter and chatter\".    ',\n",
       "  'category': 'entertainment'},\n",
       " {'title': \"Had several doubts when I moved out of Rajeev's house: Charu Asopa\",\n",
       "  'content': 'Actress Charu Asopa has said that she had several doubts when she was moving out of her estranged husband Rajeev Sen\\'s house. \"Things were not easy as I had a whole lot of expenses to bear including the house rent,\" she stated. The actress further added that she had to look for work in order to run her house.',\n",
       "  'category': 'entertainment'},\n",
       " {'title': \"Where there’s Bandhan, there’s trust: Ganguly in Bandhan Bank's new ad\",\n",
       "  'content': 'Bandhan Bank has launched its new ad featuring Sourav Ganguly. The ad highlights the similarity between Dada\\'s journey and the bank\\'s growth story. The ad seeks to establish the trust that the Bank has been able to build in a short span. \"Years of relentless commitment, unwavering dedication, and undying passion, became Bandhan\\'s foundation of customer\\'s trust,\" the bank stated.',\n",
       "  'category': 'miscellaneous'},\n",
       " {'title': 'A decade of shaping the evolving coffee culture of India: Blue Tokai',\n",
       "  'content': \"Blue Tokai plans to celebrate its 50 millionth cup of coffee and 10th birthday with a giveaway, it stated. The brand revealed that it's offering 100g of free limited-edition coffee with every purchase of ground coffee from its website between January 1-10. Blue Tokai aims to make specialty coffee accessible to consumers through its website, 60+ cafes, Amazon and more.\",\n",
       "  'category': 'miscellaneous'},\n",
       " {'title': 'Man accused of molestation tied to pole, beaten with sticks in UP; video surfaces',\n",
       "  'content': \"A man, accused of molestation, was tied to a pole and thrashed in Uttar Pradesh's Balrampur. A video of the incident has surfaced on social media. In the video, a few men are seen beating the alleged accused one by one with large sticks, while some women are also seen standing and watching him get beaten.\",\n",
       "  'category': 'miscellaneous'},\n",
       " {'title': \"Man in Pakistan becomes father for the 60th time, says 'I want to marry for 4th time'\",\n",
       "  'content': \"A 50-year-old man named Jan Mohammad in Pakistan's Quetta has become father for the 60th time and has named his newborn Khushal Khan. Jan, who has three wives, said that he wants to marry for the fourth time. Out of his 60 children, five have passed away. Jan is a doctor by profession.\",\n",
       "  'category': 'miscellaneous'},\n",
       " {'title': 'Gay couple who went viral for traditional Hindu wedding in US expecting their 1st child',\n",
       "  'content': 'Aditya Madiraju and Amit Shah, who went viral for their traditional Hindu wedding in 2019 held in New Jersey, US, are set to welcome their first baby in May. After finding an egg donor, the couple received the news after four rounds of in vitro fertilisation. \"We\\'re hoping us having a baby normalises it even more,\" Aditya told People magazine. ',\n",
       "  'category': 'miscellaneous'},\n",
       " {'title': 'Bengaluru man buys Caucasian Shepherd dog for ₹20 crore, pic surfaces',\n",
       "  'content': \"A breeder in Bengaluru recently bought a Caucasian Shepherd dog for ₹20 crore. The man, Satish, is the president of Indian Dog Breeders Association and owns a kennel in Bengaluru. He bought the dog, a rare breed in India, from a breeder in Hyderabad. The Caucasian Shepherd has been named 'Cadabom Hayder', after Satish's kennel.\",\n",
       "  'category': 'miscellaneous'},\n",
       " {'title': \"Woman tries to sneak 4-ft snake as 'emotional support pet' on flight in US, pic surfaces\",\n",
       "  'content': 'A boa constrictor snake was caught by airport security in a female flyer\\'s carry-on bag in the US. The four-foot animal was discovered when the bag was put through the security scanner, after which the Transportation Security Administration (TSA) shared pictures online. The woman claimed it was her \"emotional support pet\" named Bartholomew.',\n",
       "  'category': 'miscellaneous'},\n",
       " {'title': 'Man installs ₹2.5 lakh statue of wife at home after she dies of COVID-19 in Kolkata',\n",
       "  'content': \"A man named Tapas Sandilya has installed a lifelike silicone statue of his wife Indrani, who died of COVID-19 in 2021, inside their home in Kolkata. The 65-year-old retired government employee got the statue made at a cost of ₹2.5 lakh. Indrani's statue weighs 30 kg and has been made to sit on a sofa at her favourite spot.\",\n",
       "  'category': 'miscellaneous'},\n",
       " {'title': 'IFS officer shares pic of bill showing wheat priced at ₹1.6 per kg in 1987',\n",
       "  'content': 'IFS officer Parveen Kaswan recently tweeted a picture of an old bill of wheat priced at ₹1.6 per kg. \"Time when wheat used to be at 1.6 rupees per kg. The wheat crop my grandfather sold in 1987 to Food Corporation of India,\" he wrote with the picture which has now gone viral online.',\n",
       "  'category': 'miscellaneous'},\n",
       " {'title': \"Tiger bites circus trainer's neck during live performance in Italy, video goes viral\",\n",
       "  'content': 'A tiger attacked a circus trainer during a live performance in the Italian province of Lecce. A video that has surfaced online shows the circus trainer concentrating on another tiger when the second tiger pounces on him from behind. As the trainer struggles to free himself, the tiger bites his neck and pierces its teeth on his leg.',\n",
       "  'category': 'miscellaneous'},\n",
       " {'title': \"Princess Diana's iconic purple gown to go up for sale, pics shared online\",\n",
       "  'content': \"A purple silk velvet dress that belonged to Princess Diana is being auctioned at a Sotheby's sale in New York later this month. The dress was worn by Princess Diana in an official royal portrait in 1991 and a Vanity Fair spread in 1997 shortly before her death. It is reported to have an estimated value between $80,000 and $120,000.\",\n",
       "  'category': 'miscellaneous'},\n",
       " {'title': \"Twins born 6 minutes apart on New Year's night get birthdates in 2022, 2023 in US\",\n",
       "  'content': 'A US couple was blessed with twin girls whose birthdates were in different years despite being born just six minutes apart. Texas woman Kali Jo Scott gave birth to her first daughter, Annie Jo, at 11:55 pm on December 31, 2022. Her second daughter, Effie Rose, was born at 12:01 am on January 1, 2023.',\n",
       "  'category': 'miscellaneous'},\n",
       " {'title': '98-yr-old man gets farewell from jail staff on being released from UP jail, video surfaces',\n",
       "  'content': \"A 98-year-old man got farewell from the jail staff after being released from a jail in Uttar Pradesh's Ayodhya. The man was convicted under sections 452, 323 and 352 of IPC and had been in jail for five years. As per officials, no one came to take the 98-year-old and he was taken to his place in a police vehicle.\",\n",
       "  'category': 'miscellaneous'},\n",
       " {'title': \"Pak fashion designer tweets pic of grandmother's 90-yr-old wedding card, it goes viral\",\n",
       "  'content': \"Karachi-based fashion designer Sonya Battla recently tweeted a picture of her grandmother's handwritten wedding invite from 1933. The invite, written in Urdu, was for a wedding that took place in Delhi's Gali Qasim Jaan where Urdu poet Mirza Ghalib's residence is located. The pic has gone viral on Twitter, with people seeking and offering translations of the text.\",\n",
       "  'category': 'miscellaneous'},\n",
       " {'title': 'Woman dies as firework explodes in her dress on New Year on Brazil beach',\n",
       "  'content': 'A 38-year-old woman has died after a firework got stuck in her clothes and exploded during New Year celebration on Brazil\\'s Sao Paulo beach. A video of the incident shows dozens of people watching fireworks at the beach when it suddenly struck her. \"I don\\'t think there was even time to help...It was horrible,\" an eyewitness said.',\n",
       "  'category': 'miscellaneous'},\n",
       " {'title': \"Woman with rare heart-shaped uterus gives birth to twins in 'one-in-500-mn' birth in US\",\n",
       "  'content': 'An American woman who has a rare health condition wherein she has a heart-shaped uterus has given birth to twins, marking a one-in-500-million birth, as per reports. Only four in every 1,000 women have a heart-shaped uterus or a bicornuate uterus. The babies were born to 25-year-old Karen, who said, \"I was monitored closely because it was a high-risk pregnancy.\"',\n",
       "  'category': 'miscellaneous'},\n",
       " {'title': \"Pic shows 2 hornbills engaged in 'aggressive' mid-air fight\",\n",
       "  'content': 'IAS officer Supriya Sahu, who works as Additional Chief Secretary for Environment, Climate Change, and Forests, Government of Tamil Nadu, tweeted a photo of two hornbills. \"Here\\'s a brilliant capture of \\'mid-air casque butting\\' when two hornbills engage in aggressive fight...Captured by Dhanu Paran,\" she wrote. \"What a fabulous shot,\" a comment read while another person called it \"astonishing\".',\n",
       "  'category': 'miscellaneous'},\n",
       " {'title': \"Man legally changes gender to gain daughters' custody in Ecuador, says 'I'm a mom now'\",\n",
       "  'content': 'An Ecuadorian man has legally changed his gender to female to help him win custody of his daughters. \"The laws say that the one who has the right is the woman...Now I\\'m also a mom, that\\'s how I consider myself,\" the 47-year-old said. Meanwhile, LGBTQ groups raised concerns about the man\\'s use of a law designed to promote transgender rights.',\n",
       "  'category': 'miscellaneous'},\n",
       " {'title': \"People travel without pants for 'No Trousers Tube Ride Day' in London; pics viral\",\n",
       "  'content': \"Several people stripped down and travelled without pants for 12th annual 'No Trousers Tube Ride Day' in London on Sunday. It was inspired from New York's 'No Pants Subway Ride' which started in 2002. Viral pictures on social media showed people taking the Underground and using ticket machines and escalators without trousers.\",\n",
       "  'category': 'miscellaneous'},\n",
       " {'title': 'Man suffers 2 heart attacks on UK flight to Mumbai, doctor onboard saves his life',\n",
       "  'content': 'An Indian-origin doctor saved the life of a man who suffered two cardiac arrests during a 10-hour flight from UK to Mumbai. The 43-year-old passenger had collapsed in the aisle and did not have a pulse. Dr Vishwaraj Vemala said it took him about an hour to resuscitate him, but he suffered a second heart attack moments after regaining consciousness.',\n",
       "  'category': 'miscellaneous'},\n",
       " {'title': 'Passengers punch, slap each other mid-air on Biman Bangladesh flight, video surfaces',\n",
       "  'content': 'A video showing two passengers punching and slapping each other mid-air on a Biman Bangladesh Airlines flight has surfaced online. In the video, a shirtless man is seen engaging in a physical clash with another seated passenger, who in turn slaps him repeatedly. Other passengers onboard the aircraft intervened and helped de-escalate the fight.',\n",
       "  'category': 'miscellaneous'},\n",
       " {'title': 'Assam CM, wife join schoolkids to perform folk dance, video emerges',\n",
       "  'content': 'Assam Chief Minister Himanta Biswa Sarma and his wife Riniki Bhuyan Sarma joined schoolchildren in performing a traditional folk dance at an event on Sunday. Sharing a video of his dance on social media, the CM said he \"couldn\\'t help\" but join the students performing \\'jhumur\\' at his official residence in Dispur. He also had dinner with the students.',\n",
       "  'category': 'miscellaneous'},\n",
       " {'title': \"BJP leader's 5-year-old son swallows magnet while playing in UP\",\n",
       "  'content': 'Uttar Pradesh BJP General Secretary Amarpal Maurya said his five-year-old son accidentally swallowed a magnet while playing with it in Lucknow on Saturday. A doctor said an X-ray was conducted and it was found that there was a one-inch-long magnet in Partha Sarthi\\'s stomach. \"There\\'s no need for...surgery as the magnet will exit from the body through stool,\" he added.  ',\n",
       "  'category': 'miscellaneous'},\n",
       " {'title': '178 people with the same name meet at one place in Japan, set world record',\n",
       "  'content': \"The Guinness World Record for the largest gathering of people with the same name was made recently after 178 people named 'Hirokazu Tanaka' gathered at one place in Tokyo, Japan. The meeting was arranged by Hirokazu Tanaka, a corporate employee from Tokyo. This was the third attempt by the Hirokazu Tanakas to create a record in their name successfully.\",\n",
       "  'category': 'hatke'},\n",
       " {'title': 'Autorickshaw moves in circles without driver in Maharashtra, video goes viral',\n",
       "  'content': \"A video has gone viral showing an autorickshaw moving in circles without a driver in Maharashtra's Ratnagiri. In the video, several people can be seen trying to stop it. As per reports, the steering of the autorickshaw got locked after the driver fell. It started running around in circular motion before being stopped by the onlookers.\",\n",
       "  'category': 'hatke'},\n",
       " {'title': 'Pic of rare wave clouds in US goes viral',\n",
       "  'content': \"A picture of rare wave cloud formation in US' Wyoming has gone viral on social media. The phenomenon was visible on Tuesday above the crest of the Bighorn Mountains in the city of Sheridan. Such formation is known as Kelvin-Helmholtz. It is formed when a faster stream of air moves above rising air below.\",\n",
       "  'category': 'hatke'},\n",
       " {'title': 'In Pics: Winners of Comedy Wildlife Photography Awards; two are from India',\n",
       "  'content': \"A picture of a lion cub taken by US photographer Jennifer Hadley has won the top prize at the Comedy Wildlife Photography Awards 2022. Indian photographer Arshdeep Singh's picture of a 'winking' owlet won the 'Junior Award'. A picture of an Indian Saras Crane attacking a Nilgai from behind, taken by India's Jagdeep Rajput, featured among the 'Highly Commended Winners'.\",\n",
       "  'category': 'hatke'},\n",
       " {'title': 'Mysterious deep-sea creature with bulging eyes caught in Australia, pic surfaces',\n",
       "  'content': 'A mysterious deep-sea creature with bulging eyes has been caught in deepwaters off southeastern Australia. A professional fisherman, who caught the fish, shared its picture on social media, writing, \"Probably the ugliest fish I\\'ve ever seen. Apparently good eating.\" The fisherman stated that he caught the creature 1,771-foot deep. The creature weighed around four kg.',\n",
       "  'category': 'hatke'},\n",
       " {'title': 'Harsh Goenka shares viral pic of wedding invite printed in form of medicine packaging',\n",
       "  'content': 'RPG Enterprises\\' Chairman Harsh Goenka shared a picture of a pharmacist\\'s wedding invitation, which was printed in the form of medicine packaging. \"People have become so innovative these days,\" Goenka wrote. The invite mentioned that the groom, B Ezhilarasan, is an Assistant Professor in a pharmacy college and the bride, M Vasanthakumari, is an Assistant Professor in a nursing college.',\n",
       "  'category': 'hatke'},\n",
       " {'title': \"UK artist 'Mr Doodle' covers his ₹12 crore mansion completely with doodles\",\n",
       "  'content': 'British artist Sam Cox, popularly known as \\'Mr Doodle\\', has completely covered his mansion with doddles drawn by him in two years. The mansion, initially bought by the artist for more than ₹12 crore, now has every inch, from his bedding to his microwave and even door knobs, covered in doodles. He called it his \"best piece of work\".',\n",
       "  'category': 'hatke'},\n",
       " {'title': \"In Pics: 'Farting zebra', other pics shortlisted for Comedy Wildlife Photography Awards\",\n",
       "  'content': \"As many as 40 photographs from around the globe have been shortlisted for the 2022 Comedy Wildlife Photography Awards. These include a 'farting zebra', a 'superhero squirrel', a 'winking fox',  a 'horrified monkey' and a couple of monkeys playing doctors and nurses. Voting on the images will close on November 27 and the winners will be announced on December 8.\",\n",
       "  'category': 'hatke'},\n",
       " {'title': \"Uttarakhand jail to offer 'real imprisonment experience' to tourists for ₹500/night\",\n",
       "  'content': 'A jail in Uttarakhand\\'s Haldwani will offer a \"real imprisonment experience\" to tourists for ₹500/night. The prison, built in 1903, has an abandoned portion which is being prepared for \"jail guests\", officials said. They said it will also be useful for people who are advised to spend time in prison by astrologers to ward off \\'bandhan yog\\' that predicts imprisonment.',\n",
       "  'category': 'hatke'},\n",
       " {'title': 'Law student writes tiny notes on pens to cheat in exam in Spain; pics go viral',\n",
       "  'content': 'Pictures of 11 pens on which a law student wrote notes to cheat in an exam have gone viral after a professor at the Spain\\'s University of Málaga shared them on Twitter. \"Tidying up my office, I found this university relic that we confiscated from a student a few years ago,\" the professor tweeted. \"What an art,\" she added.',\n",
       "  'category': 'hatke'},\n",
       " {'title': 'Mondrian painting hanging upside down in different galleries for 75 yrs, claims historian',\n",
       "  'content': \"A painting by abstract Dutch artist Piet Mondrian, titled 'New York City I', has been hanging upside down in various museums for 75 years, art historian Susanne Meyer-Büser claimed. A photograph of Mondrian's studio, taken few days after his death in 1944, shows the same painting the other way up. It'll continue to be displayed upside down at museums.\",\n",
       "  'category': 'hatke'},\n",
       " {'title': 'Mysterious creature washes up on beach in UK, pic surfaces',\n",
       "  'content': 'A mysterious creature washed up on a beach in North Wales with a local named Shell Longmore spotting it. \"I thought I had seen all the local wildlife until I found this...It was a massive shock!\" Longmore said. Commenting on a picture of the creature, a social media user wrote, \"The stuff of nightmare...That’s what it is.\"',\n",
       "  'category': 'hatke'},\n",
       " {'title': \"Sky turns green in several US' cities after powerful storm, pics go viral\",\n",
       "  'content': 'Sky over several cities in US\\' states of South Dakota, Nebraska and Iowa turned green following a powerful storm. The US\\' National Weather Service (NWS) said the storm was a derecho. It brought powerful winds, with speeds of around 159 kmph in some areas. \"Have never seen something like that,\" a Twitter user wrote sharing a picture of green sky.',\n",
       "  'category': 'hatke'},\n",
       " {'title': 'Viral video shows huge waves crashing wedding in Hawaii',\n",
       "  'content': 'A video went viral showing huge waves crashing a beachside wedding reception in Hawaii. In the video, dozens of people can be seen running away as surge of water overturned tables and chairs. During an interview with a local channel, the bridegroom said no one was injured in the chaos. \"Everyone will remember their wedding forever,\" a Twitter user commented.',\n",
       "  'category': 'hatke'},\n",
       " {'title': 'Guests allowed entry at a wedding in UP only after showing Aadhaar cards, video viral',\n",
       "  'content': \"A video has gone viral on social media showing guests at a wedding in Uttar Pradesh's Amroha district being allowed to enter the venue only after showing their Aadhaar cards. The hosts checked Aadhaar cards after a large number of guests turned up to the wedding, with many seeming to be strangers.\",\n",
       "  'category': 'hatke'},\n",
       " {'title': 'So creative: Mahindra on video of movable marriage hall built on a truck',\n",
       "  'content': 'Mahindra Group Chairman Anand Mahindra took to Twitter to share a video of an air-conditioned mobile marriage hall built on a truck. \"I\\'d like to meet the person behind this product. So creative,\" tweeted Mahindra. According to a report, Dayanand Darekar, who\\'s in the business of weddings, came up with the portable wedding hall during the COVID-19 lockdown.',\n",
       "  'category': 'hatke'},\n",
       " {'title': \"Indian groom's male friends wear saree and bindi at his wedding in US; video viral\",\n",
       "  'content': 'A video has gone viral on social media that showed two groomsmen of an Indian groom arriving at his wedding venue in the US in sarees and bindi. The video showed the two men in saree walking down Michigan Avenue with the bride and surprising the groom. \"That is so wholesome. Absolutely adorable,\" an Instagram user commented on the video.',\n",
       "  'category': 'hatke'},\n",
       " {'title': \"ATM shows people's pics, ranks them by their bank balance in US\",\n",
       "  'content': 'A video of an ATM in the US that shows the users\\' pictures alongside their bank account balances on a ranked leaderboard has gone viral on social media. The ATM was installed by the Brooklyn art collective MSCHF as an art installation at Art Basel Miami. \"ATM Leaderboard is an extremely literal distillation of wealth-flaunting impulses,\" MSCHF Co-founder said.',\n",
       "  'category': 'hatke'},\n",
       " {'title': '88-yr-old man shows up at France hospital with WWI artillery shell stuck in his rectum',\n",
       "  'content': 'An 88-year-old man showed up at a hospital in France with World War 1 artillery shell stuck in his rectum. The hospital called for a partial evacuation due to the fear that the antique explosive might detonate. As per a hospital spokesperson, bomb disposal personnel were also called to the hospital. A visceral surgery was performed to remove the object.',\n",
       "  'category': 'hatke'},\n",
       " {'title': 'Huge mysterious object appears on a beach in US, pics surface',\n",
       "  'content': 'Beachgoers in Florida discovered a huge mysterious object buried underneath the sand, with pictures of it surfacing online. The object began protruding out of the sand after Hurricanes Ian and Nicole battered Volusia County earlier this year, an official said. The object appears to be a wooden structure and looks like pieces of wood poking out for about 80 feet.',\n",
       "  'category': 'hatke'},\n",
       " {'title': 'Unique 10-room house falls in both Maharashtra and Telangana, pics surface',\n",
       "  'content': 'Pictures of a 10-room house falling in both Maharashtra and Telangana have surfaced online. The house in Chandrapur has half of its rooms in Maharashtra and remaining in Telangana. The owner of the house said, \"Our house is divided between Maharashtra and Telangana...but till today we haven\\'t had any problem with it. We pay property tax in both the states.\"',\n",
       "  'category': 'hatke'},\n",
       " {'title': 'Tiger survives after being swept away by strong river currents in UP, video goes viral',\n",
       "  'content': 'A video has gone viral on social media showing a tiger surviving strong river currents in Uttar Pradesh. The tiger was swept away by strong currents while trying to cross the Gerua river in Bahraich district. Using its own strength, the tiger managed to swim to the other side and reach the forest of Katarniaghat.',\n",
       "  'category': 'hatke'},\n",
       " {'title': 'Rare wolf fish caught in US, video surfaces',\n",
       "  'content': 'A fisherman in US\\' Maine caught a rare wolf fish and shared a video of himself with the fish on Instagram. \"It killed everything in the trap. We don\\'t get them very often, they\\'re protected,\" the fisherman can be heard saying in the video. \"Mother Nature is absolutely brutal and it’s amazing,\" a user commented on the video.',\n",
       "  'category': 'hatke'},\n",
       " {'title': \"Woman holds 'Flat(mates) required' placard at Lucky Ali concert in Bengaluru, pic viral\",\n",
       "  'content': 'A picture has gone viral on social media showing a woman carrying a \\'Flat(mates) required\\' placard at a Lucky Ali concert in Bengaluru. \"Finding a flat is harder than finding a flatmate,\" a Twitter user commented on the picture. \"Struggle is real,\" another tweet read. \"Desperate times calls for new levels of creativity,\" another user commented.',\n",
       "  'category': 'hatke'},\n",
       " {'title': 'Pet cat in US breaks world record for being the tallest living domestic cat, pics surface',\n",
       "  'content': \"A pet cat named Fenrir Antares Powers, which lives in US' Michigan, has been confirmed by the Guinness World Records as the world's tallest living domestic cat. Fenrir measures 47.83 cm (18.83 in). Fenrir is the brother of Arcturus Aldebaran Powers, who formerly held the record before passing away. Arcturus measured in at 48.40 cm (19.05 in).\",\n",
       "  'category': 'hatke'},\n",
       " {'title': 'Pic shows heart of the Milky Way galaxy ',\n",
       "  'content': 'NASA has shared a picture captured by Hubble Telescope, NASA Chandra X-ray Observatory and Spitzer Telescope, showing \"the heart of our Milky Way\". \"The telescopes peered through the dust and debris that obscure the core of our galaxy – which is visible as the bright white region to the right and just below the centre of the image,\" it wrote. ',\n",
       "  'category': 'science'},\n",
       " {'title': 'Pics shared by NASA show ghost light among galaxies',\n",
       "  'content': 'NASA, while sharing pictures of \"ghostly haze of light\" emitted by \"stars [that] wander among galaxies like lost souls\", wrote that its Hubble Space Telescope has shed new light on the mystery. The new observations suggest these stars have been wandering around for billions of years. The survey included 10 galaxy clusters as far away as nearly 10 billion light-years.',\n",
       "  'category': 'science'},\n",
       " {'title': 'Pic shows several planets visible at the same time from Earth',\n",
       "  'content': 'A picture shared by NASA shows the planets Venus, Saturn, Jupiter and Mars simultaneously visible from Earth. Taken late last month by Tunc Tezel in a village in Turkey, the image also captures the Moon and planet Mercury. Below visibility were the planets Neptune and Uranus, making this a nearly all-planet panorama, wrote NASA.',\n",
       "  'category': 'science'},\n",
       " {'title': 'Pic shows Earth from 124 km above the Moon',\n",
       "  'content': \"'Danuri', South Korea’s first-ever spacecraft to orbit the Moon, sent back images of the lunar surface and the Earth beyond. On December 28, 2022, it took an image of Earth when it was 124 km above the Moon. 'Danuri', a portmanteau of the Korean words 'Moon' and 'Enjoy', was launched on a SpaceX rocket from the US in August 2022.\",\n",
       "  'category': 'science'},\n",
       " {'title': 'Markings on 20,000-year-old Ice Age drawings decoded for the first time',\n",
       "  'content': 'Markings found on 20,000-year-old Ice Age drawings in caves across Europe have been decoded for the first time ever. These markings, which include lines, dots and \\'Y\\' marks, were made by hunter-gatherers alongside depictions of prey animals. They recorded animal behaviour \"critical\" to people\\'s survival, such as mating and birthing, a study published in the Cambridge Archaeological Journal said.',\n",
       "  'category': 'science'},\n",
       " {'title': 'Sun emits the most intense flare, pic surfaces',\n",
       "  'content': 'The Sun recently emitted an X1.2 flare, with the NASA\\'s Solar Dynamics Observatory capturing an image of the event. X-class denotes the most intense flares, while the number provides \"more information\" about its strength, NASA stated. Flares and solar eruptions can impact radio communications, electric power grids, navigation signals, and pose risks to spacecraft and astronauts, NASA added.',\n",
       "  'category': 'science'},\n",
       " {'title': 'China may try to claim territory on the Moon, warns NASA Chief',\n",
       "  'content': 'NASA Administrator Bill Nelson warned that China may try to claim territory on Moon and said, \"We better watch out that they don\\'t get to a place on the Moon under the guise of scientific research.\" Stating that \"we\\'re in a space race\", he added, \"It isn\\'t beyond the realm of possibility that...[China] says, \\'We\\'re here, this is our territory\\'.\"',\n",
       "  'category': 'science'},\n",
       " {'title': '38-year-old NASA satellite expected to fall from sky tomorrow',\n",
       "  'content': 'NASA\\'s retired Earth Radiation Budget Satellite (ERBS) is expected to re-enter Earth\\'s atmosphere on Sunday after 38 years in space, the space agency said. While most of the 2,450-kg satellite is expected to burn on its re-entry, some components are expected to survive. \"The risk of harm coming to anyone on Earth is very low...approximately 1 in 9,400,\" NASA said.',\n",
       "  'category': 'science'},\n",
       " {'title': \"World's first vaccine for honeybees approved for use by US\",\n",
       "  'content': \"The world's first vaccine for honeybees has been approved for use by the US government. Developed by Dalan Animal Health, the vaccination protects honeybees against the American Foulbrood disease caused by Paenibacillus larvae which can weaken and kill hives. The vaccine will be administered by mixing it into the queen feed which is consumed by the worker bees.\",\n",
       "  'category': 'science'},\n",
       " {'title': \"NASA's Mars Rover deposits 5th sample on the planet, pic released\",\n",
       "  'content': 'NASA\\'s Perseverance Mars Rover has deposited the fifth sample that it collected from Mars onto the surface of the red planet. \"[It\\'s] a core sample from a rock that formed from magma, then was altered by water several times,\" the space agency said, adding, \"It could help scientists understand the early history of this area...when life may have been present.\"',\n",
       "  'category': 'science'},\n",
       " {'title': \"India's data and tech can take science to new heights: PM Modi\",\n",
       "  'content': 'Prime Minister Narendra Modi on Tuesday virtually inaugurated 108th Indian Science Congress and said the country has plenty of data and technology at present. \"These can take India\\'s science to new heights,\" he stated. \"Data analysis is rapidly moving ahead. It helps in converting information into insight and analysis into actionable knowledge,\" he added.',\n",
       "  'category': 'science'},\n",
       " {'title': 'ISRO to launch Space Kidz India satellite made by 750 school girls',\n",
       "  'content': \"Space Kidz India, a Chennai-based space tech startup, will launch its satellite made by 750 girls studying in government schools across the country aboard an ISRO launch vehicle on January 16. Last year, Space Kidz's payloads were onboard Skyroot Aerospace's Vikram-S launch vehicle, the first Indian private rocket to launch into space.\",\n",
       "  'category': 'science'},\n",
       " {'title': 'First-ever rocket launch from UK soil to take place on Monday',\n",
       "  'content': \"The first-ever rocket launch from the UK soil is scheduled to take place on Monday from Cornwall. The mission, called 'Start Me Up', involves a repurposed Virgin Atlantic Boeing 747 aircraft and Virgin Orbit's LauncherOne rocket. It will carry a set of satellites into space, including a prototype orbiting factory for making high-value alloys and semiconductors. \",\n",
       "  'category': 'science'},\n",
       " {'title': \"NASA's Perseverance Rover drops 4th sample tube on Mars\",\n",
       "  'content': \"NASA's Perseverance Rover has dropped its fourth sample tube on the surface of Mars. Under the space agency's Mars Sample Return Program, 10 such sample tubes will be left on the planet's surface that will be considered a backup in case the rover fails to deliver the samples to a future robotic lander.\\n\",\n",
       "  'category': 'science'},\n",
       " {'title': 'Compound extreme heat, drought to hit 90% of population: Study',\n",
       "  'content': \"A study from Oxford's School of Geography has said that 90% of the world's population is projected to face increased risks from the compound impacts of extreme heat and drought. When assessed together, the linked threats of heat and drought represent a significantly higher risk to society and ecosystems. These joint threats may have severe socio-economic and ecological impacts.\",\n",
       "  'category': 'science'},\n",
       " {'title': 'Omicron booster cuts hospitalisation in people over 65: Study',\n",
       "  'content': 'An Omicron-adapted COVID-19 vaccine booster cut hospitalisations sharply among patients aged 65 and above, researchers from Clalit, Ben-Gurion University of the Negev and Sapir College said. The study, done from September-end to mid-December, observed 6.23 lakh people, eligible for the bivalent booster. It found an 81% reduction in hospitalisations among those who had received the booster.',\n",
       "  'category': 'science'},\n",
       " {'title': 'Scientists examine dead endangered whale that washed up on US beach',\n",
       "  'content': 'Scientists are examining the corpse of an endangered whale that washed up on a beach in the US in Mississippi. This is reportedly the first time a fin whale stranding has been reported in Mississippi, and the fourth one reported in the Gulf of Mexico since 2002. The whale is 30 feet long and weighs between 5,443-6,803 kilogrammes.\\n',\n",
       "  'category': 'science'},\n",
       " {'title': 'Bizarre fossil with a dinosaur-like head & bird-like body found in China',\n",
       "  'content': 'A bizarre fossil which seems to have a dinosaur-like head and bird-like body has been discovered in China. It has a \"surprisingly elongated\" scapula and first metatarsal bones, making it stand out from other birds. Moreover, its skull is nearly identical to that of T-rex dinosaurs. The 120-million-year-old fossil has raised more questions about the evolution of dinosaurs into birds.',\n",
       "  'category': 'science'},\n",
       " {'title': \"NASA TDRS-9 satellite launched in 2002 reaches its mission's end\",\n",
       "  'content': \"NASA's Tracking and Data Relay Satellite-9 (TDRS-9), launched in 2002, has reached the end of its mission, surpassing its planned 15-year mission life. A NASA team first found intermittent connectivity issues with the communications satellite in August. Their troubleshooting efforts and assessments concluded that the TDRS-9 will not regain its ability to consistently relay data.\",\n",
       "  'category': 'science'},\n",
       " {'title': 'Walter Cunningham, the last surviving astronaut from Apollo 7, dies at 90',\n",
       "  'content': \"NASA's Apollo 7 astronaut Walter Cunningham died aged 90 on Tuesday in Houston. Cunningham's family, through a spokesperson, informed that he died in the hospital of natural causes. He was the last surviving member of the three-astronaut crew aboard Apollo 7, the 11-day spaceflight which marked the first successful crewed space mission in NASA's Apollo program.\",\n",
       "  'category': 'science'},\n",
       " {'title': \"James Webb's images show 'barred' galaxies from 8-11 bn years ago\",\n",
       "  'content': 'Images from NASA\\'s James Webb Telescope have revealed galaxies with stellar bars, much like our Milky Way, from eight to 11 billion years ago when the universe was much younger. This is the first time stellar bars have been observed in such young galaxies. Scientists identified two \"barred\" galaxies from about 11 billion years ago.\\n',\n",
       "  'category': 'science'},\n",
       " {'title': 'Potential naked-eye comet to make close approach to Earth on Feb 2',\n",
       "  'content': 'A recently discovered comet, dubbed C/2022 E3 (ZTF), is all set to make its closest approach to Earth on February 2. The comet is expected to be visible to the naked eye under dark skies and with a telescope or even with binoculars. The comet could come within 43 million kilometres of Earth.',\n",
       "  'category': 'science'},\n",
       " {'title': \"Two-thirds of world's glaciers on track to disappear by 2100: Study\",\n",
       "  'content': \"Two-thirds of the world's glaciers are projected to disappear by the end of the century at current climate change trends, a new study said. However, if future warming is limited to just a few more tenths of a degree, then less than half the glaciers will disappear. Projected ice loss by 2100 ranges from 38.7 trillion metric tonnes-64.4 trillion tonnes.\",\n",
       "  'category': 'science'},\n",
       " {'title': '8 super-hot stars with surfaces hotter than 1,00,000°C found',\n",
       "  'content': 'The Royal Astronomical Society has reported that astronomers have found eight new super-hot stars, all with surfaces hotter than 1,00,000°C. One of the stars identified is the central star of a newly discovered planetary nebula. \"Stars with effective temperatures of 1,00,000°C or higher are incredibly rare. It was a...surprise to find so many of these stars,\" a researcher said.',\n",
       "  'category': 'science'},\n",
       " {'title': '6 new species of frogs smaller than a penny discovered in Mexico',\n",
       "  'content': \"Researchers have discovered six new species of frogs that are smaller in size than a penny in Mexico. The male members of one of these species, named Craugastor candelariensis, can grow only up to 13 mm. These are direct-developing frogs that don't hatch as tadpoles but as fully-formed frogs. They live in the dark, humid leaf litter of the forests.\",\n",
       "  'category': 'science'},\n",
       " {'title': \"Absolute miracle: US authorities after 4 survive Tesla car's 250ft plunge off a cliff\",\n",
       "  'content': 'A Tesla car plunged more than 250 feet off a cliff near an area known as Devil\\'s Slide in Northern California, US. All four passengers in the car, including a four-year-old girl, a nine-year-old boy, were rescued in what the authorities said was an \"absolute miracle\". The car appeared to have flipped a few times before landing on its wheels.',\n",
       "  'category': 'automobile'},\n",
       " {'title': \"BMW unveils concept car that 'can talk', change colours & patterns in seconds\",\n",
       "  'content': 'BMW has unveiled a concept car that can change its colours and patterns within seconds. Called the \\'i Vision Dee\\', the car has 240 separate colour cells that can change individually and allow car owners to configure its exterior with 32 different colours. The car can also \"talk to people\" and \"express moods such as joy, astonishment\", BMW said.',\n",
       "  'category': 'automobile'},\n",
       " {'title': 'Chinese electric car reportedly catches fire at auto show in China; video surfaces',\n",
       "  'content': 'A prototype of an electric car by Chinese automobile company IAT Automobile reportedly caught fire at China (Guangzhou) International Automobile Exhibition. Motoring journalist Lei Xing claimed that the concept caught fire and tweeted a video of IAT\\'s booth in flames. \"During the construction of our booth, the working area accidentally caught fire for unknown reasons,\" the company said.',\n",
       "  'category': 'automobile'},\n",
       " {'title': 'Tesla may unveil $25,000 Model 2 car in 2024: Report',\n",
       "  'content': 'Tesla is expected to unveil Model 2, its most affordable electric car, in early 2024, Teslarati reported. \"If the company announces the lower-price[d] car too early, they risk slowing sales of Model 3,\" the report noted. Tesla Model 2, with a price target of $25,000, will either be a compact car or a subcompact vehicle, the report said.',\n",
       "  'category': 'automobile'},\n",
       " {'title': 'Toyota Kirloskar Motor confirms data breach in its system',\n",
       "  'content': 'Toyota Kirloskar Motor reported a data breach in its system but said the extent of the intrusion is being confirmed. It said it has been \"notified by one of its service providers of...incident that might have exposed personal information\" of some of its customers on the internet. It apologised \"for any concern\" the incident may have caused to its customers.',\n",
       "  'category': 'automobile'},\n",
       " {'title': \"Tesla fined $2.2 mn by S Korea for exaggerating cars' driving range\",\n",
       "  'content': \"South Korea's antitrust regulator said it'd impose 2.85 billion won ($2.2 million) fine on Tesla for false advertising related to the driving range of its electric vehicles (EVs). As per the regulator, Tesla exaggerated the driving ranges of its cars on a single charge and their fuel cost-effectiveness compared to gasoline vehicles. Tesla also exaggerated its Superchargers' performance, it said.\",\n",
       "  'category': 'automobile'},\n",
       " {'title': 'Tesla promotes China head to highest position after Musk: Report',\n",
       "  'content': \"Tesla's China head Tom Zhu has been promoted to take direct oversight of the company's US assembly plants as well as sales operations in North America and Europe, Reuters reported. The move makes Zhu the highest-profile executive at Tesla after CEO Elon Musk. Zhu will have oversight for deliveries in Tesla's major markets and operations of its key production hubs.\",\n",
       "  'category': 'automobile'},\n",
       " {'title': 'Domestic passenger vehicle sales in 2022 highest ever for a calendar year',\n",
       "  'content': 'Domestic passenger vehicle sales rose by 23% to a record of 37.93 lakh units in 2022 led by Maruti Suzuki, Hyundai and Tata Motors. Maruti Suzuki India Executive Director Shashank Srivastava said the 2022 wholesales are \"the highest ever in the industry for a calendar year\" and the last highest was in 2018 which was 33.3 lakh units.',\n",
       "  'category': 'automobile'},\n",
       " {'title': 'Karnataka HC cancels Yezdi trademark acquisition by heir Boman Irani',\n",
       "  'content': \"The return of the Yezdi motorcycles hit a roadblock after Karnataka High Court ruled as illegal the acquisition of the 'Yezdi' trademark by Boman Irani, Rustom Irani's son, the original owner of Ideal Jawa (India) Private Limited—which went into liquidation around two decades ago. Boman Irani's acquisition of the trademark was challenged by Ideal Jawa Employees Association and the liquidator.\",\n",
       "  'category': 'automobile'},\n",
       " {'title': 'Ola to roll out 10,000 EV cabs, will offer 100% ride assurance',\n",
       "  'content': \"Ola on Wednesday said it'll soon deploy 10,000 electric cabs and is in the final stages of launching the pilot programme. The new fleet will be operated by top-rated drivers, with 100% ride assurance post allocation of the cab and zero cancellations, Ola said. Ola is planning to start the pilot in Bengaluru with about 1,000 cabs, Economic Times reported.\",\n",
       "  'category': 'automobile'},\n",
       " {'title': \"India becomes world's 3rd largest auto market in 2022: Report\",\n",
       "  'content': \"India surpassed Japan to become the third-largest auto market globally in 2022, Nikkei Asia reported. India's new vehicle sales were at 42.5 lakh units, topping the 42 lakh sold in Japan. The figure is expected to rise further with the inclusion of pending fourth-quarter sales figures for commercial vehicles, along with year-end results yet to be released by some automakers.\",\n",
       "  'category': 'automobile'},\n",
       " {'title': 'Auto Expo to begin from Jan 13 in Gr Noida, several cars to be unveiled',\n",
       "  'content': 'The 16th edition of Auto Expo will be held from January 13 to 18 at the India Expo Mart in Greater Noida. A wide variety of cars will reportedly be unveiled and around 70 exhibitors will be participating in the event. The general public can visit the expo from January 14 to 18 between 10 am to 6 pm.',\n",
       "  'category': 'automobile'},\n",
       " {'title': 'Much to learn in quality: Mahindra as India surpasses Japan in auto market',\n",
       "  'content': 'Businessman Anand Mahindra reacted to India reportedly surpassing Japan in the auto sector in 2022, saying there is \"much to still learn in quality\". \"I went to Business School in the 80s...If I had told my international classmates that India would one day surpass Japan in terms of output...I would have been laughed at,\" he added.',\n",
       "  'category': 'automobile'},\n",
       " {'title': 'GM beats Toyota to reclaim top US automaker spot after a 2.5% rise in sales',\n",
       "  'content': \"General Motors (GM) reclaimed the top US automaker spot from Japan's Toyota Motor after posting a 2.5% rise in US new vehicle sales in 2022. The Detroit-based automaker said its 2022 sales rose to 2,274,088 vehicles, beating Toyota's annual sales of 2,108,458 units in the country. In 2021, Toyota overtook GM as US' top-selling automaker for first time since 1931.\",\n",
       "  'category': 'automobile'},\n",
       " {'title': 'BluSmart secures $100 mn credit line to purchase 7,000 EVs: Report',\n",
       "  'content': \"Ride-hailing startup BluSmart has secured a $100 million credit line to purchase 7,000 electric cars for expansion, BluSmart's Co-founder Anmol Jaggi told YourStory. The new credit line will be reportedly disbursed in less than 15 days. Anmol also said that BluSmart is in advanced talks to raise $250 million in its latest Series B round.\",\n",
       "  'category': 'automobile'},\n",
       " {'title': 'Weakening rupee could force us to raise domestic prices: Mercedes',\n",
       "  'content': 'Mercedes-Benz India Managing Director Santosh Iyer has said the Indian rupee weakening a bit more could force the automaker to increase domestic prices as imported components get pricier. However, he added the firm expects to see double-digit sales growth in India this year. Earlier, Reuters reported that the Indian rupee became the worst-performing Asian currency in 2022.',\n",
       "  'category': 'automobile'},\n",
       " {'title': 'Electric two-wheeler sales cross 6-lakh mark in 2022',\n",
       "  'content': 'Electric two-wheeler (E2W) sales in 2022 hit a milestone of over 6 lakh units, a fourfold increase from about 1.5 lakh units in 2021. Electric two-wheelers clocked in sales of 76,162 units in December, according to the data available on the VAHAN portal. The sales in October were 77,024 units and 76,598 units in November.',\n",
       "  'category': 'automobile'},\n",
       " {'title': \"Volkswagen's India sales grow by 85% to 1.01 lakh units in 2022\",\n",
       "  'content': \"Volkswagen's (VW) sales in India grew by 85.48% to 1,01,270 units in 2022, SKODA AUTO Volkswagen India Pvt Ltd (SAVWIPL) said on Wednesday. The group's sales in India stood at 54,598 units in 2021. On the strategic importance of India for the VW Group, SAVWIPL CEO Piyush Arora said it is an important market for the group's global expansion plans.\",\n",
       "  'category': 'automobile'},\n",
       " {'title': 'Tesla shares fall further after firm misses 2022 delivery target',\n",
       "  'content': \"Tesla's shares, which dipped roughly 65% last year, fell more than 12% to close at $108.10 on Tuesday. The latest decline comes after the company disclosed that it produced around 1.4 million vehicles and delivered record 1.3 million vehicles in 2022. The company recorded a 40% year-over-year jump in deliveries but it fell short of its 50% growth target.\",\n",
       "  'category': 'automobile'},\n",
       " {'title': 'Tesla cuts Model 3, Model Y prices in China for 2nd time in 3 months',\n",
       "  'content': \"Tesla on Friday reduced prices for its Model 3 and Model Y vehicles in China. The prices were slashed between 6% and 13.5%, according to Reuters' calculations. In October, Tesla slashed prices of Model 3 and Model Y by up to 9%. The latest cut comes after data showed deliveries of Tesla's China-made cars hit a five-month low in December.\",\n",
       "  'category': 'automobile'},\n",
       " {'title': 'Tesla owners in China demand refund after sudden price cuts',\n",
       "  'content': 'Around 200 recent buyers of Tesla\\'s Model Y and Model 3 gathered at a Tesla delivery centre in Shanghai demanding rebates and credit after sudden price cuts. The US carmaker on Friday slashed prices for the second time in three months in China. \"It may be a normal business practice but this isn\\'t how...responsible enterprise should behave,\" said a protester.',\n",
       "  'category': 'automobile'},\n",
       " {'title': 'Rolls-Royce reports record car sales in 118 years',\n",
       "  'content': \"Luxury car maker Rolls-Royce has sold 6021 cars in 2022, the highest annual sales in the company's 118-year history. Torsten Müller-Ötvös, the Chief Executive Officer of Rolls-Royce Motor Cars, said that the company has secured advance orders stretching far into 2023. The largest market for the car maker was United States followed by China.\",\n",
       "  'category': 'automobile'},\n",
       " {'title': 'Tesla reports record deliveries of 1.3 million vehicles in 2022',\n",
       "  'content': \"Tesla on Monday reported that it delivered record 1.3 million vehicles in 2022, surpassing previous record of 9,36,000 vehicles delivered in 2021. Though the deliveries in 2022 jumped 40% year-over-year, the figure fell short of the Elon Musk-led company's 50% growth target. Additionally, Tesla produced nearly 1.4 million vehicles in 2022, up 47% from the prior year.\",\n",
       "  'category': 'automobile'},\n",
       " {'title': 'Vehicle sales in India grow by 15% to 2.11 crore units in 2022: FADA',\n",
       "  'content': \"India's retail sales of overall vehicles witnessed a 15.28% growth to 2.11 crore units in 2022, according to data shared by Federation of Automobile Dealers Associations (FADA). The sales of two-wheelers stood at 1.53 crore units in 2022, a growth of 13.37% from 2021. Meanwhile, passenger vehicles retail sales were at 34.31 lakh units in 2022, up 16.35% from 2021.\",\n",
       "  'category': 'automobile'},\n",
       " {'title': 'Stellantis may shut more auto plants due to high EV prices: CEO',\n",
       "  'content': 'Stellantis NV CEO Carlos Tavares said on Thursday that more auto plant closures will happen if high prices for electric vehicles (EVs) cause vehicle markets to shrink from pre-pandemic levels. Automakers will risk losing pricing power as chip supplies recover, Tavares added. Stellantis had said in December it would indefinitely shut an assembly plant in Illinois, citing high EV costs.',\n",
       "  'category': 'automobile'}]"
      ]
     },
     "execution_count": 12,
     "metadata": {},
     "output_type": "execute_result"
    }
   ],
   "source": [
    "inshort_info()"
   ]
  },
  {
   "cell_type": "code",
   "execution_count": null,
   "id": "b9c3cded",
   "metadata": {},
   "outputs": [],
   "source": []
  },
  {
   "cell_type": "markdown",
   "id": "6d82ec36",
   "metadata": {},
   "source": [
    "# 3. Bonus: cache the data\n",
    "\n",
    "Write your code such that the acquired data is saved locally in some form or fashion. Your functions that retrieve the data should prefer to read the local data instead of having to make all the requests everytime the function is called. Include a boolean flag in the functions to allow the data to be acquired \"fresh\" from the actual sources (re-writing your local cache)."
   ]
  },
  {
   "cell_type": "code",
   "execution_count": null,
   "id": "5516af7a",
   "metadata": {},
   "outputs": [],
   "source": []
  },
  {
   "cell_type": "code",
   "execution_count": null,
   "id": "00c30e88",
   "metadata": {},
   "outputs": [],
   "source": []
  },
  {
   "cell_type": "markdown",
   "id": "4d10c90e",
   "metadata": {},
   "source": [
    "# 4. Extra Practice: books"
   ]
  },
  {
   "cell_type": "code",
   "execution_count": null,
   "id": "59c7e73e",
   "metadata": {},
   "outputs": [],
   "source": [
    "# set url\n",
    "url ='http://books.toscrape.com'"
   ]
  },
  {
   "cell_type": "code",
   "execution_count": null,
   "id": "4e7c98b0",
   "metadata": {},
   "outputs": [],
   "source": [
    "# response of 200 means it was sucessful\n",
    "response = requests.get(url)\n",
    "response"
   ]
  },
  {
   "cell_type": "code",
   "execution_count": null,
   "id": "8d9de5c5",
   "metadata": {
    "scrolled": false
   },
   "outputs": [],
   "source": [
    "response_content = response.content"
   ]
  },
  {
   "cell_type": "code",
   "execution_count": null,
   "id": "3f3a1cdc",
   "metadata": {
    "scrolled": false
   },
   "outputs": [],
   "source": [
    "# remove hashtag below to see content\n",
    "#response_content"
   ]
  },
  {
   "cell_type": "code",
   "execution_count": null,
   "id": "738b175e",
   "metadata": {
    "scrolled": false
   },
   "outputs": [],
   "source": [
    "# to get html code, nicer looking\n",
    "soup = BeautifulSoup(response_content,'html.parser' )\n"
   ]
  },
  {
   "cell_type": "code",
   "execution_count": null,
   "id": "98c44293",
   "metadata": {},
   "outputs": [],
   "source": [
    "# remove hashtag below to see soup (html content)\n",
    "#soup"
   ]
  },
  {
   "cell_type": "code",
   "execution_count": null,
   "id": "d13da976",
   "metadata": {},
   "outputs": [],
   "source": [
    "ol = soup.find('ol')"
   ]
  },
  {
   "cell_type": "code",
   "execution_count": null,
   "id": "e4cad8c0",
   "metadata": {},
   "outputs": [],
   "source": [
    "articles = ol.find_all('article', class_='product_pod')"
   ]
  },
  {
   "cell_type": "code",
   "execution_count": null,
   "id": "71462e0c",
   "metadata": {
    "scrolled": false
   },
   "outputs": [],
   "source": [
    "# Remove hastab below to see list of articles\n",
    "articles[0]"
   ]
  },
  {
   "cell_type": "code",
   "execution_count": null,
   "id": "937c95bf",
   "metadata": {},
   "outputs": [],
   "source": [
    "# to find the title of the articles\n",
    "for article in articles:\n",
    "    image = article.find('img')\n",
    "    title = image.attrs['alt']\n",
    "    print(title)"
   ]
  },
  {
   "cell_type": "code",
   "execution_count": null,
   "id": "c0b429fc",
   "metadata": {},
   "outputs": [],
   "source": [
    "# to find the star of the articles\n",
    "for article in articles:\n",
    "    star = article.find('p')\n",
    "    rating = star['class'][1]\n",
    "    print(rating)"
   ]
  },
  {
   "cell_type": "code",
   "execution_count": null,
   "id": "cd202772",
   "metadata": {},
   "outputs": [],
   "source": [
    "# to find the price of the articles\n",
    "for article in articles:\n",
    "    price = article.find('p', class_=\"price_color\").text\n",
    "    # to convert text to float without money symbol\n",
    "    price = float(price[1:])\n",
    "    print(price)"
   ]
  },
  {
   "cell_type": "code",
   "execution_count": null,
   "id": "a521e9cc",
   "metadata": {},
   "outputs": [],
   "source": [
    "# get information of one page in book website\n",
    "books =[]\n",
    "for article in articles:\n",
    "    image = article.find('img')\n",
    "    title = image.attrs['alt']\n",
    "    star = article.find('p')\n",
    "    rating = star['class'][1]\n",
    "    price = article.find('p', class_=\"price_color\").text\n",
    "    # to convert text to float without money symbol\n",
    "    price = float(price[1:])\n",
    "    books.append([title,price,rating])\n",
    "books_df = pd.DataFrame(books, columns = ['title','price','stars'])\n",
    "books_df"
   ]
  },
  {
   "cell_type": "code",
   "execution_count": null,
   "id": "0237fc70",
   "metadata": {},
   "outputs": [],
   "source": [
    "# get book information of all the pages in website\n",
    "books=[]\n",
    "for i in range(1,51):\n",
    "    \n",
    "    url = f\"http://books.toscrape.com/catalogue/page-{i}.html\"\n",
    "    response = requests.get(url)\n",
    "    response = response.content\n",
    "    soup = BeautifulSoup(response,'html.parser')\n",
    "    ol = soup.find('ol')\n",
    "    artticles = ol.find_all('article', class_ = 'product_pod')\n",
    "\n",
    "\n",
    "\n",
    "    for article in articles:\n",
    "        image = article.find('img')\n",
    "        title = image.attrs['alt']\n",
    "        star = article.find('p')\n",
    "        rating = star['class'][1]\n",
    "        price = article.find('p', class_=\"price_color\").text\n",
    "        # to convert text to float without money symbol\n",
    "        price = float(price[1:])\n",
    "        books.append([title,price,rating])\n",
    "books_df = pd.DataFrame(books, columns = ['title','price','stars'])\n",
    "books_df"
   ]
  }
 ],
 "metadata": {
  "kernelspec": {
   "display_name": "Python 3 (ipykernel)",
   "language": "python",
   "name": "python3"
  },
  "language_info": {
   "codemirror_mode": {
    "name": "ipython",
    "version": 3
   },
   "file_extension": ".py",
   "mimetype": "text/x-python",
   "name": "python",
   "nbconvert_exporter": "python",
   "pygments_lexer": "ipython3",
   "version": "3.9.12"
  }
 },
 "nbformat": 4,
 "nbformat_minor": 5
}
