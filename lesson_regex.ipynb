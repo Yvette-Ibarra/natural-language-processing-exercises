{
 "cells": [
  {
   "cell_type": "markdown",
   "id": "e6d2afe0",
   "metadata": {},
   "source": [
    "# Lesson Regex"
   ]
  },
  {
   "cell_type": "markdown",
   "id": "9283fa46",
   "metadata": {},
   "source": [
    "# Meet Regular Expressions\n",
    "\n",
    "## What?\n",
    "- Regular expressions (called regexes or regex patterns) are a tiny language for dealing with text and character patterns.\n",
    "- With RegEx patterns we can:\n",
    "    - Does this string match a pattern?\n",
    "    - Is there a match for the pattern anywhere in the string?\n",
    "    - Modify + split strings in various ways\n",
    "    \n",
    "re library functions\n",
    "- `re.search` scans through a string, looking for any location where the RE matches.\n",
    "- `re.findall` Finds all substrings where the RE matches; returns a list.\n",
    "- `re.split` splits a string on a given regex pattern, removing that pattern. The result is a list of a strings.\n",
    "- `re.sub` allows us to match a regex and substitute in a new substring for the match.\n",
    "\n",
    "\n",
    "## So What?\n",
    "- Power + precision\n",
    "    - Cost is learning something new and potentially unfamiliar.\n",
    "    - Payoff is a language that works with any other programming language to operate on text and character patterns.\n",
    "- Regular Expressions are cross platform and available in many programming languages and environments:\n",
    "    - Command line tools (Linux, Windows, Mac, etc...)\n",
    "    - Python\n",
    "    - SQL flavors offer RegEx\n",
    "    - Java (Scala/Clojure)\n",
    "    - Other languages like Julia, Ruby, PHP, C#, etc...\n",
    "    - Like SQL, there are differences between some of the different RegEx implementations, but if you know your RegEx, you can bring value in many environments.\n",
    "\n",
    "## When is RegEx the right tool or wrong tool?\n",
    "- If you can solve the problem with built-in string methods in your language, do so.\n",
    "- If you need more capability than built-in string methods\n",
    "- If you're parsing HTML, JSON, or XML, use a tool built for those formats. Regex + html/json = don't\n",
    "\n",
    "## Now What?\n",
    "- We'll start simple by writing regex patterns to match literal characters.\n",
    "- Then we will introduce metacharacters, that have special meaning and functionality.\n",
    "\n",
    "## Key Concepts\n",
    "- The RegEx metacharacters `. ^ $ * + ? { } [ ] \\ | ( )` have special meanings. \n",
    "- Square brackets create a \"character class\". \n",
    "    - Character classes allow us to specify many OR operations\n",
    "    - For example, `r\"[aeiou]\"` matches any lowercase vowel character. Identical to `r\"a|e|i|o|u\"`\n",
    "    - `r\"[a-z]\"` matches lowercase a through z.\n",
    "- Metacharacters are not active inside of the character class square brackets `[]`\n",
    "- Outside of the character class `[]`, if you need to match a metacharacter character literally, you will need to put a `\\` in front of that character. `r\"\\+\"` will match the literal `+` character.\n",
    "- RegEx has characters for special sequences:\n",
    "    - `.` matches any character\n",
    "    - `\\d` matches any numeral. Is equivalent to `[0-9]`\n",
    "    - `\\D` matches any non-digit character and is equivalent to `[^0-9]`. \n",
    "    - `\\s` matches any white space like ` `, tab, soft return, new line etc...\n",
    "    - `\\w` matches any alphanumeric character and underscore. Equivalent to `[0-9a-zA-Z_]`\n",
    "    - `\\W` matches any non-alphanumeric character. Equivalent to `[^a-zA-Z0-9_]`\n",
    "- `.` Matches any character\n",
    "- Repetition:\n",
    "    - `*` matches zero or more of the previous pattern\n",
    "    - `+` matches 1 or more of the previous pattern\n",
    "- `?` after a pattern means that pattern is optional\n",
    "- Not - `[^abc]` matches anything but \"a\" or \"b\" or \"c\"\n",
    "- Anchors\n",
    "    - `^` start\n",
    "    - `$` end\n",
    "    - `\\b` word boundary\n",
    "- Groups\n",
    "    - `(a)`\n",
    "\n",
    "## How Deep Does RegEx go?\n",
    "![Rabbit Hole](http://www.quickmeme.com/img/cf/cf803d01bef8c3ed6ec0cd879d59ae25ea311d67e1794d11ecf2db41209095a1.jpg)\n",
    "- For challenging strings to match, like email addresses, recommend using pre-built RegEx specifications like  the HTML specification at https://html.spec.whatwg.org/multipage/forms.html#valid-e-mail-address\n",
    "- With known, good, and proven RegEx patterns like these, you don't need to reinvent things.\n",
    "- ```r\"^[a-zA-Z0-9.!#$%&'*+/=?^_`{|}~-]+@[a-zA-Z0-9](?:[a-zA-Z0-9-]{0,61}[a-zA-Z0-9])?(?:\\.[a-zA-Z0-9](?:[a-zA-Z0-9-]{0,61}[a-zA-Z0-9])?)*$\"```\n"
   ]
  },
  {
   "cell_type": "code",
   "execution_count": 1,
   "id": "fdb0df63",
   "metadata": {},
   "outputs": [],
   "source": [
    "import re\n",
    "import pandas as pd"
   ]
  },
  {
   "cell_type": "markdown",
   "id": "935082af",
   "metadata": {},
   "source": [
    "### Patterns to Match Literals \n",
    "> Crawl before you walk"
   ]
  },
  {
   "cell_type": "code",
   "execution_count": 2,
   "id": "f795d9a2",
   "metadata": {
    "scrolled": true
   },
   "outputs": [
    {
     "data": {
      "text/plain": [
       "'Two households, both alike in dignity, In fair Verona, where we lay our scene, From ancient grudge break to new mutiny, Where civil blood makes civil hands unclean.'"
      ]
     },
     "execution_count": 2,
     "metadata": {},
     "output_type": "execute_result"
    }
   ],
   "source": [
    "string = 'Two households, both alike in dignity, In fair Verona, where we lay our scene, From ancient grudge break to new mutiny, Where civil blood makes civil hands unclean.'\n",
    "string"
   ]
  },
  {
   "cell_type": "code",
   "execution_count": 3,
   "id": "ddfcd68e",
   "metadata": {},
   "outputs": [
    {
     "data": {
      "text/plain": [
       "<re.Match object; span=(47, 53), match='Verona'>"
      ]
     },
     "execution_count": 3,
     "metadata": {},
     "output_type": "execute_result"
    }
   ],
   "source": [
    "# We can search for a literal match of the string Verona\n",
    "# re.search(r\"pattern\", \"our subject\")\n",
    "re.search(r\"Verona\", string)"
   ]
  },
  {
   "cell_type": "code",
   "execution_count": 4,
   "id": "14e29300",
   "metadata": {},
   "outputs": [
    {
     "data": {
      "text/plain": [
       "<re.Match object; span=(84, 91), match='ancient'>"
      ]
     },
     "execution_count": 4,
     "metadata": {},
     "output_type": "execute_result"
    }
   ],
   "source": [
    "re.search(r\"ancient\",string)"
   ]
  },
  {
   "cell_type": "code",
   "execution_count": 5,
   "id": "34c0736d",
   "metadata": {},
   "outputs": [
    {
     "data": {
      "text/plain": [
       "'Verona'"
      ]
     },
     "execution_count": 5,
     "metadata": {},
     "output_type": "execute_result"
    }
   ],
   "source": [
    "# the span returned is the index. \n",
    "# Consider if we were to splice the string using the span bounds\n",
    "string[47:53]"
   ]
  },
  {
   "cell_type": "code",
   "execution_count": 8,
   "id": "e1a3f3ec",
   "metadata": {},
   "outputs": [
    {
     "data": {
      "text/plain": [
       "'ancient'"
      ]
     },
     "execution_count": 8,
     "metadata": {},
     "output_type": "execute_result"
    }
   ],
   "source": [
    "string[84:91]"
   ]
  },
  {
   "cell_type": "code",
   "execution_count": 9,
   "id": "755f59ae",
   "metadata": {},
   "outputs": [
    {
     "data": {
      "text/plain": [
       "<re.Match object; span=(39, 53), match='In fair Verona'>"
      ]
     },
     "execution_count": 9,
     "metadata": {},
     "output_type": "execute_result"
    }
   ],
   "source": [
    "re.search(r\"In fair Verona\", string)"
   ]
  },
  {
   "cell_type": "code",
   "execution_count": 10,
   "id": "cfe97a67",
   "metadata": {},
   "outputs": [],
   "source": [
    "# The string \"Leonardo DiCaprio\" is not here, so re.search returns None\n",
    "re.search(r\"Leonardo DiCaprio\", string)"
   ]
  },
  {
   "cell_type": "code",
   "execution_count": 11,
   "id": "dc529929",
   "metadata": {},
   "outputs": [],
   "source": [
    "re.search(r\"me\",string)"
   ]
  },
  {
   "cell_type": "code",
   "execution_count": 12,
   "id": "8ccd03c4",
   "metadata": {},
   "outputs": [
    {
     "data": {
      "text/plain": [
       "<re.Match object; span=(126, 131), match='civil'>"
      ]
     },
     "execution_count": 12,
     "metadata": {},
     "output_type": "execute_result"
    }
   ],
   "source": [
    "# re.search returns the first match\n",
    "re.search(r\"civil\", string)"
   ]
  },
  {
   "cell_type": "code",
   "execution_count": 14,
   "id": "734a754a",
   "metadata": {
    "scrolled": true
   },
   "outputs": [
    {
     "data": {
      "text/plain": [
       "'civil'"
      ]
     },
     "execution_count": 14,
     "metadata": {},
     "output_type": "execute_result"
    }
   ],
   "source": [
    "string[126:131]"
   ]
  },
  {
   "cell_type": "code",
   "execution_count": 18,
   "id": "89de1ed6",
   "metadata": {
    "scrolled": true
   },
   "outputs": [
    {
     "data": {
      "text/plain": [
       "'civil'"
      ]
     },
     "execution_count": 18,
     "metadata": {},
     "output_type": "execute_result"
    }
   ],
   "source": [
    "string[144:149]"
   ]
  },
  {
   "cell_type": "code",
   "execution_count": 13,
   "id": "80942b16",
   "metadata": {},
   "outputs": [
    {
     "data": {
      "text/plain": [
       "['civil', 'civil']"
      ]
     },
     "execution_count": 13,
     "metadata": {},
     "output_type": "execute_result"
    }
   ],
   "source": [
    "# .findall returns all matches\n",
    "re.findall(r\"civil\", string)"
   ]
  },
  {
   "cell_type": "code",
   "execution_count": 26,
   "id": "0353e1f4",
   "metadata": {},
   "outputs": [
    {
     "data": {
      "text/plain": [
       "<re.Match object; span=(27, 29), match='in'>"
      ]
     },
     "execution_count": 26,
     "metadata": {},
     "output_type": "execute_result"
    }
   ],
   "source": [
    "re.search(r\"in\",string)"
   ]
  },
  {
   "cell_type": "code",
   "execution_count": 20,
   "id": "387e240e",
   "metadata": {},
   "outputs": [
    {
     "data": {
      "text/plain": [
       "['in', 'in']"
      ]
     },
     "execution_count": 20,
     "metadata": {},
     "output_type": "execute_result"
    }
   ],
   "source": [
    "re.findall(r\"in\",string)"
   ]
  },
  {
   "cell_type": "code",
   "execution_count": 28,
   "id": "a05c4d08",
   "metadata": {},
   "outputs": [
    {
     "data": {
      "text/plain": [
       "' alike in'"
      ]
     },
     "execution_count": 28,
     "metadata": {},
     "output_type": "execute_result"
    }
   ],
   "source": [
    "string[20:29]"
   ]
  },
  {
   "cell_type": "code",
   "execution_count": 29,
   "id": "a5a5ad47",
   "metadata": {},
   "outputs": [
    {
     "data": {
      "text/plain": [
       "['in', 'In', 'in']"
      ]
     },
     "execution_count": 29,
     "metadata": {},
     "output_type": "execute_result"
    }
   ],
   "source": [
    "re.findall(r\"in\",string,re.IGNORECASE)"
   ]
  },
  {
   "cell_type": "code",
   "execution_count": 21,
   "id": "4f81eb50",
   "metadata": {},
   "outputs": [
    {
     "data": {
      "text/plain": [
       "[]"
      ]
     },
     "execution_count": 21,
     "metadata": {},
     "output_type": "execute_result"
    }
   ],
   "source": [
    "# empty set for no matches with .findall\n",
    "re.findall(r'Leonardo Dicaprio', string)"
   ]
  },
  {
   "cell_type": "code",
   "execution_count": 22,
   "id": "672c8b72",
   "metadata": {},
   "outputs": [
    {
     "data": {
      "text/plain": [
       "<re.Match object; span=(0, 3), match='Two'>"
      ]
     },
     "execution_count": 22,
     "metadata": {},
     "output_type": "execute_result"
    }
   ],
   "source": [
    "re.search(r'Two', string)"
   ]
  },
  {
   "cell_type": "code",
   "execution_count": 23,
   "id": "d6e9c4f4",
   "metadata": {},
   "outputs": [],
   "source": [
    "# Are computers particular on specifics?\n",
    "re.search(r'two', string)"
   ]
  },
  {
   "cell_type": "code",
   "execution_count": 24,
   "id": "6e12e440",
   "metadata": {},
   "outputs": [
    {
     "data": {
      "text/plain": [
       "<re.Match object; span=(39, 41), match='In'>"
      ]
     },
     "execution_count": 24,
     "metadata": {},
     "output_type": "execute_result"
    }
   ],
   "source": [
    "re.search(r'In', string)"
   ]
  },
  {
   "cell_type": "code",
   "execution_count": 25,
   "id": "c40b36ee",
   "metadata": {},
   "outputs": [
    {
     "data": {
      "text/plain": [
       "'In'"
      ]
     },
     "execution_count": 25,
     "metadata": {},
     "output_type": "execute_result"
    }
   ],
   "source": [
    "string[39:41]"
   ]
  },
  {
   "cell_type": "code",
   "execution_count": 14,
   "id": "a58afdde",
   "metadata": {},
   "outputs": [
    {
     "data": {
      "text/plain": [
       "<re.Match object; span=(0, 3), match='Two'>"
      ]
     },
     "execution_count": 14,
     "metadata": {},
     "output_type": "execute_result"
    }
   ],
   "source": [
    "# The re.IGNORECASE flag does exactly that\n",
    "re.search(r'two', string, re.IGNORECASE)"
   ]
  },
  {
   "cell_type": "code",
   "execution_count": 15,
   "id": "7eac3e7e",
   "metadata": {},
   "outputs": [
    {
     "data": {
      "text/plain": [
       "<re.Match object; span=(0, 1), match='a'>"
      ]
     },
     "execution_count": 15,
     "metadata": {},
     "output_type": "execute_result"
    }
   ],
   "source": [
    "re.search(r'A', \"aaaaaaaa\", re.IGNORECASE)"
   ]
  },
  {
   "cell_type": "code",
   "execution_count": 16,
   "id": "223f3e2c",
   "metadata": {},
   "outputs": [
    {
     "data": {
      "text/plain": [
       "<re.Match object; span=(0, 5), match='aaaaa'>"
      ]
     },
     "execution_count": 16,
     "metadata": {},
     "output_type": "execute_result"
    }
   ],
   "source": [
    "re.search(r'Aaaaa', \"aaaaaaaa\", re.IGNORECASE)"
   ]
  },
  {
   "cell_type": "code",
   "execution_count": 17,
   "id": "5bfce3b0",
   "metadata": {},
   "outputs": [],
   "source": [
    "re.search(r'aa', 'a')"
   ]
  },
  {
   "cell_type": "markdown",
   "id": "857d51d1",
   "metadata": {},
   "source": [
    "## Using `|` for a logical OR to open opportunities\n",
    "- We can use `|` with literal characters or other regular expression patterns"
   ]
  },
  {
   "cell_type": "code",
   "execution_count": 18,
   "id": "971d7d94",
   "metadata": {},
   "outputs": [
    {
     "data": {
      "text/plain": [
       "['grey', 'gray', 'grey']"
      ]
     },
     "execution_count": 18,
     "metadata": {},
     "output_type": "execute_result"
    }
   ],
   "source": [
    "# OR\n",
    "# Findall returns all matches \n",
    "re.findall(r'gray|grey', \"I can't remember if you spell grey like gray or like grey\")"
   ]
  },
  {
   "cell_type": "code",
   "execution_count": 19,
   "id": "47b73648",
   "metadata": {},
   "outputs": [
    {
     "data": {
      "text/plain": [
       "<re.Match object; span=(12, 17), match='apple'>"
      ]
     },
     "execution_count": 19,
     "metadata": {},
     "output_type": "execute_result"
    }
   ],
   "source": [
    "# The .search method matches only the first match\n",
    "re.search(r\"orange|apple\", \"I like both apples and oranges\")"
   ]
  },
  {
   "cell_type": "code",
   "execution_count": 20,
   "id": "19dc9e16",
   "metadata": {},
   "outputs": [
    {
     "data": {
      "text/plain": [
       "['this', 'that', 'this', 'that']"
      ]
     },
     "execution_count": 20,
     "metadata": {},
     "output_type": "execute_result"
    }
   ],
   "source": [
    "re.findall(r'this|that', \"this, that, this, that\")"
   ]
  },
  {
   "cell_type": "code",
   "execution_count": 21,
   "id": "a33c092c",
   "metadata": {},
   "outputs": [
    {
     "data": {
      "text/plain": [
       "<re.Match object; span=(1, 2), match='a'>"
      ]
     },
     "execution_count": 21,
     "metadata": {},
     "output_type": "execute_result"
    }
   ],
   "source": [
    "# has a vowel, anywhere\n",
    "re.search(r'a|e|i|o|u', 'banana')"
   ]
  },
  {
   "cell_type": "code",
   "execution_count": 22,
   "id": "120b4858",
   "metadata": {},
   "outputs": [
    {
     "data": {
      "text/plain": [
       "<re.Match object; span=(1, 2), match='a'>"
      ]
     },
     "execution_count": 22,
     "metadata": {},
     "output_type": "execute_result"
    }
   ],
   "source": [
    "re.search(r'[aeiou]', 'banana')"
   ]
  },
  {
   "cell_type": "code",
   "execution_count": 23,
   "id": "b1046aa2",
   "metadata": {},
   "outputs": [
    {
     "data": {
      "text/plain": [
       "['a', 'a', 'a']"
      ]
     },
     "execution_count": 23,
     "metadata": {},
     "output_type": "execute_result"
    }
   ],
   "source": [
    "re.findall(r'[aeiou]', 'banana')"
   ]
  },
  {
   "cell_type": "markdown",
   "id": "059c3d3e",
   "metadata": {},
   "source": [
    "# REGEX symbols ^ . *"
   ]
  },
  {
   "cell_type": "code",
   "execution_count": 24,
   "id": "ab6361ea",
   "metadata": {},
   "outputs": [
    {
     "data": {
      "text/plain": [
       "<re.Match object; span=(0, 10), match='bananarama'>"
      ]
     },
     "execution_count": 24,
     "metadata": {},
     "output_type": "execute_result"
    }
   ],
   "source": [
    "# ^ carot is starts-with\n",
    "# . is any character\n",
    "# * is zero or more\n",
    "re.search(r'^b.*', \"bananarama\")"
   ]
  },
  {
   "cell_type": "code",
   "execution_count": 25,
   "id": "aeab7684",
   "metadata": {},
   "outputs": [
    {
     "data": {
      "text/plain": [
       "<re.Match object; span=(1, 2), match='a'>"
      ]
     },
     "execution_count": 25,
     "metadata": {},
     "output_type": "execute_result"
    }
   ],
   "source": [
    "re.search(r'[^b.*]', \"bananarama\")"
   ]
  },
  {
   "cell_type": "code",
   "execution_count": 26,
   "id": "c5333487",
   "metadata": {},
   "outputs": [
    {
     "data": {
      "text/plain": [
       "<re.Match object; span=(0, 20), match='bananarama is my jam'>"
      ]
     },
     "execution_count": 26,
     "metadata": {},
     "output_type": "execute_result"
    }
   ],
   "source": [
    "re.search(r'^b.*', \"bananarama is my jam\")"
   ]
  },
  {
   "cell_type": "code",
   "execution_count": 27,
   "id": "c5d507e6",
   "metadata": {},
   "outputs": [],
   "source": [
    "re.search(r'^b.*', \"my jam is bananarama\")"
   ]
  },
  {
   "cell_type": "code",
   "execution_count": 28,
   "id": "2dcb2ad9",
   "metadata": {},
   "outputs": [],
   "source": [
    "# + means 1 or more times\n",
    "re.search(r'^b.+', 'b')"
   ]
  },
  {
   "cell_type": "code",
   "execution_count": 29,
   "id": "df1d3976",
   "metadata": {},
   "outputs": [
    {
     "data": {
      "text/plain": [
       "<re.Match object; span=(0, 1), match='b'>"
      ]
     },
     "execution_count": 29,
     "metadata": {},
     "output_type": "execute_result"
    }
   ],
   "source": [
    "# + means 1 or more times\n",
    "re.search(r'^b.*', 'b')"
   ]
  },
  {
   "cell_type": "code",
   "execution_count": 30,
   "id": "72e883b1",
   "metadata": {},
   "outputs": [
    {
     "data": {
      "text/plain": [
       "<re.Match object; span=(0, 17), match='bananarama pajama'>"
      ]
     },
     "execution_count": 30,
     "metadata": {},
     "output_type": "execute_result"
    }
   ],
   "source": [
    "# .* finds the largest possible match\n",
    "# technical term is greedy\n",
    "re.search(r'^b.*', 'bananarama pajama')"
   ]
  },
  {
   "cell_type": "code",
   "execution_count": 40,
   "id": "5c60c40c",
   "metadata": {},
   "outputs": [
    {
     "data": {
      "text/plain": [
       "'Two households, both alike in dignity, In fair Verona, where we lay our scene, From ancient grudge break to new mutiny, Where civil blood makes civil hands unclean.'"
      ]
     },
     "execution_count": 40,
     "metadata": {},
     "output_type": "execute_result"
    }
   ],
   "source": [
    "string"
   ]
  },
  {
   "cell_type": "code",
   "execution_count": 51,
   "id": "ef43b529",
   "metadata": {
    "scrolled": true
   },
   "outputs": [
    {
     "data": {
      "text/plain": [
       "<re.Match object; span=(0, 164), match='Two households, both alike in dignity, In fair Ve>"
      ]
     },
     "execution_count": 51,
     "metadata": {},
     "output_type": "execute_result"
    }
   ],
   "source": [
    "re.search(r'^Two.*',string)"
   ]
  },
  {
   "cell_type": "code",
   "execution_count": 52,
   "id": "46b41904",
   "metadata": {},
   "outputs": [
    {
     "data": {
      "text/plain": [
       "'Two households, both alike in dignity, In fair Verona, where we lay our scene, From ancient grudge break to new mutiny, Where civil blood makes civil hands unclean.'"
      ]
     },
     "execution_count": 52,
     "metadata": {},
     "output_type": "execute_result"
    }
   ],
   "source": [
    "string[0:164]"
   ]
  },
  {
   "cell_type": "code",
   "execution_count": 56,
   "id": "161db7cc",
   "metadata": {
    "scrolled": true
   },
   "outputs": [
    {
     "data": {
      "text/plain": [
       "<re.Match object; span=(0, 164), match='Two households, both alike in dignity, In fair Ve>"
      ]
     },
     "execution_count": 56,
     "metadata": {},
     "output_type": "execute_result"
    }
   ],
   "source": [
    "re.search(r'^Two.*',string)"
   ]
  },
  {
   "cell_type": "markdown",
   "id": "a72bc8ef",
   "metadata": {},
   "source": [
    "# Letters alphanumerics  \\w +"
   ]
  },
  {
   "cell_type": "code",
   "execution_count": 71,
   "id": "a797cd6d",
   "metadata": {},
   "outputs": [
    {
     "data": {
      "text/plain": [
       "<re.Match object; span=(0, 10), match='bananarama'>"
      ]
     },
     "execution_count": 71,
     "metadata": {},
     "output_type": "execute_result"
    }
   ],
   "source": [
    "# match b then 1 or more alphanumerics for a word\n",
    "# \\w means any a-zA-Z0-9_\n",
    "# + means 1 or more letters\n",
    "# when the pattern hits the \" \" before pajama, we're done\n",
    "re.search(r'^b\\w+', 'bananarama pajama')"
   ]
  },
  {
   "cell_type": "code",
   "execution_count": 70,
   "id": "fd97a618",
   "metadata": {},
   "outputs": [
    {
     "data": {
      "text/plain": [
       "<re.Match object; span=(0, 2), match='be'>"
      ]
     },
     "execution_count": 70,
     "metadata": {},
     "output_type": "execute_result"
    }
   ],
   "source": [
    "# match b then 1 or more alphanumerics for a word\n",
    "# \\w means any a-zA-Z0-9_\n",
    "# + means 1 or more letters\n",
    "re.search(r'^b\\w+', 'be cool')"
   ]
  },
  {
   "cell_type": "code",
   "execution_count": 72,
   "id": "733b084b",
   "metadata": {},
   "outputs": [
    {
     "data": {
      "text/plain": [
       "<re.Match object; span=(3, 7), match='cool'>"
      ]
     },
     "execution_count": 72,
     "metadata": {},
     "output_type": "execute_result"
    }
   ],
   "source": [
    "re.search(r'c\\w+', 'be cool')"
   ]
  },
  {
   "cell_type": "code",
   "execution_count": 81,
   "id": "e776ab84",
   "metadata": {},
   "outputs": [],
   "source": [
    "# match b then 1 or more alphanumerics for a word\n",
    "# \\w means any a-zA-Z0-9_\n",
    "# + means 1 or more letters\n",
    "re.search(r'^b\\w+', 'b cool')"
   ]
  },
  {
   "cell_type": "code",
   "execution_count": 82,
   "id": "e570a876",
   "metadata": {},
   "outputs": [
    {
     "data": {
      "text/plain": [
       "<re.Match object; span=(0, 1), match='b'>"
      ]
     },
     "execution_count": 82,
     "metadata": {},
     "output_type": "execute_result"
    }
   ],
   "source": [
    "# match b then 1 or more alphanumerics for a word\n",
    "# \\w means any a-zA-Z0-9_\n",
    "# * means 0 or more letters\n",
    "re.search(r'^b\\w*', 'b cool')"
   ]
  },
  {
   "cell_type": "code",
   "execution_count": 83,
   "id": "b32bc43f",
   "metadata": {},
   "outputs": [
    {
     "data": {
      "text/plain": [
       "<re.Match object; span=(0, 2), match='b '>"
      ]
     },
     "execution_count": 83,
     "metadata": {},
     "output_type": "execute_result"
    }
   ],
   "source": [
    "re.search(r'^b.', 'b cool')"
   ]
  },
  {
   "cell_type": "code",
   "execution_count": 36,
   "id": "0d2d96f7",
   "metadata": {},
   "outputs": [
    {
     "data": {
      "text/plain": [
       "<re.Match object; span=(0, 11), match='bananarama1'>"
      ]
     },
     "execution_count": 36,
     "metadata": {},
     "output_type": "execute_result"
    }
   ],
   "source": [
    "# .* finds the largest possible match\n",
    "# technical term is greedy\n",
    "re.search(r'^b\\w*\\b', 'bananarama1-pajama')"
   ]
  },
  {
   "cell_type": "code",
   "execution_count": 37,
   "id": "4a6ff488",
   "metadata": {},
   "outputs": [
    {
     "data": {
      "text/plain": [
       "<re.Match object; span=(0, 2), match='ba'>"
      ]
     },
     "execution_count": 37,
     "metadata": {},
     "output_type": "execute_result"
    }
   ],
   "source": [
    "# match the character b then any other character\n",
    "re.search(r'b.', 'bananarama pajama')"
   ]
  },
  {
   "cell_type": "code",
   "execution_count": 38,
   "id": "c2be0336",
   "metadata": {},
   "outputs": [
    {
     "data": {
      "text/plain": [
       "<re.Match object; span=(0, 2), match='ba'>"
      ]
     },
     "execution_count": 38,
     "metadata": {},
     "output_type": "execute_result"
    }
   ],
   "source": [
    "# match the character b then any alphanumeric character\n",
    "re.search(r'b\\w', 'bananarama pajama')"
   ]
  },
  {
   "cell_type": "code",
   "execution_count": 39,
   "id": "d2efefce",
   "metadata": {},
   "outputs": [
    {
     "data": {
      "text/plain": [
       "<re.Match object; span=(0, 4), match='bana'>"
      ]
     },
     "execution_count": 39,
     "metadata": {},
     "output_type": "execute_result"
    }
   ],
   "source": [
    "# match b followed by 3 of any character\n",
    "re.search(r'b...', 'bananarama pajama')"
   ]
  },
  {
   "cell_type": "code",
   "execution_count": 40,
   "id": "2c92a9cc",
   "metadata": {},
   "outputs": [
    {
     "data": {
      "text/plain": [
       "<re.Match object; span=(0, 4), match='bana'>"
      ]
     },
     "execution_count": 40,
     "metadata": {},
     "output_type": "execute_result"
    }
   ],
   "source": [
    "# match b followed by 3 of any alphanumeric character\n",
    "re.search(r'b\\w\\w\\w', 'bananarama pajama')"
   ]
  },
  {
   "cell_type": "code",
   "execution_count": 41,
   "id": "0dd4ae50",
   "metadata": {},
   "outputs": [
    {
     "data": {
      "text/plain": [
       "<re.Match object; span=(0, 4), match='bana'>"
      ]
     },
     "execution_count": 41,
     "metadata": {},
     "output_type": "execute_result"
    }
   ],
   "source": [
    "# match b followed by 3 of any character\n",
    "re.search(r'b.{3}', 'bananarama pajama')"
   ]
  },
  {
   "cell_type": "code",
   "execution_count": 42,
   "id": "f7b8d0c1",
   "metadata": {},
   "outputs": [
    {
     "data": {
      "text/plain": [
       "<re.Match object; span=(0, 4), match='bana'>"
      ]
     },
     "execution_count": 42,
     "metadata": {},
     "output_type": "execute_result"
    }
   ],
   "source": [
    "# match b followed by 3 of any alphanumeric character\n",
    "re.search(r'b\\w{3}', 'banarama pajama')"
   ]
  },
  {
   "cell_type": "code",
   "execution_count": 43,
   "id": "d5adfa7f",
   "metadata": {},
   "outputs": [
    {
     "data": {
      "text/plain": [
       "<re.Match object; span=(1, 2), match='a'>"
      ]
     },
     "execution_count": 43,
     "metadata": {},
     "output_type": "execute_result"
    }
   ],
   "source": [
    "# [^abc] as \"anything that ain't a or b or c\"\n",
    "re.search(r'[^b]', 'bananarama pajama')"
   ]
  },
  {
   "cell_type": "code",
   "execution_count": 44,
   "id": "74e29aaf",
   "metadata": {},
   "outputs": [
    {
     "data": {
      "text/plain": [
       "<re.Match object; span=(0, 23), match='apple bananarama pajama'>"
      ]
     },
     "execution_count": 44,
     "metadata": {},
     "output_type": "execute_result"
    }
   ],
   "source": [
    "# let's find something that starts with a then has any number of other characters\n",
    "re.search(r'^a.*', 'apple bananarama pajama')"
   ]
  },
  {
   "cell_type": "code",
   "execution_count": null,
   "id": "1bd5da00",
   "metadata": {},
   "outputs": [],
   "source": []
  },
  {
   "cell_type": "code",
   "execution_count": null,
   "id": "6fa16056",
   "metadata": {},
   "outputs": [],
   "source": []
  },
  {
   "cell_type": "code",
   "execution_count": null,
   "id": "42e3f407",
   "metadata": {},
   "outputs": [],
   "source": []
  },
  {
   "cell_type": "code",
   "execution_count": 45,
   "id": "36b6267d",
   "metadata": {},
   "outputs": [],
   "source": [
    "# starts with b\n",
    "# anything\n",
    "# ends with a\n",
    "re.search(r'^b.*$a', 'bananarama pajama')"
   ]
  },
  {
   "cell_type": "code",
   "execution_count": 46,
   "id": "37077c7c",
   "metadata": {},
   "outputs": [
    {
     "data": {
      "text/plain": [
       "<re.Match object; span=(0, 17), match='bananarama pajama'>"
      ]
     },
     "execution_count": 46,
     "metadata": {},
     "output_type": "execute_result"
    }
   ],
   "source": [
    "re.search(r'^b.+a$', 'bananarama pajama')"
   ]
  },
  {
   "cell_type": "code",
   "execution_count": 47,
   "id": "f9d21338",
   "metadata": {},
   "outputs": [
    {
     "data": {
      "text/plain": [
       "<re.Match object; span=(0, 17), match='bananarama pajama'>"
      ]
     },
     "execution_count": 47,
     "metadata": {},
     "output_type": "execute_result"
    }
   ],
   "source": [
    "re.search(r'^b.*a$', 'bananarama pajama')"
   ]
  },
  {
   "cell_type": "code",
   "execution_count": 48,
   "id": "61b9b3aa",
   "metadata": {},
   "outputs": [],
   "source": [
    "# starts with\n",
    "# anything\n",
    "# ends with \n"
   ]
  },
  {
   "cell_type": "code",
   "execution_count": null,
   "id": "4b2b4fcd",
   "metadata": {},
   "outputs": [],
   "source": []
  },
  {
   "cell_type": "markdown",
   "id": "ccb164e4",
   "metadata": {},
   "source": [
    "# Quantifiers { }"
   ]
  },
  {
   "cell_type": "code",
   "execution_count": 49,
   "id": "e28919dc",
   "metadata": {},
   "outputs": [
    {
     "data": {
      "text/plain": [
       "<re.Match object; span=(0, 4), match='abc1'>"
      ]
     },
     "execution_count": 49,
     "metadata": {},
     "output_type": "execute_result"
    }
   ],
   "source": [
    "# \\w matches [a-zA-Z0-9_]\n",
    "re.search(r'\\w{4}', 'abc123')"
   ]
  },
  {
   "cell_type": "code",
   "execution_count": 50,
   "id": "f9d77965",
   "metadata": {},
   "outputs": [
    {
     "data": {
      "text/plain": [
       "<re.Match object; span=(0, 3), match='abc'>"
      ]
     },
     "execution_count": 50,
     "metadata": {},
     "output_type": "execute_result"
    }
   ],
   "source": [
    "# \\w matches [a-zA-Z0-9_]\n",
    "re.search(r'\\w{1,4}', 'abc 123')"
   ]
  },
  {
   "cell_type": "code",
   "execution_count": 51,
   "id": "67c02349",
   "metadata": {},
   "outputs": [
    {
     "data": {
      "text/plain": [
       "<re.Match object; span=(0, 1), match='F'>"
      ]
     },
     "execution_count": 51,
     "metadata": {},
     "output_type": "execute_result"
    }
   ],
   "source": [
    "# + metacharacter matches 1 or more of the pattern to the left of that + character\n",
    "# + is greedy like *\n",
    "re.search(r'f|F+', 'Fred asked a good question')"
   ]
  },
  {
   "cell_type": "code",
   "execution_count": 52,
   "id": "73cedb25",
   "metadata": {},
   "outputs": [
    {
     "data": {
      "text/plain": [
       "<re.Match object; span=(0, 4), match='Fred'>"
      ]
     },
     "execution_count": 52,
     "metadata": {},
     "output_type": "execute_result"
    }
   ],
   "source": [
    "# + metacharacter matches 1 or more of the pattern to the left of that + character\n",
    "# + is greedy like *\n",
    "re.search(r'f|F\\w*', 'Fred asked a good question')"
   ]
  },
  {
   "cell_type": "code",
   "execution_count": 53,
   "id": "85d09b28",
   "metadata": {},
   "outputs": [
    {
     "data": {
      "text/plain": [
       "<re.Match object; span=(0, 5), match='stuff'>"
      ]
     },
     "execution_count": 53,
     "metadata": {},
     "output_type": "execute_result"
    }
   ],
   "source": [
    "# what if we want only letters and not letters + numbers + _ character\n",
    "re.search(r'[a-zA-Z]*', 'stuff and things and 123')"
   ]
  },
  {
   "cell_type": "code",
   "execution_count": 54,
   "id": "d8ffd2c0",
   "metadata": {},
   "outputs": [
    {
     "data": {
      "text/plain": [
       "['stuff', 'a', 'nd', 'things', 'and']"
      ]
     },
     "execution_count": 54,
     "metadata": {},
     "output_type": "execute_result"
    }
   ],
   "source": [
    "# what if we want only letters and not letters + numbers + _ character\n",
    "# the [a-z]+ is finding any and all sequences that are only [a-zA-Z]\n",
    "re.findall(r'[a-zA-Z]+', '42 $stuff a****nd things and 123')"
   ]
  },
  {
   "cell_type": "code",
   "execution_count": 84,
   "id": "01918798",
   "metadata": {},
   "outputs": [
    {
     "data": {
      "text/plain": [
       "['',\n",
       " '',\n",
       " '',\n",
       " '',\n",
       " 'stuff',\n",
       " '',\n",
       " 'a',\n",
       " '',\n",
       " '',\n",
       " '',\n",
       " '',\n",
       " 'nd',\n",
       " '',\n",
       " 'things',\n",
       " '',\n",
       " 'and',\n",
       " '',\n",
       " '',\n",
       " '',\n",
       " '',\n",
       " '']"
      ]
     },
     "execution_count": 84,
     "metadata": {},
     "output_type": "execute_result"
    }
   ],
   "source": [
    "# what if we want only letters and not letters + numbers + _ character\n",
    "re.findall(r'[a-zA-Z]*', '42 $stuff a****nd things and 123')"
   ]
  },
  {
   "cell_type": "code",
   "execution_count": 85,
   "id": "2c581fa9",
   "metadata": {},
   "outputs": [
    {
     "data": {
      "text/plain": [
       "<re.Match object; span=(0, 3), match=';ij'>"
      ]
     },
     "execution_count": 85,
     "metadata": {},
     "output_type": "execute_result"
    }
   ],
   "source": [
    "re.search('^.\\w\\D', ';ijlasdfj;j32rjup83jrpoiawhefposdih')"
   ]
  },
  {
   "cell_type": "markdown",
   "id": "b4965013",
   "metadata": {},
   "source": [
    "## Difference between `*` and `+`\n",
    "+ needs one more character to turn a match\n",
    "* can match just one character or more"
   ]
  },
  {
   "cell_type": "code",
   "execution_count": 56,
   "id": "6c51c326",
   "metadata": {},
   "outputs": [
    {
     "data": {
      "text/plain": [
       "<re.Match object; span=(42, 46), match='Fred'>"
      ]
     },
     "execution_count": 56,
     "metadata": {},
     "output_type": "execute_result"
    }
   ],
   "source": [
    "# Match F and one or more of a a-zA-Z0-9 character\n",
    "# Does not match F on its own\n",
    "re.search(r'F\\w+', 'F money asked a great question. Great job Fred')"
   ]
  },
  {
   "cell_type": "code",
   "execution_count": 87,
   "id": "a1f80d97",
   "metadata": {},
   "outputs": [
    {
     "data": {
      "text/plain": [
       "<re.Match object; span=(0, 2), match='Fe'>"
      ]
     },
     "execution_count": 87,
     "metadata": {},
     "output_type": "execute_result"
    }
   ],
   "source": [
    "# Match F then zero or more of a-zA-Z0-9\n",
    "re.search(r'F\\w*', 'F money asked a great question. Great job Fred')"
   ]
  },
  {
   "cell_type": "markdown",
   "id": "f3ece1ff",
   "metadata": {},
   "source": [
    "Range {}"
   ]
  },
  {
   "cell_type": "code",
   "execution_count": 58,
   "id": "352937ce",
   "metadata": {},
   "outputs": [
    {
     "data": {
      "text/plain": [
       "['abc', 'is', 'the', 'place', 'to', 'be']"
      ]
     },
     "execution_count": 58,
     "metadata": {},
     "output_type": "execute_result"
    }
   ],
   "source": [
    "# {n,} matches n or more times\n",
    "re.findall(r'[a-zA-Z]{1,}', 'abc123 is the place to be')"
   ]
  },
  {
   "cell_type": "code",
   "execution_count": 89,
   "id": "cb56b7fa",
   "metadata": {},
   "outputs": [
    {
     "data": {
      "text/plain": [
       "['abc', 'is', 'the', 'place', 'to', 'be']"
      ]
     },
     "execution_count": 89,
     "metadata": {},
     "output_type": "execute_result"
    }
   ],
   "source": [
    "# {n,} matches n or more times\n",
    "re.findall(r'[a-zA-Z]{2,}', 'abc123 is the place to be')"
   ]
  },
  {
   "cell_type": "code",
   "execution_count": 90,
   "id": "6f0cd2d2",
   "metadata": {},
   "outputs": [
    {
     "data": {
      "text/plain": [
       "['abc', 'the', 'place']"
      ]
     },
     "execution_count": 90,
     "metadata": {},
     "output_type": "execute_result"
    }
   ],
   "source": [
    "# {n,} matches n or more times\n",
    "re.findall(r'[a-zA-Z]{3,}', 'abc123 is the place to be')"
   ]
  },
  {
   "cell_type": "code",
   "execution_count": 91,
   "id": "05e86ec3",
   "metadata": {},
   "outputs": [
    {
     "data": {
      "text/plain": [
       "['ab',\n",
       " 'c',\n",
       " '',\n",
       " '',\n",
       " '',\n",
       " '',\n",
       " 'is',\n",
       " '',\n",
       " 'th',\n",
       " 'e',\n",
       " '',\n",
       " 'pl',\n",
       " 'ac',\n",
       " 'e',\n",
       " '',\n",
       " 'to',\n",
       " '',\n",
       " 'be',\n",
       " '']"
      ]
     },
     "execution_count": 91,
     "metadata": {},
     "output_type": "execute_result"
    }
   ],
   "source": [
    "# {n,} matches n or more times\n",
    "re.findall(r'[a-zA-Z]{0,2}', 'abc123 is the place to be')"
   ]
  },
  {
   "cell_type": "code",
   "execution_count": null,
   "id": "77adcef6",
   "metadata": {},
   "outputs": [],
   "source": []
  },
  {
   "cell_type": "code",
   "execution_count": 59,
   "id": "127bdcb3",
   "metadata": {},
   "outputs": [
    {
     "data": {
      "text/plain": [
       "['abc', 'is', 'the', 'place', 'to', 'be']"
      ]
     },
     "execution_count": 59,
     "metadata": {},
     "output_type": "execute_result"
    }
   ],
   "source": [
    "# {n,} matches n or more times\n",
    "# \\w+ means one or more alphanumerics\n",
    "# \\w{1,} means the same thing\n",
    "re.findall(r'[a-zA-Z]+', 'abc123 is the place to be')"
   ]
  },
  {
   "cell_type": "markdown",
   "id": "59371d4d",
   "metadata": {},
   "source": [
    "# . any character (must be there) and \n",
    "# .? optional character"
   ]
  },
  {
   "cell_type": "code",
   "execution_count": 60,
   "id": "d530fddb",
   "metadata": {},
   "outputs": [
    {
     "data": {
      "text/plain": [
       "<re.Match object; span=(0, 8), match='574-5860'>"
      ]
     },
     "execution_count": 60,
     "metadata": {},
     "output_type": "execute_result"
    }
   ],
   "source": [
    "# 3 digits then a single character of any then 4 digits\n",
    "re.search(r'\\d{3}.\\d{4}', '574-5860')"
   ]
  },
  {
   "cell_type": "code",
   "execution_count": 61,
   "id": "08e90387",
   "metadata": {},
   "outputs": [
    {
     "data": {
      "text/plain": [
       "<re.Match object; span=(0, 8), match='57405860'>"
      ]
     },
     "execution_count": 61,
     "metadata": {},
     "output_type": "execute_result"
    }
   ],
   "source": [
    "# What if the delimiter is optional?\n",
    "# question mark metacharacter means the thing to the left of the ? is optional\n",
    "re.search(r'\\d{3}.?\\d{4}', '57405860')"
   ]
  },
  {
   "cell_type": "markdown",
   "id": "95a06a11",
   "metadata": {},
   "source": [
    "## Using a RegEx pattern to split a string\n",
    "- The `re.split` method returns a list of strings\n",
    "- The matching substring is removed\n",
    "- We can split on any regex pattern, not only character literals"
   ]
  },
  {
   "cell_type": "code",
   "execution_count": 62,
   "id": "bfe7f60f",
   "metadata": {},
   "outputs": [
    {
     "data": {
      "text/plain": [
       "['555', '555', '5555']"
      ]
     },
     "execution_count": 62,
     "metadata": {},
     "output_type": "execute_result"
    }
   ],
   "source": [
    "\"555-555-5555\".split('-')"
   ]
  },
  {
   "cell_type": "code",
   "execution_count": 63,
   "id": "62abee0c",
   "metadata": {},
   "outputs": [
    {
     "data": {
      "text/plain": [
       "['555', '555', '5555']"
      ]
     },
     "execution_count": 63,
     "metadata": {},
     "output_type": "execute_result"
    }
   ],
   "source": [
    "# Split the phone number on the\n",
    "re.split(r'-', '555-555-5555')"
   ]
  },
  {
   "cell_type": "code",
   "execution_count": 64,
   "id": "c1d7b632",
   "metadata": {
    "scrolled": true
   },
   "outputs": [
    {
     "data": {
      "text/plain": [
       "['555', '555', '5555']"
      ]
     },
     "execution_count": 64,
     "metadata": {},
     "output_type": "execute_result"
    }
   ],
   "source": [
    "# Split the phone number on the space character\n",
    "re.split(r'-| ', '555 555 5555')"
   ]
  },
  {
   "cell_type": "code",
   "execution_count": 65,
   "id": "d9a51e9e",
   "metadata": {
    "scrolled": true
   },
   "outputs": [],
   "source": [
    "# Splits the string on the space character\n"
   ]
  },
  {
   "cell_type": "code",
   "execution_count": 66,
   "id": "7d20cf95",
   "metadata": {},
   "outputs": [],
   "source": [
    "# Parse these songs into a dataframe containing 2 columns: artist_name and song_name\n",
    "# Hint: break the string into an array of strings that hold each song/artist record\n"
   ]
  },
  {
   "cell_type": "code",
   "execution_count": 67,
   "id": "25b838c5",
   "metadata": {},
   "outputs": [],
   "source": [
    "# re.method(pattern, subject_string, re.IGNORECASE)\n",
    "\n",
    "# re.split\n",
    "# re.search\n",
    "# re.findall"
   ]
  },
  {
   "cell_type": "markdown",
   "id": "f5636e9d",
   "metadata": {},
   "source": [
    "## [Character Classes]\n",
    "- Square brackets make character classes \n",
    "- Character classes provide OR behavior\n",
    "- In a character classe, `^` works as a \"None of\" operator\n",
    "- Metacharacters match their literal character when inside of square brackets for a character class"
   ]
  },
  {
   "cell_type": "code",
   "execution_count": 68,
   "id": "adae9f5b",
   "metadata": {},
   "outputs": [
    {
     "data": {
      "text/plain": [
       "<re.Match object; span=(1, 2), match='a'>"
      ]
     },
     "execution_count": 68,
     "metadata": {},
     "output_type": "execute_result"
    }
   ],
   "source": [
    "# has a vowel, anywhere\n",
    "re.search(r'[aeiou]', 'banana')"
   ]
  },
  {
   "cell_type": "code",
   "execution_count": 69,
   "id": "65d0890d",
   "metadata": {},
   "outputs": [
    {
     "data": {
      "text/plain": [
       "['gray', 'grey']"
      ]
     },
     "execution_count": 69,
     "metadata": {},
     "output_type": "execute_result"
    }
   ],
   "source": [
    "# gray or grey\n",
    "re.findall(r'gr[ae]y', 'some people spell it gray, some spell it grey')"
   ]
  },
  {
   "cell_type": "code",
   "execution_count": 70,
   "id": "82c4a682",
   "metadata": {},
   "outputs": [
    {
     "data": {
      "text/plain": [
       "<re.Match object; span=(0, 1), match='a'>"
      ]
     },
     "execution_count": 70,
     "metadata": {},
     "output_type": "execute_result"
    }
   ],
   "source": [
    "# Is only a single vowel\n",
    "re.search(r'[aeiou]{1}', 'a')"
   ]
  },
  {
   "cell_type": "code",
   "execution_count": 71,
   "id": "20a89121",
   "metadata": {},
   "outputs": [
    {
     "data": {
      "text/plain": [
       "<re.Match object; span=(0, 6), match='aeioai'>"
      ]
     },
     "execution_count": 71,
     "metadata": {},
     "output_type": "execute_result"
    }
   ],
   "source": [
    "# is only vowels\n",
    "re.search(r'^[aeiou]*$', 'aeioai')"
   ]
  },
  {
   "cell_type": "code",
   "execution_count": 104,
   "id": "f9c8080d",
   "metadata": {},
   "outputs": [
    {
     "data": {
      "text/plain": [
       "<re.Match object; span=(0, 1), match='p'>"
      ]
     },
     "execution_count": 104,
     "metadata": {},
     "output_type": "execute_result"
    }
   ],
   "source": [
    "# has a p or q, anywhere\n",
    "re.search(r'[pq]', 'psq6')"
   ]
  },
  {
   "cell_type": "code",
   "execution_count": 73,
   "id": "f6bc7a67",
   "metadata": {},
   "outputs": [],
   "source": [
    "# has a p or q, anywhere\n"
   ]
  },
  {
   "cell_type": "code",
   "execution_count": 74,
   "id": "83c9d632",
   "metadata": {},
   "outputs": [],
   "source": [
    "# is p or q\n"
   ]
  },
  {
   "cell_type": "code",
   "execution_count": 75,
   "id": "6cd6f169",
   "metadata": {},
   "outputs": [],
   "source": [
    "# is only Ps and Qs\n"
   ]
  },
  {
   "cell_type": "code",
   "execution_count": null,
   "id": "111cc9f3",
   "metadata": {},
   "outputs": [],
   "source": []
  },
  {
   "cell_type": "code",
   "execution_count": 76,
   "id": "b44277a2",
   "metadata": {},
   "outputs": [
    {
     "data": {
      "text/plain": [
       "'Two households, both alike in dignity, In fair Verona, where we lay our scene, From ancient grudge break to new mutiny, Where civil blood makes civil hands unclean.'"
      ]
     },
     "execution_count": 76,
     "metadata": {},
     "output_type": "execute_result"
    }
   ],
   "source": [
    "string = \"Two households, both alike in dignity, In fair Verona, where we lay our scene, From ancient grudge break to new mutiny, Where civil blood makes civil hands unclean.\"\n",
    "string\n",
    "\n",
    "# find all the occurences of civil followed by the word immediately after \"civil\"\n",
    "\n"
   ]
  },
  {
   "cell_type": "code",
   "execution_count": 115,
   "id": "6f5ad603",
   "metadata": {},
   "outputs": [
    {
     "data": {
      "text/plain": [
       "['civil blood', 'civil hands']"
      ]
     },
     "execution_count": 115,
     "metadata": {},
     "output_type": "execute_result"
    }
   ],
   "source": [
    "re.findall(r'civil\\s[a-z]*',string)"
   ]
  },
  {
   "cell_type": "markdown",
   "id": "b345d70f",
   "metadata": {},
   "source": [
    "## Repetition characters and Special Sequences\n",
    "> Walk before you run\n",
    "\n",
    "- `.` means any single character\n",
    "- `*` means zero or more characters\n",
    "- `+` means one or more characters\n",
    "- `.` matches any character\n",
    "- `\\b` is a word boundary anchor\n",
    "- `\\d` matches any decimal. Is equivalent to `[0-9]`\n",
    "- `\\D` matches any non-digit character and is equivalent to `[^0-9]`. \n",
    "- `\\s` matches any white space like ` `, tab, soft return, new line etc...\n",
    "- `\\w` matches any alphanumeric character and underscore. Equivalent to `[0-9a-zA-Z_]`\n",
    "- `\\W` matches any non-alphanumeric character. Equivalent to `[^a-zA-Z0-9_]`\n",
    "- `{n)` exactly n characters\n",
    "- `{n,}` n or more characters\n",
    "- `{n, m}` n to m times"
   ]
  },
  {
   "cell_type": "code",
   "execution_count": 77,
   "id": "468da022",
   "metadata": {},
   "outputs": [],
   "source": [
    "# world without \\b word boundary\n"
   ]
  },
  {
   "cell_type": "code",
   "execution_count": 78,
   "id": "264002e1",
   "metadata": {},
   "outputs": [],
   "source": [
    "# \\b means word boundary\n",
    "# any word that starts with o\n"
   ]
  },
  {
   "cell_type": "code",
   "execution_count": 79,
   "id": "54d4bf68",
   "metadata": {},
   "outputs": [],
   "source": [
    "# \\b means word boundary\n",
    "# any word that starts with o\n"
   ]
  },
  {
   "cell_type": "code",
   "execution_count": 80,
   "id": "3eb3f4cf",
   "metadata": {},
   "outputs": [],
   "source": [
    "# \\b means word boundary\n",
    "# any word that starts with o\n",
    "# without the word boundary, we get the \"ou\" from \"you\"\n"
   ]
  },
  {
   "cell_type": "code",
   "execution_count": 81,
   "id": "8a541d17",
   "metadata": {},
   "outputs": [],
   "source": [
    "# \\b means word boundary\n",
    "# any word that starts with o\n"
   ]
  },
  {
   "cell_type": "markdown",
   "id": "2f162b03",
   "metadata": {},
   "source": [
    "## Groups"
   ]
  },
  {
   "cell_type": "code",
   "execution_count": 82,
   "id": "cfcf953d",
   "metadata": {},
   "outputs": [],
   "source": [
    "sentence = 'You can find us on the web at https://codeup.com. Our ip address is 123.123.123.123 (maybe).'"
   ]
  },
  {
   "cell_type": "code",
   "execution_count": 83,
   "id": "dbadbaa0",
   "metadata": {},
   "outputs": [
    {
     "data": {
      "text/plain": [
       "'You can find us on the web at https://codeup.com. Our ip address is 123.123.123.123 (maybe).'"
      ]
     },
     "execution_count": 83,
     "metadata": {},
     "output_type": "execute_result"
    }
   ],
   "source": [
    "sentence"
   ]
  },
  {
   "cell_type": "code",
   "execution_count": 84,
   "id": "bba09193",
   "metadata": {},
   "outputs": [
    {
     "data": {
      "text/plain": [
       "('https', 'codeup', 'com')"
      ]
     },
     "execution_count": 84,
     "metadata": {},
     "output_type": "execute_result"
    }
   ],
   "source": [
    "url_re = r'(https?)://(\\w+)\\.(\\w+)'\n",
    "\n",
    "re.search(url_re, sentence).groups()"
   ]
  },
  {
   "cell_type": "code",
   "execution_count": 85,
   "id": "24f63b18",
   "metadata": {},
   "outputs": [
    {
     "name": "stdout",
     "output_type": "stream",
     "text": [
      "\n",
      "protocol: https\n",
      "domain:   codeup\n",
      "tld:      com\n",
      "\n"
     ]
    }
   ],
   "source": [
    "# simplified for demonstration, a real url to parse urls would be much more\n",
    "# complex\n",
    "url_re = r'(https?)://(\\w+)\\.(\\w+)'\n",
    "\n",
    "protocol, domain, tld = re.search(url_re, sentence).groups()\n",
    "\n",
    "print(f'''\n",
    "protocol: {protocol}\n",
    "domain:   {domain}\n",
    "tld:      {tld}\n",
    "''')"
   ]
  },
  {
   "cell_type": "markdown",
   "id": "5cced33b",
   "metadata": {},
   "source": [
    "## A Reflection on Captured Groups\n",
    "- After matching the first group or two, the need to be _highly_ specific with subsequent groups (unless there is ambiguity in the forms in the source text) likely starts to decrease. \n",
    "- For example, matching an abitrary user agent string in on its own might prove challenging. Specific user agents even more so https://jonlabelle.com/snippets/view/yaml/browser-user-agent-regular-expressions. But if that arbitrary user agent string lives in a line inside a log where to the left we've already matched a group for the method type GET|POST, and the timestamp, then matching any specific user agent string with the cleanest regex ever isn't as necessary, probabilistically, as matching any string up until but not including the bytes transmitted group to its right.\n",
    "- We can sometimes rely on the regularness of forms, especially with multiple captured groups in order to capture much more challenging patterns in the middle of other more easily discerned pattern groups."
   ]
  }
 ],
 "metadata": {
  "kernelspec": {
   "display_name": "Python 3 (ipykernel)",
   "language": "python",
   "name": "python3"
  },
  "language_info": {
   "codemirror_mode": {
    "name": "ipython",
    "version": 3
   },
   "file_extension": ".py",
   "mimetype": "text/x-python",
   "name": "python",
   "nbconvert_exporter": "python",
   "pygments_lexer": "ipython3",
   "version": "3.9.12"
  }
 },
 "nbformat": 4,
 "nbformat_minor": 5
}
