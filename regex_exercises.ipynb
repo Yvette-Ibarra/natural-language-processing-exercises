{
 "cells": [
  {
   "cell_type": "markdown",
   "id": "78788891",
   "metadata": {},
   "source": [
    "# Regex Exercises"
   ]
  },
  {
   "cell_type": "markdown",
   "id": "9353e477",
   "metadata": {},
   "source": [
    "#### Resources:\n",
    "https://regex101.com"
   ]
  },
  {
   "cell_type": "code",
   "execution_count": 2,
   "id": "eed16447",
   "metadata": {},
   "outputs": [],
   "source": [
    "import pandas as pd\n",
    "import re # part of the python stdlib"
   ]
  },
  {
   "cell_type": "markdown",
   "id": "cdcc08db",
   "metadata": {},
   "source": [
    "# 1.\n",
    "Write a function named is_vowel. It should accept a string as input and use a regular expression to determine if the passed string is a vowel. While not explicity mentioned in the lesson, you can treat the result of re.search as a boolean value that indicates whether or not the regular expression matches the given string"
   ]
  },
  {
   "cell_type": "markdown",
   "id": "6bde67b9",
   "metadata": {},
   "source": [
    "building regex code"
   ]
  },
  {
   "cell_type": "code",
   "execution_count": 32,
   "id": "63af8f04",
   "metadata": {},
   "outputs": [
    {
     "name": "stdout",
     "output_type": "stream",
     "text": [
      "<re.Match object; span=(1, 2), match='e'>\n",
      "<re.Match object; span=(2, 3), match='a'>\n",
      "<re.Match object; span=(4, 5), match='e'>\n"
     ]
    }
   ],
   "source": [
    "string_input = 'peace'\n",
    "pattern = re.compile(r'[aeiou]')\n",
    "matches = pattern.finditer(string_input)\n",
    "for match in matches:\n",
    "    print(match)"
   ]
  },
  {
   "cell_type": "code",
   "execution_count": 21,
   "id": "7fe45ffc",
   "metadata": {},
   "outputs": [
    {
     "name": "stdout",
     "output_type": "stream",
     "text": [
      "['a', 'e']\n"
     ]
    }
   ],
   "source": [
    "string_input ='absed'\n",
    "pattern = re.compile(r'[aeiou]')\n",
    "matches = pattern.findall(string_input)\n",
    "print(matches)\n"
   ]
  },
  {
   "cell_type": "code",
   "execution_count": 53,
   "id": "be86e92e",
   "metadata": {},
   "outputs": [],
   "source": [
    "def is_vowel(string_input):\n",
    "    '''\n",
    "    is_vowel takes in a string and determines if the string has a vowel\n",
    "    returns stris is a vowel or strins is not a vowel\n",
    "    '''\n",
    "    pattern = re.compile(r'[aeiou]',re.IGNORECASE)\n",
    "    matches = pattern.search(string_input)\n",
    "    if matches:\n",
    "        print(f'string is a vowel!')\n",
    "    else:\n",
    "        print(f'string is not a vowel!')"
   ]
  },
  {
   "cell_type": "markdown",
   "id": "db313559",
   "metadata": {},
   "source": [
    "Test function"
   ]
  },
  {
   "cell_type": "code",
   "execution_count": 54,
   "id": "eb229590",
   "metadata": {
    "scrolled": true
   },
   "outputs": [
    {
     "name": "stdout",
     "output_type": "stream",
     "text": [
      "string is not a vowel!\n"
     ]
    }
   ],
   "source": [
    "is_vowel('p')"
   ]
  },
  {
   "cell_type": "code",
   "execution_count": 55,
   "id": "fe87a4cc",
   "metadata": {},
   "outputs": [
    {
     "name": "stdout",
     "output_type": "stream",
     "text": [
      "string is a vowel!\n"
     ]
    }
   ],
   "source": [
    "is_vowel('E')"
   ]
  },
  {
   "cell_type": "code",
   "execution_count": 56,
   "id": "89f3c367",
   "metadata": {},
   "outputs": [
    {
     "name": "stdout",
     "output_type": "stream",
     "text": [
      "string is a vowel!\n"
     ]
    }
   ],
   "source": [
    "is_vowel('peace')"
   ]
  },
  {
   "cell_type": "code",
   "execution_count": 42,
   "id": "d126b111",
   "metadata": {},
   "outputs": [
    {
     "name": "stdout",
     "output_type": "stream",
     "text": [
      "string is not a vowel!\n"
     ]
    }
   ],
   "source": [
    "is_vowel('myths')"
   ]
  },
  {
   "cell_type": "markdown",
   "id": "28852456",
   "metadata": {},
   "source": [
    "# 2.\n",
    "Write a function named is_valid_username that accepts a string as input. A valid username starts with a lowercase letter, and only consists of lowercase letters, numbers, or the _ character. It should also be no longer than 32 characters. The function should return either True or False depending on whether the passed string is a valid username."
   ]
  },
  {
   "cell_type": "markdown",
   "id": "65ba09ee",
   "metadata": {},
   "source": [
    "```python\n",
    ">>> is_valid_username('aaaaaaaaaaaaaaaaaaaaaaaaaaaaaaaaa')\n",
    "False\n",
    ">>> is_valid_username('codeup')\n",
    "True\n",
    ">>> is_valid_username('Codeup')\n",
    "False\n",
    ">>> is_valid_username('codeup123')\n",
    "True\n",
    ">>> is_valid_username('1codeup')\n",
    "False\n",
    "```"
   ]
  },
  {
   "cell_type": "markdown",
   "id": "ea4f062e",
   "metadata": {},
   "source": [
    "Building regex code"
   ]
  },
  {
   "cell_type": "code",
   "execution_count": 47,
   "id": "416bdbc8",
   "metadata": {},
   "outputs": [
    {
     "name": "stdout",
     "output_type": "stream",
     "text": [
      "<re.Match object; span=(0, 33), match='aaaaaaaaaaaaaaaaaaaaaaaaaaaaaaaaa'>\n"
     ]
    }
   ],
   "source": [
    "string_input = 'aaaaaaaaaaaaaaaaaaaaaaaaaaaaaaaaa'\n",
    "pattern = re.compile(r'^[a-z]+[a-z0-9]{1,31}')\n",
    "matches = pattern.finditer(string_input)\n",
    "for match in matches:\n",
    "    print(match)"
   ]
  },
  {
   "cell_type": "markdown",
   "id": "37b63e51",
   "metadata": {},
   "source": [
    "r'^[a-z]+[a-z0-9]{1,31}', still gets more than 31 characters"
   ]
  },
  {
   "cell_type": "code",
   "execution_count": 50,
   "id": "af4416ca",
   "metadata": {},
   "outputs": [
    {
     "name": "stdout",
     "output_type": "stream",
     "text": [
      "<re.Match object; span=(1, 33), match='aaaaaaaaaaaaaaaaaaaaaaaaaaaaaaaa'>\n"
     ]
    }
   ],
   "source": [
    "string_input = 'aaaaaaaaaaaaaaaaaaaaaaaaaaaaaaaaa'\n",
    "pattern = re.compile(r'[a-z\\w]{1,32}$')\n",
    "matches = pattern.search(string_input)\n",
    "\n",
    "print(matches)"
   ]
  },
  {
   "cell_type": "markdown",
   "id": "42d5d28c",
   "metadata": {},
   "source": [
    "r'[a-z\\w]{1,32}$', still gets more than 31 characters"
   ]
  },
  {
   "cell_type": "code",
   "execution_count": 51,
   "id": "db5580d1",
   "metadata": {},
   "outputs": [
    {
     "name": "stdout",
     "output_type": "stream",
     "text": [
      "<re.Match object; span=(0, 33), match='aaaaaaaaaaaaaaaaaaaaaaaaaaaaaaaaa'>\n"
     ]
    }
   ],
   "source": [
    "string_input = 'aaaaaaaaaaaaaaaaaaaaaaaaaaaaaaaaa'\n",
    "pattern = re.compile(r'^[a-z]([_?|a-z|)0-9]){1,32}$')\n",
    "matches = pattern.search(string_input)\n",
    "\n",
    "print(matches)"
   ]
  },
  {
   "cell_type": "markdown",
   "id": "939bb4c0",
   "metadata": {},
   "source": [
    "r'^[a-z]([_?|a-z|)0-9]){1,32}$', still gets more than 31 characters"
   ]
  },
  {
   "cell_type": "code",
   "execution_count": 58,
   "id": "b641e8a2",
   "metadata": {},
   "outputs": [
    {
     "name": "stdout",
     "output_type": "stream",
     "text": [
      "None\n"
     ]
    }
   ],
   "source": [
    "string_input = 'aaaaaaaaaaaaaaaaaaaaaaaaaaaaaaaaa'\n",
    "pattern = re.compile(r'^[a-z][a-z0-9\\_]{1,31}$')\n",
    "matches = pattern.search(string_input)\n",
    "\n",
    "print(matches)"
   ]
  },
  {
   "cell_type": "markdown",
   "id": "9a7b53f2",
   "metadata": {},
   "source": [
    "Finaly only characters within 32 r'^[a-z][a-z0-9\\_]{,31}$'"
   ]
  },
  {
   "cell_type": "code",
   "execution_count": 59,
   "id": "fe147c8b",
   "metadata": {},
   "outputs": [],
   "source": [
    "def is_valid_username(string_input):\n",
    "    '''\n",
    "    is_valid_username takes in a string and determines if username is valid based on the following rules:\n",
    "        * user name starts with a lowercase\n",
    "        * user name is created only with lowercase, numbers of underscore characer _\n",
    "        * user name is no longer than 32 characters\n",
    "    returns True or False\n",
    "    '''\n",
    "    pattern = re.compile(r'^[a-z][a-z0-9\\_]{1,31}$')\n",
    "    matches = pattern.search(string_input) \n",
    "    if matches:\n",
    "        return True\n",
    "    else:\n",
    "        return False\n",
    "    "
   ]
  },
  {
   "cell_type": "markdown",
   "id": "6544cacb",
   "metadata": {},
   "source": [
    "Test function"
   ]
  },
  {
   "cell_type": "code",
   "execution_count": 60,
   "id": "0bbc3dac",
   "metadata": {
    "scrolled": true
   },
   "outputs": [
    {
     "data": {
      "text/plain": [
       "False"
      ]
     },
     "execution_count": 60,
     "metadata": {},
     "output_type": "execute_result"
    }
   ],
   "source": [
    "is_valid_username('aaaaaaaaaaaaaaaaaaaaaaaaaaaaaaaaa')"
   ]
  },
  {
   "cell_type": "code",
   "execution_count": 61,
   "id": "b23eb998",
   "metadata": {
    "scrolled": true
   },
   "outputs": [
    {
     "data": {
      "text/plain": [
       "True"
      ]
     },
     "execution_count": 61,
     "metadata": {},
     "output_type": "execute_result"
    }
   ],
   "source": [
    "is_valid_username('codeup')"
   ]
  },
  {
   "cell_type": "code",
   "execution_count": 62,
   "id": "ebcdb28f",
   "metadata": {
    "scrolled": true
   },
   "outputs": [
    {
     "data": {
      "text/plain": [
       "False"
      ]
     },
     "execution_count": 62,
     "metadata": {},
     "output_type": "execute_result"
    }
   ],
   "source": [
    "is_valid_username('Codeup')"
   ]
  },
  {
   "cell_type": "code",
   "execution_count": 63,
   "id": "84aeb06a",
   "metadata": {
    "scrolled": true
   },
   "outputs": [
    {
     "data": {
      "text/plain": [
       "False"
      ]
     },
     "execution_count": 63,
     "metadata": {},
     "output_type": "execute_result"
    }
   ],
   "source": [
    "is_valid_username('1codeup')"
   ]
  },
  {
   "cell_type": "code",
   "execution_count": 64,
   "id": "1b646941",
   "metadata": {
    "scrolled": true
   },
   "outputs": [
    {
     "data": {
      "text/plain": [
       "True"
      ]
     },
     "execution_count": 64,
     "metadata": {},
     "output_type": "execute_result"
    }
   ],
   "source": [
    "is_valid_username('codeup123')"
   ]
  },
  {
   "cell_type": "code",
   "execution_count": 65,
   "id": "0e1c37c7",
   "metadata": {
    "scrolled": true
   },
   "outputs": [
    {
     "data": {
      "text/plain": [
       "True"
      ]
     },
     "execution_count": 65,
     "metadata": {},
     "output_type": "execute_result"
    }
   ],
   "source": [
    "is_valid_username('codeup_123')"
   ]
  },
  {
   "cell_type": "markdown",
   "id": "8e809009",
   "metadata": {},
   "source": [
    "# 3.\n",
    "Write a regular expression to capture phone numbers. It should match all of the following:\n",
    "\n",
    "```python\n",
    "\n",
    "(210) 867 5309\n",
    "+1 210.867.5309\n",
    "867-5309\n",
    "210-867-5309\n",
    "\n",
    "```"
   ]
  },
  {
   "cell_type": "markdown",
   "id": "5dc360e5",
   "metadata": {},
   "source": [
    "Build REGEX code"
   ]
  },
  {
   "cell_type": "code",
   "execution_count": null,
   "id": "5bb89450",
   "metadata": {},
   "outputs": [],
   "source": [
    "^(\\+1\\s|\\()?(\\d{3}\\)?)(\\s|\\.|-)(\\d*)(\\s|\\.|-)(\\d{4})?"
   ]
  },
  {
   "cell_type": "code",
   "execution_count": 66,
   "id": "1636354b",
   "metadata": {},
   "outputs": [
    {
     "name": "stdout",
     "output_type": "stream",
     "text": [
      "<re.Match object; span=(0, 14), match='(210) 867 5309'>\n"
     ]
    }
   ],
   "source": [
    "string_input = '(210) 867 5309'\n",
    "pattern = re.compile(r'^(\\+1\\s|\\()?(\\d{3}\\)?)(\\s|\\.|-)(\\d*)(\\s|\\.|-)(\\d{4})?')\n",
    "matches = pattern.finditer(string_input)\n",
    "for match in matches:\n",
    "    print(match)"
   ]
  },
  {
   "cell_type": "code",
   "execution_count": 71,
   "id": "0fe27f1a",
   "metadata": {},
   "outputs": [
    {
     "name": "stdout",
     "output_type": "stream",
     "text": [
      "<re.Match object; span=(0, 14), match='(210) 867 5309'>\n"
     ]
    }
   ],
   "source": [
    "string_input = '(210) 867 5309'\n",
    "pattern = re.compile(r'.*?\\d+\\D*?\\d+.\\d+$')\n",
    "matches = pattern.finditer(string_input)\n",
    "for match in matches:\n",
    "    print(match)"
   ]
  },
  {
   "cell_type": "code",
   "execution_count": 72,
   "id": "07c5c13a",
   "metadata": {},
   "outputs": [
    {
     "name": "stdout",
     "output_type": "stream",
     "text": [
      "<re.Match object; span=(0, 15), match='+1 210.867.5309'>\n"
     ]
    }
   ],
   "source": [
    "string_input = '+1 210.867.5309'\n",
    "pattern = re.compile(r'.*?\\d+\\D*?\\d+.\\d+$')\n",
    "matches = pattern.finditer(string_input)\n",
    "for match in matches:\n",
    "    print(match)"
   ]
  },
  {
   "cell_type": "code",
   "execution_count": 73,
   "id": "cd200dc4",
   "metadata": {},
   "outputs": [],
   "source": [
    "def is_phone_number(string):\n",
    "    \n",
    "    phone_number_re = \"(\\+?\\d+)?.?(\\(?\\d{3}\\)?)?.?\\d{3}.?\\d{4}\"\n",
    "    \n",
    "    return bool(re.search(phone_number_re, string))\n"
   ]
  },
  {
   "cell_type": "markdown",
   "id": "013239a4",
   "metadata": {},
   "source": [
    "# 4.\n",
    "Use regular expressions to convert the dates below to the standardized year-month-day format."
   ]
  },
  {
   "cell_type": "markdown",
   "id": "9e8a881f",
   "metadata": {},
   "source": [
    "``` python\n",
    "02/04/19\n",
    "02/05/19\n",
    "02/06/19\n",
    "02/07/19\n",
    "02/08/19\n",
    "02/09/19\n",
    "02/10/19\n",
    "```"
   ]
  },
  {
   "cell_type": "markdown",
   "id": "b99c4c64",
   "metadata": {},
   "source": [
    "Build regex and function"
   ]
  },
  {
   "cell_type": "code",
   "execution_count": 88,
   "id": "95b4eaf3",
   "metadata": {},
   "outputs": [
    {
     "data": {
      "text/plain": [
       "'04'"
      ]
     },
     "execution_count": 88,
     "metadata": {},
     "output_type": "execute_result"
    }
   ],
   "source": [
    "string_input = '02/04/19'\n",
    "pattern = re.compile(r'(^\\d{2})\\/(\\d{2})\\/(\\d{2})')\n",
    "matches = pattern.search(string_input)\n",
    "matches[2]"
   ]
  },
  {
   "cell_type": "code",
   "execution_count": 89,
   "id": "8994f201",
   "metadata": {},
   "outputs": [],
   "source": [
    "month = matches[1]\n",
    "day = matches [2]\n",
    "year = matches [3]"
   ]
  },
  {
   "cell_type": "code",
   "execution_count": 98,
   "id": "85278bfd",
   "metadata": {},
   "outputs": [],
   "source": [
    "new_date_order = f'20{year}-{month}-{day}'"
   ]
  },
  {
   "cell_type": "code",
   "execution_count": 99,
   "id": "347f1700",
   "metadata": {
    "scrolled": true
   },
   "outputs": [
    {
     "data": {
      "text/plain": [
       "'2019-02-04'"
      ]
     },
     "execution_count": 99,
     "metadata": {},
     "output_type": "execute_result"
    }
   ],
   "source": [
    "new_date_order"
   ]
  },
  {
   "cell_type": "code",
   "execution_count": 100,
   "id": "d70700e1",
   "metadata": {},
   "outputs": [],
   "source": [
    "def reorder_date(string_input):\n",
    "    pattern = re.compile(r'(^\\d{2})\\/(\\d{2})\\/(\\d{2})')\n",
    "    matches = pattern.search(string_input)\n",
    "    \n",
    "    month = matches[1]\n",
    "    day = matches [2]\n",
    "    year = matches [3]\n",
    "    new_date_order = f'20{year}-{month}-{day}'\n",
    "    return new_date_order"
   ]
  },
  {
   "cell_type": "markdown",
   "id": "c1980b58",
   "metadata": {},
   "source": [
    "test function"
   ]
  },
  {
   "cell_type": "code",
   "execution_count": 103,
   "id": "ff261617",
   "metadata": {},
   "outputs": [
    {
     "data": {
      "text/plain": [
       "'2019-02-10'"
      ]
     },
     "execution_count": 103,
     "metadata": {},
     "output_type": "execute_result"
    }
   ],
   "source": [
    "reorder_date('02/10/19')"
   ]
  },
  {
   "cell_type": "code",
   "execution_count": 102,
   "id": "d62b7659",
   "metadata": {},
   "outputs": [
    {
     "data": {
      "text/plain": [
       "'2019-02-08'"
      ]
     },
     "execution_count": 102,
     "metadata": {},
     "output_type": "execute_result"
    }
   ],
   "source": [
    "reorder_date('02/08/19')"
   ]
  },
  {
   "cell_type": "markdown",
   "id": "e8dca603",
   "metadata": {},
   "source": [
    "# 5.\n",
    "Write a regex to extract the various parts of these logfile lines:"
   ]
  },
  {
   "cell_type": "markdown",
   "id": "66dcd211",
   "metadata": {},
   "source": [
    "```python\n",
    "GET /api/v1/sales?page=86 [16/Apr/2019:193452+0000] HTTP/1.1 {200} 510348 \"python-requests/2.21.0\" 97.105.19.58\n",
    "POST /users_accounts/file-upload [16/Apr/2019:193452+0000] HTTP/1.1 {201} 42 \"User-Agent: Mozilla/5.0 (X11; Fedora; Fedora; Linux x86_64) AppleWebKit/537.36 (KHTML, like Gecko) Chrome/73.0.3683.86 Safari/537.36\" 97.105.19.58\n",
    "GET /api/v1/items?page=3 [16/Apr/2019:193453+0000] HTTP/1.1 {429} 3561 \"python-requests/2.21.0\" 97.105.19.58\n",
    "\n",
    "```"
   ]
  },
  {
   "cell_type": "markdown",
   "id": "7d3bb004",
   "metadata": {},
   "source": [
    "Build pattern"
   ]
  },
  {
   "cell_type": "markdown",
   "id": "a6ff78b5",
   "metadata": {},
   "source": [
    "(^[A-Z]+)(\\s\\/)\n",
    "([a-zA-Z0-9\\/\\?=_\\-)]*)(\\s)\n",
    "(\\[\\w+\\D+[A-Za-z0-9:+\\]]*)(\\s)\n",
    "(HTTP\\/\\d\\.\\d)(\\s)({\\d{3}})(\\s)\n",
    "(\\d*)(\\s)\n",
    "(\"...+\")(\\s)\n",
    "(\\d.*)"
   ]
  },
  {
   "cell_type": "code",
   "execution_count": 125,
   "id": "fec43d9d",
   "metadata": {},
   "outputs": [
    {
     "name": "stdout",
     "output_type": "stream",
     "text": [
      "0\n",
      "POST /users_accounts/file-upload [16/Apr/2019:193452+0000] HTTP/1.1 {201} 42 \"User-Agent: Mozilla/5.0 (X11; Fedora; Fedora; Linux x86_64) AppleWebKit/537.36 (KHTML, like Gecko) Chrome/73.0.3683.86 Safari/537.36\" 97.105.19.58\n",
      "1\n",
      "POST\n",
      "2\n",
      " /\n",
      "3\n",
      "users_accounts/file-upload\n",
      "4\n",
      " \n",
      "5\n",
      "[16/Apr/2019:193452+0000]\n",
      "6\n",
      " \n",
      "7\n",
      "HTTP/1.1\n",
      "8\n",
      " \n",
      "9\n",
      "{201}\n",
      "10\n",
      " \n",
      "11\n",
      "42\n",
      "12\n",
      " \n",
      "13\n",
      "\"User-Agent: Mozilla/5.0 (X11; Fedora; Fedora; Linux x86_64) AppleWebKit/537.36 (KHTML, like Gecko) Chrome/73.0.3683.86 Safari/537.36\"\n",
      "14\n",
      " \n"
     ]
    }
   ],
   "source": [
    "string_input = 'POST /users_accounts/file-upload [16/Apr/2019:193452+0000] HTTP/1.1 {201} 42 \"User-Agent: Mozilla/5.0 (X11; Fedora; Fedora; Linux x86_64) AppleWebKit/537.36 (KHTML, like Gecko) Chrome/73.0.3683.86 Safari/537.36\" 97.105.19.58'\n",
    "pattern = re.compile(r'(^[A-Z]+)(\\s\\/)([a-zA-Z0-9\\/\\?=_\\-)]*)(\\s)(\\[\\w+\\D+[A-Za-z0-9:+\\]]*)(\\s)(HTTP\\/\\d\\.\\d)(\\s)({\\d{3}})(\\s)(\\d*)(\\s)(\"...+\")(\\s)(\\d.*)')\n",
    "matches = pattern.search(string_input)\n",
    "for i in range(0,15):\n",
    "    print (i)\n",
    "    \n",
    "    print (matches[i])"
   ]
  },
  {
   "cell_type": "markdown",
   "id": "63a031bc",
   "metadata": {},
   "source": [
    "\n",
    "method\tpath\ttimestamp\thttp_version\tstatus\tbytes\tuser_agent\tip\n"
   ]
  },
  {
   "cell_type": "code",
   "execution_count": 134,
   "id": "88b02762",
   "metadata": {
    "scrolled": true
   },
   "outputs": [
    {
     "data": {
      "text/plain": [
       "('POST',\n",
       " 'users_accounts/file-upload',\n",
       " '[16/Apr/2019:193452+0000]',\n",
       " 'HTTP/1.1',\n",
       " '{201}',\n",
       " '42',\n",
       " '\"User-Agent: Mozilla/5.0 (X11; Fedora; Fedora; Linux x86_64) AppleWebKit/537.36 (KHTML, like Gecko) Chrome/73.0.3683.86 Safari/537.36\"',\n",
       " '97.105.19.58')"
      ]
     },
     "execution_count": 134,
     "metadata": {},
     "output_type": "execute_result"
    }
   ],
   "source": [
    "# method:group 1, path:group 3, timestamp:group 5. http_ver:7, status:9, bytes:11, user_agent:13, ip:15\n",
    "matches[1], matches[3], matches[5],matches[7],matches[9],matches[11],matches[13], matches[15]"
   ]
  },
  {
   "cell_type": "code",
   "execution_count": 164,
   "id": "515cf9ef",
   "metadata": {},
   "outputs": [],
   "source": [
    "log1 ='GET /api/v1/sales?page=86 [16/Apr/2019:193452+0000] HTTP/1.1 {200} 510348 \"python-requests/2.21.0\" 97.105.19.58'\n",
    "log2 ='POST /users_accounts/file-upload [16/Apr/2019:193452+0000] HTTP/1.1 {201} 42 \"User-Agent: Mozilla/5.0 (X11; Fedora; Fedora; Linux x86_64) AppleWebKit/537.36 (KHTML, like Gecko) Chrome/73.0.3683.86 Safari/537.36\" 97.105.19.58'\n",
    "log3 ='GET /api/v1/items?page=3 [16/Apr/2019:193453+0000] HTTP/1.1 {429} 3561 \"python-requests/2.21.0\" 97.105.19.58'\n"
   ]
  },
  {
   "cell_type": "code",
   "execution_count": 171,
   "id": "62b64f7c",
   "metadata": {},
   "outputs": [
    {
     "data": {
      "text/plain": [
       "('GET /api/v1/sales?page=86 [16/Apr/2019:193452+0000] HTTP/1.1 {200} 510348 \"python-requests/2.21.0\" 97.105.19.58',\n",
       " 'POST /users_accounts/file-upload [16/Apr/2019:193452+0000] HTTP/1.1 {201} 42 \"User-Agent: Mozilla/5.0 (X11; Fedora; Fedora; Linux x86_64) AppleWebKit/537.36 (KHTML, like Gecko) Chrome/73.0.3683.86 Safari/537.36\" 97.105.19.58',\n",
       " 'GET /api/v1/items?page=3 [16/Apr/2019:193453+0000] HTTP/1.1 {429} 3561 \"python-requests/2.21.0\" 97.105.19.58')"
      ]
     },
     "execution_count": 171,
     "metadata": {},
     "output_type": "execute_result"
    }
   ],
   "source": [
    "logs = log1, log2, log3\n",
    "logs"
   ]
  },
  {
   "cell_type": "code",
   "execution_count": 178,
   "id": "4c6aa95f",
   "metadata": {
    "scrolled": true
   },
   "outputs": [
    {
     "data": {
      "text/html": [
       "<div>\n",
       "<style scoped>\n",
       "    .dataframe tbody tr th:only-of-type {\n",
       "        vertical-align: middle;\n",
       "    }\n",
       "\n",
       "    .dataframe tbody tr th {\n",
       "        vertical-align: top;\n",
       "    }\n",
       "\n",
       "    .dataframe thead th {\n",
       "        text-align: right;\n",
       "    }\n",
       "</style>\n",
       "<table border=\"1\" class=\"dataframe\">\n",
       "  <thead>\n",
       "    <tr style=\"text-align: right;\">\n",
       "      <th></th>\n",
       "      <th>method</th>\n",
       "      <th>path</th>\n",
       "      <th>time_stamp</th>\n",
       "      <th>http_version</th>\n",
       "      <th>status</th>\n",
       "      <th>bytes</th>\n",
       "      <th>user_agent</th>\n",
       "      <th>ip_address</th>\n",
       "    </tr>\n",
       "  </thead>\n",
       "  <tbody>\n",
       "    <tr>\n",
       "      <th>0</th>\n",
       "      <td>GET</td>\n",
       "      <td>api/v1/sales?page=86</td>\n",
       "      <td>[16/Apr/2019:193452+0000]</td>\n",
       "      <td>HTTP/1.1</td>\n",
       "      <td>{200}</td>\n",
       "      <td>510348</td>\n",
       "      <td>\"python-requests/2.21.0\"</td>\n",
       "      <td>97.105.19.58</td>\n",
       "    </tr>\n",
       "    <tr>\n",
       "      <th>1</th>\n",
       "      <td>POST</td>\n",
       "      <td>users_accounts/file-upload</td>\n",
       "      <td>[16/Apr/2019:193452+0000]</td>\n",
       "      <td>HTTP/1.1</td>\n",
       "      <td>{201}</td>\n",
       "      <td>42</td>\n",
       "      <td>\"User-Agent: Mozilla/5.0 (X11; Fedora; Fedora;...</td>\n",
       "      <td>97.105.19.58</td>\n",
       "    </tr>\n",
       "    <tr>\n",
       "      <th>2</th>\n",
       "      <td>GET</td>\n",
       "      <td>api/v1/items?page=3</td>\n",
       "      <td>[16/Apr/2019:193453+0000]</td>\n",
       "      <td>HTTP/1.1</td>\n",
       "      <td>{429}</td>\n",
       "      <td>3561</td>\n",
       "      <td>\"python-requests/2.21.0\"</td>\n",
       "      <td>97.105.19.58</td>\n",
       "    </tr>\n",
       "  </tbody>\n",
       "</table>\n",
       "</div>"
      ],
      "text/plain": [
       "  method                        path                 time_stamp http_version  \\\n",
       "0    GET        api/v1/sales?page=86  [16/Apr/2019:193452+0000]     HTTP/1.1   \n",
       "1   POST  users_accounts/file-upload  [16/Apr/2019:193452+0000]     HTTP/1.1   \n",
       "2    GET         api/v1/items?page=3  [16/Apr/2019:193453+0000]     HTTP/1.1   \n",
       "\n",
       "  status   bytes                                         user_agent  \\\n",
       "0  {200}  510348                           \"python-requests/2.21.0\"   \n",
       "1  {201}      42  \"User-Agent: Mozilla/5.0 (X11; Fedora; Fedora;...   \n",
       "2  {429}    3561                           \"python-requests/2.21.0\"   \n",
       "\n",
       "     ip_address  \n",
       "0  97.105.19.58  \n",
       "1  97.105.19.58  \n",
       "2  97.105.19.58  "
      ]
     },
     "execution_count": 178,
     "metadata": {},
     "output_type": "execute_result"
    }
   ],
   "source": [
    "information = []\n",
    "for file in logs: \n",
    "    matches=()\n",
    "    pattern = re.compile(r'(^[A-Z]+)(\\s\\/)([a-zA-Z0-9\\/\\?=_\\-)]*)(\\s)(\\[\\w+\\D+[A-Za-z0-9:+\\]]*)(\\s)(HTTP\\/\\d\\.\\d)(\\s)({\\d{3}})(\\s)(\\d*)(\\s)(\"...+\")(\\s)(\\d.*)')\n",
    "    matches = pattern.search(file)\n",
    "    output = {\n",
    "        'method': matches[1],\n",
    "        'path': matches[3],\n",
    "        'time_stamp':matches[5],\n",
    "        'http_version':matches[7],\n",
    "        'status':matches[9],\n",
    "        'bytes':matches[11],\n",
    "        'user_agent':matches[13],\n",
    "        'ip_address':matches[15]\n",
    "        \n",
    "    }\n",
    "\n",
    "    information.append(output)\n",
    "information= pd.DataFrame(information)\n",
    "information"
   ]
  },
  {
   "cell_type": "markdown",
   "id": "1c1bb08b",
   "metadata": {},
   "source": [
    "### other methods"
   ]
  },
  {
   "cell_type": "code",
   "execution_count": 179,
   "id": "bbde434d",
   "metadata": {
    "scrolled": true
   },
   "outputs": [
    {
     "data": {
      "text/plain": [
       "{'action': 'GET',\n",
       " 'url': '/api/v1/sales?page=86',\n",
       " 'date': '16/Apr/2019:193452+0000',\n",
       " 'request_type': 'HTTP/1.1',\n",
       " 'response': '200',\n",
       " 'file_size': '510348',\n",
       " 'user_agent': 'python-requests/2.21.0',\n",
       " 'ip_address': '97.105.19.58'}"
      ]
     },
     "execution_count": 179,
     "metadata": {},
     "output_type": "execute_result"
    }
   ],
   "source": [
    "#Develop a regex string to extract information from the log\n",
    "match1 = re.search(r'(?P<action>\\w+)\\s\n",
    "(?P<url>[a-z0-9\\/\\?\\=\\_\\-]+)\\s\\\n",
    "[(?P<date>[\\w\\/\\:\\+]+)\\]\\s\n",
    "(?P<request_type>[\\w\\/\\.]+)\\s\\\n",
    "{(?P<response>\\d+)\\}\\s(?P<file_size>\\d+)\\s\\\n",
    "\"(?P<user_agent>.+)\\\"\\s(?P<ip_address>[\\d\\.]+)', \n",
    "                   log1)\n",
    "\n",
    "match1.groupdict()"
   ]
  },
  {
   "cell_type": "code",
   "execution_count": 183,
   "id": "b7c865e7",
   "metadata": {},
   "outputs": [],
   "source": [
    "#Save the regex statement to a variable\n",
    "logfile_regex = r'(?P<action>\\w+)\\s(?P<url>[a-z0-9\\/\\?\\=\\_\\-]+)\\s\\[(?P<date>[\\w\\/\\:\\+]+)\\]\\s(?P<request_type>[\\w\\/\\.]+)\\s\\{(?P<response>\\d+)\\}\\s(?P<file_size>\\d+)\\s\\\"(?P<user_agent>.+)\\\"\\s(?P<ip_address>[\\d\\.]+)'"
   ]
  },
  {
   "cell_type": "code",
   "execution_count": 184,
   "id": "b0bce5f3",
   "metadata": {
    "scrolled": true
   },
   "outputs": [
    {
     "data": {
      "text/plain": [
       "{'action': 'GET',\n",
       " 'url': '/api/v1/items?page=3',\n",
       " 'date': '16/Apr/2019:193453+0000',\n",
       " 'request_type': 'HTTP/1.1',\n",
       " 'response': '429',\n",
       " 'file_size': '3561',\n",
       " 'user_agent': 'python-requests/2.21.0',\n",
       " 'ip_address': '97.105.19.58'}"
      ]
     },
     "execution_count": 184,
     "metadata": {},
     "output_type": "execute_result"
    }
   ],
   "source": [
    "#Test the regex against the third log file\n",
    "match3 = re.search(logfile_regex, log3)\n",
    "\n",
    "match3.groupdict()"
   ]
  },
  {
   "cell_type": "markdown",
   "id": "11f2c2ef",
   "metadata": {},
   "source": [
    "classroom"
   ]
  },
  {
   "cell_type": "code",
   "execution_count": 191,
   "id": "02e5b509",
   "metadata": {},
   "outputs": [
    {
     "data": {
      "text/html": [
       "<div>\n",
       "<style scoped>\n",
       "    .dataframe tbody tr th:only-of-type {\n",
       "        vertical-align: middle;\n",
       "    }\n",
       "\n",
       "    .dataframe tbody tr th {\n",
       "        vertical-align: top;\n",
       "    }\n",
       "\n",
       "    .dataframe thead th {\n",
       "        text-align: right;\n",
       "    }\n",
       "</style>\n",
       "<table border=\"1\" class=\"dataframe\">\n",
       "  <thead>\n",
       "    <tr style=\"text-align: right;\">\n",
       "      <th></th>\n",
       "      <th>method</th>\n",
       "      <th>path</th>\n",
       "      <th>timestamp</th>\n",
       "      <th>http_version</th>\n",
       "      <th>status</th>\n",
       "      <th>bytes</th>\n",
       "      <th>user_agent</th>\n",
       "      <th>ip</th>\n",
       "    </tr>\n",
       "  </thead>\n",
       "  <tbody>\n",
       "    <tr>\n",
       "      <th>0</th>\n",
       "      <td>GET</td>\n",
       "      <td>/api/v1/sales?page=86</td>\n",
       "      <td>16/Apr/2019:193452+0000</td>\n",
       "      <td>HTTP/1.1</td>\n",
       "      <td>200</td>\n",
       "      <td>510348</td>\n",
       "      <td>python-requests/2.21.0</td>\n",
       "      <td>97.105.19.58</td>\n",
       "    </tr>\n",
       "    <tr>\n",
       "      <th>1</th>\n",
       "      <td>POST</td>\n",
       "      <td>/users_accounts/file-upload</td>\n",
       "      <td>16/Apr/2019:193452+0000</td>\n",
       "      <td>HTTP/1.1</td>\n",
       "      <td>201</td>\n",
       "      <td>42</td>\n",
       "      <td>User-Agent: Mozilla/5.0 (X11; Fedora; Fedora; ...</td>\n",
       "      <td>97.105.19.58</td>\n",
       "    </tr>\n",
       "    <tr>\n",
       "      <th>2</th>\n",
       "      <td>GET</td>\n",
       "      <td>/api/v1/items?page=3</td>\n",
       "      <td>16/Apr/2019:193453+0000</td>\n",
       "      <td>HTTP/1.1</td>\n",
       "      <td>429</td>\n",
       "      <td>3561</td>\n",
       "      <td>python-requests/2.21.0</td>\n",
       "      <td>97.105.19.58</td>\n",
       "    </tr>\n",
       "  </tbody>\n",
       "</table>\n",
       "</div>"
      ],
      "text/plain": [
       "  method                         path                timestamp http_version  \\\n",
       "0    GET        /api/v1/sales?page=86  16/Apr/2019:193452+0000     HTTP/1.1   \n",
       "1   POST  /users_accounts/file-upload  16/Apr/2019:193452+0000     HTTP/1.1   \n",
       "2    GET         /api/v1/items?page=3  16/Apr/2019:193453+0000     HTTP/1.1   \n",
       "\n",
       "  status   bytes                                         user_agent  \\\n",
       "0    200  510348                             python-requests/2.21.0   \n",
       "1    201      42  User-Agent: Mozilla/5.0 (X11; Fedora; Fedora; ...   \n",
       "2    429    3561                             python-requests/2.21.0   \n",
       "\n",
       "             ip  \n",
       "0  97.105.19.58  \n",
       "1  97.105.19.58  \n",
       "2  97.105.19.58  "
      ]
     },
     "execution_count": 191,
     "metadata": {},
     "output_type": "execute_result"
    }
   ],
   "source": [
    "regexp = r'''\n",
    "^(?P<method>GET|POST)\n",
    "\\s+\n",
    "(?P<path>.*?)\n",
    "\\s+\n",
    "\\[(?P<timestamp>.*?)\\]\n",
    "\\s+\n",
    "(?P<http_version>.*?)\n",
    "\\s+\n",
    "\\{(?P<status>\\d+)\\}\n",
    "\\s+\n",
    "(?P<bytes>\\d+)\n",
    "\\s+\n",
    "\"(?P<user_agent>.*)\"\n",
    "\\s+\n",
    "(?P<ip>.*)$\n",
    "'''\n",
    "\n",
    "lines = pd.Series([\n",
    "    'GET /api/v1/sales?page=86 [16/Apr/2019:193452+0000] HTTP/1.1 {200} 510348 \"python-requests/2.21.0\" 97.105.19.58',\n",
    "    'POST /users_accounts/file-upload [16/Apr/2019:193452+0000] HTTP/1.1 {201} 42 \"User-Agent: Mozilla/5.0 (X11; Fedora; Fedora; Linux x86_64) AppleWebKit/537.36 (KHTML, like Gecko) Chrome/73.0.3683.86 Safari/537.36\" 97.105.19.58',\n",
    "    'GET /api/v1/items?page=3 [16/Apr/2019:193453+0000] HTTP/1.1 {429} 3561 \"python-requests/2.21.0\" 97.105.19.58',\n",
    "])\n",
    "lines.str.extract(regexp, re.VERBOSE)"
   ]
  },
  {
   "cell_type": "code",
   "execution_count": 196,
   "id": "61a0896c",
   "metadata": {
    "scrolled": true
   },
   "outputs": [
    {
     "data": {
      "text/plain": [
       "{'method': 'GET',\n",
       " 'path': '/api/v1/sales?page=86',\n",
       " 'timestamp': '16/Apr/2019:193452+0000',\n",
       " 'http_version': 'HTTP/1.1',\n",
       " 'status': '200',\n",
       " 'bytes': '510348',\n",
       " 'user_agent': 'python-requests/2.21.0',\n",
       " 'ip': '97.105.19.58'}"
      ]
     },
     "execution_count": 196,
     "metadata": {},
     "output_type": "execute_result"
    }
   ],
   "source": [
    "re.search(regexp, lines[0], re.VERBOSE).groupdict()"
   ]
  },
  {
   "cell_type": "code",
   "execution_count": 197,
   "id": "c4526333",
   "metadata": {},
   "outputs": [
    {
     "data": {
      "text/plain": [
       "{'method': 'POST',\n",
       " 'path': '/users_accounts/file-upload',\n",
       " 'timestamp': '16/Apr/2019:193452+0000',\n",
       " 'http_version': 'HTTP/1.1',\n",
       " 'status': '201',\n",
       " 'bytes': '42',\n",
       " 'user_agent': 'User-Agent: Mozilla/5.0 (X11; Fedora; Fedora; Linux x86_64) AppleWebKit/537.36 (KHTML, like Gecko) Chrome/73.0.3683.86 Safari/537.36',\n",
       " 'ip': '97.105.19.58'}"
      ]
     },
     "execution_count": 197,
     "metadata": {},
     "output_type": "execute_result"
    }
   ],
   "source": [
    "re.search(regexp, lines[1], re.VERBOSE).groupdict()"
   ]
  },
  {
   "cell_type": "code",
   "execution_count": 195,
   "id": "24f31b11",
   "metadata": {},
   "outputs": [
    {
     "data": {
      "text/plain": [
       "{'method': 'GET',\n",
       " 'path': '/api/v1/items?page=3',\n",
       " 'timestamp': '16/Apr/2019:193453+0000',\n",
       " 'http_version': 'HTTP/1.1',\n",
       " 'status': '429',\n",
       " 'bytes': '3561',\n",
       " 'user_agent': 'python-requests/2.21.0',\n",
       " 'ip': '97.105.19.58'}"
      ]
     },
     "execution_count": 195,
     "metadata": {},
     "output_type": "execute_result"
    }
   ],
   "source": [
    "re.search(regexp, log3, re.VERBOSE).groupdict()"
   ]
  },
  {
   "cell_type": "markdown",
   "id": "af258e12",
   "metadata": {},
   "source": [
    "# Bonus.\n",
    "You can find a list of words on your mac at /usr/share/dict/words. Use this file to answer the following questions:\n",
    "\n",
    "\n",
    "- How many words have at least 3 vowels?\n",
    "- How many words have at least 3 vowels in a row?\n",
    "- How many words have at least 4 consonants in a row?\n",
    "- How many words start and end with the same letter?\n",
    "- How many words start and end with a vowel?\n",
    "- How many words contain the same letter 3 times in a row?\n",
    "- What other interesting patterns in words can you find?"
   ]
  }
 ],
 "metadata": {
  "kernelspec": {
   "display_name": "Python 3 (ipykernel)",
   "language": "python",
   "name": "python3"
  },
  "language_info": {
   "codemirror_mode": {
    "name": "ipython",
    "version": 3
   },
   "file_extension": ".py",
   "mimetype": "text/x-python",
   "name": "python",
   "nbconvert_exporter": "python",
   "pygments_lexer": "ipython3",
   "version": "3.9.12"
  }
 },
 "nbformat": 4,
 "nbformat_minor": 5
}
