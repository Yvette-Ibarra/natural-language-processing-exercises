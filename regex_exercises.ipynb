{
 "cells": [
  {
   "cell_type": "markdown",
   "id": "4bc7a863",
   "metadata": {},
   "source": [
    "regex_exercises"
   ]
  },
  {
   "cell_type": "markdown",
   "id": "53fc1032",
   "metadata": {},
   "source": [
    "#### Resources:\n",
    "https://regex101.com"
   ]
  },
  {
   "cell_type": "code",
   "execution_count": 1,
   "id": "ef9af2ef",
   "metadata": {},
   "outputs": [],
   "source": [
    "import pandas as pd\n",
    "import re # part of the python stdlib"
   ]
  },
  {
   "cell_type": "code",
   "execution_count": null,
   "id": "dd905865",
   "metadata": {},
   "outputs": [],
   "source": []
  }
 ],
 "metadata": {
  "kernelspec": {
   "display_name": "Python 3 (ipykernel)",
   "language": "python",
   "name": "python3"
  },
  "language_info": {
   "codemirror_mode": {
    "name": "ipython",
    "version": 3
   },
   "file_extension": ".py",
   "mimetype": "text/x-python",
   "name": "python",
   "nbconvert_exporter": "python",
   "pygments_lexer": "ipython3",
   "version": "3.9.12"
  }
 },
 "nbformat": 4,
 "nbformat_minor": 5
}
