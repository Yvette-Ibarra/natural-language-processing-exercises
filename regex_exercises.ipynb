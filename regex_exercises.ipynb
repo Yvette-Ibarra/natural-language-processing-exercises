{
 "cells": [
  {
   "cell_type": "markdown",
   "id": "78788891",
   "metadata": {},
   "source": [
    "# Regex Exercises"
   ]
  },
  {
   "cell_type": "markdown",
   "id": "9353e477",
   "metadata": {},
   "source": [
    "#### Resources:\n",
    "https://regex101.com"
   ]
  },
  {
   "cell_type": "code",
   "execution_count": 2,
   "id": "eed16447",
   "metadata": {},
   "outputs": [],
   "source": [
    "import pandas as pd\n",
    "import re # part of the python stdlib"
   ]
  },
  {
   "cell_type": "markdown",
   "id": "cdcc08db",
   "metadata": {},
   "source": [
    "# 1.\n",
    "Write a function named is_vowel. It should accept a string as input and use a regular expression to determine if the passed string is a vowel. While not explicity mentioned in the lesson, you can treat the result of re.search as a boolean value that indicates whether or not the regular expression matches the given string"
   ]
  },
  {
   "cell_type": "markdown",
   "id": "6bde67b9",
   "metadata": {},
   "source": [
    "building regex code"
   ]
  },
  {
   "cell_type": "code",
   "execution_count": 32,
   "id": "63af8f04",
   "metadata": {},
   "outputs": [
    {
     "name": "stdout",
     "output_type": "stream",
     "text": [
      "<re.Match object; span=(1, 2), match='e'>\n",
      "<re.Match object; span=(2, 3), match='a'>\n",
      "<re.Match object; span=(4, 5), match='e'>\n"
     ]
    }
   ],
   "source": [
    "string_input = 'peace'\n",
    "pattern = re.compile(r'[aeiou]')\n",
    "matches = pattern.finditer(string_input)\n",
    "for match in matches:\n",
    "    print(match)"
   ]
  },
  {
   "cell_type": "code",
   "execution_count": 21,
   "id": "7fe45ffc",
   "metadata": {},
   "outputs": [
    {
     "name": "stdout",
     "output_type": "stream",
     "text": [
      "['a', 'e']\n"
     ]
    }
   ],
   "source": [
    "string_input ='absed'\n",
    "pattern = re.compile(r'[aeiou]')\n",
    "matches = pattern.findall(string_input)\n",
    "print(matches)\n"
   ]
  },
  {
   "cell_type": "code",
   "execution_count": 53,
   "id": "be86e92e",
   "metadata": {},
   "outputs": [],
   "source": [
    "def is_vowel(string_input):\n",
    "    '''\n",
    "    is_vowel takes in a string and determines if the string has a vowel\n",
    "    returns stris is a vowel or strins is not a vowel\n",
    "    '''\n",
    "    pattern = re.compile(r'[aeiou]',re.IGNORECASE)\n",
    "    matches = pattern.search(string_input)\n",
    "    if matches:\n",
    "        print(f'string is a vowel!')\n",
    "    else:\n",
    "        print(f'string is not a vowel!')"
   ]
  },
  {
   "cell_type": "markdown",
   "id": "db313559",
   "metadata": {},
   "source": [
    "Test function"
   ]
  },
  {
   "cell_type": "code",
   "execution_count": 54,
   "id": "eb229590",
   "metadata": {
    "scrolled": true
   },
   "outputs": [
    {
     "name": "stdout",
     "output_type": "stream",
     "text": [
      "string is not a vowel!\n"
     ]
    }
   ],
   "source": [
    "is_vowel('p')"
   ]
  },
  {
   "cell_type": "code",
   "execution_count": 55,
   "id": "fe87a4cc",
   "metadata": {},
   "outputs": [
    {
     "name": "stdout",
     "output_type": "stream",
     "text": [
      "string is a vowel!\n"
     ]
    }
   ],
   "source": [
    "is_vowel('E')"
   ]
  },
  {
   "cell_type": "code",
   "execution_count": 56,
   "id": "89f3c367",
   "metadata": {},
   "outputs": [
    {
     "name": "stdout",
     "output_type": "stream",
     "text": [
      "string is a vowel!\n"
     ]
    }
   ],
   "source": [
    "is_vowel('peace')"
   ]
  },
  {
   "cell_type": "code",
   "execution_count": 42,
   "id": "d126b111",
   "metadata": {},
   "outputs": [
    {
     "name": "stdout",
     "output_type": "stream",
     "text": [
      "string is not a vowel!\n"
     ]
    }
   ],
   "source": [
    "is_vowel('myths')"
   ]
  },
  {
   "cell_type": "markdown",
   "id": "28852456",
   "metadata": {},
   "source": [
    "# 2.\n",
    "Write a function named is_valid_username that accepts a string as input. A valid username starts with a lowercase letter, and only consists of lowercase letters, numbers, or the _ character. It should also be no longer than 32 characters. The function should return either True or False depending on whether the passed string is a valid username."
   ]
  },
  {
   "cell_type": "markdown",
   "id": "65ba09ee",
   "metadata": {},
   "source": [
    "```python\n",
    ">>> is_valid_username('aaaaaaaaaaaaaaaaaaaaaaaaaaaaaaaaa')\n",
    "False\n",
    ">>> is_valid_username('codeup')\n",
    "True\n",
    ">>> is_valid_username('Codeup')\n",
    "False\n",
    ">>> is_valid_username('codeup123')\n",
    "True\n",
    ">>> is_valid_username('1codeup')\n",
    "False\n",
    "```"
   ]
  },
  {
   "cell_type": "markdown",
   "id": "ea4f062e",
   "metadata": {},
   "source": [
    "Building regex code"
   ]
  },
  {
   "cell_type": "code",
   "execution_count": 47,
   "id": "416bdbc8",
   "metadata": {},
   "outputs": [
    {
     "name": "stdout",
     "output_type": "stream",
     "text": [
      "<re.Match object; span=(0, 33), match='aaaaaaaaaaaaaaaaaaaaaaaaaaaaaaaaa'>\n"
     ]
    }
   ],
   "source": [
    "string_input = 'aaaaaaaaaaaaaaaaaaaaaaaaaaaaaaaaa'\n",
    "pattern = re.compile(r'^[a-z]+[a-z0-9]{1,31}')\n",
    "matches = pattern.finditer(string_input)\n",
    "for match in matches:\n",
    "    print(match)"
   ]
  },
  {
   "cell_type": "markdown",
   "id": "37b63e51",
   "metadata": {},
   "source": [
    "r'^[a-z]+[a-z0-9]{1,31}', still gets more than 31 characters"
   ]
  },
  {
   "cell_type": "code",
   "execution_count": 50,
   "id": "af4416ca",
   "metadata": {},
   "outputs": [
    {
     "name": "stdout",
     "output_type": "stream",
     "text": [
      "<re.Match object; span=(1, 33), match='aaaaaaaaaaaaaaaaaaaaaaaaaaaaaaaa'>\n"
     ]
    }
   ],
   "source": [
    "string_input = 'aaaaaaaaaaaaaaaaaaaaaaaaaaaaaaaaa'\n",
    "pattern = re.compile(r'[a-z\\w]{1,32}$')\n",
    "matches = pattern.search(string_input)\n",
    "\n",
    "print(matches)"
   ]
  },
  {
   "cell_type": "markdown",
   "id": "42d5d28c",
   "metadata": {},
   "source": [
    "r'[a-z\\w]{1,32}$', still gets more than 31 characters"
   ]
  },
  {
   "cell_type": "code",
   "execution_count": 51,
   "id": "db5580d1",
   "metadata": {},
   "outputs": [
    {
     "name": "stdout",
     "output_type": "stream",
     "text": [
      "<re.Match object; span=(0, 33), match='aaaaaaaaaaaaaaaaaaaaaaaaaaaaaaaaa'>\n"
     ]
    }
   ],
   "source": [
    "string_input = 'aaaaaaaaaaaaaaaaaaaaaaaaaaaaaaaaa'\n",
    "pattern = re.compile(r'^[a-z]([_?|a-z|)0-9]){1,32}$')\n",
    "matches = pattern.search(string_input)\n",
    "\n",
    "print(matches)"
   ]
  },
  {
   "cell_type": "markdown",
   "id": "939bb4c0",
   "metadata": {},
   "source": [
    "r'^[a-z]([_?|a-z|)0-9]){1,32}$', still gets more than 31 characters"
   ]
  },
  {
   "cell_type": "code",
   "execution_count": 58,
   "id": "b641e8a2",
   "metadata": {},
   "outputs": [
    {
     "name": "stdout",
     "output_type": "stream",
     "text": [
      "None\n"
     ]
    }
   ],
   "source": [
    "string_input = 'aaaaaaaaaaaaaaaaaaaaaaaaaaaaaaaaa'\n",
    "pattern = re.compile(r'^[a-z][a-z0-9\\_]{1,31}$')\n",
    "matches = pattern.search(string_input)\n",
    "\n",
    "print(matches)"
   ]
  },
  {
   "cell_type": "markdown",
   "id": "9a7b53f2",
   "metadata": {},
   "source": [
    "Finaly only characters within 32 r'^[a-z][a-z0-9\\_]{,31}$'"
   ]
  },
  {
   "cell_type": "code",
   "execution_count": 59,
   "id": "fe147c8b",
   "metadata": {},
   "outputs": [],
   "source": [
    "def is_valid_username(string_input):\n",
    "    '''\n",
    "    is_valid_username takes in a string and determines if username is valid based on the following rules:\n",
    "        * user name starts with a lowercase\n",
    "        * user name is created only with lowercase, numbers of underscore characer _\n",
    "        * user name is no longer than 32 characters\n",
    "    returns True or False\n",
    "    '''\n",
    "    pattern = re.compile(r'^[a-z][a-z0-9\\_]{1,31}$')\n",
    "    matches = pattern.search(string_input) \n",
    "    if matches:\n",
    "        return True\n",
    "    else:\n",
    "        return False\n",
    "    "
   ]
  },
  {
   "cell_type": "markdown",
   "id": "6544cacb",
   "metadata": {},
   "source": [
    "Test function"
   ]
  },
  {
   "cell_type": "code",
   "execution_count": 60,
   "id": "0bbc3dac",
   "metadata": {
    "scrolled": true
   },
   "outputs": [
    {
     "data": {
      "text/plain": [
       "False"
      ]
     },
     "execution_count": 60,
     "metadata": {},
     "output_type": "execute_result"
    }
   ],
   "source": [
    "is_valid_username('aaaaaaaaaaaaaaaaaaaaaaaaaaaaaaaaa')"
   ]
  },
  {
   "cell_type": "code",
   "execution_count": 61,
   "id": "b23eb998",
   "metadata": {
    "scrolled": true
   },
   "outputs": [
    {
     "data": {
      "text/plain": [
       "True"
      ]
     },
     "execution_count": 61,
     "metadata": {},
     "output_type": "execute_result"
    }
   ],
   "source": [
    "is_valid_username('codeup')"
   ]
  },
  {
   "cell_type": "code",
   "execution_count": 62,
   "id": "ebcdb28f",
   "metadata": {
    "scrolled": true
   },
   "outputs": [
    {
     "data": {
      "text/plain": [
       "False"
      ]
     },
     "execution_count": 62,
     "metadata": {},
     "output_type": "execute_result"
    }
   ],
   "source": [
    "is_valid_username('Codeup')"
   ]
  },
  {
   "cell_type": "code",
   "execution_count": 63,
   "id": "84aeb06a",
   "metadata": {
    "scrolled": true
   },
   "outputs": [
    {
     "data": {
      "text/plain": [
       "False"
      ]
     },
     "execution_count": 63,
     "metadata": {},
     "output_type": "execute_result"
    }
   ],
   "source": [
    "is_valid_username('1codeup')"
   ]
  },
  {
   "cell_type": "code",
   "execution_count": 64,
   "id": "1b646941",
   "metadata": {
    "scrolled": true
   },
   "outputs": [
    {
     "data": {
      "text/plain": [
       "True"
      ]
     },
     "execution_count": 64,
     "metadata": {},
     "output_type": "execute_result"
    }
   ],
   "source": [
    "is_valid_username('codeup123')"
   ]
  },
  {
   "cell_type": "code",
   "execution_count": 65,
   "id": "0e1c37c7",
   "metadata": {
    "scrolled": true
   },
   "outputs": [
    {
     "data": {
      "text/plain": [
       "True"
      ]
     },
     "execution_count": 65,
     "metadata": {},
     "output_type": "execute_result"
    }
   ],
   "source": [
    "is_valid_username('codeup_123')"
   ]
  },
  {
   "cell_type": "markdown",
   "id": "8e809009",
   "metadata": {},
   "source": [
    "# 3.\n",
    "Write a regular expression to capture phone numbers. It should match all of the following:\n",
    "\n",
    "```python\n",
    "\n",
    "(210) 867 5309\n",
    "+1 210.867.5309\n",
    "867-5309\n",
    "210-867-5309\n",
    "\n",
    "```"
   ]
  },
  {
   "cell_type": "markdown",
   "id": "915c1f68",
   "metadata": {},
   "source": [
    "Build REGEX code"
   ]
  },
  {
   "cell_type": "code",
   "execution_count": null,
   "id": "5bb89450",
   "metadata": {},
   "outputs": [],
   "source": [
    "^(\\+1\\s|\\()?(\\d{3}\\)?)(\\s|\\.|-)(\\d*)(\\s|\\.|-)(\\d{4})?"
   ]
  },
  {
   "cell_type": "code",
   "execution_count": 66,
   "id": "9cb25a9c",
   "metadata": {},
   "outputs": [
    {
     "name": "stdout",
     "output_type": "stream",
     "text": [
      "<re.Match object; span=(0, 14), match='(210) 867 5309'>\n"
     ]
    }
   ],
   "source": [
    "string_input = '(210) 867 5309'\n",
    "pattern = re.compile(r'^(\\+1\\s|\\()?(\\d{3}\\)?)(\\s|\\.|-)(\\d*)(\\s|\\.|-)(\\d{4})?')\n",
    "matches = pattern.finditer(string_input)\n",
    "for match in matches:\n",
    "    print(match)"
   ]
  },
  {
   "cell_type": "code",
   "execution_count": 71,
   "id": "1f723f49",
   "metadata": {},
   "outputs": [
    {
     "name": "stdout",
     "output_type": "stream",
     "text": [
      "<re.Match object; span=(0, 14), match='(210) 867 5309'>\n"
     ]
    }
   ],
   "source": [
    "string_input = '(210) 867 5309'\n",
    "pattern = re.compile(r'.*?\\d+\\D*?\\d+.\\d+$')\n",
    "matches = pattern.finditer(string_input)\n",
    "for match in matches:\n",
    "    print(match)"
   ]
  },
  {
   "cell_type": "code",
   "execution_count": 72,
   "id": "756a9f8d",
   "metadata": {},
   "outputs": [
    {
     "name": "stdout",
     "output_type": "stream",
     "text": [
      "<re.Match object; span=(0, 15), match='+1 210.867.5309'>\n"
     ]
    }
   ],
   "source": [
    "string_input = '+1 210.867.5309'\n",
    "pattern = re.compile(r'.*?\\d+\\D*?\\d+.\\d+$')\n",
    "matches = pattern.finditer(string_input)\n",
    "for match in matches:\n",
    "    print(match)"
   ]
  },
  {
   "cell_type": "markdown",
   "id": "013239a4",
   "metadata": {},
   "source": [
    "# 4.\n",
    "Use regular expressions to convert the dates below to the standardized year-month-day format."
   ]
  },
  {
   "cell_type": "markdown",
   "id": "9e8a881f",
   "metadata": {},
   "source": [
    "``` python\n",
    "02/04/19\n",
    "02/05/19\n",
    "02/06/19\n",
    "02/07/19\n",
    "02/08/19\n",
    "02/09/19\n",
    "02/10/19\n",
    "```"
   ]
  },
  {
   "cell_type": "markdown",
   "id": "e8dca603",
   "metadata": {},
   "source": [
    "# 5.\n",
    "Write a regex to extract the various parts of these logfile lines:"
   ]
  },
  {
   "cell_type": "markdown",
   "id": "66dcd211",
   "metadata": {},
   "source": [
    "```python\n",
    "GET /api/v1/sales?page=86 [16/Apr/2019:193452+0000] HTTP/1.1 {200} 510348 \"python-requests/2.21.0\" 97.105.19.58\n",
    "POST /users_accounts/file-upload [16/Apr/2019:193452+0000] HTTP/1.1 {201} 42 \"User-Agent: Mozilla/5.0 (X11; Fedora; Fedora; Linux x86_64) AppleWebKit/537.36 (KHTML, like Gecko) Chrome/73.0.3683.86 Safari/537.36\" 97.105.19.58\n",
    "GET /api/v1/items?page=3 [16/Apr/2019:193453+0000] HTTP/1.1 {429} 3561 \"python-requests/2.21.0\" 97.105.19.58\n",
    "Bonus Exercise\n",
    "```"
   ]
  },
  {
   "cell_type": "markdown",
   "id": "af258e12",
   "metadata": {},
   "source": [
    "# Bonus.\n",
    "You can find a list of words on your mac at /usr/share/dict/words. Use this file to answer the following questions:\n",
    "\n",
    "\n",
    "- How many words have at least 3 vowels?\n",
    "- How many words have at least 3 vowels in a row?\n",
    "- How many words have at least 4 consonants in a row?\n",
    "- How many words start and end with the same letter?\n",
    "- How many words start and end with a vowel?\n",
    "- How many words contain the same letter 3 times in a row?\n",
    "- What other interesting patterns in words can you find?"
   ]
  }
 ],
 "metadata": {
  "kernelspec": {
   "display_name": "Python 3 (ipykernel)",
   "language": "python",
   "name": "python3"
  },
  "language_info": {
   "codemirror_mode": {
    "name": "ipython",
    "version": 3
   },
   "file_extension": ".py",
   "mimetype": "text/x-python",
   "name": "python",
   "nbconvert_exporter": "python",
   "pygments_lexer": "ipython3",
   "version": "3.9.12"
  }
 },
 "nbformat": 4,
 "nbformat_minor": 5
}
